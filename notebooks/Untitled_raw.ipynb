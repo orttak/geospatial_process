{
 "cells": [
  {
   "cell_type": "code",
   "execution_count": 1,
   "metadata": {},
   "outputs": [],
   "source": [
    "import json\n",
    "import geopandas as gpd"
   ]
  },
  {
   "cell_type": "code",
   "execution_count": 2,
   "metadata": {},
   "outputs": [],
   "source": [
    "import data.sentinel_cog as sc\n"
   ]
  },
  {
   "cell_type": "code",
   "execution_count": 3,
   "metadata": {},
   "outputs": [],
   "source": [
    "#data from http://geojson.io \n",
    "data={\n",
    "  \"type\": \"FeatureCollection\",\n",
    "  \"features\": [\n",
    "    {\n",
    "      \"type\": \"Feature\",\n",
    "      \"properties\": {},\n",
    "      \"geometry\": {\n",
    "        \"type\": \"Polygon\",\n",
    "        \"coordinates\": [\n",
    "          [\n",
    "            [\n",
    "              38.54827880859375,\n",
    "              36.90378362619561\n",
    "            ],\n",
    "            [\n",
    "              40.0067138671875,\n",
    "              36.90378362619561\n",
    "            ],\n",
    "            [\n",
    "              40.0067138671875,\n",
    "              37.89219554724437\n",
    "            ],\n",
    "            [\n",
    "              38.54827880859375,\n",
    "              37.89219554724437\n",
    "            ],\n",
    "            [\n",
    "              38.54827880859375,\n",
    "              36.90378362619561\n",
    "            ]\n",
    "          ]\n",
    "        ]\n",
    "      }\n",
    "    }\n",
    "  ]\n",
    "}"
   ]
  },
  {
   "cell_type": "code",
   "execution_count": 14,
   "metadata": {},
   "outputs": [],
   "source": [
    "harran={\n",
    "\"type\": \"FeatureCollection\",\n",
    "\"name\": \"Harran_AOI\",\n",
    "\"crs\": { \"type\": \"name\", \"properties\": { \"name\": \"urn:ogc:def:crs:OGC:1.3:CRS84\" } },\n",
    "\"features\": [\n",
    "{ \"type\": \"Feature\", \"properties\": { \"fid\": 1 }, \"geometry\": { \"type\": \"Polygon\", \"coordinates\": [ [ [ 38.680367610550277, 36.71081864055018 ], [ 38.688923838082594, 37.274751818816462 ], [ 39.282414893278698, 37.277085335416182 ], [ 39.29019328194444, 36.690594830019251 ], [ 38.680367610550277, 36.71081864055018 ] ] ] } }\n",
    "]\n",
    "}\n"
   ]
  },
  {
   "cell_type": "code",
   "execution_count": 17,
   "metadata": {},
   "outputs": [],
   "source": [
    "datajson=json.dumps(harran)\n",
    "target_area=gpd.read_file(datajson)\n"
   ]
  },
  {
   "cell_type": "code",
   "execution_count": 18,
   "metadata": {},
   "outputs": [
    {
     "data": {
      "text/html": [
       "<div style=\"width:100%;\"><div style=\"position:relative;width:100%;height:0;padding-bottom:60%;\"><span style=\"color:#565656\">Make this Notebook Trusted to load map: File -> Trust Notebook</span><iframe src=\"about:blank\" style=\"position:absolute;width:100%;height:100%;left:0;top:0;border:none !important;\" data-html=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 onload=\"this.contentDocument.open();this.contentDocument.write(atob(this.getAttribute('data-html')));this.contentDocument.close();\" allowfullscreen webkitallowfullscreen mozallowfullscreen></iframe></div></div>"
      ],
      "text/plain": [
       "<folium.folium.Map at 0x26b04d08308>"
      ]
     },
     "execution_count": 18,
     "metadata": {},
     "output_type": "execute_result"
    }
   ],
   "source": [
    "tiles_intersection,tile_map=sc.find_sentinel_tile(target_area,sentinel_tiles_path='../data/raw/boundries/sentinel_tr_tiles.shp')\n",
    "tile_map"
   ]
  },
  {
   "cell_type": "code",
   "execution_count": 20,
   "metadata": {},
   "outputs": [
    {
     "data": {
      "text/html": [
       "<div>\n",
       "<style scoped>\n",
       "    .dataframe tbody tr th:only-of-type {\n",
       "        vertical-align: middle;\n",
       "    }\n",
       "\n",
       "    .dataframe tbody tr th {\n",
       "        vertical-align: top;\n",
       "    }\n",
       "\n",
       "    .dataframe thead th {\n",
       "        text-align: right;\n",
       "    }\n",
       "</style>\n",
       "<table border=\"1\" class=\"dataframe\">\n",
       "  <thead>\n",
       "    <tr style=\"text-align: right;\">\n",
       "      <th></th>\n",
       "      <th>name</th>\n",
       "      <th>folders</th>\n",
       "      <th>descriptio</th>\n",
       "      <th>altitude</th>\n",
       "      <th>alt_mode</th>\n",
       "      <th>time_begin</th>\n",
       "      <th>time_end</th>\n",
       "      <th>time_when</th>\n",
       "      <th>GID_0</th>\n",
       "      <th>NAME_0</th>\n",
       "      <th>geometry</th>\n",
       "    </tr>\n",
       "  </thead>\n",
       "  <tbody>\n",
       "    <tr>\n",
       "      <th>0</th>\n",
       "      <td>37SDA</td>\n",
       "      <td>Features</td>\n",
       "      <td>TILE PROPERTIES&lt;br&gt;&lt;table border=0 cellpadding...</td>\n",
       "      <td>0.0</td>\n",
       "      <td>None</td>\n",
       "      <td>None</td>\n",
       "      <td>None</td>\n",
       "      <td>None</td>\n",
       "      <td>TUR</td>\n",
       "      <td>Turkey</td>\n",
       "      <td>POLYGON Z ((37.87506 37.04125 0.00000, 39.1097...</td>\n",
       "    </tr>\n",
       "    <tr>\n",
       "      <th>1</th>\n",
       "      <td>37SDB</td>\n",
       "      <td>Features</td>\n",
       "      <td>TILE PROPERTIES&lt;br&gt;&lt;table border=0 cellpadding...</td>\n",
       "      <td>0.0</td>\n",
       "      <td>None</td>\n",
       "      <td>None</td>\n",
       "      <td>None</td>\n",
       "      <td>None</td>\n",
       "      <td>TUR</td>\n",
       "      <td>Turkey</td>\n",
       "      <td>POLYGON Z ((37.86147 37.94208 0.00000, 39.1110...</td>\n",
       "    </tr>\n",
       "    <tr>\n",
       "      <th>2</th>\n",
       "      <td>37SEA</td>\n",
       "      <td>Features</td>\n",
       "      <td>TILE PROPERTIES&lt;br&gt;&lt;table border=0 cellpadding...</td>\n",
       "      <td>0.0</td>\n",
       "      <td>None</td>\n",
       "      <td>None</td>\n",
       "      <td>None</td>\n",
       "      <td>None</td>\n",
       "      <td>TUR</td>\n",
       "      <td>Turkey</td>\n",
       "      <td>POLYGON Z ((38.99978 37.04658 0.00000, 40.2344...</td>\n",
       "    </tr>\n",
       "    <tr>\n",
       "      <th>3</th>\n",
       "      <td>37SEB</td>\n",
       "      <td>Features</td>\n",
       "      <td>TILE PROPERTIES&lt;br&gt;&lt;table border=0 cellpadding...</td>\n",
       "      <td>0.0</td>\n",
       "      <td>None</td>\n",
       "      <td>None</td>\n",
       "      <td>None</td>\n",
       "      <td>None</td>\n",
       "      <td>TUR</td>\n",
       "      <td>Turkey</td>\n",
       "      <td>POLYGON Z ((38.99977 37.94759 0.00000, 40.2493...</td>\n",
       "    </tr>\n",
       "  </tbody>\n",
       "</table>\n",
       "</div>"
      ],
      "text/plain": [
       "    name   folders                                         descriptio  \\\n",
       "0  37SDA  Features  TILE PROPERTIES<br><table border=0 cellpadding...   \n",
       "1  37SDB  Features  TILE PROPERTIES<br><table border=0 cellpadding...   \n",
       "2  37SEA  Features  TILE PROPERTIES<br><table border=0 cellpadding...   \n",
       "3  37SEB  Features  TILE PROPERTIES<br><table border=0 cellpadding...   \n",
       "\n",
       "   altitude alt_mode time_begin time_end time_when GID_0  NAME_0  \\\n",
       "0       0.0     None       None     None      None   TUR  Turkey   \n",
       "1       0.0     None       None     None      None   TUR  Turkey   \n",
       "2       0.0     None       None     None      None   TUR  Turkey   \n",
       "3       0.0     None       None     None      None   TUR  Turkey   \n",
       "\n",
       "                                            geometry  \n",
       "0  POLYGON Z ((37.87506 37.04125 0.00000, 39.1097...  \n",
       "1  POLYGON Z ((37.86147 37.94208 0.00000, 39.1110...  \n",
       "2  POLYGON Z ((38.99978 37.04658 0.00000, 40.2344...  \n",
       "3  POLYGON Z ((38.99977 37.94759 0.00000, 40.2493...  "
      ]
     },
     "execution_count": 20,
     "metadata": {},
     "output_type": "execute_result"
    }
   ],
   "source": [
    "tiles_intersection"
   ]
  },
  {
   "cell_type": "code",
   "execution_count": 8,
   "metadata": {},
   "outputs": [],
   "source": [
    "boundry=list(target_area.geometry.bounds.values[0]) #boundry from your AOI\n",
    "bbox=[boundry[0],boundry[1],boundry[2],boundry[3]] #(min lon, min lat, max lon, max lat)\n",
    "dates = '2018-07-01/2018-07-12'\n",
    "band_list=['B02','B03','B04','B08']\n",
    "cloud_percentage=20"
   ]
  },
  {
   "cell_type": "code",
   "execution_count": 9,
   "metadata": {},
   "outputs": [],
   "source": [
    "stac_result=sc.find_stac_result(bbox,dates,cloud_percentage)"
   ]
  },
  {
   "cell_type": "code",
   "execution_count": 10,
   "metadata": {},
   "outputs": [
    {
     "data": {
      "text/plain": [
       "['37SDA', '37SDB', '37SDC', '37SEA', '37SEB', '37SEC']"
      ]
     },
     "execution_count": 10,
     "metadata": {},
     "output_type": "execute_result"
    }
   ],
   "source": [
    "tile_list=sc.create_tiles_list(stac_result)\n",
    "tile_list"
   ]
  },
  {
   "cell_type": "code",
   "execution_count": null,
   "metadata": {},
   "outputs": [],
   "source": [
    "#drop_list=['37SDA', '37SDC', '37SEA', '37SEB', '37SEC']"
   ]
  },
  {
   "cell_type": "code",
   "execution_count": null,
   "metadata": {},
   "outputs": [],
   "source": [
    "#tiles_intersection=sc.drop_tile(tiles_intersection,drop_list)\n",
    "#tiles_intersection"
   ]
  },
  {
   "cell_type": "code",
   "execution_count": 54,
   "metadata": {},
   "outputs": [],
   "source": [
    "from dask.distributed import Client, LocalCluster\n",
    "import multiprocessing as mp\n",
    "import xarray as xr\n",
    "import matplotlib.pyplot as plt\n",
    "import rioxarray\n",
    "import satsearch\n",
    "\n",
    "     \n",
    "def find_stac_result(target_aoi,date,max_cloud=10):\n",
    "    URL='https://earth-search.aws.element84.com/v0'\n",
    "    with LocalCluster(n_workers=int(0.5 * mp.cpu_count()),\n",
    "                          processes=True,\n",
    "                          threads_per_worker=2,\n",
    "                          memory_limit='2GB',\n",
    "                          #ip='tcp://localhost:9895',\n",
    "                          ) as cluster, Client(cluster) as client:\n",
    "        results = satsearch.Search.search(url=URL,\n",
    "                                          collections=['sentinel-s2-l2a-cogs'], # note collection='sentinel-s2-l2a-cogs' doesn't work\n",
    "                                          datetime=date,\n",
    "                                          bbox=target_aoi,\n",
    "                                          query={'eo:cloud_cover': {'lt':max_cloud}}, )\n",
    "    return results\n",
    "\n",
    "def create_tiles_list(stac_result):\n",
    "    items = stac_result.items()\n",
    "    items_json=items.geojson()\n",
    "    items_json=json.dumps(items_json)\n",
    "    df=gpd.read_file(items_json)\n",
    "    df['tile']=df.apply(lambda row: str(row['sentinel:utm_zone'])+row['sentinel:latitude_band']+row['sentinel:grid_square'], axis=1)\n",
    "    tiles_list = sorted(df['tile'].unique().tolist())\n",
    "    return tiles_list\n",
    "    "
   ]
  },
  {
   "cell_type": "code",
   "execution_count": 55,
   "metadata": {},
   "outputs": [],
   "source": [
    "def find_sentinel_item(stac_result,tiles_list=[],min_coverage=95,max_cloud=2):\n",
    "    if tiles_list:\n",
    "        tile_result_list=[]\n",
    "        with LocalCluster(n_workers=int(0.5 * mp.cpu_count()),\n",
    "                          processes=True,\n",
    "                          threads_per_worker=1,\n",
    "                          memory_limit='2GB',\n",
    "                          #ip='tcp://localhost:9895',\n",
    "                          ) as cluster, Client(cluster) as client:\n",
    "            \n",
    "            for tile in tiles_list:\n",
    "                #find best image for target tile \n",
    "                tile_number=int(tile[0:2])\n",
    "                lat_band=tile[2]\n",
    "                grid_sq=tile[3:]\n",
    "                items = stac_result.items()\n",
    "                items.filter('sentinel:utm_zone',[tile_number,])\n",
    "                items.filter('sentinel:latitude_band',[lat_band])\n",
    "                items.filter('sentinel:grid_square', [grid_sq])\n",
    "                try:\n",
    "                    coverage=sorted(items.properties('sentinel:data_coverage'))\n",
    "                    coverage=[c for c in coverage if c>min_coverage]\n",
    "                    items.filter('sentinel:data_coverage',coverage)\n",
    "                    if 100 in items.properties('sentinel:data_coverage'):\n",
    "                        #get the index of value that data_coverage==100\n",
    "                        dc_index=[i for i, x in enumerate(items) if items[i].properties['sentinel:data_coverage']==100]\n",
    "                        #get images cloud info\n",
    "                        filtered_list=[items[x].properties['eo:cloud_cover'] for i, x in enumerate(dc_index) if items[x].properties['eo:cloud_cover']<max_cloud]\n",
    "                        #get first cloud cover after sorting\n",
    "                        try:\n",
    "                            # if data exist we use filter method\n",
    "                            selected_item=sorted(filtered_list)[0]\n",
    "                            items.filter('sentinel:data_coverage',[100])\n",
    "                        except:\n",
    "                            selected_item=sorted(items.properties('eo:cloud_cover'))[0]\n",
    "            \n",
    "                        items.filter('eo:cloud_cover', [selected_item])\n",
    "                        tile_result_list.append(items[0])\n",
    "    \n",
    "                    else:\n",
    "                        selected_item=sorted(items.properties('eo:cloud_cover'))[0]\n",
    "                        #select best image\n",
    "                        items.filter('eo:cloud_cover', [selected_item])\n",
    "                        #get newest image\n",
    "                        tile_result_list.append(items[0])\n",
    "                              \n",
    "                except:\n",
    "                    # threshold ekle -2 yerine\n",
    "                    coverage=sorted(items.properties('sentinel:data_coverage'))[-2:]\n",
    "                    items.filter('sentinel:data_coverage',coverage)\n",
    "                    selected_item=sorted(items.properties('eo:cloud_cover'))[0]\n",
    "                    #select best image\n",
    "                    items.filter('eo:cloud_cover', [selected_item])\n",
    "                    #get newest image\n",
    "                    tile_result_list.append(items[0])\n",
    "            \n",
    "            return tile_result_list\n",
    "    \n",
    "    else:\n",
    "        # code define best image for each tile from stac result\n",
    "        # function return list of tile's information\n",
    "        tiles_list=create_tiles_list(stac_result)\n",
    "        #we collect each tile's result\n",
    "        tile_result_list=[]\n",
    "        with LocalCluster(n_workers=int(0.5 * mp.cpu_count()),\n",
    "                          processes=True,\n",
    "                          threads_per_worker=1,\n",
    "                          memory_limit='2GB',\n",
    "                          #ip='tcp://localhost:9895',\n",
    "                          ) as cluster, Client(cluster) as client:\n",
    "            for tile in tiles_list:\n",
    "                tile_number=int(tile[0:2])\n",
    "                lat_band=tile[2]\n",
    "                grid_sq=tile[3:]\n",
    "                items = stac_result.items()\n",
    "                items.filter('sentinel:utm_zone',[tile_number,])\n",
    "                items.filter('sentinel:latitude_band',[lat_band])\n",
    "                items.filter('sentinel:grid_square', [grid_sq])\n",
    "                try:\n",
    "                    coverage=sorted(items.properties('sentinel:data_coverage'))\n",
    "                    coverage=[c for c in coverage if c>min_coverage]\n",
    "                    items.filter('sentinel:data_coverage',coverage)\n",
    "                    if 100 in items.properties('sentinel:data_coverage'):\n",
    "                        #get the index of value that data_coverage==100\n",
    "                        dc_index=[i for i, x in enumerate(items) if items[i].properties['sentinel:data_coverage']==100]\n",
    "                        #get images cloud info\n",
    "                        filtered_list=[items[x].properties['eo:cloud_cover'] for i, x in enumerate(dc_index) if items[x].properties['eo:cloud_cover']<max_cloud]\n",
    "                        #get first cloud cover after sorting\n",
    "                        try:\n",
    "                            # if data exist we use filter method\n",
    "                            selected_item=sorted(filtered_list)[0]\n",
    "                            items.filter('sentinel:data_coverage',[100])\n",
    "    \n",
    "                        except:\n",
    "                            selected_item=sorted(items.properties('eo:cloud_cover'))[0]\n",
    "            \n",
    "                        items.filter('eo:cloud_cover', [selected_item])\n",
    "                        tile_result_list.append(items[0])\n",
    "                        \n",
    "                    else:\n",
    "                        selected_item=sorted(items.properties('eo:cloud_cover'))[0]\n",
    "                        #select best image\n",
    "                        items.filter('eo:cloud_cover', [selected_item])\n",
    "                        #get newest image\n",
    "                        tile_result_list.append(items[0])\n",
    "                              \n",
    "                except:\n",
    "                    coverage=sorted(items.properties('sentinel:data_coverage'))[-2:]\n",
    "                    items.filter('sentinel:data_coverage',coverage)\n",
    "                    selected_item=sorted(items.properties('eo:cloud_cover'))[0]\n",
    "                    #select best image\n",
    "                    items.filter('eo:cloud_cover', [selected_item])\n",
    "                    #get newest image\n",
    "                    tile_result_list.append(items[0])\n",
    "            \n",
    "            return tile_result_list"
   ]
  },
  {
   "cell_type": "code",
   "execution_count": 11,
   "metadata": {},
   "outputs": [
    {
     "name": "stdout",
     "output_type": "stream",
     "text": [
      "Wall time: 6.05 s\n"
     ]
    }
   ],
   "source": [
    "%%time\n",
    "stac_result=sc.find_stac_result(bbox,dates,cloud_percentage)\n",
    "items_list=sc.find_sentinel_item(stac_result=stac_result)\n",
    "#Wall time: 37.3 s"
   ]
  },
  {
   "cell_type": "code",
   "execution_count": 12,
   "metadata": {},
   "outputs": [
    {
     "data": {
      "text/plain": [
       "[S2A_37SDA_20180712_0_L2A,\n",
       " S2A_37SDB_20180712_0_L2A,\n",
       " S2B_37SDC_20180707_0_L2A,\n",
       " S2A_37SEA_20180712_0_L2A,\n",
       " S2A_37SEB_20180702_0_L2A,\n",
       " S2B_37SEC_20180707_0_L2A]"
      ]
     },
     "execution_count": 12,
     "metadata": {},
     "output_type": "execute_result"
    }
   ],
   "source": [
    "items_list"
   ]
  },
  {
   "cell_type": "code",
   "execution_count": null,
   "metadata": {},
   "outputs": [],
   "source": []
  },
  {
   "cell_type": "code",
   "execution_count": 67,
   "metadata": {},
   "outputs": [
    {
     "data": {
      "text/plain": [
       "13"
      ]
     },
     "execution_count": 67,
     "metadata": {},
     "output_type": "execute_result"
    }
   ],
   "source": [
    "len(a)"
   ]
  },
  {
   "cell_type": "code",
   "execution_count": null,
   "metadata": {},
   "outputs": [],
   "source": [
    "%%time\n",
    "from dask.distributed import Client, LocalCluster\n",
    "import multiprocessing as mp\n",
    "import xarray as xr\n",
    "import matplotlib.pyplot as plt\n",
    "import rioxarray\n",
    "with LocalCluster(n_workers=int(0.5 * mp.cpu_count()),\n",
    "                          processes=False,\n",
    "                          threads_per_worker=2,\n",
    "                          memory_limit='2GB',\n",
    "                          #ip='tcp://localhost:9895',\n",
    "                          ) as cluster, Client(cluster) as client:\n",
    "    stac_result=sc.find_stac_result(bbox,dates,cloud_percentage)\n",
    "    items_list=sc.find_sentinel_item(stac_result=stac_result)\n",
    "#Wall time: 42.8 s"
   ]
  },
  {
   "cell_type": "code",
   "execution_count": null,
   "metadata": {},
   "outputs": [],
   "source": [
    "%%time\n",
    "from dask.distributed import Client, LocalCluster\n",
    "import multiprocessing as mp\n",
    "import xarray as xr\n",
    "import matplotlib.pyplot as plt\n",
    "import rioxarray\n",
    "with LocalCluster(n_workers=int(0.5 * mp.cpu_count()),\n",
    "                          processes=True,\n",
    "                          threads_per_worker=1,\n",
    "                          memory_limit='2GB',\n",
    "                          #ip='tcp://localhost:9895',\n",
    "                          ) as cluster, Client(cluster) as client:\n",
    "    stac_result=sc.find_stac_result(bbox,dates,cloud_percentage)\n",
    "    items_list=sc.find_sentinel_item(stac_result=stac_result)\n",
    "#Wall time: 48 s\n"
   ]
  },
  {
   "cell_type": "code",
   "execution_count": null,
   "metadata": {},
   "outputs": [],
   "source": [
    "%%time\n",
    "from dask.distributed import Client, LocalCluster\n",
    "import multiprocessing as mp\n",
    "import xarray as xr\n",
    "import matplotlib.pyplot as plt\n",
    "import rioxarray\n",
    "with LocalCluster(n_workers=int(0.5 * mp.cpu_count()),\n",
    "                          processes=True,\n",
    "                          threads_per_worker=1,\n",
    "                          memory_limit='2GB',\n",
    "                          #ip='tcp://localhost:9895',\n",
    "                          ) as cluster, Client(cluster) as client:\n",
    "    stac_result=sc.find_stac_result(bbox,dates,cloud_percentage)\n",
    "    items_list=sc.find_sentinel_item(stac_result=stac_result)\n"
   ]
  },
  {
   "cell_type": "code",
   "execution_count": null,
   "metadata": {},
   "outputs": [],
   "source": [
    "sc.show_result_map(items_list=items_list,overview=False,target_area=target_area)"
   ]
  },
  {
   "cell_type": "code",
   "execution_count": null,
   "metadata": {},
   "outputs": [],
   "source": [
    "sc.show_result_map(items_list=items_list,overview=True,target_area=target_area)"
   ]
  },
  {
   "cell_type": "code",
   "execution_count": null,
   "metadata": {},
   "outputs": [],
   "source": [
    "sc.show_items_list(items_list[0:1])"
   ]
  },
  {
   "cell_type": "code",
   "execution_count": null,
   "metadata": {},
   "outputs": [],
   "source": [
    "df=sc.show_result_df(result=stac_result)"
   ]
  },
  {
   "cell_type": "code",
   "execution_count": null,
   "metadata": {},
   "outputs": [],
   "source": [
    "df.head()"
   ]
  },
  {
   "cell_type": "code",
   "execution_count": null,
   "metadata": {},
   "outputs": [],
   "source": [
    "df[df['sentinel:grid_square']=='DC']"
   ]
  },
  {
   "cell_type": "code",
   "execution_count": null,
   "metadata": {},
   "outputs": [],
   "source": [
    "df[df['sentinel:grid_square']=='DB'].iloc[1]['sentinel:product_id']"
   ]
  },
  {
   "cell_type": "code",
   "execution_count": null,
   "metadata": {},
   "outputs": [],
   "source": [
    "items_list"
   ]
  },
  {
   "cell_type": "code",
   "execution_count": null,
   "metadata": {},
   "outputs": [],
   "source": [
    "sc.download_image(item_list=items_list,band_list=['thumbnail'])"
   ]
  },
  {
   "cell_type": "code",
   "execution_count": null,
   "metadata": {},
   "outputs": [],
   "source": [
    "%%time\n",
    "subset=sc.download_subset_image(download_status=False,item_list=items_list,aoi=data,target_epsg='',\n",
    "                        band_list=['B02','B08'],download_path='./sentinel_cog',name_suffix='',auto_folder=True)"
   ]
  },
  {
   "cell_type": "code",
   "execution_count": null,
   "metadata": {},
   "outputs": [],
   "source": [
    "img1=subset[0]\n",
    "img1"
   ]
  },
  {
   "cell_type": "code",
   "execution_count": null,
   "metadata": {},
   "outputs": [],
   "source": [
    "from dask.distributed import Client, LocalCluster\n",
    "import multiprocessing as mp\n",
    "import xarray as xr\n",
    "import matplotlib.pyplot as plt\n",
    "import rioxarray\n",
    "band_list=['B01', 'B02', 'B03', 'B04', 'B05', 'B06', 'B07', 'B08', 'B8A',\n",
    "           'B09', 'B11', 'B12', 'AOT', 'WVP', 'SCL', 'info', 'metadata',\n",
    "           'visual', 'overview', 'thumbnail']\n",
    "\n",
    "def download_subset_image(download_status=False,stac_result=None,item_id_list=[],\n",
    "                        item_list=[],aoi=None,target_epsg='',\n",
    "                        band_list=band_list[:-5],\n",
    "                        download_path='./sentinel_cog',name_suffix='',auto_folder=True):\n",
    "    result_list=[]\n",
    "    if item_list:\n",
    "        with LocalCluster(n_workers=int(0.5 * mp.cpu_count()),\n",
    "                          processes=False,\n",
    "                          threads_per_worker=1,\n",
    "                          memory_limit='2GB',\n",
    "                          #ip='tcp://localhost:9895',\n",
    "                          ) as cluster, Client(cluster) as client:\n",
    "            for item in item_list:\n",
    "                bands_dict={}\n",
    "                for band in band_list:\n",
    "                    img_name=item.properties['sentinel:product_id']\n",
    "                    bands_dict['image_name']=img_name\n",
    "                    band_url=item.assets[band]['href']\n",
    "                    rds = rioxarray.open_rasterio(band_url, masked=True, chunks=(512,512))\n",
    "                    #aoi data from http://geojson.io \n",
    "                    # get aoi as geopandas df\n",
    "                    datajson=json.dumps(aoi)\n",
    "                    target_area=gpd.read_file(datajson)\n",
    "                    #https://geopandas.org/projections.html\n",
    "                    target_area=target_area.to_crs(rds.rio.crs.to_string())\n",
    "                    clipped =rds.rio.clip(target_area.geometry)\n",
    "                     \n",
    "                    if target_epsg:\n",
    "                        # target_epsg='epsg:4326'\n",
    "                        clipped = clipped.rio.reproject(target_epsg)\n",
    "    \n",
    "                    if download_status:\n",
    "                        img_path=download_path+'/'+img_name\n",
    "                        if not os.path.isdir(img_path):\n",
    "                            os.mkdir(img_path)\n",
    "                        img_name=band+'.tif'\n",
    "                        clipped.rio.to_raster(img_path+'/'+img_name)\n",
    "                       \n",
    "                    bands_dict[band]=clipped.copy()\n",
    "                    rds=None\n",
    "                result_list.append(bands_dict)\n",
    "                \n",
    "        return result_list"
   ]
  },
  {
   "cell_type": "code",
   "execution_count": null,
   "metadata": {},
   "outputs": [],
   "source": [
    "%%time\n",
    "subset_dask=download_subset_image(download_status=False,item_list=items_list,aoi=data,target_epsg='',\n",
    "                        band_list=['B02','B08'],download_path='./sentinel_cog',name_suffix='',auto_folder=True)"
   ]
  },
  {
   "cell_type": "code",
   "execution_count": 13,
   "metadata": {
    "collapsed": true,
    "jupyter": {
     "outputs_hidden": true
    }
   },
   "outputs": [
    {
     "ename": "ModuleNotFoundError",
     "evalue": "No module named 'dask_try'",
     "output_type": "error",
     "traceback": [
      "\u001b[1;31m---------------------------------------------------------------------------\u001b[0m",
      "\u001b[1;31mModuleNotFoundError\u001b[0m                       Traceback (most recent call last)",
      "\u001b[1;32m<ipython-input-13-2e88237fcdc7>\u001b[0m in \u001b[0;36m<module>\u001b[1;34m()\u001b[0m\n\u001b[1;32m----> 1\u001b[1;33m \u001b[1;32mimport\u001b[0m \u001b[0mdask_try\u001b[0m\u001b[1;33m\u001b[0m\u001b[1;33m\u001b[0m\u001b[0m\n\u001b[0m",
      "\u001b[1;31mModuleNotFoundError\u001b[0m: No module named 'dask_try'"
     ]
    }
   ],
   "source": [
    "import dask_try"
   ]
  },
  {
   "cell_type": "code",
   "execution_count": null,
   "metadata": {},
   "outputs": [],
   "source": [
    "%%time\n",
    "ndviwitharray=dask_try.calculate_ndvi(subset_dask[0]['B02'],subset_dask[0]['B08'])"
   ]
  },
  {
   "cell_type": "code",
   "execution_count": null,
   "metadata": {},
   "outputs": [],
   "source": [
    "type(ndviwitharray)"
   ]
  },
  {
   "cell_type": "code",
   "execution_count": null,
   "metadata": {},
   "outputs": [],
   "source": [
    "%%time\n",
    "ndvidirecty=dask_try.direct_ndvi(subset_dask[0]['B02'],subset_dask[0]['B08'])"
   ]
  },
  {
   "cell_type": "code",
   "execution_count": null,
   "metadata": {},
   "outputs": [],
   "source": [
    "from dask import "
   ]
  },
  {
   "cell_type": "code",
   "execution_count": null,
   "metadata": {},
   "outputs": [],
   "source": []
  },
  {
   "cell_type": "code",
   "execution_count": null,
   "metadata": {},
   "outputs": [],
   "source": [
    "red_xarray=None\n",
    "nir_xarray=None\n",
    "red=None\n",
    "nir=None\n",
    "red=None\n",
    "nir=None\n",
    "ndvi = None"
   ]
  },
  {
   "cell_type": "code",
   "execution_count": null,
   "metadata": {},
   "outputs": [],
   "source": [
    "%%time\n",
    "with LocalCluster(n_workers=int(0.6 * mp.cpu_count()),\n",
    "    processes=True,\n",
    "    threads_per_worker=1,\n",
    "    memory_limit='2GB',\n",
    "    #ip='tcp://localhost:9895',\n",
    ") as cluster, Client(cluster) as client:\n",
    "    red_xarray=subset_dask[0]['B02']\n",
    "    nir_xarray=subset_dask[0]['B08']\n",
    "    red=red_xarray.persist()\n",
    "    nir=nir_xarray.persist()\n",
    "    red=red.values\n",
    "    nir=nir.values\n",
    "    ndvi = (nir.astype(float) - red.astype(float))/(nir + red)\n",
    "    \n",
    "    #2min 16s"
   ]
  },
  {
   "cell_type": "code",
   "execution_count": null,
   "metadata": {},
   "outputs": [],
   "source": [
    "%%time\n",
    "with LocalCluster(n_workers=int(0.6 * mp.cpu_count()),\n",
    "    processes=False,\n",
    "    threads_per_worker=1,\n",
    "    memory_limit='2GB',\n",
    "    #ip='tcp://localhost:9895',\n",
    ") as cluster, Client(cluster) as client:\n",
    "    red_xarray=subset_dask[0]['B02']\n",
    "    nir_xarray=subset_dask[0]['B08']\n",
    "    red=red_xarray.persist()\n",
    "    nir=nir_xarray.persist()\n",
    "    red=red.values\n",
    "    nir=nir.values\n",
    "    ndvi = (nir.astype(float) - red.astype(float))/(nir + red)\n",
    "#2.31 s\n",
    "    "
   ]
  },
  {
   "cell_type": "code",
   "execution_count": null,
   "metadata": {},
   "outputs": [],
   "source": [
    "%%time\n",
    "with LocalCluster(n_workers=int(0.6 * mp.cpu_count()),\n",
    "    processes=True,\n",
    "    threads_per_worker=1,\n",
    "    memory_limit='2GB',\n",
    "    #ip='tcp://localhost:9895',\n",
    ") as cluster, Client(cluster) as client:\n",
    "    red_xarray=subset_dask[0]['B02']\n",
    "    nir_xarray=subset_dask[0]['B08']\n",
    "    ndvi = (nir_xarray.astype(float) - red_xarray.astype(float))/(nir_xarray + red_xarray)\n",
    "    ndvi.rio.to_raster('sen_cog_ndvi.tif')"
   ]
  },
  {
   "cell_type": "code",
   "execution_count": null,
   "metadata": {},
   "outputs": [],
   "source": [
    "with LocalCluster(n_workers=int(0.6 * mp.cpu_count()),\n",
    "    processes=True,\n",
    "    threads_per_worker=1,\n",
    "    memory_limit='2GB',\n",
    "    #ip='tcp://localhost:9895',\n",
    ") as cluster, Client(cluster) as client:\n",
    "    ndvi_reproject = ndvi.rio.reproject_match(red_xarray)"
   ]
  },
  {
   "cell_type": "code",
   "execution_count": null,
   "metadata": {},
   "outputs": [],
   "source": [
    "ndvi_reproject.rio.crs"
   ]
  },
  {
   "cell_type": "code",
   "execution_count": null,
   "metadata": {},
   "outputs": [],
   "source": [
    "ndvi_4326 = ndvi.rio.reproject('epsg:4326')"
   ]
  },
  {
   "cell_type": "code",
   "execution_count": null,
   "metadata": {},
   "outputs": [],
   "source": [
    "%%time\n",
    "with LocalCluster(n_workers=int(0.6 * mp.cpu_count()),\n",
    "    processes=True,\n",
    "    threads_per_worker=1,\n",
    "    memory_limit='2GB',\n",
    "    #ip='tcp://localhost:9895',\n",
    ") as cluster, Client(cluster) as client:\n",
    "    con_utm=ndvi_4326.rio.reproject(dst_crs=ndvi.rio.crs,shape=ndvi.rio.shape)\n",
    "    con_utm=con_utm.rio.reproject_match(ndvi)\n",
    "    con_utm.rio.to_raster('ndvilatToUTM.tif')"
   ]
  },
  {
   "cell_type": "code",
   "execution_count": null,
   "metadata": {},
   "outputs": [],
   "source": [
    "%%time\n",
    "with LocalCluster(n_workers=int(0.6 * mp.cpu_count()),\n",
    "    processes=False,\n",
    "    threads_per_worker=1,\n",
    "    memory_limit='2GB',\n",
    "    #ip='tcp://localhost:9895',\n",
    ") as cluster, Client(cluster) as client:\n",
    "    con_utm=ndvi_4326.rio.reproject(dst_crs=ndvi.rio.crs,shape=ndvi.rio.shape)\n",
    "    con_utm=con_utm.rio.reproject_match(ndvi)\n",
    "    con_utm.rio.to_raster('ndvilatToUTM2.tif')"
   ]
  },
  {
   "cell_type": "code",
   "execution_count": null,
   "metadata": {},
   "outputs": [],
   "source": [
    "ndvi_4326.rio.reproject?"
   ]
  },
  {
   "cell_type": "code",
   "execution_count": null,
   "metadata": {},
   "outputs": [],
   "source": [
    "ndvi.rio.reproject_match?"
   ]
  },
  {
   "cell_type": "code",
   "execution_count": null,
   "metadata": {},
   "outputs": [],
   "source": [
    "def to_raster(in_xds, template_xds, out_file):\n",
    "    in_xds = in_xds.rio.write_crs(template_xds.rio.crs)\n",
    "    if template_xds.rio.nodata is not None:\n",
    "        in_xds.attrs[\"_FillValue\"] = template_xds.rio.nodata\n",
    "    in_xds.rio.to_raster(out_file)\n",
    "\n"
   ]
  },
  {
   "cell_type": "code",
   "execution_count": null,
   "metadata": {},
   "outputs": [],
   "source": [
    "%%time\n",
    "with LocalCluster(n_workers=int(0.6 * mp.cpu_count()),\n",
    "    processes=True,\n",
    "    threads_per_worker=1,\n",
    "    memory_limit='2GB',\n",
    "    #ip='tcp://localhost:9895',\n",
    ") as cluster, Client(cluster) as client:\n",
    "    to_raster(ndvi_4326,red_xarray, \"ndvifromred.tif\")"
   ]
  },
  {
   "cell_type": "code",
   "execution_count": null,
   "metadata": {},
   "outputs": [],
   "source": []
  },
  {
   "cell_type": "code",
   "execution_count": null,
   "metadata": {},
   "outputs": [],
   "source": [
    "geo=new_target.__geo_interface__"
   ]
  },
  {
   "cell_type": "code",
   "execution_count": null,
   "metadata": {},
   "outputs": [],
   "source": [
    "from rasterstats import zonal_stats, point_query"
   ]
  },
  {
   "cell_type": "code",
   "execution_count": null,
   "metadata": {},
   "outputs": [],
   "source": [
    "stats = zonal_stats(geo,ndvi,stats=['min', 'max', 'median', 'majority', 'sum'])"
   ]
  },
  {
   "cell_type": "code",
   "execution_count": null,
   "metadata": {},
   "outputs": [],
   "source": []
  },
  {
   "cell_type": "code",
   "execution_count": null,
   "metadata": {},
   "outputs": [],
   "source": [
    "new_target=target_area.to_crs(ndvi.rio.crs.to_string())"
   ]
  },
  {
   "cell_type": "code",
   "execution_count": null,
   "metadata": {},
   "outputs": [],
   "source": []
  },
  {
   "cell_type": "code",
   "execution_count": null,
   "metadata": {},
   "outputs": [],
   "source": [
    "aoi_gpd=target_area.to_crs(ndvi.rio.crs.to_string())"
   ]
  },
  {
   "cell_type": "code",
   "execution_count": null,
   "metadata": {},
   "outputs": [],
   "source": [
    "aoi_gpd.geometry"
   ]
  },
  {
   "cell_type": "code",
   "execution_count": null,
   "metadata": {},
   "outputs": [],
   "source": [
    "clipped =rds.rio.clip(aoi_gpd.geometry)"
   ]
  },
  {
   "cell_type": "code",
   "execution_count": null,
   "metadata": {},
   "outputs": [],
   "source": [
    "clipped.rio.to_raster('denemeee.tif')"
   ]
  },
  {
   "cell_type": "code",
   "execution_count": null,
   "metadata": {},
   "outputs": [],
   "source": [
    "aoi_gpd.to_file('utm',driver='ESRI Shapefile')"
   ]
  },
  {
   "cell_type": "code",
   "execution_count": null,
   "metadata": {},
   "outputs": [],
   "source": [
    "target_area.to_file('latlon',driver='ESRI Shapefile')"
   ]
  },
  {
   "cell_type": "code",
   "execution_count": null,
   "metadata": {},
   "outputs": [],
   "source": [
    "res={'type': 'Polygon',\n",
    " 'coordinates': [[[37.876381589019886, 36.95257399124932],\n",
    "   [37.861482438916816, 37.942072015005024],\n",
    "   [38.5700476360887, 37.9467949936599],\n",
    "   [38.48396578520234, 37.68856019631257],\n",
    "   [38.238959267471955, 36.955451379212235],\n",
    "   [37.876381589019886, 36.95257399124932]]]}"
   ]
  },
  {
   "cell_type": "code",
   "execution_count": null,
   "metadata": {},
   "outputs": [],
   "source": [
    "datajson=json.dumps(res)\n",
    "target_area=gpd.read_file(datajson)\n",
    "target_area.geometry"
   ]
  },
  {
   "cell_type": "code",
   "execution_count": null,
   "metadata": {},
   "outputs": [],
   "source": [
    "target_area.to_file('latlon2',driver='ESRI Shapefile')"
   ]
  },
  {
   "cell_type": "code",
   "execution_count": null,
   "metadata": {},
   "outputs": [],
   "source": [
    "aoi_gpd=target_area.to_crs(sdb37.rio.crs.to_string())"
   ]
  },
  {
   "cell_type": "code",
   "execution_count": null,
   "metadata": {},
   "outputs": [],
   "source": [
    "aoi_gpd.to_file('utm',driver='ESRI Shapefile')"
   ]
  },
  {
   "cell_type": "code",
   "execution_count": null,
   "metadata": {},
   "outputs": [],
   "source": []
  }
 ],
 "metadata": {
  "kernelspec": {
   "display_name": "Python 3",
   "language": "python",
   "name": "python3"
  },
  "language_info": {
   "codemirror_mode": {
    "name": "ipython",
    "version": 3
   },
   "file_extension": ".py",
   "mimetype": "text/x-python",
   "name": "python",
   "nbconvert_exporter": "python",
   "pygments_lexer": "ipython3",
   "version": "3.7.9"
  }
 },
 "nbformat": 4,
 "nbformat_minor": 4
}
