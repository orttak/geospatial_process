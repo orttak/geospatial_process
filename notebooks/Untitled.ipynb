{
 "cells": [
  {
   "cell_type": "code",
   "execution_count": 2,
   "metadata": {},
   "outputs": [],
   "source": [
    "import json\n",
    "import satsearch\n",
    "import geopandas as gpd\n",
    "import numpy as np\n",
    "import pandas as pd\n",
    "import warnings\n",
    "from shapely.geometry import  Polygon\n",
    "import rioxarray\n",
    "import satstac\n",
    "import os\n",
    "warnings.filterwarnings(\"ignore\")"
   ]
  },
  {
   "cell_type": "code",
   "execution_count": 16,
   "metadata": {},
   "outputs": [],
   "source": [
    "import data.sentinel_cog as sc\n"
   ]
  },
  {
   "cell_type": "code",
   "execution_count": 17,
   "metadata": {},
   "outputs": [],
   "source": [
    "#data from http://geojson.io \n",
    "data={\n",
    "  \"type\": \"FeatureCollection\",\n",
    "  \"features\": [\n",
    "    {\n",
    "      \"type\": \"Feature\",\n",
    "      \"properties\": {},\n",
    "      \"geometry\": {\n",
    "        \"type\": \"Polygon\",\n",
    "        \"coordinates\": [\n",
    "          [\n",
    "            [\n",
    "              38.54827880859375,\n",
    "              36.90378362619561\n",
    "            ],\n",
    "            [\n",
    "              40.0067138671875,\n",
    "              36.90378362619561\n",
    "            ],\n",
    "            [\n",
    "              40.0067138671875,\n",
    "              37.89219554724437\n",
    "            ],\n",
    "            [\n",
    "              38.54827880859375,\n",
    "              37.89219554724437\n",
    "            ],\n",
    "            [\n",
    "              38.54827880859375,\n",
    "              36.90378362619561\n",
    "            ]\n",
    "          ]\n",
    "        ]\n",
    "      }\n",
    "    }\n",
    "  ]\n",
    "}"
   ]
  },
  {
   "cell_type": "code",
   "execution_count": 18,
   "metadata": {},
   "outputs": [],
   "source": [
    "adiyaman={\n",
    "  \"type\": \"FeatureCollection\",\n",
    "  \"features\": [\n",
    "    {\n",
    "      \"type\": \"Feature\",\n",
    "      \"properties\": {},\n",
    "      \"geometry\": {\n",
    "        \"type\": \"Polygon\",\n",
    "        \"coordinates\": [\n",
    "          [\n",
    "            [\n",
    "              38.20838928222656,\n",
    "              37.47976234695507\n",
    "            ],\n",
    "            [\n",
    "              38.51600646972656,\n",
    "              37.47976234695507\n",
    "            ],\n",
    "            [\n",
    "              38.51600646972656,\n",
    "              37.68083151896963\n",
    "            ],\n",
    "            [\n",
    "              38.20838928222656,\n",
    "              37.68083151896963\n",
    "            ],\n",
    "            [\n",
    "              38.20838928222656,\n",
    "              37.47976234695507\n",
    "            ]\n",
    "          ]\n",
    "        ]\n",
    "      }\n",
    "    }\n",
    "  ]\n",
    "}"
   ]
  },
  {
   "cell_type": "code",
   "execution_count": 19,
   "metadata": {},
   "outputs": [],
   "source": [
    "datajson=json.dumps(data)\n",
    "target_area=gpd.read_file(datajson)\n"
   ]
  },
  {
   "cell_type": "code",
   "execution_count": 20,
   "metadata": {},
   "outputs": [
    {
     "data": {
      "text/html": [
       "<div style=\"width:100%;\"><div style=\"position:relative;width:100%;height:0;padding-bottom:60%;\"><span style=\"color:#565656\">Make this Notebook Trusted to load map: File -> Trust Notebook</span><iframe src=\"about:blank\" style=\"position:absolute;width:100%;height:100%;left:0;top:0;border:none !important;\" data-html=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 onload=\"this.contentDocument.open();this.contentDocument.write(atob(this.getAttribute('data-html')));this.contentDocument.close();\" allowfullscreen webkitallowfullscreen mozallowfullscreen></iframe></div></div>"
      ],
      "text/plain": [
       "<folium.folium.Map at 0x149ea460348>"
      ]
     },
     "execution_count": 20,
     "metadata": {},
     "output_type": "execute_result"
    }
   ],
   "source": [
    "tiles_intersection,tile_map=sc.find_sentinel_tile(target_area)\n",
    "tile_map"
   ]
  },
  {
   "cell_type": "code",
   "execution_count": 21,
   "metadata": {
    "jupyter": {
     "source_hidden": true
    }
   },
   "outputs": [],
   "source": [
    "def show_result_map(result=None,items_list=[],target_area=None,overview=False):\n",
    "    center = [38,35]\n",
    "    zoom = 6\n",
    "    if not items_list:\n",
    "        items = result.items()\n",
    "        m = folium.Map(location=center, zoom_start=zoom)\n",
    "        for item in items:\n",
    "            if overview:\n",
    "                #get overview band\n",
    "                #get overview band\n",
    "                band_url=item.assets['thumbnail']['href'] \n",
    "                pol=Polygon(item.geometry['coordinates'][0])\n",
    "                folium.raster_layers.ImageOverlay(\n",
    "                    image=band_url,\n",
    "                    name=item.properties['sentinel:product_id'],\n",
    "                    bounds=[[min(pol.exterior.coords.xy[0]),min(pol.exterior.coords.xy[1])],[max(pol.exterior.coords.xy[0]),max(pol.exterior.coords.xy[1])] ],\n",
    "                    #bounds=[item.geometry['coordinates'][0][0], item.geometry['coordinates'][0][3]],\n",
    "                    opacity=1,\n",
    "                    interactive=True,\n",
    "                    cross_origin=True,\n",
    "                    zindex=1,\n",
    "                    #alt=\"Wikipedia File:Mercator projection SW.jpg\",\n",
    "                ).add_to(m)   \n",
    "\n",
    "                folium.LayerControl().add_to(m)\n",
    "            else:\n",
    "                # Create a string for the name containing the path and row of this Polygon\n",
    "                name = item.properties['sentinel:product_id']\n",
    "                # Create the folium geometry of this Polygon \n",
    "                g = folium.GeoJson(item.geometry, name=name)\n",
    "                # Add a folium Popup object with the name string\n",
    "                g.add_child(folium.Popup(name))\n",
    "                # Add the object to the map\n",
    "                g.add_to(m)\n",
    "\n",
    "        if target_area:\n",
    "            m.add_child(folium.GeoJson(target_area.__geo_interface__, name='Area of Study', \n",
    "                           style_function=lambda x: {'color': 'red', 'alpha': 0}))\n",
    "    \n",
    "        folium.LayerControl().add_to(m)\n",
    "        return m\n",
    "\n",
    "      \n",
    "    else:\n",
    "        m = folium.Map(location=center, zoom_start=zoom)\n",
    "        for item in items_list:\n",
    "            if overview:\n",
    "                #get overview band\n",
    "                band_url=item.assets['thumbnail']['href'] \n",
    "                pol=Polygon(item.geometry['coordinates'][0])\n",
    "                folium.raster_layers.ImageOverlay(\n",
    "                    image=band_url,\n",
    "                    name=item.properties['sentinel:product_id'],\n",
    "                    bounds=[[min(pol.exterior.coords.xy[0]),min(pol.exterior.coords.xy[1])],[max(pol.exterior.coords.xy[0]),max(pol.exterior.coords.xy[1])] ],\n",
    "                    #bounds=[item.geometry['coordinates'][0][0], item.geometry['coordinates'][0][3]],\n",
    "                    opacity=1,\n",
    "                    interactive=True,\n",
    "                    cross_origin=True,\n",
    "                    zindex=1,\n",
    "                    #alt=\"Wikipedia File:Mercator projection SW.jpg\",\n",
    "                ).add_to(m)   \n",
    "\n",
    "            else:\n",
    "                # Create a string for the name containing the path and row of this Polygon\n",
    "                name = item.properties['sentinel:product_id']\n",
    "                # Create the folium geometry of this Polygon \n",
    "                g = folium.GeoJson(item.geometry, name=name)\n",
    "                # Add a folium Popup object with the name string\n",
    "                g.add_child(folium.Popup(name))\n",
    "                # Add the object to the map\n",
    "                g.add_to(m)\n",
    "\n",
    "                \n",
    "\n",
    "        if target_area:\n",
    "            m.add_child(folium.GeoJson(target_area.__geo_interface__, name='Area of Study', \n",
    "                           style_function=lambda x: {'color': 'red', 'alpha': 0}))\n",
    "    \n",
    "        folium.LayerControl().add_to(m)\n",
    "        return m"
   ]
  },
  {
   "cell_type": "code",
   "execution_count": 22,
   "metadata": {},
   "outputs": [
    {
     "data": {
      "text/html": [
       "<div>\n",
       "<style scoped>\n",
       "    .dataframe tbody tr th:only-of-type {\n",
       "        vertical-align: middle;\n",
       "    }\n",
       "\n",
       "    .dataframe tbody tr th {\n",
       "        vertical-align: top;\n",
       "    }\n",
       "\n",
       "    .dataframe thead th {\n",
       "        text-align: right;\n",
       "    }\n",
       "</style>\n",
       "<table border=\"1\" class=\"dataframe\">\n",
       "  <thead>\n",
       "    <tr style=\"text-align: right;\">\n",
       "      <th></th>\n",
       "      <th>geometry</th>\n",
       "    </tr>\n",
       "  </thead>\n",
       "  <tbody>\n",
       "    <tr>\n",
       "      <th>0</th>\n",
       "      <td>POLYGON ((38.54828 36.90378, 40.00671 36.90378...</td>\n",
       "    </tr>\n",
       "  </tbody>\n",
       "</table>\n",
       "</div>"
      ],
      "text/plain": [
       "                                            geometry\n",
       "0  POLYGON ((38.54828 36.90378, 40.00671 36.90378..."
      ]
     },
     "execution_count": 22,
     "metadata": {},
     "output_type": "execute_result"
    }
   ],
   "source": [
    "tiles_intersection"
   ]
  },
  {
   "cell_type": "code",
   "execution_count": 24,
   "metadata": {},
   "outputs": [],
   "source": [
    "import data.sentinel_cog as sc"
   ]
  },
  {
   "cell_type": "code",
   "execution_count": 25,
   "metadata": {},
   "outputs": [],
   "source": [
    "boundry=list(target_area.geometry.bounds.values[0]) #boundry from your AOI\n",
    "bbox=[boundry[0],boundry[1],boundry[2],boundry[3]] #(min lon, min lat, max lon, max lat)\n",
    "dates = '2018-07-01/2018-07-12'\n",
    "band_list=['B02','B03','B04','B08']\n",
    "cloud_percentage=20"
   ]
  },
  {
   "cell_type": "code",
   "execution_count": 26,
   "metadata": {},
   "outputs": [],
   "source": [
    "stac_result=sc.find_stac_result(bbox,dates,cloud_percentage)"
   ]
  },
  {
   "cell_type": "code",
   "execution_count": 27,
   "metadata": {},
   "outputs": [
    {
     "data": {
      "text/plain": [
       "['37SDA', '37SDB', '37SDC', '37SEA', '37SEB', '37SEC']"
      ]
     },
     "execution_count": 27,
     "metadata": {},
     "output_type": "execute_result"
    }
   ],
   "source": [
    "tile_list=sc.create_tiles_list(stac_result)\n",
    "tile_list"
   ]
  },
  {
   "cell_type": "code",
   "execution_count": 46,
   "metadata": {},
   "outputs": [],
   "source": [
    "items=stac_result.items()"
   ]
  },
  {
   "cell_type": "code",
   "execution_count": 34,
   "metadata": {},
   "outputs": [],
   "source": [
    "coverage=sorted(items.properties('sentinel:data_coverage'))"
   ]
  },
  {
   "cell_type": "code",
   "execution_count": 43,
   "metadata": {},
   "outputs": [],
   "source": [
    "import pandas as pd"
   ]
  },
  {
   "cell_type": "code",
   "execution_count": 50,
   "metadata": {},
   "outputs": [],
   "source": [
    "items_json=items.geojson()\n",
    "items_json=json.dumps(items_json)\n",
    "df=gpd.read_file(items_json)\n"
   ]
  },
  {
   "cell_type": "code",
   "execution_count": 51,
   "metadata": {},
   "outputs": [
    {
     "data": {
      "text/html": [
       "<div>\n",
       "<style scoped>\n",
       "    .dataframe tbody tr th:only-of-type {\n",
       "        vertical-align: middle;\n",
       "    }\n",
       "\n",
       "    .dataframe tbody tr th {\n",
       "        vertical-align: top;\n",
       "    }\n",
       "\n",
       "    .dataframe thead th {\n",
       "        text-align: right;\n",
       "    }\n",
       "</style>\n",
       "<table border=\"1\" class=\"dataframe\">\n",
       "  <thead>\n",
       "    <tr style=\"text-align: right;\">\n",
       "      <th></th>\n",
       "      <th>id</th>\n",
       "      <th>datetime</th>\n",
       "      <th>platform</th>\n",
       "      <th>constellation</th>\n",
       "      <th>gsd</th>\n",
       "      <th>data_coverage</th>\n",
       "      <th>view:off_nadir</th>\n",
       "      <th>eo:cloud_cover</th>\n",
       "      <th>proj:epsg</th>\n",
       "      <th>sentinel:latitude_band</th>\n",
       "      <th>sentinel:grid_square</th>\n",
       "      <th>sentinel:sequence</th>\n",
       "      <th>sentinel:product_id</th>\n",
       "      <th>created</th>\n",
       "      <th>updated</th>\n",
       "      <th>sentinel:valid_cloud_cover</th>\n",
       "      <th>sentinel:utm_zone</th>\n",
       "      <th>sentinel:data_coverage</th>\n",
       "      <th>geometry</th>\n",
       "    </tr>\n",
       "  </thead>\n",
       "  <tbody>\n",
       "    <tr>\n",
       "      <th>0</th>\n",
       "      <td>S2A_37SDA_20180712_0_L2A</td>\n",
       "      <td>2018-07-12T08:15:37+00:00</td>\n",
       "      <td>sentinel-2a</td>\n",
       "      <td>sentinel-2</td>\n",
       "      <td>10</td>\n",
       "      <td>100.0</td>\n",
       "      <td>0</td>\n",
       "      <td>0.02</td>\n",
       "      <td>32637</td>\n",
       "      <td>S</td>\n",
       "      <td>DA</td>\n",
       "      <td>0</td>\n",
       "      <td>S2A_MSIL2A_20180712T080611_N0208_R078_T37SDA_2...</td>\n",
       "      <td>2020-09-06T11:24:04.973000+00:00</td>\n",
       "      <td>2020-09-06T11:24:04.973000+00:00</td>\n",
       "      <td>True</td>\n",
       "      <td>37</td>\n",
       "      <td>100.0</td>\n",
       "      <td>POLYGON ((37.88933 36.05159, 37.87508 37.04124...</td>\n",
       "    </tr>\n",
       "    <tr>\n",
       "      <th>1</th>\n",
       "      <td>S2A_37SEC_20180712_0_L2A</td>\n",
       "      <td>2018-07-12T08:15:37+00:00</td>\n",
       "      <td>sentinel-2a</td>\n",
       "      <td>sentinel-2</td>\n",
       "      <td>10</td>\n",
       "      <td>NaN</td>\n",
       "      <td>0</td>\n",
       "      <td>4.11</td>\n",
       "      <td>32637</td>\n",
       "      <td>S</td>\n",
       "      <td>EC</td>\n",
       "      <td>0</td>\n",
       "      <td>S2A_MSIL2A_20180712T080611_N0208_R078_T37SEC_2...</td>\n",
       "      <td>2020-08-31T01:16:46.973000+00:00</td>\n",
       "      <td>2020-08-31T01:16:46.973000+00:00</td>\n",
       "      <td>True</td>\n",
       "      <td>37</td>\n",
       "      <td>100.0</td>\n",
       "      <td>POLYGON ((40.24785 37.85284, 38.99978 37.85945...</td>\n",
       "    </tr>\n",
       "    <tr>\n",
       "      <th>2</th>\n",
       "      <td>S2A_37SDB_20180712_0_L2A</td>\n",
       "      <td>2018-07-12T08:15:37+00:00</td>\n",
       "      <td>sentinel-2a</td>\n",
       "      <td>sentinel-2</td>\n",
       "      <td>10</td>\n",
       "      <td>100.0</td>\n",
       "      <td>0</td>\n",
       "      <td>0.00</td>\n",
       "      <td>32637</td>\n",
       "      <td>S</td>\n",
       "      <td>DB</td>\n",
       "      <td>0</td>\n",
       "      <td>S2A_MSIL2A_20180712T080611_N0208_R078_T37SDB_2...</td>\n",
       "      <td>2020-09-26T15:35:33.570000+00:00</td>\n",
       "      <td>2020-09-26T15:35:33.570000+00:00</td>\n",
       "      <td>True</td>\n",
       "      <td>37</td>\n",
       "      <td>100.0</td>\n",
       "      <td>POLYGON ((37.87638 36.95257, 37.86148 37.94207...</td>\n",
       "    </tr>\n",
       "    <tr>\n",
       "      <th>3</th>\n",
       "      <td>S2A_37SEA_20180712_0_L2A</td>\n",
       "      <td>2018-07-12T08:15:37+00:00</td>\n",
       "      <td>sentinel-2a</td>\n",
       "      <td>sentinel-2</td>\n",
       "      <td>10</td>\n",
       "      <td>NaN</td>\n",
       "      <td>0</td>\n",
       "      <td>0.00</td>\n",
       "      <td>32637</td>\n",
       "      <td>S</td>\n",
       "      <td>EA</td>\n",
       "      <td>0</td>\n",
       "      <td>S2A_MSIL2A_20180712T080611_N0208_R078_T37SEA_2...</td>\n",
       "      <td>2020-08-31T01:12:31.679001+00:00</td>\n",
       "      <td>2020-08-31T01:12:31.679001+00:00</td>\n",
       "      <td>True</td>\n",
       "      <td>37</td>\n",
       "      <td>100.0</td>\n",
       "      <td>POLYGON ((40.21879 36.05054, 38.99979 36.05673...</td>\n",
       "    </tr>\n",
       "    <tr>\n",
       "      <th>4</th>\n",
       "      <td>S2A_37SEB_20180712_0_L2A</td>\n",
       "      <td>2018-07-12T08:15:37+00:00</td>\n",
       "      <td>sentinel-2a</td>\n",
       "      <td>sentinel-2</td>\n",
       "      <td>10</td>\n",
       "      <td>NaN</td>\n",
       "      <td>0</td>\n",
       "      <td>0.15</td>\n",
       "      <td>32637</td>\n",
       "      <td>S</td>\n",
       "      <td>EB</td>\n",
       "      <td>0</td>\n",
       "      <td>S2A_MSIL2A_20180712T080611_N0208_R078_T37SEB_2...</td>\n",
       "      <td>2020-08-31T04:00:21.618000+00:00</td>\n",
       "      <td>2020-08-31T04:00:21.618000+00:00</td>\n",
       "      <td>True</td>\n",
       "      <td>37</td>\n",
       "      <td>100.0</td>\n",
       "      <td>POLYGON ((40.23299 36.95149, 38.99979 36.95789...</td>\n",
       "    </tr>\n",
       "  </tbody>\n",
       "</table>\n",
       "</div>"
      ],
      "text/plain": [
       "                         id                   datetime     platform  \\\n",
       "0  S2A_37SDA_20180712_0_L2A  2018-07-12T08:15:37+00:00  sentinel-2a   \n",
       "1  S2A_37SEC_20180712_0_L2A  2018-07-12T08:15:37+00:00  sentinel-2a   \n",
       "2  S2A_37SDB_20180712_0_L2A  2018-07-12T08:15:37+00:00  sentinel-2a   \n",
       "3  S2A_37SEA_20180712_0_L2A  2018-07-12T08:15:37+00:00  sentinel-2a   \n",
       "4  S2A_37SEB_20180712_0_L2A  2018-07-12T08:15:37+00:00  sentinel-2a   \n",
       "\n",
       "  constellation  gsd  data_coverage  view:off_nadir  eo:cloud_cover  \\\n",
       "0    sentinel-2   10          100.0               0            0.02   \n",
       "1    sentinel-2   10            NaN               0            4.11   \n",
       "2    sentinel-2   10          100.0               0            0.00   \n",
       "3    sentinel-2   10            NaN               0            0.00   \n",
       "4    sentinel-2   10            NaN               0            0.15   \n",
       "\n",
       "   proj:epsg sentinel:latitude_band sentinel:grid_square sentinel:sequence  \\\n",
       "0      32637                      S                   DA                 0   \n",
       "1      32637                      S                   EC                 0   \n",
       "2      32637                      S                   DB                 0   \n",
       "3      32637                      S                   EA                 0   \n",
       "4      32637                      S                   EB                 0   \n",
       "\n",
       "                                 sentinel:product_id  \\\n",
       "0  S2A_MSIL2A_20180712T080611_N0208_R078_T37SDA_2...   \n",
       "1  S2A_MSIL2A_20180712T080611_N0208_R078_T37SEC_2...   \n",
       "2  S2A_MSIL2A_20180712T080611_N0208_R078_T37SDB_2...   \n",
       "3  S2A_MSIL2A_20180712T080611_N0208_R078_T37SEA_2...   \n",
       "4  S2A_MSIL2A_20180712T080611_N0208_R078_T37SEB_2...   \n",
       "\n",
       "                            created                           updated  \\\n",
       "0  2020-09-06T11:24:04.973000+00:00  2020-09-06T11:24:04.973000+00:00   \n",
       "1  2020-08-31T01:16:46.973000+00:00  2020-08-31T01:16:46.973000+00:00   \n",
       "2  2020-09-26T15:35:33.570000+00:00  2020-09-26T15:35:33.570000+00:00   \n",
       "3  2020-08-31T01:12:31.679001+00:00  2020-08-31T01:12:31.679001+00:00   \n",
       "4  2020-08-31T04:00:21.618000+00:00  2020-08-31T04:00:21.618000+00:00   \n",
       "\n",
       "   sentinel:valid_cloud_cover  sentinel:utm_zone  sentinel:data_coverage  \\\n",
       "0                        True                 37                   100.0   \n",
       "1                        True                 37                   100.0   \n",
       "2                        True                 37                   100.0   \n",
       "3                        True                 37                   100.0   \n",
       "4                        True                 37                   100.0   \n",
       "\n",
       "                                            geometry  \n",
       "0  POLYGON ((37.88933 36.05159, 37.87508 37.04124...  \n",
       "1  POLYGON ((40.24785 37.85284, 38.99978 37.85945...  \n",
       "2  POLYGON ((37.87638 36.95257, 37.86148 37.94207...  \n",
       "3  POLYGON ((40.21879 36.05054, 38.99979 36.05673...  \n",
       "4  POLYGON ((40.23299 36.95149, 38.99979 36.95789...  "
      ]
     },
     "execution_count": 51,
     "metadata": {},
     "output_type": "execute_result"
    }
   ],
   "source": [
    "df.head()"
   ]
  },
  {
   "cell_type": "code",
   "execution_count": 41,
   "metadata": {},
   "outputs": [
    {
     "name": "stdout",
     "output_type": "stream",
     "text": [
      "5555\n"
     ]
    }
   ],
   "source": [
    "try:\n",
    "    if not items:\n",
    "        raise IndexError\n",
    "except:\n",
    "    print(5555)"
   ]
  },
  {
   "cell_type": "code",
   "execution_count": 32,
   "metadata": {},
   "outputs": [],
   "source": [
    "items.filter('sentinel:data_coverage',[])"
   ]
  },
  {
   "cell_type": "code",
   "execution_count": 35,
   "metadata": {},
   "outputs": [],
   "source": [
    "#drop_list=['37SDA', '37SDC', '37SEA', '37SEB', '37SEC']"
   ]
  },
  {
   "cell_type": "code",
   "execution_count": 36,
   "metadata": {},
   "outputs": [],
   "source": [
    "#tiles_intersection=sc.drop_tile(tiles_intersection,drop_list)\n",
    "#tiles_intersection"
   ]
  },
  {
   "cell_type": "code",
   "execution_count": 34,
   "metadata": {},
   "outputs": [],
   "source": [
    "from dask.distributed import Client, LocalCluster\n",
    "import multiprocessing as mp\n",
    "import xarray as xr\n",
    "import matplotlib.pyplot as plt\n",
    "import rioxarray\n",
    "import satsearch\n",
    "\n",
    "     \n",
    "def find_stac_result(target_aoi,date,max_cloud=10):\n",
    "    URL='https://earth-search.aws.element84.com/v0'\n",
    "    with LocalCluster(n_workers=int(0.5 * mp.cpu_count()),\n",
    "                          processes=True,\n",
    "                          threads_per_worker=2,\n",
    "                          memory_limit='2GB',\n",
    "                          #ip='tcp://localhost:9895',\n",
    "                          ) as cluster, Client(cluster) as client:\n",
    "        results = satsearch.Search.search(url=URL,\n",
    "                                          collections=['sentinel-s2-l2a-cogs'], # note collection='sentinel-s2-l2a-cogs' doesn't work\n",
    "                                          datetime=date,\n",
    "                                          bbox=target_aoi,\n",
    "                                          query={'eo:cloud_cover': {'lt':max_cloud}}, )\n",
    "    return results\n",
    "\n",
    "def create_tiles_list(stac_result):\n",
    "    items = stac_result.items()\n",
    "    items_json=items.geojson()\n",
    "    items_json=json.dumps(items_json)\n",
    "    df=gpd.read_file(items_json)\n",
    "    df['tile']=df.apply(lambda row: str(row['sentinel:utm_zone'])+row['sentinel:latitude_band']+row['sentinel:grid_square'], axis=1)\n",
    "    tiles_list = sorted(df['tile'].unique().tolist())\n",
    "    return tiles_list\n",
    "    "
   ]
  },
  {
   "cell_type": "code",
   "execution_count": 37,
   "metadata": {},
   "outputs": [],
   "source": [
    "def find_sentinel_item(stac_result,tiles_list=[],min_coverage=95,max_cloud=2):\n",
    "    if tiles_list:\n",
    "        tile_result_list=[]\n",
    "        with LocalCluster(n_workers=int(0.5 * mp.cpu_count()),\n",
    "                          processes=True,\n",
    "                          threads_per_worker=2,\n",
    "                          memory_limit='2GB',\n",
    "                          #ip='tcp://localhost:9895',\n",
    "                          ) as cluster, Client(cluster) as client:\n",
    "            \n",
    "            for tile in tiles_list:\n",
    "                #find best image for target tile \n",
    "                tile_number=int(tile[0:2])\n",
    "                lat_band=tile[2]\n",
    "                grid_sq=tile[3:]\n",
    "                items = stac_result.items()\n",
    "                items.filter('sentinel:utm_zone',[tile_number,])\n",
    "                items.filter('sentinel:latitude_band',[lat_band])\n",
    "                items.filter('sentinel:grid_square', [grid_sq])\n",
    "                try:\n",
    "                    coverage=sorted(items.properties('sentinel:data_coverage'))\n",
    "                    coverage=[c for c in coverage if c>min_coverage]\n",
    "                    items.filter('sentinel:data_coverage',coverage)\n",
    "                    if 100 in items.properties('sentinel:data_coverage'):\n",
    "                        #get the index of value that data_coverage==100\n",
    "                        dc_index=[i for i, x in enumerate(items) if items[i].properties['sentinel:data_coverage']==100]\n",
    "                        #get images cloud info\n",
    "                        filtered_list=[items[x].properties['eo:cloud_cover'] for i, x in enumerate(dc_index) if items[x].properties['eo:cloud_cover']<max_cloud]\n",
    "                        #get first cloud cover after sorting\n",
    "                        try:\n",
    "                            # if data exist we use filter method\n",
    "                            selected_item=sorted(filtered_list)[0]\n",
    "                            items.filter('sentinel:data_coverage',[100])\n",
    "                        except:\n",
    "                            selected_item=sorted(items.properties('eo:cloud_cover'))[0]\n",
    "            \n",
    "                        items.filter('eo:cloud_cover', [selected_item])\n",
    "                        tile_result_list.append(items[0])\n",
    "    \n",
    "                    else:\n",
    "                        selected_item=sorted(items.properties('eo:cloud_cover'))[0]\n",
    "                        #select best image\n",
    "                        items.filter('eo:cloud_cover', [selected_item])\n",
    "                        #get newest image\n",
    "                        tile_result_list.append(items[0])\n",
    "                              \n",
    "                except:\n",
    "                    # threshold ekle -2 yerine\n",
    "                    coverage=sorted(items.properties('sentinel:data_coverage'))[-2:]\n",
    "                    items.filter('sentinel:data_coverage',coverage)\n",
    "                    selected_item=sorted(items.properties('eo:cloud_cover'))[0]\n",
    "                    #select best image\n",
    "                    items.filter('eo:cloud_cover', [selected_item])\n",
    "                    #get newest image\n",
    "                    tile_result_list.append(items[0])\n",
    "            \n",
    "            return tile_result_list\n",
    "    \n",
    "    else:\n",
    "        # code define best image for each tile from stac result\n",
    "        # function return list of tile's information\n",
    "        tiles_list=create_tiles_list(stac_result)\n",
    "        #we collect each tile's result\n",
    "        tile_result_list=[]\n",
    "        with LocalCluster(n_workers=int(0.5 * mp.cpu_count()),\n",
    "                          processes=True,\n",
    "                          threads_per_worker=2,\n",
    "                          memory_limit='2GB',\n",
    "                          #ip='tcp://localhost:9895',\n",
    "                          ) as cluster, Client(cluster) as client:\n",
    "            for tile in tiles_list:\n",
    "                tile_number=int(tile[0:2])\n",
    "                lat_band=tile[2]\n",
    "                grid_sq=tile[3:]\n",
    "                items = stac_result.items()\n",
    "                items.filter('sentinel:utm_zone',[tile_number,])\n",
    "                items.filter('sentinel:latitude_band',[lat_band])\n",
    "                items.filter('sentinel:grid_square', [grid_sq])\n",
    "                try:\n",
    "                    coverage=sorted(items.properties('sentinel:data_coverage'))\n",
    "                    coverage=[c for c in coverage if c>min_coverage]\n",
    "                    items.filter('sentinel:data_coverage',coverage)\n",
    "                    if 100 in items.properties('sentinel:data_coverage'):\n",
    "                        #get the index of value that data_coverage==100\n",
    "                        dc_index=[i for i, x in enumerate(items) if items[i].properties['sentinel:data_coverage']==100]\n",
    "                        #get images cloud info\n",
    "                        filtered_list=[items[x].properties['eo:cloud_cover'] for i, x in enumerate(dc_index) if items[x].properties['eo:cloud_cover']<max_cloud]\n",
    "                        #get first cloud cover after sorting\n",
    "                        try:\n",
    "                            # if data exist we use filter method\n",
    "                            selected_item=sorted(filtered_list)[0]\n",
    "                            items.filter('sentinel:data_coverage',[100])\n",
    "    \n",
    "                        except:\n",
    "                            selected_item=sorted(items.properties('eo:cloud_cover'))[0]\n",
    "            \n",
    "                        items.filter('eo:cloud_cover', [selected_item])\n",
    "                        tile_result_list.append(items[0])\n",
    "                        \n",
    "                    else:\n",
    "                        selected_item=sorted(items.properties('eo:cloud_cover'))[0]\n",
    "                        #select best image\n",
    "                        items.filter('eo:cloud_cover', [selected_item])\n",
    "                        #get newest image\n",
    "                        tile_result_list.append(items[0])\n",
    "                              \n",
    "                except:\n",
    "                    coverage=sorted(items.properties('sentinel:data_coverage'))[-2:]\n",
    "                    items.filter('sentinel:data_coverage',coverage)\n",
    "                    selected_item=sorted(items.properties('eo:cloud_cover'))[0]\n",
    "                    #select best image\n",
    "                    items.filter('eo:cloud_cover', [selected_item])\n",
    "                    #get newest image\n",
    "                    tile_result_list.append(items[0])\n",
    "            \n",
    "            return tile_result_list"
   ]
  },
  {
   "cell_type": "code",
   "execution_count": 40,
   "metadata": {
    "collapsed": true,
    "jupyter": {
     "outputs_hidden": true
    }
   },
   "outputs": [
    {
     "name": "stderr",
     "output_type": "stream",
     "text": [
      "Task was destroyed but it is pending!\n",
      "task: <Task pending coro=<HTTP1ServerConnection._server_request_loop() running at C:\\Users\\akif\\.conda\\envs\\geo\\lib\\site-packages\\tornado\\http1connection.py:823> wait_for=<Future pending cb=[<TaskWakeupMethWrapper object at 0x000002103EB6C438>()]> cb=[IOLoop.add_future.<locals>.<lambda>() at C:\\Users\\akif\\.conda\\envs\\geo\\lib\\site-packages\\tornado\\ioloop.py:688]>\n",
      "Task was destroyed but it is pending!\n",
      "task: <Task pending coro=<HTTP1ServerConnection._server_request_loop() running at C:\\Users\\akif\\.conda\\envs\\geo\\lib\\site-packages\\tornado\\http1connection.py:823> wait_for=<Future pending cb=[<TaskWakeupMethWrapper object at 0x000002103E4AA3D8>()]> cb=[IOLoop.add_future.<locals>.<lambda>() at C:\\Users\\akif\\.conda\\envs\\geo\\lib\\site-packages\\tornado\\ioloop.py:688]>\n",
      "Task was destroyed but it is pending!\n",
      "task: <Task pending coro=<HTTP1ServerConnection._server_request_loop() running at C:\\Users\\akif\\.conda\\envs\\geo\\lib\\site-packages\\tornado\\http1connection.py:823> wait_for=<Future pending cb=[<TaskWakeupMethWrapper object at 0x000002103EB6C5B8>()]> cb=[IOLoop.add_future.<locals>.<lambda>() at C:\\Users\\akif\\.conda\\envs\\geo\\lib\\site-packages\\tornado\\ioloop.py:688]>\n",
      "Task was destroyed but it is pending!\n",
      "task: <Task pending coro=<RequestHandler._execute() running at C:\\Users\\akif\\.conda\\envs\\geo\\lib\\site-packages\\tornado\\web.py:1704> wait_for=<Future pending cb=[<TaskWakeupMethWrapper object at 0x000002103E440AC8>()]> cb=[_HandlerDelegate.execute.<locals>.<lambda>() at C:\\Users\\akif\\.conda\\envs\\geo\\lib\\site-packages\\tornado\\web.py:2326]>\n",
      "Task was destroyed but it is pending!\n",
      "task: <Task pending coro=<HTTP1ServerConnection._server_request_loop() running at C:\\Users\\akif\\.conda\\envs\\geo\\lib\\site-packages\\tornado\\http1connection.py:823> wait_for=<Future pending cb=[<TaskWakeupMethWrapper object at 0x000002103D77B798>()]> cb=[IOLoop.add_future.<locals>.<lambda>() at C:\\Users\\akif\\.conda\\envs\\geo\\lib\\site-packages\\tornado\\ioloop.py:688]>\n",
      "Task was destroyed but it is pending!\n",
      "task: <Task pending coro=<RequestHandler._execute() running at C:\\Users\\akif\\.conda\\envs\\geo\\lib\\site-packages\\tornado\\web.py:1704> wait_for=<Future pending cb=[<TaskWakeupMethWrapper object at 0x000002103C6E4A98>()]> cb=[_HandlerDelegate.execute.<locals>.<lambda>() at C:\\Users\\akif\\.conda\\envs\\geo\\lib\\site-packages\\tornado\\web.py:2326]>\n"
     ]
    },
    {
     "name": "stdout",
     "output_type": "stream",
     "text": [
      "Wall time: 31.5 s\n"
     ]
    }
   ],
   "source": [
    "%%time\n",
    "stac_result=find_stac_result(bbox,dates,cloud_percentage)\n",
    "items_list=find_sentinel_item(stac_result=stac_result)\n",
    "#Wall time: 37.3 s"
   ]
  },
  {
   "cell_type": "code",
   "execution_count": 61,
   "metadata": {},
   "outputs": [
    {
     "data": {
      "text/html": [
       "<div style=\"width:100%;\"><div style=\"position:relative;width:100%;height:0;padding-bottom:60%;\"><span style=\"color:#565656\">Make this Notebook Trusted to load map: File -> Trust Notebook</span><iframe src=\"about:blank\" style=\"position:absolute;width:100%;height:100%;left:0;top:0;border:none !important;\" data-html=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 onload=\"this.contentDocument.open();this.contentDocument.write(atob(this.getAttribute('data-html')));this.contentDocument.close();\" allowfullscreen webkitallowfullscreen mozallowfullscreen></iframe></div></div>"
      ],
      "text/plain": [
       "<folium.folium.Map at 0x1da727e9a08>"
      ]
     },
     "execution_count": 61,
     "metadata": {},
     "output_type": "execute_result"
    }
   ],
   "source": [
    "sc.show_result_map(items_list=items_list,overview=True,target_area=target_area)"
   ]
  },
  {
   "cell_type": "code",
   "execution_count": 62,
   "metadata": {},
   "outputs": [
    {
     "data": {
      "text/plain": [
       "[{'tile_name': '37SDA',\n",
       "  'tile_images': {'image_name': 'S2A_MSIL2A_20180712T080611_N0208_R078_T37SDA_20180712T105148',\n",
       "   'bands': {'B01': 'https://sentinel-cogs.s3.us-west-2.amazonaws.com/sentinel-s2-l2a-cogs/37/S/DA/2018/7/S2A_37SDA_20180712_0_L2A/B01.tif',\n",
       "    'B02': 'https://sentinel-cogs.s3.us-west-2.amazonaws.com/sentinel-s2-l2a-cogs/37/S/DA/2018/7/S2A_37SDA_20180712_0_L2A/B02.tif',\n",
       "    'B03': 'https://sentinel-cogs.s3.us-west-2.amazonaws.com/sentinel-s2-l2a-cogs/37/S/DA/2018/7/S2A_37SDA_20180712_0_L2A/B03.tif',\n",
       "    'B04': 'https://sentinel-cogs.s3.us-west-2.amazonaws.com/sentinel-s2-l2a-cogs/37/S/DA/2018/7/S2A_37SDA_20180712_0_L2A/B04.tif',\n",
       "    'B05': 'https://sentinel-cogs.s3.us-west-2.amazonaws.com/sentinel-s2-l2a-cogs/37/S/DA/2018/7/S2A_37SDA_20180712_0_L2A/B05.tif',\n",
       "    'B06': 'https://sentinel-cogs.s3.us-west-2.amazonaws.com/sentinel-s2-l2a-cogs/37/S/DA/2018/7/S2A_37SDA_20180712_0_L2A/B06.tif',\n",
       "    'B07': 'https://sentinel-cogs.s3.us-west-2.amazonaws.com/sentinel-s2-l2a-cogs/37/S/DA/2018/7/S2A_37SDA_20180712_0_L2A/B07.tif',\n",
       "    'B08': 'https://sentinel-cogs.s3.us-west-2.amazonaws.com/sentinel-s2-l2a-cogs/37/S/DA/2018/7/S2A_37SDA_20180712_0_L2A/B08.tif',\n",
       "    'B8A': 'https://sentinel-cogs.s3.us-west-2.amazonaws.com/sentinel-s2-l2a-cogs/37/S/DA/2018/7/S2A_37SDA_20180712_0_L2A/B8A.tif',\n",
       "    'B09': 'https://sentinel-cogs.s3.us-west-2.amazonaws.com/sentinel-s2-l2a-cogs/37/S/DA/2018/7/S2A_37SDA_20180712_0_L2A/B09.tif',\n",
       "    'B11': 'https://sentinel-cogs.s3.us-west-2.amazonaws.com/sentinel-s2-l2a-cogs/37/S/DA/2018/7/S2A_37SDA_20180712_0_L2A/B11.tif',\n",
       "    'B12': 'https://sentinel-cogs.s3.us-west-2.amazonaws.com/sentinel-s2-l2a-cogs/37/S/DA/2018/7/S2A_37SDA_20180712_0_L2A/B12.tif',\n",
       "    'AOT': 'https://sentinel-cogs.s3.us-west-2.amazonaws.com/sentinel-s2-l2a-cogs/37/S/DA/2018/7/S2A_37SDA_20180712_0_L2A/AOT.tif',\n",
       "    'WVP': 'https://sentinel-cogs.s3.us-west-2.amazonaws.com/sentinel-s2-l2a-cogs/37/S/DA/2018/7/S2A_37SDA_20180712_0_L2A/WVP.tif',\n",
       "    'SCL': 'https://sentinel-cogs.s3.us-west-2.amazonaws.com/sentinel-s2-l2a-cogs/37/S/DA/2018/7/S2A_37SDA_20180712_0_L2A/SCL.tif',\n",
       "    'info': 'https://roda.sentinel-hub.com/sentinel-s2-l2a/tiles/37/S/DA/2018/7/12/0/tileInfo.json',\n",
       "    'metadata': 'https://roda.sentinel-hub.com/sentinel-s2-l2a/tiles/37/S/DA/2018/7/12/0/metadata.xml',\n",
       "    'visual': 'https://sentinel-cogs.s3.us-west-2.amazonaws.com/sentinel-s2-l2a-cogs/37/S/DA/2018/7/S2A_37SDA_20180712_0_L2A/TCI.tif',\n",
       "    'overview': 'https://sentinel-cogs.s3.us-west-2.amazonaws.com/sentinel-s2-l2a-cogs/37/S/DA/2018/7/S2A_37SDA_20180712_0_L2A/L2A_PVI.tif',\n",
       "    'thumbnail': 'https://roda.sentinel-hub.com/sentinel-s2-l1c/tiles/37/S/DA/2018/7/12/0/preview.jpg'}}}]"
      ]
     },
     "execution_count": 62,
     "metadata": {},
     "output_type": "execute_result"
    }
   ],
   "source": [
    "sc.show_items_list(items_list[0:1])"
   ]
  },
  {
   "cell_type": "code",
   "execution_count": 63,
   "metadata": {},
   "outputs": [],
   "source": [
    "df=sc.show_result_df(result=stac_result)"
   ]
  },
  {
   "cell_type": "code",
   "execution_count": 64,
   "metadata": {},
   "outputs": [
    {
     "data": {
      "text/html": [
       "<div>\n",
       "<style scoped>\n",
       "    .dataframe tbody tr th:only-of-type {\n",
       "        vertical-align: middle;\n",
       "    }\n",
       "\n",
       "    .dataframe tbody tr th {\n",
       "        vertical-align: top;\n",
       "    }\n",
       "\n",
       "    .dataframe thead th {\n",
       "        text-align: right;\n",
       "    }\n",
       "</style>\n",
       "<table border=\"1\" class=\"dataframe\">\n",
       "  <thead>\n",
       "    <tr style=\"text-align: right;\">\n",
       "      <th></th>\n",
       "      <th>id</th>\n",
       "      <th>datetime</th>\n",
       "      <th>platform</th>\n",
       "      <th>constellation</th>\n",
       "      <th>gsd</th>\n",
       "      <th>data_coverage</th>\n",
       "      <th>view:off_nadir</th>\n",
       "      <th>eo:cloud_cover</th>\n",
       "      <th>proj:epsg</th>\n",
       "      <th>sentinel:latitude_band</th>\n",
       "      <th>sentinel:grid_square</th>\n",
       "      <th>sentinel:sequence</th>\n",
       "      <th>sentinel:product_id</th>\n",
       "      <th>created</th>\n",
       "      <th>updated</th>\n",
       "      <th>sentinel:valid_cloud_cover</th>\n",
       "      <th>sentinel:utm_zone</th>\n",
       "      <th>sentinel:data_coverage</th>\n",
       "      <th>geometry</th>\n",
       "    </tr>\n",
       "  </thead>\n",
       "  <tbody>\n",
       "    <tr>\n",
       "      <th>0</th>\n",
       "      <td>S2A_37SDA_20180712_0_L2A</td>\n",
       "      <td>2018-07-12 08:15:37+00:00</td>\n",
       "      <td>sentinel-2a</td>\n",
       "      <td>sentinel-2</td>\n",
       "      <td>10</td>\n",
       "      <td>100.0</td>\n",
       "      <td>0</td>\n",
       "      <td>0.02</td>\n",
       "      <td>32637</td>\n",
       "      <td>S</td>\n",
       "      <td>DA</td>\n",
       "      <td>0</td>\n",
       "      <td>S2A_MSIL2A_20180712T080611_N0208_R078_T37SDA_2...</td>\n",
       "      <td>2020-09-06T11:24:04.973000+00:00</td>\n",
       "      <td>2020-09-06T11:24:04.973000+00:00</td>\n",
       "      <td>True</td>\n",
       "      <td>37</td>\n",
       "      <td>100.0</td>\n",
       "      <td>POLYGON ((37.88933 36.05159, 37.87508 37.04124...</td>\n",
       "    </tr>\n",
       "    <tr>\n",
       "      <th>1</th>\n",
       "      <td>S2A_37SEC_20180712_0_L2A</td>\n",
       "      <td>2018-07-12 08:15:37+00:00</td>\n",
       "      <td>sentinel-2a</td>\n",
       "      <td>sentinel-2</td>\n",
       "      <td>10</td>\n",
       "      <td>NaN</td>\n",
       "      <td>0</td>\n",
       "      <td>4.11</td>\n",
       "      <td>32637</td>\n",
       "      <td>S</td>\n",
       "      <td>EC</td>\n",
       "      <td>0</td>\n",
       "      <td>S2A_MSIL2A_20180712T080611_N0208_R078_T37SEC_2...</td>\n",
       "      <td>2020-08-31T01:16:46.973000+00:00</td>\n",
       "      <td>2020-08-31T01:16:46.973000+00:00</td>\n",
       "      <td>True</td>\n",
       "      <td>37</td>\n",
       "      <td>100.0</td>\n",
       "      <td>POLYGON ((40.24785 37.85284, 38.99978 37.85945...</td>\n",
       "    </tr>\n",
       "    <tr>\n",
       "      <th>2</th>\n",
       "      <td>S2A_37SDB_20180712_0_L2A</td>\n",
       "      <td>2018-07-12 08:15:37+00:00</td>\n",
       "      <td>sentinel-2a</td>\n",
       "      <td>sentinel-2</td>\n",
       "      <td>10</td>\n",
       "      <td>100.0</td>\n",
       "      <td>0</td>\n",
       "      <td>0.00</td>\n",
       "      <td>32637</td>\n",
       "      <td>S</td>\n",
       "      <td>DB</td>\n",
       "      <td>0</td>\n",
       "      <td>S2A_MSIL2A_20180712T080611_N0208_R078_T37SDB_2...</td>\n",
       "      <td>2020-09-26T15:35:33.570000+00:00</td>\n",
       "      <td>2020-09-26T15:35:33.570000+00:00</td>\n",
       "      <td>True</td>\n",
       "      <td>37</td>\n",
       "      <td>100.0</td>\n",
       "      <td>POLYGON ((37.87638 36.95257, 37.86148 37.94207...</td>\n",
       "    </tr>\n",
       "    <tr>\n",
       "      <th>3</th>\n",
       "      <td>S2A_37SEA_20180712_0_L2A</td>\n",
       "      <td>2018-07-12 08:15:37+00:00</td>\n",
       "      <td>sentinel-2a</td>\n",
       "      <td>sentinel-2</td>\n",
       "      <td>10</td>\n",
       "      <td>NaN</td>\n",
       "      <td>0</td>\n",
       "      <td>0.00</td>\n",
       "      <td>32637</td>\n",
       "      <td>S</td>\n",
       "      <td>EA</td>\n",
       "      <td>0</td>\n",
       "      <td>S2A_MSIL2A_20180712T080611_N0208_R078_T37SEA_2...</td>\n",
       "      <td>2020-08-31T01:12:31.679001+00:00</td>\n",
       "      <td>2020-08-31T01:12:31.679001+00:00</td>\n",
       "      <td>True</td>\n",
       "      <td>37</td>\n",
       "      <td>100.0</td>\n",
       "      <td>POLYGON ((40.21879 36.05054, 38.99979 36.05673...</td>\n",
       "    </tr>\n",
       "    <tr>\n",
       "      <th>4</th>\n",
       "      <td>S2A_37SEB_20180712_0_L2A</td>\n",
       "      <td>2018-07-12 08:15:37+00:00</td>\n",
       "      <td>sentinel-2a</td>\n",
       "      <td>sentinel-2</td>\n",
       "      <td>10</td>\n",
       "      <td>NaN</td>\n",
       "      <td>0</td>\n",
       "      <td>0.15</td>\n",
       "      <td>32637</td>\n",
       "      <td>S</td>\n",
       "      <td>EB</td>\n",
       "      <td>0</td>\n",
       "      <td>S2A_MSIL2A_20180712T080611_N0208_R078_T37SEB_2...</td>\n",
       "      <td>2020-08-31T04:00:21.618000+00:00</td>\n",
       "      <td>2020-08-31T04:00:21.618000+00:00</td>\n",
       "      <td>True</td>\n",
       "      <td>37</td>\n",
       "      <td>100.0</td>\n",
       "      <td>POLYGON ((40.23299 36.95149, 38.99979 36.95789...</td>\n",
       "    </tr>\n",
       "  </tbody>\n",
       "</table>\n",
       "</div>"
      ],
      "text/plain": [
       "                         id                  datetime     platform  \\\n",
       "0  S2A_37SDA_20180712_0_L2A 2018-07-12 08:15:37+00:00  sentinel-2a   \n",
       "1  S2A_37SEC_20180712_0_L2A 2018-07-12 08:15:37+00:00  sentinel-2a   \n",
       "2  S2A_37SDB_20180712_0_L2A 2018-07-12 08:15:37+00:00  sentinel-2a   \n",
       "3  S2A_37SEA_20180712_0_L2A 2018-07-12 08:15:37+00:00  sentinel-2a   \n",
       "4  S2A_37SEB_20180712_0_L2A 2018-07-12 08:15:37+00:00  sentinel-2a   \n",
       "\n",
       "  constellation  gsd  data_coverage  view:off_nadir  eo:cloud_cover  \\\n",
       "0    sentinel-2   10          100.0               0            0.02   \n",
       "1    sentinel-2   10            NaN               0            4.11   \n",
       "2    sentinel-2   10          100.0               0            0.00   \n",
       "3    sentinel-2   10            NaN               0            0.00   \n",
       "4    sentinel-2   10            NaN               0            0.15   \n",
       "\n",
       "   proj:epsg sentinel:latitude_band sentinel:grid_square sentinel:sequence  \\\n",
       "0      32637                      S                   DA                 0   \n",
       "1      32637                      S                   EC                 0   \n",
       "2      32637                      S                   DB                 0   \n",
       "3      32637                      S                   EA                 0   \n",
       "4      32637                      S                   EB                 0   \n",
       "\n",
       "                                 sentinel:product_id  \\\n",
       "0  S2A_MSIL2A_20180712T080611_N0208_R078_T37SDA_2...   \n",
       "1  S2A_MSIL2A_20180712T080611_N0208_R078_T37SEC_2...   \n",
       "2  S2A_MSIL2A_20180712T080611_N0208_R078_T37SDB_2...   \n",
       "3  S2A_MSIL2A_20180712T080611_N0208_R078_T37SEA_2...   \n",
       "4  S2A_MSIL2A_20180712T080611_N0208_R078_T37SEB_2...   \n",
       "\n",
       "                            created                           updated  \\\n",
       "0  2020-09-06T11:24:04.973000+00:00  2020-09-06T11:24:04.973000+00:00   \n",
       "1  2020-08-31T01:16:46.973000+00:00  2020-08-31T01:16:46.973000+00:00   \n",
       "2  2020-09-26T15:35:33.570000+00:00  2020-09-26T15:35:33.570000+00:00   \n",
       "3  2020-08-31T01:12:31.679001+00:00  2020-08-31T01:12:31.679001+00:00   \n",
       "4  2020-08-31T04:00:21.618000+00:00  2020-08-31T04:00:21.618000+00:00   \n",
       "\n",
       "   sentinel:valid_cloud_cover  sentinel:utm_zone  sentinel:data_coverage  \\\n",
       "0                        True                 37                   100.0   \n",
       "1                        True                 37                   100.0   \n",
       "2                        True                 37                   100.0   \n",
       "3                        True                 37                   100.0   \n",
       "4                        True                 37                   100.0   \n",
       "\n",
       "                                            geometry  \n",
       "0  POLYGON ((37.88933 36.05159, 37.87508 37.04124...  \n",
       "1  POLYGON ((40.24785 37.85284, 38.99978 37.85945...  \n",
       "2  POLYGON ((37.87638 36.95257, 37.86148 37.94207...  \n",
       "3  POLYGON ((40.21879 36.05054, 38.99979 36.05673...  \n",
       "4  POLYGON ((40.23299 36.95149, 38.99979 36.95789...  "
      ]
     },
     "execution_count": 64,
     "metadata": {},
     "output_type": "execute_result"
    }
   ],
   "source": [
    "df.head()"
   ]
  },
  {
   "cell_type": "code",
   "execution_count": 24,
   "metadata": {},
   "outputs": [
    {
     "data": {
      "text/html": [
       "<div>\n",
       "<style scoped>\n",
       "    .dataframe tbody tr th:only-of-type {\n",
       "        vertical-align: middle;\n",
       "    }\n",
       "\n",
       "    .dataframe tbody tr th {\n",
       "        vertical-align: top;\n",
       "    }\n",
       "\n",
       "    .dataframe thead th {\n",
       "        text-align: right;\n",
       "    }\n",
       "</style>\n",
       "<table border=\"1\" class=\"dataframe\">\n",
       "  <thead>\n",
       "    <tr style=\"text-align: right;\">\n",
       "      <th></th>\n",
       "      <th>id</th>\n",
       "      <th>datetime</th>\n",
       "      <th>platform</th>\n",
       "      <th>constellation</th>\n",
       "      <th>gsd</th>\n",
       "      <th>data_coverage</th>\n",
       "      <th>view:off_nadir</th>\n",
       "      <th>eo:cloud_cover</th>\n",
       "      <th>proj:epsg</th>\n",
       "      <th>sentinel:latitude_band</th>\n",
       "      <th>sentinel:grid_square</th>\n",
       "      <th>sentinel:sequence</th>\n",
       "      <th>sentinel:product_id</th>\n",
       "      <th>created</th>\n",
       "      <th>updated</th>\n",
       "      <th>sentinel:valid_cloud_cover</th>\n",
       "      <th>sentinel:utm_zone</th>\n",
       "      <th>sentinel:data_coverage</th>\n",
       "      <th>geometry</th>\n",
       "    </tr>\n",
       "  </thead>\n",
       "  <tbody>\n",
       "    <tr>\n",
       "      <th>4</th>\n",
       "      <td>S2A_37SDC_20200711_0_L2A</td>\n",
       "      <td>2020-07-11 08:19:31+00:00</td>\n",
       "      <td>sentinel-2a</td>\n",
       "      <td>sentinel-2</td>\n",
       "      <td>10</td>\n",
       "      <td>NaN</td>\n",
       "      <td>0</td>\n",
       "      <td>0.44</td>\n",
       "      <td>32637</td>\n",
       "      <td>S</td>\n",
       "      <td>DC</td>\n",
       "      <td>0</td>\n",
       "      <td>S2A_MSIL2A_20200711T080611_N0214_R078_T37SDC_2...</td>\n",
       "      <td>2020-08-18T11:31:52.827999+00:00</td>\n",
       "      <td>2020-08-18T11:31:52.827999+00:00</td>\n",
       "      <td>True</td>\n",
       "      <td>37</td>\n",
       "      <td>99.63</td>\n",
       "      <td>POLYGON ((37.86284 37.85396, 37.85001 38.67226...</td>\n",
       "    </tr>\n",
       "    <tr>\n",
       "      <th>7</th>\n",
       "      <td>S2B_37SDC_20200709_0_L2A</td>\n",
       "      <td>2020-07-09 08:29:24+00:00</td>\n",
       "      <td>sentinel-2b</td>\n",
       "      <td>sentinel-2</td>\n",
       "      <td>10</td>\n",
       "      <td>NaN</td>\n",
       "      <td>0</td>\n",
       "      <td>0.00</td>\n",
       "      <td>32637</td>\n",
       "      <td>S</td>\n",
       "      <td>DC</td>\n",
       "      <td>0</td>\n",
       "      <td>S2B_MSIL2A_20200709T081609_N0214_R121_T37SDC_2...</td>\n",
       "      <td>2020-08-18T12:42:44.929001+00:00</td>\n",
       "      <td>2020-08-18T12:42:44.929001+00:00</td>\n",
       "      <td>True</td>\n",
       "      <td>37</td>\n",
       "      <td>67.75</td>\n",
       "      <td>POLYGON ((37.86284 37.85396, 37.84726 38.84330...</td>\n",
       "    </tr>\n",
       "    <tr>\n",
       "      <th>14</th>\n",
       "      <td>S2B_37SDC_20200706_0_L2A</td>\n",
       "      <td>2020-07-06 08:19:29+00:00</td>\n",
       "      <td>sentinel-2b</td>\n",
       "      <td>sentinel-2</td>\n",
       "      <td>10</td>\n",
       "      <td>NaN</td>\n",
       "      <td>0</td>\n",
       "      <td>6.60</td>\n",
       "      <td>32637</td>\n",
       "      <td>S</td>\n",
       "      <td>DC</td>\n",
       "      <td>0</td>\n",
       "      <td>S2B_MSIL2A_20200706T080609_N0214_R078_T37SDC_2...</td>\n",
       "      <td>2020-08-18T11:37:05.921000+00:00</td>\n",
       "      <td>2020-08-18T11:37:05.921000+00:00</td>\n",
       "      <td>True</td>\n",
       "      <td>37</td>\n",
       "      <td>99.56</td>\n",
       "      <td>POLYGON ((37.86284 37.85396, 37.85028 38.65560...</td>\n",
       "    </tr>\n",
       "    <tr>\n",
       "      <th>22</th>\n",
       "      <td>S2A_37SDC_20200701_0_L2A</td>\n",
       "      <td>2020-07-01 08:19:32+00:00</td>\n",
       "      <td>sentinel-2a</td>\n",
       "      <td>sentinel-2</td>\n",
       "      <td>10</td>\n",
       "      <td>NaN</td>\n",
       "      <td>0</td>\n",
       "      <td>5.48</td>\n",
       "      <td>32637</td>\n",
       "      <td>S</td>\n",
       "      <td>DC</td>\n",
       "      <td>0</td>\n",
       "      <td>S2A_MSIL2A_20200701T080611_N0214_R078_T37SDC_2...</td>\n",
       "      <td>2020-08-18T11:29:55.672001+00:00</td>\n",
       "      <td>2020-08-18T11:29:55.672001+00:00</td>\n",
       "      <td>True</td>\n",
       "      <td>37</td>\n",
       "      <td>99.69</td>\n",
       "      <td>POLYGON ((37.86284 37.85396, 37.84983 38.68373...</td>\n",
       "    </tr>\n",
       "  </tbody>\n",
       "</table>\n",
       "</div>"
      ],
      "text/plain": [
       "                          id                  datetime     platform  \\\n",
       "4   S2A_37SDC_20200711_0_L2A 2020-07-11 08:19:31+00:00  sentinel-2a   \n",
       "7   S2B_37SDC_20200709_0_L2A 2020-07-09 08:29:24+00:00  sentinel-2b   \n",
       "14  S2B_37SDC_20200706_0_L2A 2020-07-06 08:19:29+00:00  sentinel-2b   \n",
       "22  S2A_37SDC_20200701_0_L2A 2020-07-01 08:19:32+00:00  sentinel-2a   \n",
       "\n",
       "   constellation  gsd  data_coverage  view:off_nadir  eo:cloud_cover  \\\n",
       "4     sentinel-2   10            NaN               0            0.44   \n",
       "7     sentinel-2   10            NaN               0            0.00   \n",
       "14    sentinel-2   10            NaN               0            6.60   \n",
       "22    sentinel-2   10            NaN               0            5.48   \n",
       "\n",
       "    proj:epsg sentinel:latitude_band sentinel:grid_square sentinel:sequence  \\\n",
       "4       32637                      S                   DC                 0   \n",
       "7       32637                      S                   DC                 0   \n",
       "14      32637                      S                   DC                 0   \n",
       "22      32637                      S                   DC                 0   \n",
       "\n",
       "                                  sentinel:product_id  \\\n",
       "4   S2A_MSIL2A_20200711T080611_N0214_R078_T37SDC_2...   \n",
       "7   S2B_MSIL2A_20200709T081609_N0214_R121_T37SDC_2...   \n",
       "14  S2B_MSIL2A_20200706T080609_N0214_R078_T37SDC_2...   \n",
       "22  S2A_MSIL2A_20200701T080611_N0214_R078_T37SDC_2...   \n",
       "\n",
       "                             created                           updated  \\\n",
       "4   2020-08-18T11:31:52.827999+00:00  2020-08-18T11:31:52.827999+00:00   \n",
       "7   2020-08-18T12:42:44.929001+00:00  2020-08-18T12:42:44.929001+00:00   \n",
       "14  2020-08-18T11:37:05.921000+00:00  2020-08-18T11:37:05.921000+00:00   \n",
       "22  2020-08-18T11:29:55.672001+00:00  2020-08-18T11:29:55.672001+00:00   \n",
       "\n",
       "    sentinel:valid_cloud_cover  sentinel:utm_zone  sentinel:data_coverage  \\\n",
       "4                         True                 37                   99.63   \n",
       "7                         True                 37                   67.75   \n",
       "14                        True                 37                   99.56   \n",
       "22                        True                 37                   99.69   \n",
       "\n",
       "                                             geometry  \n",
       "4   POLYGON ((37.86284 37.85396, 37.85001 38.67226...  \n",
       "7   POLYGON ((37.86284 37.85396, 37.84726 38.84330...  \n",
       "14  POLYGON ((37.86284 37.85396, 37.85028 38.65560...  \n",
       "22  POLYGON ((37.86284 37.85396, 37.84983 38.68373...  "
      ]
     },
     "execution_count": 24,
     "metadata": {},
     "output_type": "execute_result"
    }
   ],
   "source": [
    "df[df['sentinel:grid_square']=='DC']"
   ]
  },
  {
   "cell_type": "code",
   "execution_count": 43,
   "metadata": {},
   "outputs": [
    {
     "data": {
      "text/plain": [
       "'S2B_MSIL2A_20180707T080609_N0208_R078_T37SDB_20180707T111717'"
      ]
     },
     "execution_count": 43,
     "metadata": {},
     "output_type": "execute_result"
    }
   ],
   "source": [
    "df[df['sentinel:grid_square']=='DB'].iloc[1]['sentinel:product_id']"
   ]
  },
  {
   "cell_type": "code",
   "execution_count": 44,
   "metadata": {},
   "outputs": [
    {
     "data": {
      "text/plain": [
       "[S2A_37SDA_20180712_0_L2A,\n",
       " S2A_37SDB_20180712_0_L2A,\n",
       " S2B_37SDC_20180707_0_L2A,\n",
       " S2A_37SEA_20180712_0_L2A,\n",
       " S2A_37SEB_20180702_0_L2A,\n",
       " S2B_37SEC_20180707_0_L2A]"
      ]
     },
     "execution_count": 44,
     "metadata": {},
     "output_type": "execute_result"
    }
   ],
   "source": [
    "items_list"
   ]
  },
  {
   "cell_type": "code",
   "execution_count": 26,
   "metadata": {},
   "outputs": [
    {
     "data": {
      "text/plain": [
       "'./sentinel_cog'"
      ]
     },
     "execution_count": 26,
     "metadata": {},
     "output_type": "execute_result"
    }
   ],
   "source": [
    "sc.download_image(item_list=items_list,band_list=['thumbnail'])"
   ]
  },
  {
   "cell_type": "code",
   "execution_count": 77,
   "metadata": {},
   "outputs": [
    {
     "name": "stdout",
     "output_type": "stream",
     "text": [
      "Wall time: 17.4 s\n"
     ]
    }
   ],
   "source": [
    "%%time\n",
    "subset=sc.download_subset_image(download_status=False,item_list=items_list,aoi=data,target_epsg='',\n",
    "                        band_list=['B02','B08'],download_path='./sentinel_cog',name_suffix='',auto_folder=True)"
   ]
  },
  {
   "cell_type": "code",
   "execution_count": 79,
   "metadata": {},
   "outputs": [
    {
     "data": {
      "text/plain": [
       "{'image_name': 'S2A_MSIL2A_20180712T080611_N0208_R078_T37SDA_20180712T105148',\n",
       " 'B02': <xarray.DataArray (band: 1, y: 1575, x: 5000)>\n",
       " dask.array<getitem, shape=(1, 1575, 5000), dtype=float64, chunksize=(1, 512, 5000), chunktype=numpy.ndarray>\n",
       " Coordinates:\n",
       "   * y            (y) float64 4.1e+06 4.1e+06 4.1e+06 ... 4.084e+06 4.084e+06\n",
       "   * x            (x) float64 4.598e+05 4.598e+05 ... 5.097e+05 5.098e+05\n",
       "   * band         (band) int32 1\n",
       "     spatial_ref  int32 0\n",
       " Attributes:\n",
       "     scale_factor:  1.0\n",
       "     add_offset:    0.0\n",
       "     grid_mapping:  spatial_ref,\n",
       " 'B08': <xarray.DataArray (band: 1, y: 1575, x: 5000)>\n",
       " dask.array<getitem, shape=(1, 1575, 5000), dtype=float64, chunksize=(1, 512, 5000), chunktype=numpy.ndarray>\n",
       " Coordinates:\n",
       "   * y            (y) float64 4.1e+06 4.1e+06 4.1e+06 ... 4.084e+06 4.084e+06\n",
       "   * x            (x) float64 4.598e+05 4.598e+05 ... 5.097e+05 5.098e+05\n",
       "   * band         (band) int32 1\n",
       "     spatial_ref  int32 0\n",
       " Attributes:\n",
       "     scale_factor:  1.0\n",
       "     add_offset:    0.0\n",
       "     grid_mapping:  spatial_ref}"
      ]
     },
     "execution_count": 79,
     "metadata": {},
     "output_type": "execute_result"
    }
   ],
   "source": [
    "img1=subset[0]\n",
    "img1"
   ]
  },
  {
   "cell_type": "code",
   "execution_count": 2,
   "metadata": {},
   "outputs": [],
   "source": [
    "from dask.distributed import Client, LocalCluster\n",
    "import multiprocessing as mp\n",
    "import xarray as xr\n",
    "import matplotlib.pyplot as plt\n",
    "import rioxarray\n",
    "band_list=['B01', 'B02', 'B03', 'B04', 'B05', 'B06', 'B07', 'B08', 'B8A',\n",
    "           'B09', 'B11', 'B12', 'AOT', 'WVP', 'SCL', 'info', 'metadata',\n",
    "           'visual', 'overview', 'thumbnail']\n",
    "\n",
    "def download_subset_image(download_status=False,stac_result=None,item_id_list=[],\n",
    "                        item_list=[],aoi=None,target_epsg='',\n",
    "                        band_list=band_list[:-5],\n",
    "                        download_path='./sentinel_cog',name_suffix='',auto_folder=True):\n",
    "    result_list=[]\n",
    "    if item_list:\n",
    "        with LocalCluster(n_workers=int(0.5 * mp.cpu_count()),\n",
    "                          processes=False,\n",
    "                          threads_per_worker=1,\n",
    "                          memory_limit='2GB',\n",
    "                          #ip='tcp://localhost:9895',\n",
    "                          ) as cluster, Client(cluster) as client:\n",
    "            for item in item_list:\n",
    "                bands_dict={}\n",
    "                for band in band_list:\n",
    "                    img_name=item.properties['sentinel:product_id']\n",
    "                    bands_dict['image_name']=img_name\n",
    "                    band_url=item.assets[band]['href']\n",
    "                    rds = rioxarray.open_rasterio(band_url, masked=True, chunks=(512,512))\n",
    "                    #aoi data from http://geojson.io \n",
    "                    # get aoi as geopandas df\n",
    "                    datajson=json.dumps(aoi)\n",
    "                    target_area=gpd.read_file(datajson)\n",
    "                    #https://geopandas.org/projections.html\n",
    "                    target_area=target_area.to_crs(rds.rio.crs.to_string())\n",
    "                    clipped =rds.rio.clip(target_area.geometry)\n",
    "                     \n",
    "                    if target_epsg:\n",
    "                        # target_epsg='epsg:4326'\n",
    "                        clipped = clipped.rio.reproject(target_epsg)\n",
    "    \n",
    "                    if download_status:\n",
    "                        img_path=download_path+'/'+img_name\n",
    "                        if not os.path.isdir(img_path):\n",
    "                            os.mkdir(img_path)\n",
    "                        img_name=band+'.tif'\n",
    "                        clipped.rio.to_raster(img_path+'/'+img_name)\n",
    "                       \n",
    "                    bands_dict[band]=clipped.copy()\n",
    "                    rds=None\n",
    "                result_list.append(bands_dict)\n",
    "                \n",
    "        return result_list"
   ]
  },
  {
   "cell_type": "code",
   "execution_count": 3,
   "metadata": {},
   "outputs": [
    {
     "ename": "NameError",
     "evalue": "name 'items_list' is not defined",
     "output_type": "error",
     "traceback": [
      "\u001b[1;31m---------------------------------------------------------------------------\u001b[0m",
      "\u001b[1;31mNameError\u001b[0m                                 Traceback (most recent call last)",
      "\u001b[1;32m<ipython-input-3-56841317618b>\u001b[0m in \u001b[0;36m<module>\u001b[1;34m()\u001b[0m\n\u001b[1;32m----> 1\u001b[1;33m \u001b[0mget_ipython\u001b[0m\u001b[1;33m(\u001b[0m\u001b[1;33m)\u001b[0m\u001b[1;33m.\u001b[0m\u001b[0mrun_cell_magic\u001b[0m\u001b[1;33m(\u001b[0m\u001b[1;34m'time'\u001b[0m\u001b[1;33m,\u001b[0m \u001b[1;34m''\u001b[0m\u001b[1;33m,\u001b[0m \u001b[1;34m\"subset_dask=download_subset_image(download_status=False,item_list=items_list,aoi=data,target_epsg='',\\n                        band_list=['B02','B08'],download_path='./sentinel_cog',name_suffix='',auto_folder=True)\"\u001b[0m\u001b[1;33m)\u001b[0m\u001b[1;33m\u001b[0m\u001b[1;33m\u001b[0m\u001b[0m\n\u001b[0m",
      "\u001b[1;32mC:\\Users\\akif\\.conda\\envs\\geo\\lib\\site-packages\\IPython\\core\\interactiveshell.py\u001b[0m in \u001b[0;36mrun_cell_magic\u001b[1;34m(self, magic_name, line, cell)\u001b[0m\n\u001b[0;32m   2115\u001b[0m             \u001b[0mmagic_arg_s\u001b[0m \u001b[1;33m=\u001b[0m \u001b[0mself\u001b[0m\u001b[1;33m.\u001b[0m\u001b[0mvar_expand\u001b[0m\u001b[1;33m(\u001b[0m\u001b[0mline\u001b[0m\u001b[1;33m,\u001b[0m \u001b[0mstack_depth\u001b[0m\u001b[1;33m)\u001b[0m\u001b[1;33m\u001b[0m\u001b[1;33m\u001b[0m\u001b[0m\n\u001b[0;32m   2116\u001b[0m             \u001b[1;32mwith\u001b[0m \u001b[0mself\u001b[0m\u001b[1;33m.\u001b[0m\u001b[0mbuiltin_trap\u001b[0m\u001b[1;33m:\u001b[0m\u001b[1;33m\u001b[0m\u001b[1;33m\u001b[0m\u001b[0m\n\u001b[1;32m-> 2117\u001b[1;33m                 \u001b[0mresult\u001b[0m \u001b[1;33m=\u001b[0m \u001b[0mfn\u001b[0m\u001b[1;33m(\u001b[0m\u001b[0mmagic_arg_s\u001b[0m\u001b[1;33m,\u001b[0m \u001b[0mcell\u001b[0m\u001b[1;33m)\u001b[0m\u001b[1;33m\u001b[0m\u001b[1;33m\u001b[0m\u001b[0m\n\u001b[0m\u001b[0;32m   2118\u001b[0m             \u001b[1;32mreturn\u001b[0m \u001b[0mresult\u001b[0m\u001b[1;33m\u001b[0m\u001b[1;33m\u001b[0m\u001b[0m\n\u001b[0;32m   2119\u001b[0m \u001b[1;33m\u001b[0m\u001b[0m\n",
      "\u001b[1;32m<decorator-gen-54>\u001b[0m in \u001b[0;36mtime\u001b[1;34m(self, line, cell, local_ns)\u001b[0m\n",
      "\u001b[1;32mC:\\Users\\akif\\.conda\\envs\\geo\\lib\\site-packages\\IPython\\core\\magic.py\u001b[0m in \u001b[0;36m<lambda>\u001b[1;34m(f, *a, **k)\u001b[0m\n\u001b[0;32m    186\u001b[0m     \u001b[1;31m# but it's overkill for just that one bit of state.\u001b[0m\u001b[1;33m\u001b[0m\u001b[1;33m\u001b[0m\u001b[1;33m\u001b[0m\u001b[0m\n\u001b[0;32m    187\u001b[0m     \u001b[1;32mdef\u001b[0m \u001b[0mmagic_deco\u001b[0m\u001b[1;33m(\u001b[0m\u001b[0marg\u001b[0m\u001b[1;33m)\u001b[0m\u001b[1;33m:\u001b[0m\u001b[1;33m\u001b[0m\u001b[1;33m\u001b[0m\u001b[0m\n\u001b[1;32m--> 188\u001b[1;33m         \u001b[0mcall\u001b[0m \u001b[1;33m=\u001b[0m \u001b[1;32mlambda\u001b[0m \u001b[0mf\u001b[0m\u001b[1;33m,\u001b[0m \u001b[1;33m*\u001b[0m\u001b[0ma\u001b[0m\u001b[1;33m,\u001b[0m \u001b[1;33m**\u001b[0m\u001b[0mk\u001b[0m\u001b[1;33m:\u001b[0m \u001b[0mf\u001b[0m\u001b[1;33m(\u001b[0m\u001b[1;33m*\u001b[0m\u001b[0ma\u001b[0m\u001b[1;33m,\u001b[0m \u001b[1;33m**\u001b[0m\u001b[0mk\u001b[0m\u001b[1;33m)\u001b[0m\u001b[1;33m\u001b[0m\u001b[1;33m\u001b[0m\u001b[0m\n\u001b[0m\u001b[0;32m    189\u001b[0m \u001b[1;33m\u001b[0m\u001b[0m\n\u001b[0;32m    190\u001b[0m         \u001b[1;32mif\u001b[0m \u001b[0mcallable\u001b[0m\u001b[1;33m(\u001b[0m\u001b[0marg\u001b[0m\u001b[1;33m)\u001b[0m\u001b[1;33m:\u001b[0m\u001b[1;33m\u001b[0m\u001b[1;33m\u001b[0m\u001b[0m\n",
      "\u001b[1;32mC:\\Users\\akif\\.conda\\envs\\geo\\lib\\site-packages\\IPython\\core\\magics\\execution.py\u001b[0m in \u001b[0;36mtime\u001b[1;34m(self, line, cell, local_ns)\u001b[0m\n\u001b[0;32m   1191\u001b[0m         \u001b[1;32melse\u001b[0m\u001b[1;33m:\u001b[0m\u001b[1;33m\u001b[0m\u001b[1;33m\u001b[0m\u001b[0m\n\u001b[0;32m   1192\u001b[0m             \u001b[0mst\u001b[0m \u001b[1;33m=\u001b[0m \u001b[0mclock2\u001b[0m\u001b[1;33m(\u001b[0m\u001b[1;33m)\u001b[0m\u001b[1;33m\u001b[0m\u001b[1;33m\u001b[0m\u001b[0m\n\u001b[1;32m-> 1193\u001b[1;33m             \u001b[0mexec\u001b[0m\u001b[1;33m(\u001b[0m\u001b[0mcode\u001b[0m\u001b[1;33m,\u001b[0m \u001b[0mglob\u001b[0m\u001b[1;33m,\u001b[0m \u001b[0mlocal_ns\u001b[0m\u001b[1;33m)\u001b[0m\u001b[1;33m\u001b[0m\u001b[1;33m\u001b[0m\u001b[0m\n\u001b[0m\u001b[0;32m   1194\u001b[0m             \u001b[0mend\u001b[0m \u001b[1;33m=\u001b[0m \u001b[0mclock2\u001b[0m\u001b[1;33m(\u001b[0m\u001b[1;33m)\u001b[0m\u001b[1;33m\u001b[0m\u001b[1;33m\u001b[0m\u001b[0m\n\u001b[0;32m   1195\u001b[0m             \u001b[0mout\u001b[0m \u001b[1;33m=\u001b[0m \u001b[1;32mNone\u001b[0m\u001b[1;33m\u001b[0m\u001b[1;33m\u001b[0m\u001b[0m\n",
      "\u001b[1;32m<timed exec>\u001b[0m in \u001b[0;36m<module>\u001b[1;34m()\u001b[0m\n",
      "\u001b[1;31mNameError\u001b[0m: name 'items_list' is not defined"
     ]
    }
   ],
   "source": [
    "%%time\n",
    "subset_dask=download_subset_image(download_status=False,item_list=items_list,aoi=data,target_epsg='',\n",
    "                        band_list=['B02','B08'],download_path='./sentinel_cog',name_suffix='',auto_folder=True)"
   ]
  },
  {
   "cell_type": "code",
   "execution_count": 140,
   "metadata": {},
   "outputs": [],
   "source": [
    "import dask_try"
   ]
  },
  {
   "cell_type": "code",
   "execution_count": 145,
   "metadata": {},
   "outputs": [
    {
     "name": "stdout",
     "output_type": "stream",
     "text": [
      "Wall time: 2.77 s\n"
     ]
    }
   ],
   "source": [
    "%%time\n",
    "ndviwitharray=dask_try.calculate_ndvi(subset_dask[0]['B02'],subset_dask[0]['B08'])"
   ]
  },
  {
   "cell_type": "code",
   "execution_count": 146,
   "metadata": {},
   "outputs": [
    {
     "data": {
      "text/plain": [
       "numpy.ndarray"
      ]
     },
     "execution_count": 146,
     "metadata": {},
     "output_type": "execute_result"
    }
   ],
   "source": [
    "type(ndviwitharray)"
   ]
  },
  {
   "cell_type": "code",
   "execution_count": 143,
   "metadata": {},
   "outputs": [
    {
     "name": "stdout",
     "output_type": "stream",
     "text": [
      "Wall time: 1.33 s\n"
     ]
    }
   ],
   "source": [
    "%%time\n",
    "ndvidirecty=dask_try.direct_ndvi(subset_dask[0]['B02'],subset_dask[0]['B08'])"
   ]
  },
  {
   "cell_type": "code",
   "execution_count": null,
   "metadata": {},
   "outputs": [],
   "source": [
    "from dask import "
   ]
  },
  {
   "cell_type": "code",
   "execution_count": null,
   "metadata": {},
   "outputs": [],
   "source": []
  },
  {
   "cell_type": "code",
   "execution_count": 136,
   "metadata": {},
   "outputs": [],
   "source": [
    "red_xarray=None\n",
    "nir_xarray=None\n",
    "red=None\n",
    "nir=None\n",
    "red=None\n",
    "nir=None\n",
    "ndvi = None"
   ]
  },
  {
   "cell_type": "code",
   "execution_count": null,
   "metadata": {},
   "outputs": [],
   "source": [
    "%%time\n",
    "with LocalCluster(n_workers=int(0.6 * mp.cpu_count()),\n",
    "    processes=True,\n",
    "    threads_per_worker=1,\n",
    "    memory_limit='2GB',\n",
    "    #ip='tcp://localhost:9895',\n",
    ") as cluster, Client(cluster) as client:\n",
    "    red_xarray=subset_dask[0]['B02']\n",
    "    nir_xarray=subset_dask[0]['B08']\n",
    "    red=red_xarray.persist()\n",
    "    nir=nir_xarray.persist()\n",
    "    red=red.values\n",
    "    nir=nir.values\n",
    "    ndvi = (nir.astype(float) - red.astype(float))/(nir + red)\n",
    "    \n",
    "    #2min 16s"
   ]
  },
  {
   "cell_type": "code",
   "execution_count": 137,
   "metadata": {},
   "outputs": [
    {
     "name": "stdout",
     "output_type": "stream",
     "text": [
      "Wall time: 2.32 s\n"
     ]
    }
   ],
   "source": [
    "%%time\n",
    "with LocalCluster(n_workers=int(0.6 * mp.cpu_count()),\n",
    "    processes=False,\n",
    "    threads_per_worker=1,\n",
    "    memory_limit='2GB',\n",
    "    #ip='tcp://localhost:9895',\n",
    ") as cluster, Client(cluster) as client:\n",
    "    red_xarray=subset_dask[0]['B02']\n",
    "    nir_xarray=subset_dask[0]['B08']\n",
    "    red=red_xarray.persist()\n",
    "    nir=nir_xarray.persist()\n",
    "    red=red.values\n",
    "    nir=nir.values\n",
    "    ndvi = (nir.astype(float) - red.astype(float))/(nir + red)\n",
    "#2.31 s\n",
    "    "
   ]
  },
  {
   "cell_type": "code",
   "execution_count": 75,
   "metadata": {},
   "outputs": [
    {
     "name": "stdout",
     "output_type": "stream",
     "text": [
      "Wall time: 2min 8s\n"
     ]
    }
   ],
   "source": [
    "%%time\n",
    "with LocalCluster(n_workers=int(0.6 * mp.cpu_count()),\n",
    "    processes=True,\n",
    "    threads_per_worker=1,\n",
    "    memory_limit='2GB',\n",
    "    #ip='tcp://localhost:9895',\n",
    ") as cluster, Client(cluster) as client:\n",
    "    red_xarray=subset_dask[0]['B02']\n",
    "    nir_xarray=subset_dask[0]['B08']\n",
    "    ndvi = (nir_xarray.astype(float) - red_xarray.astype(float))/(nir_xarray + red_xarray)\n",
    "    ndvi.rio.to_raster('sen_cog_ndvi.tif')\n",
    "    \n",
    "    "
   ]
  },
  {
   "cell_type": "code",
   "execution_count": 89,
   "metadata": {},
   "outputs": [],
   "source": [
    "with LocalCluster(n_workers=int(0.6 * mp.cpu_count()),\n",
    "    processes=True,\n",
    "    threads_per_worker=1,\n",
    "    memory_limit='2GB',\n",
    "    #ip='tcp://localhost:9895',\n",
    ") as cluster, Client(cluster) as client:\n",
    "    ndvi_reproject = ndvi.rio.reproject_match(red_xarray)"
   ]
  },
  {
   "cell_type": "code",
   "execution_count": 90,
   "metadata": {},
   "outputs": [
    {
     "data": {
      "text/plain": [
       "CRS.from_epsg(32637)"
      ]
     },
     "execution_count": 90,
     "metadata": {},
     "output_type": "execute_result"
    }
   ],
   "source": [
    "ndvi_reproject.rio.crs"
   ]
  },
  {
   "cell_type": "code",
   "execution_count": 80,
   "metadata": {},
   "outputs": [],
   "source": [
    "ndvi_4326 = ndvi.rio.reproject('epsg:4326')"
   ]
  },
  {
   "cell_type": "code",
   "execution_count": 113,
   "metadata": {},
   "outputs": [
    {
     "name": "stdout",
     "output_type": "stream",
     "text": [
      "Wall time: 3.05 s\n"
     ]
    }
   ],
   "source": [
    "%%time\n",
    "with LocalCluster(n_workers=int(0.6 * mp.cpu_count()),\n",
    "    processes=True,\n",
    "    threads_per_worker=1,\n",
    "    memory_limit='2GB',\n",
    "    #ip='tcp://localhost:9895',\n",
    ") as cluster, Client(cluster) as client:\n",
    "    con_utm=ndvi_4326.rio.reproject(dst_crs=ndvi.rio.crs,shape=ndvi.rio.shape)\n",
    "    con_utm=con_utm.rio.reproject_match(ndvi)\n",
    "    con_utm.rio.to_raster('ndvilatToUTM.tif')"
   ]
  },
  {
   "cell_type": "code",
   "execution_count": 124,
   "metadata": {},
   "outputs": [
    {
     "name": "stdout",
     "output_type": "stream",
     "text": [
      "Wall time: 2.28 s\n"
     ]
    }
   ],
   "source": [
    "%%time\n",
    "with LocalCluster(n_workers=int(0.6 * mp.cpu_count()),\n",
    "    processes=False,\n",
    "    threads_per_worker=1,\n",
    "    memory_limit='2GB',\n",
    "    #ip='tcp://localhost:9895',\n",
    ") as cluster, Client(cluster) as client:\n",
    "    con_utm=ndvi_4326.rio.reproject(dst_crs=ndvi.rio.crs,shape=ndvi.rio.shape)\n",
    "    con_utm=con_utm.rio.reproject_match(ndvi)\n",
    "    con_utm.rio.to_raster('ndvilatToUTM2.tif')"
   ]
  },
  {
   "cell_type": "code",
   "execution_count": 114,
   "metadata": {},
   "outputs": [
    {
     "data": {
      "text/plain": [
       "\u001b[1;31mSignature:\u001b[0m \u001b[0mndvi_4326\u001b[0m\u001b[1;33m.\u001b[0m\u001b[0mrio\u001b[0m\u001b[1;33m.\u001b[0m\u001b[0mreproject\u001b[0m\u001b[1;33m(\u001b[0m\u001b[0mdst_crs\u001b[0m\u001b[1;33m,\u001b[0m \u001b[0mresolution\u001b[0m\u001b[1;33m=\u001b[0m\u001b[1;32mNone\u001b[0m\u001b[1;33m,\u001b[0m \u001b[0mshape\u001b[0m\u001b[1;33m=\u001b[0m\u001b[1;32mNone\u001b[0m\u001b[1;33m,\u001b[0m \u001b[0mtransform\u001b[0m\u001b[1;33m=\u001b[0m\u001b[1;32mNone\u001b[0m\u001b[1;33m,\u001b[0m \u001b[0mresampling\u001b[0m\u001b[1;33m=\u001b[0m\u001b[1;33m<\u001b[0m\u001b[0mResampling\u001b[0m\u001b[1;33m.\u001b[0m\u001b[0mnearest\u001b[0m\u001b[1;33m:\u001b[0m \u001b[1;36m0\u001b[0m\u001b[1;33m>\u001b[0m\u001b[1;33m)\u001b[0m\u001b[1;33m\u001b[0m\u001b[1;33m\u001b[0m\u001b[0m\n",
       "\u001b[1;31mDocstring:\u001b[0m\n",
       "Reproject :obj:`xarray.DataArray` objects\n",
       "\n",
       "Powered by `rasterio.warp.reproject`\n",
       "\n",
       ".. note:: Only 2D/3D arrays with dimensions 'x'/'y' are currently supported.\n",
       "    Requires either a grid mapping variable with 'spatial_ref' or\n",
       "    a 'crs' attribute to be set containing a valid CRS.\n",
       "    If using a WKT (e.g. from spatiareference.org), make sure it is an OGC WKT.\n",
       "\n",
       ".. versionadded:: 0.0.27 shape\n",
       ".. versionadded:: 0.0.28 transform\n",
       "\n",
       "Parameters\n",
       "----------\n",
       "dst_crs: str\n",
       "    OGC WKT string or Proj.4 string.\n",
       "resolution: float or tuple(float, float), optional\n",
       "    Size of a destination pixel in destination projection units\n",
       "    (e.g. degrees or metres).\n",
       "shape: tuple(int, int), optional\n",
       "    Shape of the destination in pixels (dst_height, dst_width). Cannot be used\n",
       "    together with resolution.\n",
       "transform: optional\n",
       "    The destination transform.\n",
       "resampling: Resampling method, optional\n",
       "    See rasterio.warp.reproject for more details.\n",
       "\n",
       "\n",
       "Returns\n",
       "-------\n",
       ":obj:`xarray.DataArray`:\n",
       "    The reprojected DataArray.\n",
       "\u001b[1;31mFile:\u001b[0m      c:\\users\\akif\\.conda\\envs\\geo\\lib\\site-packages\\rioxarray\\rioxarray.py\n",
       "\u001b[1;31mType:\u001b[0m      method\n"
      ]
     },
     "metadata": {},
     "output_type": "display_data"
    }
   ],
   "source": [
    "ndvi_4326.rio.reproject?"
   ]
  },
  {
   "cell_type": "code",
   "execution_count": 112,
   "metadata": {},
   "outputs": [
    {
     "data": {
      "text/plain": [
       "\u001b[1;31mSignature:\u001b[0m \u001b[0mndvi\u001b[0m\u001b[1;33m.\u001b[0m\u001b[0mrio\u001b[0m\u001b[1;33m.\u001b[0m\u001b[0mreproject_match\u001b[0m\u001b[1;33m(\u001b[0m\u001b[0mmatch_data_array\u001b[0m\u001b[1;33m,\u001b[0m \u001b[0mresampling\u001b[0m\u001b[1;33m=\u001b[0m\u001b[1;33m<\u001b[0m\u001b[0mResampling\u001b[0m\u001b[1;33m.\u001b[0m\u001b[0mnearest\u001b[0m\u001b[1;33m:\u001b[0m \u001b[1;36m0\u001b[0m\u001b[1;33m>\u001b[0m\u001b[1;33m)\u001b[0m\u001b[1;33m\u001b[0m\u001b[1;33m\u001b[0m\u001b[0m\n",
       "\u001b[1;31mDocstring:\u001b[0m\n",
       "Reproject a DataArray object to match the resolution, projection,\n",
       "and region of another DataArray.\n",
       "\n",
       "Powered by `rasterio.warp.reproject`\n",
       "\n",
       ".. note:: Only 2D/3D arrays with dimensions 'x'/'y' are currently supported.\n",
       "    Requires either a grid mapping variable with 'spatial_ref' or\n",
       "    a 'crs' attribute to be set containing a valid CRS.\n",
       "    If using a WKT (e.g. from spatiareference.org), make sure it is an OGC WKT.\n",
       "\n",
       "Parameters\n",
       "----------\n",
       "match_data_array:  :obj:`xarray.DataArray` | :obj:`xarray.Dataset`\n",
       "    DataArray of the target resolution and projection.\n",
       "resampling: Resampling method, optional\n",
       "    See rasterio.warp.reproject for more details.\n",
       "\n",
       "\n",
       "Returns\n",
       "--------\n",
       ":obj:`xarray.DataArray`:\n",
       "    Contains the data from the src_data_array, reprojected to match\n",
       "    match_data_array.\n",
       "\u001b[1;31mFile:\u001b[0m      c:\\users\\akif\\.conda\\envs\\geo\\lib\\site-packages\\rioxarray\\rioxarray.py\n",
       "\u001b[1;31mType:\u001b[0m      method\n"
      ]
     },
     "metadata": {},
     "output_type": "display_data"
    }
   ],
   "source": [
    "ndvi.rio.reproject_match?"
   ]
  },
  {
   "cell_type": "code",
   "execution_count": 83,
   "metadata": {},
   "outputs": [],
   "source": [
    "def to_raster(in_xds, template_xds, out_file):\n",
    "    in_xds = in_xds.rio.write_crs(template_xds.rio.crs)\n",
    "    if template_xds.rio.nodata is not None:\n",
    "        in_xds.attrs[\"_FillValue\"] = template_xds.rio.nodata\n",
    "    in_xds.rio.to_raster(out_file)\n",
    "\n"
   ]
  },
  {
   "cell_type": "code",
   "execution_count": 92,
   "metadata": {},
   "outputs": [
    {
     "name": "stdout",
     "output_type": "stream",
     "text": [
      "Wall time: 2.25 s\n"
     ]
    }
   ],
   "source": [
    "%%time\n",
    "with LocalCluster(n_workers=int(0.6 * mp.cpu_count()),\n",
    "    processes=True,\n",
    "    threads_per_worker=1,\n",
    "    memory_limit='2GB',\n",
    "    #ip='tcp://localhost:9895',\n",
    ") as cluster, Client(cluster) as client:\n",
    "    to_raster(ndvi_4326,red_xarray, \"ndvifromred.tif\")"
   ]
  },
  {
   "cell_type": "code",
   "execution_count": null,
   "metadata": {},
   "outputs": [],
   "source": []
  },
  {
   "cell_type": "code",
   "execution_count": 121,
   "metadata": {},
   "outputs": [],
   "source": [
    "geo=new_target.__geo_interface__"
   ]
  },
  {
   "cell_type": "code",
   "execution_count": 115,
   "metadata": {},
   "outputs": [],
   "source": [
    "from rasterstats import zonal_stats, point_query"
   ]
  },
  {
   "cell_type": "code",
   "execution_count": 123,
   "metadata": {
    "collapsed": true,
    "jupyter": {
     "outputs_hidden": true
    }
   },
   "outputs": [
    {
     "ename": "TypeError",
     "evalue": "invalid path or file: <xarray.DataArray (band: 1, y: 1575, x: 5000)>\ndask.array<truediv, shape=(1, 1575, 5000), dtype=float64, chunksize=(1, 512, 5000), chunktype=numpy.ndarray>\nCoordinates:\n  * y            (y) float64 4.1e+06 4.1e+06 4.1e+06 ... 4.084e+06 4.084e+06\n  * x            (x) float64 4.598e+05 4.598e+05 ... 5.097e+05 5.098e+05\n  * band         (band) int32 1\n    spatial_ref  int32 0",
     "output_type": "error",
     "traceback": [
      "\u001b[1;31m---------------------------------------------------------------------------\u001b[0m",
      "\u001b[1;31mTypeError\u001b[0m                                 Traceback (most recent call last)",
      "\u001b[1;32m<ipython-input-123-0dd376d8227d>\u001b[0m in \u001b[0;36m<module>\u001b[1;34m()\u001b[0m\n\u001b[1;32m----> 1\u001b[1;33m \u001b[0mstats\u001b[0m \u001b[1;33m=\u001b[0m \u001b[0mzonal_stats\u001b[0m\u001b[1;33m(\u001b[0m\u001b[0mgeo\u001b[0m\u001b[1;33m,\u001b[0m\u001b[0mndvi\u001b[0m\u001b[1;33m,\u001b[0m\u001b[0mstats\u001b[0m\u001b[1;33m=\u001b[0m\u001b[1;33m[\u001b[0m\u001b[1;34m'min'\u001b[0m\u001b[1;33m,\u001b[0m \u001b[1;34m'max'\u001b[0m\u001b[1;33m,\u001b[0m \u001b[1;34m'median'\u001b[0m\u001b[1;33m,\u001b[0m \u001b[1;34m'majority'\u001b[0m\u001b[1;33m,\u001b[0m \u001b[1;34m'sum'\u001b[0m\u001b[1;33m]\u001b[0m\u001b[1;33m)\u001b[0m\u001b[1;33m\u001b[0m\u001b[1;33m\u001b[0m\u001b[0m\n\u001b[0m",
      "\u001b[1;32mC:\\Users\\akif\\.conda\\envs\\geo\\lib\\site-packages\\rasterstats\\main.py\u001b[0m in \u001b[0;36mzonal_stats\u001b[1;34m(*args, **kwargs)\u001b[0m\n\u001b[0;32m     29\u001b[0m     \u001b[0mThe\u001b[0m \u001b[0monly\u001b[0m \u001b[0mdifference\u001b[0m \u001b[1;32mis\u001b[0m \u001b[0mthat\u001b[0m\u001b[0;31m \u001b[0m\u001b[0;31m`\u001b[0m\u001b[0;31m`\u001b[0m\u001b[0mzonal_stats\u001b[0m\u001b[0;31m`\u001b[0m\u001b[0;31m`\u001b[0m \u001b[0mwill\u001b[0m\u001b[1;33m\u001b[0m\u001b[1;33m\u001b[0m\u001b[0m\n\u001b[0;32m     30\u001b[0m     return a list rather than a generator.\"\"\"\n\u001b[1;32m---> 31\u001b[1;33m     \u001b[1;32mreturn\u001b[0m \u001b[0mlist\u001b[0m\u001b[1;33m(\u001b[0m\u001b[0mgen_zonal_stats\u001b[0m\u001b[1;33m(\u001b[0m\u001b[1;33m*\u001b[0m\u001b[0margs\u001b[0m\u001b[1;33m,\u001b[0m \u001b[1;33m**\u001b[0m\u001b[0mkwargs\u001b[0m\u001b[1;33m)\u001b[0m\u001b[1;33m)\u001b[0m\u001b[1;33m\u001b[0m\u001b[1;33m\u001b[0m\u001b[0m\n\u001b[0m\u001b[0;32m     32\u001b[0m \u001b[1;33m\u001b[0m\u001b[0m\n\u001b[0;32m     33\u001b[0m \u001b[1;33m\u001b[0m\u001b[0m\n",
      "\u001b[1;32mC:\\Users\\akif\\.conda\\envs\\geo\\lib\\site-packages\\rasterstats\\main.py\u001b[0m in \u001b[0;36mgen_zonal_stats\u001b[1;34m(vectors, raster, layer, band, nodata, affine, stats, all_touched, categorical, category_map, add_stats, zone_func, raster_out, prefix, geojson_out, **kwargs)\u001b[0m\n\u001b[0;32m    144\u001b[0m         \u001b[0mband\u001b[0m \u001b[1;33m=\u001b[0m \u001b[0mband_num\u001b[0m\u001b[1;33m\u001b[0m\u001b[1;33m\u001b[0m\u001b[0m\n\u001b[0;32m    145\u001b[0m \u001b[1;33m\u001b[0m\u001b[0m\n\u001b[1;32m--> 146\u001b[1;33m     \u001b[1;32mwith\u001b[0m \u001b[0mRaster\u001b[0m\u001b[1;33m(\u001b[0m\u001b[0mraster\u001b[0m\u001b[1;33m,\u001b[0m \u001b[0maffine\u001b[0m\u001b[1;33m,\u001b[0m \u001b[0mnodata\u001b[0m\u001b[1;33m,\u001b[0m \u001b[0mband\u001b[0m\u001b[1;33m)\u001b[0m \u001b[1;32mas\u001b[0m \u001b[0mrast\u001b[0m\u001b[1;33m:\u001b[0m\u001b[1;33m\u001b[0m\u001b[1;33m\u001b[0m\u001b[0m\n\u001b[0m\u001b[0;32m    147\u001b[0m         \u001b[0mfeatures_iter\u001b[0m \u001b[1;33m=\u001b[0m \u001b[0mread_features\u001b[0m\u001b[1;33m(\u001b[0m\u001b[0mvectors\u001b[0m\u001b[1;33m,\u001b[0m \u001b[0mlayer\u001b[0m\u001b[1;33m)\u001b[0m\u001b[1;33m\u001b[0m\u001b[1;33m\u001b[0m\u001b[0m\n\u001b[0;32m    148\u001b[0m         \u001b[1;32mfor\u001b[0m \u001b[0m_\u001b[0m\u001b[1;33m,\u001b[0m \u001b[0mfeat\u001b[0m \u001b[1;32min\u001b[0m \u001b[0menumerate\u001b[0m\u001b[1;33m(\u001b[0m\u001b[0mfeatures_iter\u001b[0m\u001b[1;33m)\u001b[0m\u001b[1;33m:\u001b[0m\u001b[1;33m\u001b[0m\u001b[1;33m\u001b[0m\u001b[0m\n",
      "\u001b[1;32mC:\\Users\\akif\\.conda\\envs\\geo\\lib\\site-packages\\rasterstats\\io.py\u001b[0m in \u001b[0;36m__init__\u001b[1;34m(self, raster, affine, nodata, band)\u001b[0m\n\u001b[0;32m    246\u001b[0m             \u001b[0mself\u001b[0m\u001b[1;33m.\u001b[0m\u001b[0mnodata\u001b[0m \u001b[1;33m=\u001b[0m \u001b[0mnodata\u001b[0m\u001b[1;33m\u001b[0m\u001b[1;33m\u001b[0m\u001b[0m\n\u001b[0;32m    247\u001b[0m         \u001b[1;32melse\u001b[0m\u001b[1;33m:\u001b[0m\u001b[1;33m\u001b[0m\u001b[1;33m\u001b[0m\u001b[0m\n\u001b[1;32m--> 248\u001b[1;33m             \u001b[0mself\u001b[0m\u001b[1;33m.\u001b[0m\u001b[0msrc\u001b[0m \u001b[1;33m=\u001b[0m \u001b[0mrasterio\u001b[0m\u001b[1;33m.\u001b[0m\u001b[0mopen\u001b[0m\u001b[1;33m(\u001b[0m\u001b[0mraster\u001b[0m\u001b[1;33m,\u001b[0m \u001b[1;34m'r'\u001b[0m\u001b[1;33m)\u001b[0m\u001b[1;33m\u001b[0m\u001b[1;33m\u001b[0m\u001b[0m\n\u001b[0m\u001b[0;32m    249\u001b[0m             \u001b[0mself\u001b[0m\u001b[1;33m.\u001b[0m\u001b[0maffine\u001b[0m \u001b[1;33m=\u001b[0m \u001b[0mguard_transform\u001b[0m\u001b[1;33m(\u001b[0m\u001b[0mself\u001b[0m\u001b[1;33m.\u001b[0m\u001b[0msrc\u001b[0m\u001b[1;33m.\u001b[0m\u001b[0mtransform\u001b[0m\u001b[1;33m)\u001b[0m\u001b[1;33m\u001b[0m\u001b[1;33m\u001b[0m\u001b[0m\n\u001b[0;32m    250\u001b[0m             \u001b[0mself\u001b[0m\u001b[1;33m.\u001b[0m\u001b[0mshape\u001b[0m \u001b[1;33m=\u001b[0m \u001b[1;33m(\u001b[0m\u001b[0mself\u001b[0m\u001b[1;33m.\u001b[0m\u001b[0msrc\u001b[0m\u001b[1;33m.\u001b[0m\u001b[0mheight\u001b[0m\u001b[1;33m,\u001b[0m \u001b[0mself\u001b[0m\u001b[1;33m.\u001b[0m\u001b[0msrc\u001b[0m\u001b[1;33m.\u001b[0m\u001b[0mwidth\u001b[0m\u001b[1;33m)\u001b[0m\u001b[1;33m\u001b[0m\u001b[1;33m\u001b[0m\u001b[0m\n",
      "\u001b[1;32mC:\\Users\\akif\\.conda\\envs\\geo\\lib\\site-packages\\rasterio\\env.py\u001b[0m in \u001b[0;36mwrapper\u001b[1;34m(*args, **kwds)\u001b[0m\n\u001b[0;32m    431\u001b[0m \u001b[1;33m\u001b[0m\u001b[0m\n\u001b[0;32m    432\u001b[0m         \u001b[1;32mwith\u001b[0m \u001b[0menv_ctor\u001b[0m\u001b[1;33m(\u001b[0m\u001b[0msession\u001b[0m\u001b[1;33m=\u001b[0m\u001b[0msession\u001b[0m\u001b[1;33m)\u001b[0m\u001b[1;33m:\u001b[0m\u001b[1;33m\u001b[0m\u001b[1;33m\u001b[0m\u001b[0m\n\u001b[1;32m--> 433\u001b[1;33m             \u001b[1;32mreturn\u001b[0m \u001b[0mf\u001b[0m\u001b[1;33m(\u001b[0m\u001b[1;33m*\u001b[0m\u001b[0margs\u001b[0m\u001b[1;33m,\u001b[0m \u001b[1;33m**\u001b[0m\u001b[0mkwds\u001b[0m\u001b[1;33m)\u001b[0m\u001b[1;33m\u001b[0m\u001b[1;33m\u001b[0m\u001b[0m\n\u001b[0m\u001b[0;32m    434\u001b[0m \u001b[1;33m\u001b[0m\u001b[0m\n\u001b[0;32m    435\u001b[0m     \u001b[1;32mreturn\u001b[0m \u001b[0mwrapper\u001b[0m\u001b[1;33m\u001b[0m\u001b[1;33m\u001b[0m\u001b[0m\n",
      "\u001b[1;32mC:\\Users\\akif\\.conda\\envs\\geo\\lib\\site-packages\\rasterio\\__init__.py\u001b[0m in \u001b[0;36mopen\u001b[1;34m(fp, mode, driver, width, height, count, crs, transform, dtype, nodata, sharing, **kwargs)\u001b[0m\n\u001b[0;32m    156\u001b[0m     \u001b[1;32mif\u001b[0m \u001b[1;32mnot\u001b[0m \u001b[0misinstance\u001b[0m\u001b[1;33m(\u001b[0m\u001b[0mfp\u001b[0m\u001b[1;33m,\u001b[0m \u001b[0mstring_types\u001b[0m\u001b[1;33m)\u001b[0m\u001b[1;33m:\u001b[0m\u001b[1;33m\u001b[0m\u001b[1;33m\u001b[0m\u001b[0m\n\u001b[0;32m    157\u001b[0m         \u001b[1;32mif\u001b[0m \u001b[1;32mnot\u001b[0m \u001b[1;33m(\u001b[0m\u001b[0mhasattr\u001b[0m\u001b[1;33m(\u001b[0m\u001b[0mfp\u001b[0m\u001b[1;33m,\u001b[0m \u001b[1;34m'read'\u001b[0m\u001b[1;33m)\u001b[0m \u001b[1;32mor\u001b[0m \u001b[0mhasattr\u001b[0m\u001b[1;33m(\u001b[0m\u001b[0mfp\u001b[0m\u001b[1;33m,\u001b[0m \u001b[1;34m'write'\u001b[0m\u001b[1;33m)\u001b[0m \u001b[1;32mor\u001b[0m \u001b[0misinstance\u001b[0m\u001b[1;33m(\u001b[0m\u001b[0mfp\u001b[0m\u001b[1;33m,\u001b[0m \u001b[0mPath\u001b[0m\u001b[1;33m)\u001b[0m\u001b[1;33m)\u001b[0m\u001b[1;33m:\u001b[0m\u001b[1;33m\u001b[0m\u001b[1;33m\u001b[0m\u001b[0m\n\u001b[1;32m--> 158\u001b[1;33m             \u001b[1;32mraise\u001b[0m \u001b[0mTypeError\u001b[0m\u001b[1;33m(\u001b[0m\u001b[1;34m\"invalid path or file: {0!r}\"\u001b[0m\u001b[1;33m.\u001b[0m\u001b[0mformat\u001b[0m\u001b[1;33m(\u001b[0m\u001b[0mfp\u001b[0m\u001b[1;33m)\u001b[0m\u001b[1;33m)\u001b[0m\u001b[1;33m\u001b[0m\u001b[1;33m\u001b[0m\u001b[0m\n\u001b[0m\u001b[0;32m    159\u001b[0m     \u001b[1;32mif\u001b[0m \u001b[0mmode\u001b[0m \u001b[1;32mand\u001b[0m \u001b[1;32mnot\u001b[0m \u001b[0misinstance\u001b[0m\u001b[1;33m(\u001b[0m\u001b[0mmode\u001b[0m\u001b[1;33m,\u001b[0m \u001b[0mstring_types\u001b[0m\u001b[1;33m)\u001b[0m\u001b[1;33m:\u001b[0m\u001b[1;33m\u001b[0m\u001b[1;33m\u001b[0m\u001b[0m\n\u001b[0;32m    160\u001b[0m         \u001b[1;32mraise\u001b[0m \u001b[0mTypeError\u001b[0m\u001b[1;33m(\u001b[0m\u001b[1;34m\"invalid mode: {0!r}\"\u001b[0m\u001b[1;33m.\u001b[0m\u001b[0mformat\u001b[0m\u001b[1;33m(\u001b[0m\u001b[0mmode\u001b[0m\u001b[1;33m)\u001b[0m\u001b[1;33m)\u001b[0m\u001b[1;33m\u001b[0m\u001b[1;33m\u001b[0m\u001b[0m\n",
      "\u001b[1;31mTypeError\u001b[0m: invalid path or file: <xarray.DataArray (band: 1, y: 1575, x: 5000)>\ndask.array<truediv, shape=(1, 1575, 5000), dtype=float64, chunksize=(1, 512, 5000), chunktype=numpy.ndarray>\nCoordinates:\n  * y            (y) float64 4.1e+06 4.1e+06 4.1e+06 ... 4.084e+06 4.084e+06\n  * x            (x) float64 4.598e+05 4.598e+05 ... 5.097e+05 5.098e+05\n  * band         (band) int32 1\n    spatial_ref  int32 0"
     ]
    }
   ],
   "source": [
    "stats = zonal_stats(geo,ndvi,stats=['min', 'max', 'median', 'majority', 'sum'])"
   ]
  },
  {
   "cell_type": "code",
   "execution_count": null,
   "metadata": {},
   "outputs": [],
   "source": []
  },
  {
   "cell_type": "code",
   "execution_count": 120,
   "metadata": {},
   "outputs": [],
   "source": [
    "new_target=target_area.to_crs(ndvi.rio.crs.to_string())"
   ]
  },
  {
   "cell_type": "code",
   "execution_count": null,
   "metadata": {},
   "outputs": [],
   "source": []
  },
  {
   "cell_type": "code",
   "execution_count": 155,
   "metadata": {},
   "outputs": [],
   "source": [
    "aoi_gpd=target_area.to_crs(ndvi.rio.crs.to_string())"
   ]
  },
  {
   "cell_type": "code",
   "execution_count": 156,
   "metadata": {},
   "outputs": [
    {
     "data": {
      "text/plain": [
       "0    POLYGON ((430010.007 4148390.337, 457208.100 4...\n",
       "Name: geometry, dtype: geometry"
      ]
     },
     "execution_count": 156,
     "metadata": {},
     "output_type": "execute_result"
    }
   ],
   "source": [
    "aoi_gpd.geometry"
   ]
  },
  {
   "cell_type": "code",
   "execution_count": 111,
   "metadata": {},
   "outputs": [],
   "source": [
    "clipped =rds.rio.clip(aoi_gpd.geometry)"
   ]
  },
  {
   "cell_type": "code",
   "execution_count": 112,
   "metadata": {},
   "outputs": [],
   "source": [
    "clipped.rio.to_raster('denemeee.tif')"
   ]
  },
  {
   "cell_type": "code",
   "execution_count": 157,
   "metadata": {},
   "outputs": [],
   "source": [
    "aoi_gpd.to_file('utm',driver='ESRI Shapefile')"
   ]
  },
  {
   "cell_type": "code",
   "execution_count": 158,
   "metadata": {},
   "outputs": [],
   "source": [
    "target_area.to_file('latlon',driver='ESRI Shapefile')"
   ]
  },
  {
   "cell_type": "code",
   "execution_count": 182,
   "metadata": {},
   "outputs": [],
   "source": [
    "res={'type': 'Polygon',\n",
    " 'coordinates': [[[37.876381589019886, 36.95257399124932],\n",
    "   [37.861482438916816, 37.942072015005024],\n",
    "   [38.5700476360887, 37.9467949936599],\n",
    "   [38.48396578520234, 37.68856019631257],\n",
    "   [38.238959267471955, 36.955451379212235],\n",
    "   [37.876381589019886, 36.95257399124932]]]}"
   ]
  },
  {
   "cell_type": "code",
   "execution_count": 183,
   "metadata": {},
   "outputs": [
    {
     "data": {
      "text/plain": [
       "0    POLYGON ((37.87638 36.95257, 37.86148 37.94207...\n",
       "Name: geometry, dtype: geometry"
      ]
     },
     "execution_count": 183,
     "metadata": {},
     "output_type": "execute_result"
    }
   ],
   "source": [
    "datajson=json.dumps(res)\n",
    "target_area=gpd.read_file(datajson)\n",
    "target_area.geometry"
   ]
  },
  {
   "cell_type": "code",
   "execution_count": 184,
   "metadata": {},
   "outputs": [],
   "source": [
    "target_area.to_file('latlon2',driver='ESRI Shapefile')"
   ]
  },
  {
   "cell_type": "code",
   "execution_count": 185,
   "metadata": {},
   "outputs": [],
   "source": [
    "aoi_gpd=target_area.to_crs(sdb37.rio.crs.to_string())"
   ]
  },
  {
   "cell_type": "code",
   "execution_count": 186,
   "metadata": {},
   "outputs": [],
   "source": [
    "aoi_gpd.to_file('utm',driver='ESRI Shapefile')"
   ]
  },
  {
   "cell_type": "code",
   "execution_count": null,
   "metadata": {},
   "outputs": [],
   "source": []
  }
 ],
 "metadata": {
  "kernelspec": {
   "display_name": "Python 3",
   "language": "python",
   "name": "python3"
  },
  "language_info": {
   "codemirror_mode": {
    "name": "ipython",
    "version": 3
   },
   "file_extension": ".py",
   "mimetype": "text/x-python",
   "name": "python",
   "nbconvert_exporter": "python",
   "pygments_lexer": "ipython3",
   "version": "3.7.9"
  }
 },
 "nbformat": 4,
 "nbformat_minor": 4
}
