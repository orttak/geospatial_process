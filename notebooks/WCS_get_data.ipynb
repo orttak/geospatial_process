{
 "cells": [
  {
   "cell_type": "code",
   "execution_count": 1,
   "metadata": {},
   "outputs": [],
   "source": [
    "import pandas as pd\n",
    "import numpy as np\n",
    "import geopandas as gpd\n",
    "import rasterio as rio\n",
    "from rasterio.plot import show\n",
    "from rasterio.mask import mask\n",
    "import matplotlib.pyplot as plt\n",
    "from owslib.wcs import WebCoverageService"
   ]
  },
  {
   "cell_type": "code",
   "execution_count": 2,
   "metadata": {},
   "outputs": [
    {
     "name": "stderr",
     "output_type": "stream",
     "text": [
      "C:\\Users\\akif\\.conda\\envs\\geo\\lib\\site-packages\\geopandas\\geodataframe.py:422: RuntimeWarning: Sequential read of iterator was interrupted. Resetting iterator. This can negatively impact the performance.\n",
      "  for feature in features_lst:\n"
     ]
    },
    {
     "data": {
      "text/html": [
       "<div>\n",
       "<style scoped>\n",
       "    .dataframe tbody tr th:only-of-type {\n",
       "        vertical-align: middle;\n",
       "    }\n",
       "\n",
       "    .dataframe tbody tr th {\n",
       "        vertical-align: top;\n",
       "    }\n",
       "\n",
       "    .dataframe thead th {\n",
       "        text-align: right;\n",
       "    }\n",
       "</style>\n",
       "<table border=\"1\" class=\"dataframe\">\n",
       "  <thead>\n",
       "    <tr style=\"text-align: right;\">\n",
       "      <th></th>\n",
       "      <th>index</th>\n",
       "      <th>Il_Adi</th>\n",
       "      <th>Ilce_Adi</th>\n",
       "      <th>PlaceName</th>\n",
       "      <th>area</th>\n",
       "      <th>geometry</th>\n",
       "    </tr>\n",
       "  </thead>\n",
       "  <tbody>\n",
       "    <tr>\n",
       "      <th>0</th>\n",
       "      <td>0</td>\n",
       "      <td>ADANA</td>\n",
       "      <td>YÜREĞİR</td>\n",
       "      <td>Agzibuyuk</td>\n",
       "      <td>2.668082</td>\n",
       "      <td>POLYGON ((35.44724 36.86743, 35.44610 36.86737...</td>\n",
       "    </tr>\n",
       "  </tbody>\n",
       "</table>\n",
       "</div>"
      ],
      "text/plain": [
       "   index Il_Adi Ilce_Adi  PlaceName      area  \\\n",
       "0      0  ADANA  YÜREĞİR  Agzibuyuk  2.668082   \n",
       "\n",
       "                                            geometry  \n",
       "0  POLYGON ((35.44724 36.86743, 35.44610 36.86737...  "
      ]
     },
     "execution_count": 2,
     "metadata": {},
     "output_type": "execute_result"
    }
   ],
   "source": [
    "adana=gpd.read_file('../../sample_data/tr_boundry/AF_ADANA_2020_v10.gpkg')\n",
    "cols = [4,5,6,7,8,9,10]\n",
    "adana.drop(adana.columns[cols],axis=1,inplace=True)\n",
    "adana.reset_index(inplace=True,drop=False)\n",
    "adana.head(1)"
   ]
  },
  {
   "cell_type": "code",
   "execution_count": 3,
   "metadata": {},
   "outputs": [],
   "source": [
    "bbox=adana.iloc[0].geometry.bounds"
   ]
  },
  {
   "cell_type": "code",
   "execution_count": null,
   "metadata": {},
   "outputs": [],
   "source": []
  },
  {
   "cell_type": "code",
   "execution_count": 27,
   "metadata": {},
   "outputs": [],
   "source": [
    "#wcs1 = WebCoverageService('http://54.78.130.74:8085/geoserver/ows?service=WCS', version='2.0.1')\n",
    "wcs1 = WebCoverageService('http://54.78.130.74:8085/geoserver/ows?service=WCS&version=2.0.1&request=GetCapabilities')"
   ]
  },
  {
   "cell_type": "code",
   "execution_count": 28,
   "metadata": {},
   "outputs": [
    {
     "name": "stdout",
     "output_type": "stream",
     "text": [
      "{'tr_sinir__TR_TEXMHT_M_sl2_250m_ll': <owslib.coverage.wcs201.ContentMetadata object at 0x00000160BFBF2488>}\n"
     ]
    }
   ],
   "source": [
    "print(wcs1.contents)"
   ]
  },
  {
   "cell_type": "code",
   "execution_count": 29,
   "metadata": {},
   "outputs": [
    {
     "data": {
      "text/plain": [
       "['application/gml+xml',\n",
       " 'application/x-gzip',\n",
       " 'image/jpeg',\n",
       " 'image/png',\n",
       " 'image/tiff',\n",
       " 'text/plain']"
      ]
     },
     "execution_count": 29,
     "metadata": {},
     "output_type": "execute_result"
    }
   ],
   "source": [
    "_id = 'tr_sinir__TR_TEXMHT_M_sl2_250m_ll'\n",
    "ph_0_5 = wcs1.contents[_id]\n",
    "ph_0_5.supportedFormats"
   ]
  },
  {
   "cell_type": "code",
   "execution_count": 38,
   "metadata": {},
   "outputs": [],
   "source": [
    "crs = \"http://www.opengis.net/def/crs/EPSG/0/152160\"\n",
    "\n",
    "subsets=[('Lat',37.4,38.6),('Lon',36.86,37.6)]"
   ]
  },
  {
   "cell_type": "code",
   "execution_count": 42,
   "metadata": {},
   "outputs": [],
   "source": [
    "# Request the data from WCS\n",
    "response3 = wcs1.getCoverage(\n",
    "    identifier=['tr_sinir__TR_TEXMHT_M_sl2_250m_ll'],\n",
    "    #subsets=subsets,\n",
    "    format='GeoTIFF',\n",
    "    #filter='false',\n",
    "    #scale=1,\n",
    "    #\n",
    ")"
   ]
  },
  {
   "cell_type": "code",
   "execution_count": 34,
   "metadata": {},
   "outputs": [
    {
     "data": {
      "text/plain": [
       "\u001b[1;31mSignature:\u001b[0m \u001b[0mwcs1\u001b[0m\u001b[1;33m.\u001b[0m\u001b[0mgetCoverage\u001b[0m\u001b[1;33m(\u001b[0m\u001b[0midentifier\u001b[0m\u001b[1;33m=\u001b[0m\u001b[1;32mNone\u001b[0m\u001b[1;33m,\u001b[0m \u001b[0mbbox\u001b[0m\u001b[1;33m=\u001b[0m\u001b[1;32mNone\u001b[0m\u001b[1;33m,\u001b[0m \u001b[0mtime\u001b[0m\u001b[1;33m=\u001b[0m\u001b[1;32mNone\u001b[0m\u001b[1;33m,\u001b[0m \u001b[0mformat\u001b[0m\u001b[1;33m=\u001b[0m\u001b[1;32mNone\u001b[0m\u001b[1;33m,\u001b[0m \u001b[0msubsets\u001b[0m\u001b[1;33m=\u001b[0m\u001b[1;32mNone\u001b[0m\u001b[1;33m,\u001b[0m \u001b[0mresolutions\u001b[0m\u001b[1;33m=\u001b[0m\u001b[1;32mNone\u001b[0m\u001b[1;33m,\u001b[0m \u001b[0msizes\u001b[0m\u001b[1;33m=\u001b[0m\u001b[1;32mNone\u001b[0m\u001b[1;33m,\u001b[0m \u001b[0mcrs\u001b[0m\u001b[1;33m=\u001b[0m\u001b[1;32mNone\u001b[0m\u001b[1;33m,\u001b[0m \u001b[0mwidth\u001b[0m\u001b[1;33m=\u001b[0m\u001b[1;32mNone\u001b[0m\u001b[1;33m,\u001b[0m \u001b[0mheight\u001b[0m\u001b[1;33m=\u001b[0m\u001b[1;32mNone\u001b[0m\u001b[1;33m,\u001b[0m \u001b[0mresx\u001b[0m\u001b[1;33m=\u001b[0m\u001b[1;32mNone\u001b[0m\u001b[1;33m,\u001b[0m \u001b[0mresy\u001b[0m\u001b[1;33m=\u001b[0m\u001b[1;32mNone\u001b[0m\u001b[1;33m,\u001b[0m \u001b[0mresz\u001b[0m\u001b[1;33m=\u001b[0m\u001b[1;32mNone\u001b[0m\u001b[1;33m,\u001b[0m \u001b[0mparameter\u001b[0m\u001b[1;33m=\u001b[0m\u001b[1;32mNone\u001b[0m\u001b[1;33m,\u001b[0m \u001b[0mmethod\u001b[0m\u001b[1;33m=\u001b[0m\u001b[1;34m'Get'\u001b[0m\u001b[1;33m,\u001b[0m \u001b[0mtimeout\u001b[0m\u001b[1;33m=\u001b[0m\u001b[1;36m30\u001b[0m\u001b[1;33m,\u001b[0m \u001b[1;33m**\u001b[0m\u001b[0mkwargs\u001b[0m\u001b[1;33m)\u001b[0m\u001b[1;33m\u001b[0m\u001b[1;33m\u001b[0m\u001b[0m\n",
       "\u001b[1;31mDocstring:\u001b[0m\n",
       "Request and return a coverage from the WCS as a file-like object\n",
       "note: additional **kwargs helps with multi-version implementation\n",
       "core keyword arguments should be supported cross version\n",
       "example:\n",
       "cvg=wcs.getCoverage(identifier=['TuMYrRQ4'], timeSequence=['2792-06-01T00:00:00.0'], bbox=(-112,36,-106,41),\n",
       "                    format='cf-netcdf')\n",
       "\n",
       "is equivalent to:\n",
       "http://myhost/mywcs?SERVICE=WCS&REQUEST=GetCoverage&IDENTIFIER=TuMYrRQ4&VERSION=1.1.0&BOUNDINGBOX=-180,-90,180,90&TIME=2792-06-01T00:00:00.0&FORMAT=cf-netcdf\n",
       "\n",
       "example 2.0.1 URL\n",
       "http://earthserver.pml.ac.uk/rasdaman/ows?&SERVICE=WCS&VERSION=2.0.1&REQUEST=GetCoverage\n",
       "&COVERAGEID=V2_monthly_CCI_chlor_a_insitu_test&SUBSET=Lat(40,50)&SUBSET=Long(-10,0)&SUBSET=ansi(144883,145000)&FORMAT=application/netcdf\n",
       "\n",
       "cvg=wcs.getCoverage(identifier=['myID'], format='application/netcdf', subsets=[('axisName',min,max),\n",
       "                    ('axisName',min,max),('axisName',min,max)])\n",
       "\u001b[1;31mFile:\u001b[0m      c:\\users\\akif\\.conda\\envs\\geo\\lib\\site-packages\\owslib\\coverage\\wcs201.py\n",
       "\u001b[1;31mType:\u001b[0m      method\n"
      ]
     },
     "metadata": {},
     "output_type": "display_data"
    }
   ],
   "source": [
    "wcs1.getCoverage?"
   ]
  },
  {
   "cell_type": "code",
   "execution_count": 33,
   "metadata": {},
   "outputs": [],
   "source": [
    "with open('aaaaa.tif', 'wb') as file:\n",
    "    file.write(response3.read())"
   ]
  },
  {
   "cell_type": "code",
   "execution_count": 79,
   "metadata": {
    "collapsed": true,
    "jupyter": {
     "outputs_hidden": true
    }
   },
   "outputs": [
    {
     "name": "stdout",
     "output_type": "stream",
     "text": [
      "from owslib.wcs import WebCoverageService\n",
      "from owslib.wcs import WebCoverageService\n",
      "wcs = WebCoverageService('http://localhost:8085/geoserver/ows?service=wcs', version='1.0.0')\n",
      "print(list(wcs.contents))\n",
      "print([op.name for op in wcs.operations])\n",
      "cvg = wcs.contents['tr_geography:Elevation']\n",
      "print(cvg.boundingBoxWGS84)\n",
      "print(cvg.supportedCRS)\n",
      "print(cvg.supportedFormats)\n",
      "adana=gpd.read_file('../../sample_data/tr_boundrLat/AF_ADANA_2020_v10.gpkg')\n",
      "cols = [4,5,6,7,8,9,10]\n",
      "adana.drop(adana.columns[cols],aLongis=1,inplace=True)\n",
      "adana.reset_indeLong(inplace=True,drop=False)\n",
      "adana.head(1)\n",
      "import pandas as pd\n",
      "import numpLat as np\n",
      "import geopandas as gpd\n",
      "import rasterio as rio\n",
      "from rasterio.plot import show\n",
      "from rasterio.mask import mask\n",
      "import matplotlib.pLatplot as plt\n",
      "from owslib.wcs import WebCoverageService\n",
      "import pandas as pd\n",
      "import numpy as np\n",
      "import geopandas as gpd\n",
      "import rasterio as rio\n",
      "from rasterio.plot import show\n",
      "from rasterio.mask import mask\n",
      "import matplotlib.pLatplot as plt\n",
      "from owslib.wcs import WebCoverageService\n",
      "import pandas as pd\n",
      "import numpy as np\n",
      "import geopandas as gpd\n",
      "import rasterio as rio\n",
      "from rasterio.plot import show\n",
      "from rasterio.mask import mask\n",
      "import matplotlib.pyplot as plt\n",
      "from owslib.wcs import WebCoverageService\n",
      "adana=gpd.read_file('../../sample_data/tr_boundrLat/AF_ADANA_2020_v10.gpkg')\n",
      "cols = [4,5,6,7,8,9,10]\n",
      "adana.drop(adana.columns[cols],aLongis=1,inplace=True)\n",
      "adana.reset_indeLong(inplace=True,drop=False)\n",
      "adana.head(1)\n",
      "adana=gpd.read_file('../../sample_data/tr_boundry/AF_ADANA_2020_v10.gpkg')\n",
      "cols = [4,5,6,7,8,9,10]\n",
      "adana.drop(adana.columns[cols],aLongis=1,inplace=True)\n",
      "adana.reset_indeLong(inplace=True,drop=False)\n",
      "adana.head(1)\n",
      "adana=gpd.read_file('../../sample_data/tr_boundry/AF_ADANA_2020_v10.gpkg')\n",
      "cols = [4,5,6,7,8,9,10]\n",
      "adana.drop(adana.columns[cols],aLongis=1,inplace=True)\n",
      "adana.reset_index(inplace=True,drop=False)\n",
      "adana.head(1)\n",
      "adana=gpd.read_file('../../sample_data/tr_boundry/AF_ADANA_2020_v10.gpkg')\n",
      "cols = [4,5,6,7,8,9,10]\n",
      "adana.drop(adana.columns[cols],axis=1,inplace=True)\n",
      "adana.reset_index(inplace=True,drop=False)\n",
      "adana.head(1)\n",
      "bbox=adana.iloc[0].geometry\n",
      "bbox\n",
      "response = wcs.getCoverage(identifier='tr_geography:Elevation', bbox=bbox, format='GeoTIFF',\n",
      "                           crs=cvg.supportedCRS)\n",
      "wcs.getCoverage?\n",
      "bbox=adana.iloc[0].geometry\n",
      "bbox.total_bounds\n",
      "bbox=adana.iloc[0].geometry\n",
      "bbox\n",
      "adana.iloc[0].bounds\n",
      "adana.iloc[0].bounds\n",
      "adana.iloc[0].bounds()\n",
      "adana.iloc[0].geom_type\n",
      "adana.iloc[0]\n",
      "type(adana.iloc[0])\n",
      "adana.iloc[0]\n",
      "adana.iloc[0].geometry.geom_type\n",
      "adana.iloc[0].geometry.bounds\n",
      "bbox=adana.iloc[0].geometry.bounds\n",
      "response = wcs.getCoverage(identifier='tr_geography:Elevation', bbox=bbox, format='GeoTIFF',\n",
      "                           crs=cvg.supportedCRS)\n",
      "response = wcs.getCoverage(identifier='tr_geography:Elevation', bbox=bbox, format='GeoTIFF', crs=cvg.supportedCRS)\n",
      "response = wcs.getCoverage(identifier='tr_geography:Elevation', bbox=bbox, format='GeoTIFF')\n",
      "type(response)\n",
      "tif=rio.open(response.read())\n",
      "from rasterio import MemoryFile\n",
      "from rasterio.plot import show\n",
      "with MemoryFile(request) as memfile:\n",
      "     with memfile.open() as dataset:\n",
      "            show(dataset)\n",
      "with MemoryFile(response) as memfile:\n",
      "     with memfile.open() as dataset:\n",
      "            show(dataset)\n",
      "response.read()\n",
      "response.read()\n",
      "response = wcs.getCoverage(identifier='tr_geography:Elevation', bbox=bbox, format='GeoTIFF',crs='4326')\n",
      "response.read()\n",
      "response = wcs.getCoverage(identifier='tr_geography:Elevation', bbox=bbox, format='GeoTIFF',crs='urn:ogc:def:crs:EPSG::4326')\n",
      "response.read()\n",
      "with open('AHN2_05m_DSM.tif', 'wb') as file:\n",
      "    file.write(response.read())\n",
      "import rasterio\n",
      "from rasterio.plot import show\n",
      "\n",
      "url ='https://services.terrascope.be/wms/v2?service=WMS&version=1.3.0&request=GetMap&layers=CGS_S2_RADIOMETRY&format=image/png&time=2020-06-01&width=1920&height=592&bbox=556945.9710290054,6657998.9149440415,575290.8578174476,6663655.255037144&styles=&srs=EPSG:3857'\n",
      "\n",
      "raster = rasterio.open(url)\n",
      "\n",
      "print(raster.meta)\n",
      "show(raster)\n",
      "import rasterio\n",
      "from rasterio.plot import show\n",
      "\n",
      "url ='http://localhost:8085/geoserver/tr_soil/wms?service=WMS&version=1.1.0&request=GetMap&layers=tr_soil%3ATR_CurveNumberBasedRunoff_HYSOGs250m&bbox=25.664579227%2C35.814577603%2C44.835409493%2C42.108326596&width=768&height=330&srs=EPSG%3A4326&format=application/openlayers'\n",
      "\n",
      "raster = rasterio.open(url)\n",
      "\n",
      "print(raster.meta)\n",
      "show(raster)\n",
      "import rasterio\n",
      "from rasterio.plot import show\n",
      "\n",
      "url ='http://localhost:8085/geoserver/tr_soil/wms?service=WMS&version=1.1.0&request=GetMap&layers=tr_soil%3ATR_CurveNumberBasedRunoff_HYSOGs250m&bbox=25.664579227%2C35.814577603%2C44.835409493%2C42.108326596&width=768&height=330&srs=EPSG%3A4326'\n",
      "\n",
      "raster = rasterio.open(url)\n",
      "\n",
      "print(raster.meta)\n",
      "show(raster)\n",
      "from urllib.request import urlopen\n",
      "tif_bytes = urlopen(response.read()).read()\n",
      "cvg.grid?\n",
      "cvg.grid\n",
      "cvg.grid()\n",
      "cvg.grid.highlimits\n",
      "response.geturl()\n",
      "rio.open(response.geturl())\n",
      "tif_bytes = urlopen(response.geturl()).read()\n",
      "with MemoryFile(tif_bytes) as memfile:\n",
      "     with memfile.open() as dataset:\n",
      "            print(dataset.profile)\n",
      "            show(dataset)\n",
      "tif_bytes\n",
      "with MemoryFile(tif_bytes) as memfile:\n",
      "     with memfile.open() as dataset:\n",
      "            print(dataset.profile)\n",
      "cvg.axisDescriptions\n",
      "cvg.axisDescriptions()\n",
      "cvg.axisDescriptions\n",
      "cvg.descCov\n",
      "cvg.grid?\n",
      "cvg.grid\n",
      "cvg.id\n",
      "cvg.keywords\n",
      "response = wcs.getCoverage(identifier='tr_geography:Elevation', bbox=bbox, format='GeoTIFF',crs='urn:ogc:def:crs:EPSG::4326',resx=0.5, resy=0.5)\n",
      "with open('aaa.tif', 'wb') as file:\n",
      "    file.write(response.read())\n",
      "response = wcs.getCoverage(identifier='tr_geography:Elevation', bbox=bbox, format='GEOTIFF_FLOAT32',crs='urn:ogc:def:crs:EPSG::4326',resx=0.5, resy=0.5)\n",
      "with open('aaa.tif', 'wb') as file:\n",
      "    file.write(response.read())\n",
      "response.geturl())\n",
      "response.geturl()\n",
      "EDAV_WCS_Base = \"https://edav-wcs.adamplatform.eu/wcs\"\n",
      "wcs = WebCoverageService(f'{EDAV_WCS_Base}?service=WCS', version='2.0.0')\n",
      "# Request the data from WCS\n",
      "response = wcs.getCoverage(\n",
      "    identifier=['uavsar_AfriSAR_v1_SLC'],\n",
      "    format='image/tiff',\n",
      "    filter='false',\n",
      "    scale=1,\n",
      "    subsets=[('Long',11.6,11.7),('Lat',-0.2,-0.1)]\n",
      ")\n",
      "\n",
      "# Save the results to file as a tif\n",
      "results = \"EDAV_example.tif\"\n",
      "with open(results, 'wb') as file:\n",
      "    file.write(response.read())\n",
      "wcs.getCoverage?\n",
      "%%history\n",
      "%history\n"
     ]
    }
   ],
   "source": [
    "%history"
   ]
  },
  {
   "cell_type": "code",
   "execution_count": 7,
   "metadata": {},
   "outputs": [],
   "source": [
    "EDAV_WCS_Base = \"https://edav-wcs.adamplatform.eu/wcs\"\n",
    "wcs = WebCoverageService(f'{EDAV_WCS_Base}?service=WCS', version='2.0.0')"
   ]
  },
  {
   "cell_type": "code",
   "execution_count": 13,
   "metadata": {},
   "outputs": [
    {
     "name": "stdout",
     "output_type": "stream",
     "text": [
      "{'ALFA_GROUND_ONERA_Lope_GEO_32732_5': <owslib.coverage.wcs200.ContentMetadata object at 0x00000160BFB74C88>, 'ECA_EXAA_MSI_CM__2A_cloud_type_4326_004': <owslib.coverage.wcs200.ContentMetadata object at 0x00000160BFB74908>, 'test_afrisar_onera_ClopeTB10_biomass_COG_4326_0000036': <owslib.coverage.wcs200.ContentMetadata object at 0x00000160BFB74988>, 'ESACCI_BIOMASS_L4_AGB_4326_0000889': <owslib.coverage.wcs200.ContentMetadata object at 0x00000160BFB74548>, 'ECA_EXAA_MSI_COP_2A_cloud_top_pressure_4326_004': <owslib.coverage.wcs200.ContentMetadata object at 0x00000160BFB743C8>, 'SLC_Q_SAR_ONERA_Lope_HH_32732_48': <owslib.coverage.wcs200.ContentMetadata object at 0x00000160BFB74108>, 'ECA_EXAA_MSI_COP_2A_cloud_top_height_4326_004': <owslib.coverage.wcs200.ContentMetadata object at 0x00000160BFB74D88>, 'ECA_EXAA_MSI_AOT_2A_quality_mask_4326_004': <owslib.coverage.wcs200.ContentMetadata object at 0x00000160BFB74EC8>, 'AE_OPER_ALD_U_N_2C_0_1': <owslib.coverage.wcs200.ContentMetadata object at 0x00000160BFB74BC8>, 'FIN_T35VNL_SEN2_DIA_32635_10': <owslib.coverage.wcs200.ContentMetadata object at 0x00000160BFB74D48>, 'FIN_T35VNL_SEN2_GSV_32635_10': <owslib.coverage.wcs200.ContentMetadata object at 0x00000160BFBB0E88>, 'COHE_SAR_ABS_1_3_ONERA_Lope_GEO_32732_5': <owslib.coverage.wcs200.ContentMetadata object at 0x00000160BFBB0C08>, 'icesat2_congo_grid_b1_v2_6933_1000895023': <owslib.coverage.wcs200.ContentMetadata object at 0x00000160BFBB0648>, 'ECA_EXAA_MSI_AOT_2A_aerosol_optical_thickness_670nm_4326_004': <owslib.coverage.wcs200.ContentMetadata object at 0x00000160BFB90888>, 'ECA_EXAA_MSI_COP_2A_cloud_top_temperature_4326_004': <owslib.coverage.wcs200.ContentMetadata object at 0x00000160BFB90808>, 'ECA_EXAA_MSI_RGR_1C_Surface_index_4326_004': <owslib.coverage.wcs200.ContentMetadata object at 0x00000160BFB90688>, 'SLC_I_SAR_ONERA_Lope_HH_32732_48': <owslib.coverage.wcs200.ContentMetadata object at 0x00000160BFB90D48>, 'COHE_SAR_PHASE_1_3_ONERA_Lope_GEO_32732_5': <owslib.coverage.wcs200.ContentMetadata object at 0x00000160BFB90CC8>, 'DTM_GROUND_ONERA_Lope_GEO_32732_5': <owslib.coverage.wcs200.ContentMetadata object at 0x00000160BFB90A88>, 'ECA_EXAA_MSI_COP_2A_cloud_top_height_error_4326_004': <owslib.coverage.wcs200.ContentMetadata object at 0x00000160BFB90C08>, 'TETA_GROUND_ONERA_Lope_GEO_32732_5': <owslib.coverage.wcs200.ContentMetadata object at 0x00000160BFB90B48>, 'ECA_EXAA_MSI_CM__2A_cloud_phase_4326_004': <owslib.coverage.wcs200.ContentMetadata object at 0x00000160BFB90B08>, 'GLOBBIOMASS_AGB_ERR_4326_0000889': <owslib.coverage.wcs200.ContentMetadata object at 0x00000160BFB90FC8>, 'GEDI_icesat_6933_10009': <owslib.coverage.wcs200.ContentMetadata object at 0x00000160BFB90F08>, 'AE_OPER_ALD_U_N_2B_0_6': <owslib.coverage.wcs200.ContentMetadata object at 0x00000160BFB90EC8>, 'ECA_EXAA_MSI_COP_2A_cloud_optical_thickness_4326_004': <owslib.coverage.wcs200.ContentMetadata object at 0x00000160BFB90248>, 'ECA_EXAA_ATL_ICE_2A_ice_effective_radius_0_1': <owslib.coverage.wcs200.ContentMetadata object at 0x00000160BFBB2108>, 'ECA_EXAA_MSI_RGR_1C_PixelQuality_4326_004': <owslib.coverage.wcs200.ContentMetadata object at 0x00000160BFBB2088>, 'SLC_I_SAR_ONERA_Lope_HH_GEO_32732_5': <owslib.coverage.wcs200.ContentMetadata object at 0x00000160BFBB2508>, 'CAL_LID_L2_Extinction_QC_Flag_532_0_1': <owslib.coverage.wcs200.ContentMetadata object at 0x00000160BFBB2488>, 'ESACCI_BIOMASS_L4_AGB_SD_4326_0000889': <owslib.coverage.wcs200.ContentMetadata object at 0x00000160BFBB2248>, 'ECA_EXAA_MSI_AOT_2A_angstrom_parameter_355nm_670nm_4326_004': <owslib.coverage.wcs200.ContentMetadata object at 0x00000160BFBB23C8>, 'biosar1_SLC_32633_2': <owslib.coverage.wcs200.ContentMetadata object at 0x00000160BFBB2308>, 'CAL_LID_L2_Total_Backscatter_Coefficient_532_0_1': <owslib.coverage.wcs200.ContentMetadata object at 0x00000160BFBB22C8>, 'LVIS2_Gabon2016_4326_00002': <owslib.coverage.wcs200.ContentMetadata object at 0x00000160BFBB2888>, 'TOMO_GROUND_ONERA_Lope_GEO_32732_5': <owslib.coverage.wcs200.ContentMetadata object at 0x00000160BFBB2808>, 'uavsar_AfriSAR_v1_SLC_4326_0000141205': <owslib.coverage.wcs200.ContentMetadata object at 0x00000160BFBB27C8>, 'Kz_SAR_ONERA_Lope_32732_48': <owslib.coverage.wcs200.ContentMetadata object at 0x00000160BFBB2748>, 'TOMO_GROUND_ONERA_Lope_32732_48': <owslib.coverage.wcs200.ContentMetadata object at 0x00000160BFBB2188>, 'S2A_MSIL2A_32635_10': <owslib.coverage.wcs200.ContentMetadata object at 0x00000160BFBB2C88>, 'BIO_SCS_QP_AMPLITUDE_PHASE_4326_4e-05': <owslib.coverage.wcs200.ContentMetadata object at 0x00000160BFBB2C08>, 'GLOBBIOMASS_GSV_ERR_4326_0000889': <owslib.coverage.wcs200.ContentMetadata object at 0x00000160BFBB29C8>, 'SLC_Q_SAR_ONERA_Lope_HH_GEO_32732_5': <owslib.coverage.wcs200.ContentMetadata object at 0x00000160BFBB2B48>, 'Kz_SAR_ONERA_Lope_GEO_32732_5': <owslib.coverage.wcs200.ContentMetadata object at 0x00000160BFBB2A88>, 'FIN_T35VNL_SEN2_BA_32635_10': <owslib.coverage.wcs200.ContentMetadata object at 0x00000160BFBB2A48>, 'DTM_SAR_ONERA_Lope_GEO_32732_5': <owslib.coverage.wcs200.ContentMetadata object at 0x00000160BFBB2F88>, 'GLOBBIOMASS_GSV_4326_0000889': <owslib.coverage.wcs200.ContentMetadata object at 0x00000160BFBB2F48>, 'jaxafnf_agb_Africa_250m_4326_000225': <owslib.coverage.wcs200.ContentMetadata object at 0x00000160BFBB2EC8>, 'ECA_EXAA_MSI_RGR_1C_LandWaterFlag_4326_004': <owslib.coverage.wcs200.ContentMetadata object at 0x00000160BFBB2908>, 'ECA_EXAA_MSI_CM__2A_surface_classification_4326_004': <owslib.coverage.wcs200.ContentMetadata object at 0x00000160BFBB3088>, 'FIN_T35VNL_SEN2_HGT_32635_10': <owslib.coverage.wcs200.ContentMetadata object at 0x00000160BFBB3448>, 'BIO_SCS_QP_PHASE_4326_4e-05': <owslib.coverage.wcs200.ContentMetadata object at 0x00000160BFBB33C8>, 'ECA_EXAA_MSI_CM__2A_cloud_mask_4326_004': <owslib.coverage.wcs200.ContentMetadata object at 0x00000160BFBB3188>, 'S5P_OFFL_L2__AER_AI_4326_0035': <owslib.coverage.wcs200.ContentMetadata object at 0x00000160BFBB3308>, 'ECA_EXAA_MSI_AOT_2A_aerosol_optical_thickness_670nm_uncertainty_4326_004': <owslib.coverage.wcs200.ContentMetadata object at 0x00000160BFBB3248>, 'GLOBBIOMASS_AGB_4326_0000889': <owslib.coverage.wcs200.ContentMetadata object at 0x00000160BFBB3208>, 'CAL_LID_L2_Extinction_Coefficient_532_0_1': <owslib.coverage.wcs200.ContentMetadata object at 0x00000160BFBB37C8>, 'ECA_EXAA_MSI_RGR_1C_PixelValues_4326_004': <owslib.coverage.wcs200.ContentMetadata object at 0x00000160BFBB3748>, 'ECA_EXAA_MSI_COP_2A_cloud_effective_radius_4326_004': <owslib.coverage.wcs200.ContentMetadata object at 0x00000160BFBB3708>}\n"
     ]
    }
   ],
   "source": [
    "print(wcs.contents)"
   ]
  },
  {
   "cell_type": "code",
   "execution_count": 8,
   "metadata": {},
   "outputs": [],
   "source": [
    "# Request the data from WCS\n",
    "response2 = wcs.getCoverage(\n",
    "    identifier=['uavsar_AfriSAR_v1_SLC'],\n",
    "    format='image/tiff',\n",
    "    filter='false',\n",
    "    scale=1,\n",
    "    subsets=[('Long',11.6,11.7),('Lat',-0.2,-0.1)]\n",
    ")\n"
   ]
  },
  {
   "cell_type": "code",
   "execution_count": 83,
   "metadata": {
    "collapsed": true,
    "jupyter": {
     "outputs_hidden": true
    }
   },
   "outputs": [
    {
     "data": {
      "text/plain": [
       "{'ALFA_GROUND_ONERA_Lope_GEO_32732_5': <owslib.coverage.wcs200.ContentMetadata at 0x1022bb13c48>,\n",
       " 'ECA_EXAA_MSI_CM__2A_cloud_type_4326_004': <owslib.coverage.wcs200.ContentMetadata at 0x1022bb13d48>,\n",
       " 'test_afrisar_onera_ClopeTB10_biomass_COG_4326_0000036': <owslib.coverage.wcs200.ContentMetadata at 0x1022bb14fc8>,\n",
       " 'ESACCI_BIOMASS_L4_AGB_4326_0000889': <owslib.coverage.wcs200.ContentMetadata at 0x1022bb145c8>,\n",
       " 'ECA_EXAA_MSI_COP_2A_cloud_top_pressure_4326_004': <owslib.coverage.wcs200.ContentMetadata at 0x1022bb14a88>,\n",
       " 'SLC_Q_SAR_ONERA_Lope_HH_32732_48': <owslib.coverage.wcs200.ContentMetadata at 0x1022bb14e08>,\n",
       " 'ECA_EXAA_MSI_COP_2A_cloud_top_height_4326_004': <owslib.coverage.wcs200.ContentMetadata at 0x1022bb14048>,\n",
       " 'ECA_EXAA_MSI_AOT_2A_quality_mask_4326_004': <owslib.coverage.wcs200.ContentMetadata at 0x1022bb14588>,\n",
       " 'AE_OPER_ALD_U_N_2C_0_1': <owslib.coverage.wcs200.ContentMetadata at 0x1022bb14cc8>,\n",
       " 'FIN_T35VNL_SEN2_DIA_32635_10': <owslib.coverage.wcs200.ContentMetadata at 0x1022bb14b48>,\n",
       " 'FIN_T35VNL_SEN2_GSV_32635_10': <owslib.coverage.wcs200.ContentMetadata at 0x1022bb14ec8>,\n",
       " 'COHE_SAR_ABS_1_3_ONERA_Lope_GEO_32732_5': <owslib.coverage.wcs200.ContentMetadata at 0x1022bb14648>,\n",
       " 'icesat2_congo_grid_b1_v2_6933_1000895023': <owslib.coverage.wcs200.ContentMetadata at 0x1022bb14108>,\n",
       " 'ECA_EXAA_MSI_AOT_2A_aerosol_optical_thickness_670nm_4326_004': <owslib.coverage.wcs200.ContentMetadata at 0x1022bb14408>,\n",
       " 'ECA_EXAA_MSI_COP_2A_cloud_top_temperature_4326_004': <owslib.coverage.wcs200.ContentMetadata at 0x1022bb14b88>,\n",
       " 'ECA_EXAA_MSI_RGR_1C_Surface_index_4326_004': <owslib.coverage.wcs200.ContentMetadata at 0x1022bb14548>,\n",
       " 'SLC_I_SAR_ONERA_Lope_HH_32732_48': <owslib.coverage.wcs200.ContentMetadata at 0x1022bb14a08>,\n",
       " 'COHE_SAR_PHASE_1_3_ONERA_Lope_GEO_32732_5': <owslib.coverage.wcs200.ContentMetadata at 0x1022bb14508>,\n",
       " 'DTM_GROUND_ONERA_Lope_GEO_32732_5': <owslib.coverage.wcs200.ContentMetadata at 0x1022bb14088>,\n",
       " 'ECA_EXAA_MSI_COP_2A_cloud_top_height_error_4326_004': <owslib.coverage.wcs200.ContentMetadata at 0x1022bb14948>,\n",
       " 'TETA_GROUND_ONERA_Lope_GEO_32732_5': <owslib.coverage.wcs200.ContentMetadata at 0x1022bb14308>,\n",
       " 'ECA_EXAA_MSI_CM__2A_cloud_phase_4326_004': <owslib.coverage.wcs200.ContentMetadata at 0x1022bb14208>,\n",
       " 'GLOBBIOMASS_AGB_ERR_4326_0000889': <owslib.coverage.wcs200.ContentMetadata at 0x1022bb14608>,\n",
       " 'GEDI_icesat_6933_10009': <owslib.coverage.wcs200.ContentMetadata at 0x1022bb14d48>,\n",
       " 'AE_OPER_ALD_U_N_2B_0_6': <owslib.coverage.wcs200.ContentMetadata at 0x1022bb14d08>,\n",
       " 'ECA_EXAA_MSI_COP_2A_cloud_optical_thickness_4326_004': <owslib.coverage.wcs200.ContentMetadata at 0x1022bb14e48>,\n",
       " 'ECA_EXAA_ATL_ICE_2A_ice_effective_radius_0_1': <owslib.coverage.wcs200.ContentMetadata at 0x1022bb146c8>,\n",
       " 'ECA_EXAA_MSI_RGR_1C_PixelQuality_4326_004': <owslib.coverage.wcs200.ContentMetadata at 0x1022bb16f48>,\n",
       " 'SLC_I_SAR_ONERA_Lope_HH_GEO_32732_5': <owslib.coverage.wcs200.ContentMetadata at 0x1022bb16dc8>,\n",
       " 'CAL_LID_L2_Extinction_QC_Flag_532_0_1': <owslib.coverage.wcs200.ContentMetadata at 0x1022bb16988>,\n",
       " 'ESACCI_BIOMASS_L4_AGB_SD_4326_0000889': <owslib.coverage.wcs200.ContentMetadata at 0x1022bb16d08>,\n",
       " 'ECA_EXAA_MSI_AOT_2A_angstrom_parameter_355nm_670nm_4326_004': <owslib.coverage.wcs200.ContentMetadata at 0x1022bb161c8>,\n",
       " 'biosar1_SLC_32633_2': <owslib.coverage.wcs200.ContentMetadata at 0x1022bb164c8>,\n",
       " 'CAL_LID_L2_Total_Backscatter_Coefficient_532_0_1': <owslib.coverage.wcs200.ContentMetadata at 0x1022bb16a48>,\n",
       " 'LVIS2_Gabon2016_4326_00002': <owslib.coverage.wcs200.ContentMetadata at 0x1022bb163c8>,\n",
       " 'TOMO_GROUND_ONERA_Lope_GEO_32732_5': <owslib.coverage.wcs200.ContentMetadata at 0x1022bb166c8>,\n",
       " 'uavsar_AfriSAR_v1_SLC_4326_0000141205': <owslib.coverage.wcs200.ContentMetadata at 0x1022bb16f08>,\n",
       " 'Kz_SAR_ONERA_Lope_32732_48': <owslib.coverage.wcs200.ContentMetadata at 0x1022bb16848>,\n",
       " 'TOMO_GROUND_ONERA_Lope_32732_48': <owslib.coverage.wcs200.ContentMetadata at 0x1022bb16c08>,\n",
       " 'S2A_MSIL2A_32635_10': <owslib.coverage.wcs200.ContentMetadata at 0x1022bb16188>,\n",
       " 'BIO_SCS_QP_AMPLITUDE_PHASE_4326_4e-05': <owslib.coverage.wcs200.ContentMetadata at 0x1022bb16148>,\n",
       " 'GLOBBIOMASS_GSV_ERR_4326_0000889': <owslib.coverage.wcs200.ContentMetadata at 0x1022bb16088>,\n",
       " 'SLC_Q_SAR_ONERA_Lope_HH_GEO_32732_5': <owslib.coverage.wcs200.ContentMetadata at 0x1022bb16608>,\n",
       " 'Kz_SAR_ONERA_Lope_GEO_32732_5': <owslib.coverage.wcs200.ContentMetadata at 0x1022bb16e08>,\n",
       " 'FIN_T35VNL_SEN2_BA_32635_10': <owslib.coverage.wcs200.ContentMetadata at 0x1022bb16d48>,\n",
       " 'DTM_SAR_ONERA_Lope_GEO_32732_5': <owslib.coverage.wcs200.ContentMetadata at 0x1022bb16ec8>,\n",
       " 'GLOBBIOMASS_GSV_4326_0000889': <owslib.coverage.wcs200.ContentMetadata at 0x1022bb16308>,\n",
       " 'jaxafnf_agb_Africa_250m_4326_000225': <owslib.coverage.wcs200.ContentMetadata at 0x1022bb16a08>,\n",
       " 'ECA_EXAA_MSI_RGR_1C_LandWaterFlag_4326_004': <owslib.coverage.wcs200.ContentMetadata at 0x1022bb16948>,\n",
       " 'ECA_EXAA_MSI_CM__2A_surface_classification_4326_004': <owslib.coverage.wcs200.ContentMetadata at 0x1022bb16748>,\n",
       " 'FIN_T35VNL_SEN2_HGT_32635_10': <owslib.coverage.wcs200.ContentMetadata at 0x1022bb16808>,\n",
       " 'BIO_SCS_QP_PHASE_4326_4e-05': <owslib.coverage.wcs200.ContentMetadata at 0x1022bb18ec8>,\n",
       " 'ECA_EXAA_MSI_CM__2A_cloud_mask_4326_004': <owslib.coverage.wcs200.ContentMetadata at 0x1022bb18cc8>,\n",
       " 'S5P_OFFL_L2__AER_AI_4326_0035': <owslib.coverage.wcs200.ContentMetadata at 0x1022bb18888>,\n",
       " 'ECA_EXAA_MSI_AOT_2A_aerosol_optical_thickness_670nm_uncertainty_4326_004': <owslib.coverage.wcs200.ContentMetadata at 0x1022bb18a48>,\n",
       " 'GLOBBIOMASS_AGB_4326_0000889': <owslib.coverage.wcs200.ContentMetadata at 0x1022bb18108>,\n",
       " 'CAL_LID_L2_Extinction_Coefficient_532_0_1': <owslib.coverage.wcs200.ContentMetadata at 0x1022bb18c88>,\n",
       " 'ECA_EXAA_MSI_RGR_1C_PixelValues_4326_004': <owslib.coverage.wcs200.ContentMetadata at 0x1022bb18188>,\n",
       " 'ECA_EXAA_MSI_COP_2A_cloud_effective_radius_4326_004': <owslib.coverage.wcs200.ContentMetadata at 0x1022bb183c8>}"
      ]
     },
     "execution_count": 83,
     "metadata": {},
     "output_type": "execute_result"
    }
   ],
   "source": [
    "wcs.contents"
   ]
  },
  {
   "cell_type": "code",
   "execution_count": 77,
   "metadata": {
    "collapsed": true,
    "jupyter": {
     "outputs_hidden": true
    }
   },
   "outputs": [
    {
     "data": {
      "text/plain": [
       "\u001b[1;31mSignature:\u001b[0m \u001b[0mwcs\u001b[0m\u001b[1;33m.\u001b[0m\u001b[0mgetCoverage\u001b[0m\u001b[1;33m(\u001b[0m\u001b[0midentifier\u001b[0m\u001b[1;33m=\u001b[0m\u001b[1;32mNone\u001b[0m\u001b[1;33m,\u001b[0m \u001b[0mbbox\u001b[0m\u001b[1;33m=\u001b[0m\u001b[1;32mNone\u001b[0m\u001b[1;33m,\u001b[0m \u001b[0mtime\u001b[0m\u001b[1;33m=\u001b[0m\u001b[1;32mNone\u001b[0m\u001b[1;33m,\u001b[0m \u001b[0mformat\u001b[0m\u001b[1;33m=\u001b[0m\u001b[1;32mNone\u001b[0m\u001b[1;33m,\u001b[0m \u001b[0msubsets\u001b[0m\u001b[1;33m=\u001b[0m\u001b[1;32mNone\u001b[0m\u001b[1;33m,\u001b[0m \u001b[0mresolutions\u001b[0m\u001b[1;33m=\u001b[0m\u001b[1;32mNone\u001b[0m\u001b[1;33m,\u001b[0m \u001b[0msizes\u001b[0m\u001b[1;33m=\u001b[0m\u001b[1;32mNone\u001b[0m\u001b[1;33m,\u001b[0m \u001b[0mcrs\u001b[0m\u001b[1;33m=\u001b[0m\u001b[1;32mNone\u001b[0m\u001b[1;33m,\u001b[0m \u001b[0mwidth\u001b[0m\u001b[1;33m=\u001b[0m\u001b[1;32mNone\u001b[0m\u001b[1;33m,\u001b[0m \u001b[0mheight\u001b[0m\u001b[1;33m=\u001b[0m\u001b[1;32mNone\u001b[0m\u001b[1;33m,\u001b[0m \u001b[0mresx\u001b[0m\u001b[1;33m=\u001b[0m\u001b[1;32mNone\u001b[0m\u001b[1;33m,\u001b[0m \u001b[0mresy\u001b[0m\u001b[1;33m=\u001b[0m\u001b[1;32mNone\u001b[0m\u001b[1;33m,\u001b[0m \u001b[0mresz\u001b[0m\u001b[1;33m=\u001b[0m\u001b[1;32mNone\u001b[0m\u001b[1;33m,\u001b[0m \u001b[0mparameter\u001b[0m\u001b[1;33m=\u001b[0m\u001b[1;32mNone\u001b[0m\u001b[1;33m,\u001b[0m \u001b[0mmethod\u001b[0m\u001b[1;33m=\u001b[0m\u001b[1;34m'Get'\u001b[0m\u001b[1;33m,\u001b[0m \u001b[0mtimeout\u001b[0m\u001b[1;33m=\u001b[0m\u001b[1;36m30\u001b[0m\u001b[1;33m,\u001b[0m \u001b[1;33m**\u001b[0m\u001b[0mkwargs\u001b[0m\u001b[1;33m)\u001b[0m\u001b[1;33m\u001b[0m\u001b[1;33m\u001b[0m\u001b[0m\n",
       "\u001b[1;31mDocstring:\u001b[0m\n",
       "Request and return a coverage from the WCS as a file-like object\n",
       "note: additional **kwargs helps with multi-version implementation\n",
       "core keyword arguments should be supported cross version\n",
       "example:\n",
       "cvg=wcs.getCoverage(identifier=['TuMYrRQ4'], timeSequence=['2792-06-01T00:00:00.0'], bbox=(-112,36,-106,41),\n",
       "                    format='cf-netcdf')\n",
       "\n",
       "is equivalent to:\n",
       "http://myhost/mywcs?SERVICE=WCS&REQUEST=GetCoverage&IDENTIFIER=TuMYrRQ4&VERSION=1.1.0&BOUNDINGBOX=-180,-90,180,90&TIME=2792-06-01T00:00:00.0&FORMAT=cf-netcdf\n",
       "\n",
       "example 2.0.1 URL\n",
       "http://earthserver.pml.ac.uk/rasdaman/ows?&SERVICE=WCS&VERSION=2.0.1&REQUEST=GetCoverage\n",
       "&COVERAGEID=V2_monthly_CCI_chlor_a_insitu_test&SUBSET=Lat(40,50)&SUBSET=Long(-10,0)&SUBSET=ansi(144883,145000)&FORMAT=application/netcdf\n",
       "\n",
       "cvg=wcs.getCoverage(identifier=['myID'], format='application/netcdf', subsets=[('axisName',min,max),\n",
       "                    ('axisName', min, max),('axisName',min,max)])\n",
       "\u001b[1;31mFile:\u001b[0m      c:\\users\\akif\\.conda\\envs\\geo\\lib\\site-packages\\owslib\\coverage\\wcs200.py\n",
       "\u001b[1;31mType:\u001b[0m      method\n"
      ]
     },
     "metadata": {},
     "output_type": "display_data"
    }
   ],
   "source": [
    "# Save the results to file as a tif\n",
    "results = \"EDAV_example.tif\"\n",
    "with open(results, 'wb') as file:\n",
    "    file.write(response.read())"
   ]
  },
  {
   "cell_type": "code",
   "execution_count": 19,
   "metadata": {},
   "outputs": [],
   "source": [
    "soilwcs = WebCoverageService('http://maps.isric.org/mapserv?map=/map/phh2o.map',\n",
    "                         version='2.0.1')"
   ]
  },
  {
   "cell_type": "code",
   "execution_count": 20,
   "metadata": {},
   "outputs": [
    {
     "data": {
      "text/plain": [
       "{'phh2o_0-5cm_Q0.05': <owslib.coverage.wcs201.ContentMetadata at 0x160bfbce508>,\n",
       " 'phh2o_0-5cm_Q0.5': <owslib.coverage.wcs201.ContentMetadata at 0x160bfbce388>,\n",
       " 'phh2o_0-5cm_Q0.95': <owslib.coverage.wcs201.ContentMetadata at 0x160bfbceb08>,\n",
       " 'phh2o_0-5cm_mean': <owslib.coverage.wcs201.ContentMetadata at 0x160bfbce688>,\n",
       " 'phh2o_0-5cm_uncertainty': <owslib.coverage.wcs201.ContentMetadata at 0x160bfbce2c8>,\n",
       " 'phh2o_5-15cm_Q0.5': <owslib.coverage.wcs201.ContentMetadata at 0x160bfbce808>,\n",
       " 'phh2o_5-15cm_Q0.05': <owslib.coverage.wcs201.ContentMetadata at 0x160bfbce308>,\n",
       " 'phh2o_5-15cm_Q0.95': <owslib.coverage.wcs201.ContentMetadata at 0x160bfbcea48>,\n",
       " 'phh2o_5-15cm_mean': <owslib.coverage.wcs201.ContentMetadata at 0x160bfbcec48>,\n",
       " 'phh2o_5-15cm_uncertainty': <owslib.coverage.wcs201.ContentMetadata at 0x160bfbce088>,\n",
       " 'phh2o_15-30cm_Q0.05': <owslib.coverage.wcs201.ContentMetadata at 0x160bfbced88>,\n",
       " 'phh2o_15-30cm_Q0.5': <owslib.coverage.wcs201.ContentMetadata at 0x160bfbcde88>,\n",
       " 'phh2o_15-30cm_Q0.95': <owslib.coverage.wcs201.ContentMetadata at 0x160bfbcd388>,\n",
       " 'phh2o_15-30cm_mean': <owslib.coverage.wcs201.ContentMetadata at 0x160bfbcdd48>,\n",
       " 'phh2o_15-30cm_uncertainty': <owslib.coverage.wcs201.ContentMetadata at 0x160bfbcd748>,\n",
       " 'phh2o_30-60cm_Q0.05': <owslib.coverage.wcs201.ContentMetadata at 0x160bfbcd948>,\n",
       " 'phh2o_30-60cm_Q0.5': <owslib.coverage.wcs201.ContentMetadata at 0x160bfbcd9c8>,\n",
       " 'phh2o_30-60cm_Q0.95': <owslib.coverage.wcs201.ContentMetadata at 0x160bfbcd808>,\n",
       " 'phh2o_30-60cm_mean': <owslib.coverage.wcs201.ContentMetadata at 0x160bfbcd608>,\n",
       " 'phh2o_30-60cm_uncertainty': <owslib.coverage.wcs201.ContentMetadata at 0x160bfbe7908>,\n",
       " 'phh2o_60-100cm_Q0.5': <owslib.coverage.wcs201.ContentMetadata at 0x160bfbe7ec8>,\n",
       " 'phh2o_60-100cm_Q0.05': <owslib.coverage.wcs201.ContentMetadata at 0x160bfbe7e48>,\n",
       " 'phh2o_60-100cm_Q0.95': <owslib.coverage.wcs201.ContentMetadata at 0x160bfbe7e08>,\n",
       " 'phh2o_60-100cm_mean': <owslib.coverage.wcs201.ContentMetadata at 0x160bfbe7d88>,\n",
       " 'phh2o_60-100cm_uncertainty': <owslib.coverage.wcs201.ContentMetadata at 0x160bfbe77c8>,\n",
       " 'phh2o_100-200cm_Q0.05': <owslib.coverage.wcs201.ContentMetadata at 0x160bfbe7b88>,\n",
       " 'phh2o_100-200cm_Q0.5': <owslib.coverage.wcs201.ContentMetadata at 0x160bfbea2c8>,\n",
       " 'phh2o_100-200cm_Q0.95': <owslib.coverage.wcs201.ContentMetadata at 0x160bfbea248>,\n",
       " 'phh2o_100-200cm_mean': <owslib.coverage.wcs201.ContentMetadata at 0x160bfbea208>,\n",
       " 'phh2o_100-200cm_uncertainty': <owslib.coverage.wcs201.ContentMetadata at 0x160bfb93c88>}"
      ]
     },
     "execution_count": 20,
     "metadata": {},
     "output_type": "execute_result"
    }
   ],
   "source": [
    "soilwcs.contents"
   ]
  },
  {
   "cell_type": "code",
   "execution_count": 21,
   "metadata": {},
   "outputs": [
    {
     "data": {
      "text/plain": [
       "['image/tiff',\n",
       " 'image/png',\n",
       " 'image/jpeg',\n",
       " 'image/png; mode=8bit',\n",
       " 'image/vnd.jpeg-png',\n",
       " 'image/vnd.jpeg-png8']"
      ]
     },
     "execution_count": 21,
     "metadata": {},
     "output_type": "execute_result"
    }
   ],
   "source": [
    "cov_id = 'phh2o_0-5cm_mean'\n",
    "ph_0_5 = soilwcs.contents[cov_id]\n",
    "ph_0_5.supportedFormats"
   ]
  },
  {
   "cell_type": "code",
   "execution_count": null,
   "metadata": {},
   "outputs": [],
   "source": []
  }
 ],
 "metadata": {
  "kernelspec": {
   "display_name": "Python 3",
   "language": "python",
   "name": "python3"
  },
  "language_info": {
   "codemirror_mode": {
    "name": "ipython",
    "version": 3
   },
   "file_extension": ".py",
   "mimetype": "text/x-python",
   "name": "python",
   "nbconvert_exporter": "python",
   "pygments_lexer": "ipython3",
   "version": "3.7.9"
  }
 },
 "nbformat": 4,
 "nbformat_minor": 4
}
