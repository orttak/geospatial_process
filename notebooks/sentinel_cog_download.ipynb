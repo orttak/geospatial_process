{
 "cells": [
  {
   "cell_type": "code",
   "execution_count": null,
   "metadata": {},
   "outputs": [],
   "source": [
    "#! pip install sat-search"
   ]
  },
  {
   "cell_type": "code",
   "execution_count": 1,
   "metadata": {},
   "outputs": [],
   "source": [
    "import folium\n",
    "import os, shutil\n",
    "from glob import glob\n",
    "%matplotlib inline  \n",
    "import json\n",
    "import geopandas as gpd\n",
    "import numpy as np"
   ]
  },
  {
   "cell_type": "code",
   "execution_count": 2,
   "metadata": {},
   "outputs": [],
   "source": [
    "import satsearch"
   ]
  },
  {
   "cell_type": "code",
   "execution_count": 3,
   "metadata": {
    "collapsed": true,
    "jupyter": {
     "outputs_hidden": true
    }
   },
   "outputs": [
    {
     "ename": "DriverError",
     "evalue": "../boundries/sentinel_tr_tiles.shp: No such file or directory",
     "output_type": "error",
     "traceback": [
      "\u001b[1;31m---------------------------------------------------------------------------\u001b[0m",
      "\u001b[1;31mCPLE_OpenFailedError\u001b[0m                      Traceback (most recent call last)",
      "\u001b[1;32mfiona/_shim.pyx\u001b[0m in \u001b[0;36mfiona._shim.gdal_open_vector\u001b[1;34m()\u001b[0m\n",
      "\u001b[1;32mfiona/_err.pyx\u001b[0m in \u001b[0;36mfiona._err.exc_wrap_pointer\u001b[1;34m()\u001b[0m\n",
      "\u001b[1;31mCPLE_OpenFailedError\u001b[0m: ../boundries/sentinel_tr_tiles.shp: No such file or directory",
      "\nDuring handling of the above exception, another exception occurred:\n",
      "\u001b[1;31mDriverError\u001b[0m                               Traceback (most recent call last)",
      "\u001b[1;32m<ipython-input-3-4c7091cfbe92>\u001b[0m in \u001b[0;36m<module>\u001b[1;34m()\u001b[0m\n\u001b[1;32m----> 1\u001b[1;33m \u001b[0mtr_sentinel_tiles\u001b[0m\u001b[1;33m=\u001b[0m\u001b[0mgpd\u001b[0m\u001b[1;33m.\u001b[0m\u001b[0mread_file\u001b[0m\u001b[1;33m(\u001b[0m\u001b[1;34m'../boundries/sentinel_tr_tiles.shp'\u001b[0m\u001b[1;33m)\u001b[0m\u001b[1;33m\u001b[0m\u001b[1;33m\u001b[0m\u001b[0m\n\u001b[0m",
      "\u001b[1;32mC:\\Users\\akif\\.conda\\envs\\geo\\lib\\site-packages\\geopandas\\io\\file.py\u001b[0m in \u001b[0;36m_read_file\u001b[1;34m(filename, bbox, mask, rows, **kwargs)\u001b[0m\n\u001b[0;32m     94\u001b[0m \u001b[1;33m\u001b[0m\u001b[0m\n\u001b[0;32m     95\u001b[0m     \u001b[1;32mwith\u001b[0m \u001b[0mfiona_env\u001b[0m\u001b[1;33m(\u001b[0m\u001b[1;33m)\u001b[0m\u001b[1;33m:\u001b[0m\u001b[1;33m\u001b[0m\u001b[1;33m\u001b[0m\u001b[0m\n\u001b[1;32m---> 96\u001b[1;33m         \u001b[1;32mwith\u001b[0m \u001b[0mreader\u001b[0m\u001b[1;33m(\u001b[0m\u001b[0mpath_or_bytes\u001b[0m\u001b[1;33m,\u001b[0m \u001b[1;33m**\u001b[0m\u001b[0mkwargs\u001b[0m\u001b[1;33m)\u001b[0m \u001b[1;32mas\u001b[0m \u001b[0mfeatures\u001b[0m\u001b[1;33m:\u001b[0m\u001b[1;33m\u001b[0m\u001b[1;33m\u001b[0m\u001b[0m\n\u001b[0m\u001b[0;32m     97\u001b[0m \u001b[1;33m\u001b[0m\u001b[0m\n\u001b[0;32m     98\u001b[0m             \u001b[1;31m# In a future Fiona release the crs attribute of features will\u001b[0m\u001b[1;33m\u001b[0m\u001b[1;33m\u001b[0m\u001b[1;33m\u001b[0m\u001b[0m\n",
      "\u001b[1;32mC:\\Users\\akif\\.conda\\envs\\geo\\lib\\site-packages\\fiona\\env.py\u001b[0m in \u001b[0;36mwrapper\u001b[1;34m(*args, **kwargs)\u001b[0m\n\u001b[0;32m    398\u001b[0m     \u001b[1;32mdef\u001b[0m \u001b[0mwrapper\u001b[0m\u001b[1;33m(\u001b[0m\u001b[1;33m*\u001b[0m\u001b[0margs\u001b[0m\u001b[1;33m,\u001b[0m \u001b[1;33m**\u001b[0m\u001b[0mkwargs\u001b[0m\u001b[1;33m)\u001b[0m\u001b[1;33m:\u001b[0m\u001b[1;33m\u001b[0m\u001b[1;33m\u001b[0m\u001b[0m\n\u001b[0;32m    399\u001b[0m         \u001b[1;32mif\u001b[0m \u001b[0mlocal\u001b[0m\u001b[1;33m.\u001b[0m\u001b[0m_env\u001b[0m\u001b[1;33m:\u001b[0m\u001b[1;33m\u001b[0m\u001b[1;33m\u001b[0m\u001b[0m\n\u001b[1;32m--> 400\u001b[1;33m             \u001b[1;32mreturn\u001b[0m \u001b[0mf\u001b[0m\u001b[1;33m(\u001b[0m\u001b[1;33m*\u001b[0m\u001b[0margs\u001b[0m\u001b[1;33m,\u001b[0m \u001b[1;33m**\u001b[0m\u001b[0mkwargs\u001b[0m\u001b[1;33m)\u001b[0m\u001b[1;33m\u001b[0m\u001b[1;33m\u001b[0m\u001b[0m\n\u001b[0m\u001b[0;32m    401\u001b[0m         \u001b[1;32melse\u001b[0m\u001b[1;33m:\u001b[0m\u001b[1;33m\u001b[0m\u001b[1;33m\u001b[0m\u001b[0m\n\u001b[0;32m    402\u001b[0m             \u001b[1;32mif\u001b[0m \u001b[0misinstance\u001b[0m\u001b[1;33m(\u001b[0m\u001b[0margs\u001b[0m\u001b[1;33m[\u001b[0m\u001b[1;36m0\u001b[0m\u001b[1;33m]\u001b[0m\u001b[1;33m,\u001b[0m \u001b[0mstr\u001b[0m\u001b[1;33m)\u001b[0m\u001b[1;33m:\u001b[0m\u001b[1;33m\u001b[0m\u001b[1;33m\u001b[0m\u001b[0m\n",
      "\u001b[1;32mC:\\Users\\akif\\.conda\\envs\\geo\\lib\\site-packages\\fiona\\__init__.py\u001b[0m in \u001b[0;36mopen\u001b[1;34m(fp, mode, driver, schema, crs, encoding, layer, vfs, enabled_drivers, crs_wkt, **kwargs)\u001b[0m\n\u001b[0;32m    255\u001b[0m         \u001b[1;32mif\u001b[0m \u001b[0mmode\u001b[0m \u001b[1;32min\u001b[0m \u001b[1;33m(\u001b[0m\u001b[1;34m'a'\u001b[0m\u001b[1;33m,\u001b[0m \u001b[1;34m'r'\u001b[0m\u001b[1;33m)\u001b[0m\u001b[1;33m:\u001b[0m\u001b[1;33m\u001b[0m\u001b[1;33m\u001b[0m\u001b[0m\n\u001b[0;32m    256\u001b[0m             c = Collection(path, mode, driver=driver, encoding=encoding,\n\u001b[1;32m--> 257\u001b[1;33m                            layer=layer, enabled_drivers=enabled_drivers, **kwargs)\n\u001b[0m\u001b[0;32m    258\u001b[0m         \u001b[1;32melif\u001b[0m \u001b[0mmode\u001b[0m \u001b[1;33m==\u001b[0m \u001b[1;34m'w'\u001b[0m\u001b[1;33m:\u001b[0m\u001b[1;33m\u001b[0m\u001b[1;33m\u001b[0m\u001b[0m\n\u001b[0;32m    259\u001b[0m             \u001b[1;32mif\u001b[0m \u001b[0mschema\u001b[0m\u001b[1;33m:\u001b[0m\u001b[1;33m\u001b[0m\u001b[1;33m\u001b[0m\u001b[0m\n",
      "\u001b[1;32mC:\\Users\\akif\\.conda\\envs\\geo\\lib\\site-packages\\fiona\\collection.py\u001b[0m in \u001b[0;36m__init__\u001b[1;34m(self, path, mode, driver, schema, crs, encoding, layer, vsi, archive, enabled_drivers, crs_wkt, ignore_fields, ignore_geometry, **kwargs)\u001b[0m\n\u001b[0;32m    160\u001b[0m             \u001b[1;32mif\u001b[0m \u001b[0mself\u001b[0m\u001b[1;33m.\u001b[0m\u001b[0mmode\u001b[0m \u001b[1;33m==\u001b[0m \u001b[1;34m'r'\u001b[0m\u001b[1;33m:\u001b[0m\u001b[1;33m\u001b[0m\u001b[1;33m\u001b[0m\u001b[0m\n\u001b[0;32m    161\u001b[0m                 \u001b[0mself\u001b[0m\u001b[1;33m.\u001b[0m\u001b[0msession\u001b[0m \u001b[1;33m=\u001b[0m \u001b[0mSession\u001b[0m\u001b[1;33m(\u001b[0m\u001b[1;33m)\u001b[0m\u001b[1;33m\u001b[0m\u001b[1;33m\u001b[0m\u001b[0m\n\u001b[1;32m--> 162\u001b[1;33m                 \u001b[0mself\u001b[0m\u001b[1;33m.\u001b[0m\u001b[0msession\u001b[0m\u001b[1;33m.\u001b[0m\u001b[0mstart\u001b[0m\u001b[1;33m(\u001b[0m\u001b[0mself\u001b[0m\u001b[1;33m,\u001b[0m \u001b[1;33m**\u001b[0m\u001b[0mkwargs\u001b[0m\u001b[1;33m)\u001b[0m\u001b[1;33m\u001b[0m\u001b[1;33m\u001b[0m\u001b[0m\n\u001b[0m\u001b[0;32m    163\u001b[0m             \u001b[1;32melif\u001b[0m \u001b[0mself\u001b[0m\u001b[1;33m.\u001b[0m\u001b[0mmode\u001b[0m \u001b[1;32min\u001b[0m \u001b[1;33m(\u001b[0m\u001b[1;34m'a'\u001b[0m\u001b[1;33m,\u001b[0m \u001b[1;34m'w'\u001b[0m\u001b[1;33m)\u001b[0m\u001b[1;33m:\u001b[0m\u001b[1;33m\u001b[0m\u001b[1;33m\u001b[0m\u001b[0m\n\u001b[0;32m    164\u001b[0m                 \u001b[0mself\u001b[0m\u001b[1;33m.\u001b[0m\u001b[0msession\u001b[0m \u001b[1;33m=\u001b[0m \u001b[0mWritingSession\u001b[0m\u001b[1;33m(\u001b[0m\u001b[1;33m)\u001b[0m\u001b[1;33m\u001b[0m\u001b[1;33m\u001b[0m\u001b[0m\n",
      "\u001b[1;32mfiona/ogrext.pyx\u001b[0m in \u001b[0;36mfiona.ogrext.Session.start\u001b[1;34m()\u001b[0m\n",
      "\u001b[1;32mfiona/_shim.pyx\u001b[0m in \u001b[0;36mfiona._shim.gdal_open_vector\u001b[1;34m()\u001b[0m\n",
      "\u001b[1;31mDriverError\u001b[0m: ../boundries/sentinel_tr_tiles.shp: No such file or directory"
     ]
    }
   ],
   "source": [
    "tr_sentinel_tiles=gpd.read_file('../boundries/sentinel_tr_tiles.shp')"
   ]
  },
  {
   "cell_type": "code",
   "execution_count": null,
   "metadata": {},
   "outputs": [],
   "source": [
    "tr_sentinel_tiles.plot()"
   ]
  },
  {
   "cell_type": "code",
   "execution_count": 6,
   "metadata": {},
   "outputs": [],
   "source": [
    "band_list=['B01', 'B02', 'B03', 'B04', 'B05', 'B06', 'B07', 'B08', 'B8A', 'B09', 'B11', 'B12', 'AOT', 'WVP', 'SCL', 'info', 'metadata', 'visual', 'overview', 'thumbnail']"
   ]
  },
  {
   "cell_type": "code",
   "execution_count": 7,
   "metadata": {},
   "outputs": [],
   "source": [
    "#data from http://geojson.io \n",
    "data={\n",
    "  \"type\": \"FeatureCollection\",\n",
    "  \"features\": [\n",
    "    {\n",
    "      \"type\": \"Feature\",\n",
    "      \"properties\": {},\n",
    "      \"geometry\": {\n",
    "        \"type\": \"Polygon\",\n",
    "        \"coordinates\": [\n",
    "          [\n",
    "            [\n",
    "              38.54827880859375,\n",
    "              36.90378362619561\n",
    "            ],\n",
    "            [\n",
    "              40.0067138671875,\n",
    "              36.90378362619561\n",
    "            ],\n",
    "            [\n",
    "              40.0067138671875,\n",
    "              37.89219554724437\n",
    "            ],\n",
    "            [\n",
    "              38.54827880859375,\n",
    "              37.89219554724437\n",
    "            ],\n",
    "            [\n",
    "              38.54827880859375,\n",
    "              36.90378362619561\n",
    "            ]\n",
    "          ]\n",
    "        ]\n",
    "      }\n",
    "    }\n",
    "  ]\n",
    "}"
   ]
  },
  {
   "cell_type": "code",
   "execution_count": 8,
   "metadata": {},
   "outputs": [],
   "source": [
    "datajson=json.dumps(data)"
   ]
  },
  {
   "cell_type": "code",
   "execution_count": 9,
   "metadata": {},
   "outputs": [],
   "source": [
    "target_area=gpd.read_file(datajson)\n"
   ]
  },
  {
   "cell_type": "code",
   "execution_count": 139,
   "metadata": {},
   "outputs": [],
   "source": [
    "#intersect target area with landsat path-row \n",
    "tiles_intersection = tr_sentinel_tiles[tr_sentinel_tiles.intersects(target_area.geometry[0])]\n",
    "tiles_intersection.reset_index(drop=True,inplace=True)"
   ]
  },
  {
   "cell_type": "code",
   "execution_count": 140,
   "metadata": {},
   "outputs": [
    {
     "data": {
      "text/html": [
       "<div>\n",
       "<style scoped>\n",
       "    .dataframe tbody tr th:only-of-type {\n",
       "        vertical-align: middle;\n",
       "    }\n",
       "\n",
       "    .dataframe tbody tr th {\n",
       "        vertical-align: top;\n",
       "    }\n",
       "\n",
       "    .dataframe thead th {\n",
       "        text-align: right;\n",
       "    }\n",
       "</style>\n",
       "<table border=\"1\" class=\"dataframe\">\n",
       "  <thead>\n",
       "    <tr style=\"text-align: right;\">\n",
       "      <th></th>\n",
       "      <th>name</th>\n",
       "      <th>folders</th>\n",
       "      <th>descriptio</th>\n",
       "      <th>altitude</th>\n",
       "      <th>alt_mode</th>\n",
       "      <th>time_begin</th>\n",
       "      <th>time_end</th>\n",
       "      <th>time_when</th>\n",
       "      <th>GID_0</th>\n",
       "      <th>NAME_0</th>\n",
       "      <th>geometry</th>\n",
       "    </tr>\n",
       "  </thead>\n",
       "  <tbody>\n",
       "    <tr>\n",
       "      <th>0</th>\n",
       "      <td>37SDA</td>\n",
       "      <td>Features</td>\n",
       "      <td>TILE PROPERTIES&lt;br&gt;&lt;table border=0 cellpadding...</td>\n",
       "      <td>0.0</td>\n",
       "      <td>None</td>\n",
       "      <td>None</td>\n",
       "      <td>None</td>\n",
       "      <td>None</td>\n",
       "      <td>TUR</td>\n",
       "      <td>Turkey</td>\n",
       "      <td>POLYGON Z ((37.87506 37.04125 0.00000, 39.1097...</td>\n",
       "    </tr>\n",
       "    <tr>\n",
       "      <th>1</th>\n",
       "      <td>37SDB</td>\n",
       "      <td>Features</td>\n",
       "      <td>TILE PROPERTIES&lt;br&gt;&lt;table border=0 cellpadding...</td>\n",
       "      <td>0.0</td>\n",
       "      <td>None</td>\n",
       "      <td>None</td>\n",
       "      <td>None</td>\n",
       "      <td>None</td>\n",
       "      <td>TUR</td>\n",
       "      <td>Turkey</td>\n",
       "      <td>POLYGON Z ((37.86147 37.94208 0.00000, 39.1110...</td>\n",
       "    </tr>\n",
       "    <tr>\n",
       "      <th>2</th>\n",
       "      <td>37SDC</td>\n",
       "      <td>Features</td>\n",
       "      <td>TILE PROPERTIES&lt;br&gt;&lt;table border=0 cellpadding...</td>\n",
       "      <td>0.0</td>\n",
       "      <td>None</td>\n",
       "      <td>None</td>\n",
       "      <td>None</td>\n",
       "      <td>None</td>\n",
       "      <td>TUR</td>\n",
       "      <td>Turkey</td>\n",
       "      <td>POLYGON Z ((37.84725 38.84331 0.00000, 39.1124...</td>\n",
       "    </tr>\n",
       "    <tr>\n",
       "      <th>3</th>\n",
       "      <td>37SEA</td>\n",
       "      <td>Features</td>\n",
       "      <td>TILE PROPERTIES&lt;br&gt;&lt;table border=0 cellpadding...</td>\n",
       "      <td>0.0</td>\n",
       "      <td>None</td>\n",
       "      <td>None</td>\n",
       "      <td>None</td>\n",
       "      <td>None</td>\n",
       "      <td>TUR</td>\n",
       "      <td>Turkey</td>\n",
       "      <td>POLYGON Z ((38.99978 37.04658 0.00000, 40.2344...</td>\n",
       "    </tr>\n",
       "    <tr>\n",
       "      <th>4</th>\n",
       "      <td>37SEB</td>\n",
       "      <td>Features</td>\n",
       "      <td>TILE PROPERTIES&lt;br&gt;&lt;table border=0 cellpadding...</td>\n",
       "      <td>0.0</td>\n",
       "      <td>None</td>\n",
       "      <td>None</td>\n",
       "      <td>None</td>\n",
       "      <td>None</td>\n",
       "      <td>TUR</td>\n",
       "      <td>Turkey</td>\n",
       "      <td>POLYGON Z ((38.99977 37.94759 0.00000, 40.2493...</td>\n",
       "    </tr>\n",
       "    <tr>\n",
       "      <th>5</th>\n",
       "      <td>37SEC</td>\n",
       "      <td>Features</td>\n",
       "      <td>TILE PROPERTIES&lt;br&gt;&lt;table border=0 cellpadding...</td>\n",
       "      <td>0.0</td>\n",
       "      <td>None</td>\n",
       "      <td>None</td>\n",
       "      <td>None</td>\n",
       "      <td>None</td>\n",
       "      <td>TUR</td>\n",
       "      <td>Turkey</td>\n",
       "      <td>POLYGON Z ((38.99977 38.84900 0.00000, 40.2649...</td>\n",
       "    </tr>\n",
       "  </tbody>\n",
       "</table>\n",
       "</div>"
      ],
      "text/plain": [
       "    name   folders                                         descriptio  \\\n",
       "0  37SDA  Features  TILE PROPERTIES<br><table border=0 cellpadding...   \n",
       "1  37SDB  Features  TILE PROPERTIES<br><table border=0 cellpadding...   \n",
       "2  37SDC  Features  TILE PROPERTIES<br><table border=0 cellpadding...   \n",
       "3  37SEA  Features  TILE PROPERTIES<br><table border=0 cellpadding...   \n",
       "4  37SEB  Features  TILE PROPERTIES<br><table border=0 cellpadding...   \n",
       "5  37SEC  Features  TILE PROPERTIES<br><table border=0 cellpadding...   \n",
       "\n",
       "   altitude alt_mode time_begin time_end time_when GID_0  NAME_0  \\\n",
       "0       0.0     None       None     None      None   TUR  Turkey   \n",
       "1       0.0     None       None     None      None   TUR  Turkey   \n",
       "2       0.0     None       None     None      None   TUR  Turkey   \n",
       "3       0.0     None       None     None      None   TUR  Turkey   \n",
       "4       0.0     None       None     None      None   TUR  Turkey   \n",
       "5       0.0     None       None     None      None   TUR  Turkey   \n",
       "\n",
       "                                            geometry  \n",
       "0  POLYGON Z ((37.87506 37.04125 0.00000, 39.1097...  \n",
       "1  POLYGON Z ((37.86147 37.94208 0.00000, 39.1110...  \n",
       "2  POLYGON Z ((37.84725 38.84331 0.00000, 39.1124...  \n",
       "3  POLYGON Z ((38.99978 37.04658 0.00000, 40.2344...  \n",
       "4  POLYGON Z ((38.99977 37.94759 0.00000, 40.2493...  \n",
       "5  POLYGON Z ((38.99977 38.84900 0.00000, 40.2649...  "
      ]
     },
     "execution_count": 140,
     "metadata": {},
     "output_type": "execute_result"
    }
   ],
   "source": [
    "tiles_intersection"
   ]
  },
  {
   "cell_type": "code",
   "execution_count": 141,
   "metadata": {},
   "outputs": [
    {
     "data": {
      "text/plain": [
       "{'type': 'Polygon',\n",
       " 'coordinates': [[[37.88932726171328, 36.05158782950058],\n",
       "   [37.87507611322617, 37.0412408780802],\n",
       "   [39.109748061987446, 37.0465232766518],\n",
       "   [39.10835736650451, 36.05668401100348],\n",
       "   [37.88932726171328, 36.05158782950058]]]}"
      ]
     },
     "execution_count": 141,
     "metadata": {},
     "output_type": "execute_result"
    }
   ],
   "source": [
    "item.geometry"
   ]
  },
  {
   "cell_type": "code",
   "execution_count": 142,
   "metadata": {},
   "outputs": [
    {
     "name": "stderr",
     "output_type": "stream",
     "text": [
      "C:\\Users\\akif\\.conda\\envs\\geo\\lib\\site-packages\\ipykernel_launcher.py:2: UserWarning: Geometry is in a geographic CRS. Results from 'centroid' are likely incorrect. Use 'GeoSeries.to_crs()' to re-project geometries to a projected CRS before this operation.\n",
      "\n",
      "  \n"
     ]
    },
    {
     "data": {
      "text/html": [
       "<div style=\"width:100%;\"><div style=\"position:relative;width:100%;height:0;padding-bottom:60%;\"><span style=\"color:#565656\">Make this Notebook Trusted to load map: File -> Trust Notebook</span><iframe src=\"about:blank\" style=\"position:absolute;width:100%;height:100%;left:0;top:0;border:none !important;\" data-html=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 onload=\"this.contentDocument.open();this.contentDocument.write(atob(this.getAttribute('data-html')));this.contentDocument.close();\" allowfullscreen webkitallowfullscreen mozallowfullscreen></iframe></div></div>"
      ],
      "text/plain": [
       "<folium.folium.Map at 0x1850aa52d88>"
      ]
     },
     "execution_count": 142,
     "metadata": {},
     "output_type": "execute_result"
    }
   ],
   "source": [
    "# Get the center of the map\n",
    "xy = np.asarray(target_area.centroid[0].xy).squeeze()\n",
    "center = list(xy[::-1])\n",
    "zoom = 7\n",
    "# Create the most basic OSM folium map\n",
    "m = folium.Map(location=center, zoom_start=zoom)\n",
    "# Add the bounds GeoDataFrame in red\n",
    "m.add_child(folium.GeoJson(target_area.__geo_interface__, name='Area of Study', \n",
    "                           style_function=lambda x: {'color': 'red', 'alpha': 0}))\n",
    "m"
   ]
  },
  {
   "cell_type": "code",
   "execution_count": 143,
   "metadata": {},
   "outputs": [
    {
     "data": {
      "text/plain": [
       "6"
      ]
     },
     "execution_count": 143,
     "metadata": {},
     "output_type": "execute_result"
    }
   ],
   "source": [
    "len(tiles_intersection)"
   ]
  },
  {
   "cell_type": "code",
   "execution_count": 144,
   "metadata": {},
   "outputs": [
    {
     "data": {
      "text/html": [
       "<div style=\"width:100%;\"><div style=\"position:relative;width:100%;height:0;padding-bottom:60%;\"><span style=\"color:#565656\">Make this Notebook Trusted to load map: File -> Trust Notebook</span><iframe src=\"about:blank\" style=\"position:absolute;width:100%;height:100%;left:0;top:0;border:none !important;\" data-html=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 onload=\"this.contentDocument.open();this.contentDocument.write(atob(this.getAttribute('data-html')));this.contentDocument.close();\" allowfullscreen webkitallowfullscreen mozallowfullscreen></iframe></div></div>"
      ],
      "text/plain": [
       "<folium.folium.Map at 0x1850aa52d88>"
      ]
     },
     "execution_count": 144,
     "metadata": {},
     "output_type": "execute_result"
    }
   ],
   "source": [
    "# Iterate through each Polygon of paths and rows intersecting the area\n",
    "for i, row in tiles_intersection.iterrows():\n",
    "    # Create a string for the name containing the path and row of this Polygon\n",
    "    name = f'ID:{row[0]}' \n",
    "    # Create the folium geometry of this Polygon \n",
    "    g = folium.GeoJson(row.geometry.__geo_interface__, name=name)\n",
    "    # Add a folium Popup object with the name string\n",
    "    g.add_child(folium.Popup(name))\n",
    "    # Add the object to the map\n",
    "    g.add_to(m)\n",
    "    \n",
    "\n",
    "    \n",
    "folium.LayerControl().add_to(m)    \n",
    "\n",
    "m"
   ]
  },
  {
   "cell_type": "code",
   "execution_count": null,
   "metadata": {},
   "outputs": [],
   "source": [
    "# All tile numbes in intersect dataframe\n",
    "# You can select your tile which you want to drop from list\n",
    "tiles_list = sorted(tiles_intersection['name'].unique().tolist())\n",
    "tiles_list"
   ]
  },
  {
   "cell_type": "code",
   "execution_count": null,
   "metadata": {},
   "outputs": [],
   "source": [
    "def drop_tile(df,drop_list):\n",
    "    tmp=df.copy()\n",
    "    for t in drop_list:        \n",
    "        tmp.drop(tmp[tmp.name==t].index, inplace=True)\n",
    "    tmp.reset_index(inplace=True)\n",
    "    df=tmp.copy()\n",
    "    return df"
   ]
  },
  {
   "cell_type": "code",
   "execution_count": null,
   "metadata": {},
   "outputs": [],
   "source": [
    "#drop_list=['37SDA','37SDB']\n",
    "#tiles_list=drop_tile(tiles_intersection,drop_list)\n",
    "#tiles_list"
   ]
  },
  {
   "cell_type": "code",
   "execution_count": null,
   "metadata": {},
   "outputs": [],
   "source": []
  },
  {
   "cell_type": "code",
   "execution_count": null,
   "metadata": {},
   "outputs": [],
   "source": [
    "tiles_intersection"
   ]
  },
  {
   "cell_type": "code",
   "execution_count": null,
   "metadata": {},
   "outputs": [],
   "source": [
    "Sentinel-2 Band Information\n",
    "\n",
    "'B01': {'title': 'Band 1 (coastal) 60m',}\n",
    "'B02': {'title': 'Band 2 (blue) 10m',}\n",
    "'B03': {'title': 'Band 3 (green) 10m',}\n",
    "'B04': {'title': 'Band 4 (red) 10m'  ,}\n",
    "'B05': {'title': 'Band 5 20m',}\n",
    "'B06': {'title': 'Band 6 20m',}\n",
    "'B07': {'title': 'Band 7 20m',}\n",
    "'B08': {'title': 'Band 8 (nir) 10m',}\n",
    "'B8A': {'title': 'Band 8A 20m',}\n",
    "'B09': {'title': 'Band 9  60m',}\n",
    "'B11': {'title': 'Band 11 (swir16) 20m',}\n",
    "'B12': {'title': 'Band 12 (swir22) 20m' ,}\n",
    "'AOT': {'title': 'Aerosol Optical Thickness (AOT) 60m',}\n",
    "'WVP': {'title': 'Water Vapour (WVP) 10m',}\n",
    "'SCL': {'title': 'Scene Classification Map (SCL) 20m'}\n",
    "'info':{'title': 'Scene Info'}\n",
    "'metadata': {'title': 'Scene Metadata'}\n",
    "'visual': {'title': '8 bit  RGB image'}\n",
    "'overview': {'title': 'Low resolution rgb'}\n",
    "'thumbnail': {'title': 'thumbnail'}\n",
    "\n",
    "You should give band list to function \n",
    "\n",
    "band_list=['B03','B04','B05']\n"
   ]
  },
  {
   "cell_type": "code",
   "execution_count": null,
   "metadata": {},
   "outputs": [],
   "source": [
    "band_dict={'B01': {'title': 'Band 1 (coastal) 60m',},\n",
    "'B02': {'title': 'Band 2 (blue) 10m',},\n",
    "'B03': {'title': 'Band 3 (green) 10m',},\n",
    "'B04': {'title': 'Band 4 (red) 10m'  ,},\n",
    "'B05': {'title': 'Band 5 20m',},\n",
    "'B06': {'title': 'Band 6 20m',},\n",
    "'B07': {'title': 'Band 7 20m',},\n",
    "'B08': {'title': 'Band 8 (nir) 10m',},\n",
    "'B8A': {'title': 'Band 8A 20m',},\n",
    "'B09': {'title': 'Band 9  60m',},\n",
    "'B11': {'title': 'Band 11 (swir16) 20m',},\n",
    "'B12': {'title': 'Band 12 (swir22) 20m' ,},\n",
    "'AOT': {'title': 'Aerosol Optical Thickness (AOT) 60m',},\n",
    "'WVP': {'title': 'Water Vapour (WVP) 10m',},\n",
    "'SCL': {'title': 'Scene Classification Map (SCL) 20m'},\n",
    "'info':{'title': 'Scene Info'},\n",
    "'metadata': {'title': 'Scene Metadata'},\n",
    "'visual': {'title': '8 bit  RGB image'},\n",
    "'overview': {'title': 'Low resolution rgb'},\n",
    "'thumbnail': {'title': 'thumbnail'}}"
   ]
  },
  {
   "cell_type": "code",
   "execution_count": null,
   "metadata": {},
   "outputs": [],
   "source": [
    "band_dict.keys()"
   ]
  },
  {
   "cell_type": "code",
   "execution_count": 10,
   "metadata": {},
   "outputs": [],
   "source": [
    "def find_sentinel(target_aoi,date,tiles_list,max_cloud,band_list):\n",
    "    URL='https://earth-search.aws.element84.com/v0'\n",
    "    results = satsearch.Search.search(url=URL,\n",
    "                                  collections=['sentinel-s2-l2a-cogs'], # note collection='sentinel-s2-l2a-cogs' doesn't work\n",
    "                                  datetime=date,\n",
    "                                  bbox=target_aoi,\n",
    "                                  query={'eo:cloud_cover': {'lt':max_cloud}}, )\n",
    "    result_list=[]\n",
    "    for t in tiles_list:\n",
    "        # query keywords\n",
    "        tile_number=int(t[0:2])\n",
    "        lat_band=t[2]\n",
    "        grid_sq=t[3:]\n",
    "        items = results.items()\n",
    "        items.filter('sentinel:utm_zone',[tile_number,])\n",
    "        items.filter('sentinel:latitude_band',[lat_band])\n",
    "        items.filter('sentinel:grid_square', [grid_sq])\n",
    "        selected_item=sorted(items.properties('eo:cloud_cover'))[0]\n",
    "        #select best image\n",
    "        items.filter('eo:cloud_cover', [selected_item])\n",
    "        #print(items.summary(['date', 'id', 'eo:cloud_cover']))\n",
    "        #items.__getitem__(0)\n",
    "        tile_dict={'tile_name':t}\n",
    "        bands_dict={}\n",
    "        for b in band_list:\n",
    "            band_url=items.__getitem__(0).assets[b]['href']\n",
    "            bands_dict[b]=band_url\n",
    "            \n",
    "        img_name=items.__getitem__(0).properties['sentinel:product_id']\n",
    "        imgs_dict={'image_name':img_name,'bands':bands_dict}\n",
    "        tile_dict[f'tile_images']=imgs_dict        \n",
    "        result_list.append(tile_dict)\n",
    "    \n",
    "    return result_list\n",
    "            "
   ]
  },
  {
   "cell_type": "code",
   "execution_count": null,
   "metadata": {},
   "outputs": [],
   "source": [
    "tiles_list = sorted(tiles_intersection['name'].unique().tolist())\n",
    "tiles_list"
   ]
  },
  {
   "cell_type": "code",
   "execution_count": 11,
   "metadata": {},
   "outputs": [],
   "source": [
    "#bbox = [32.48, -3.24, 36.58, -3.14] # (min lon, min lat, max lon, max lat)\n",
    "boundry=list(target_area.geometry.bounds.values[0]) #boundry from your AOI\n",
    "bbox=[boundry[0],boundry[1],boundry[2],boundry[3]] #(min lon, min lat, max lon, max lat)\n",
    "dates = '2020-07-01/2020-07-12'\n",
    "band_list=['B02','B03','B04','B08']\n",
    "cloud_percentage=20"
   ]
  },
  {
   "cell_type": "code",
   "execution_count": 12,
   "metadata": {
    "collapsed": true,
    "jupyter": {
     "outputs_hidden": true
    }
   },
   "outputs": [
    {
     "ename": "NameError",
     "evalue": "name 'tiles_list' is not defined",
     "output_type": "error",
     "traceback": [
      "\u001b[1;31m---------------------------------------------------------------------------\u001b[0m",
      "\u001b[1;31mNameError\u001b[0m                                 Traceback (most recent call last)",
      "\u001b[1;32m<ipython-input-12-c0ec507fb93f>\u001b[0m in \u001b[0;36m<module>\u001b[1;34m()\u001b[0m\n\u001b[1;32m----> 1\u001b[1;33m \u001b[0mget_ipython\u001b[0m\u001b[1;33m(\u001b[0m\u001b[1;33m)\u001b[0m\u001b[1;33m.\u001b[0m\u001b[0mrun_cell_magic\u001b[0m\u001b[1;33m(\u001b[0m\u001b[1;34m'time'\u001b[0m\u001b[1;33m,\u001b[0m \u001b[1;34m''\u001b[0m\u001b[1;33m,\u001b[0m \u001b[1;34m'image_list=find_sentinel(target_aoi=bbox,\\n                         date=dates,\\n                         tiles_list=tiles_list[0:3],\\n                         max_cloud=cloud_percentage,\\n                         band_list=band_list)'\u001b[0m\u001b[1;33m)\u001b[0m\u001b[1;33m\u001b[0m\u001b[1;33m\u001b[0m\u001b[0m\n\u001b[0m",
      "\u001b[1;32mC:\\Users\\akif\\.conda\\envs\\geo\\lib\\site-packages\\IPython\\core\\interactiveshell.py\u001b[0m in \u001b[0;36mrun_cell_magic\u001b[1;34m(self, magic_name, line, cell)\u001b[0m\n\u001b[0;32m   2115\u001b[0m             \u001b[0mmagic_arg_s\u001b[0m \u001b[1;33m=\u001b[0m \u001b[0mself\u001b[0m\u001b[1;33m.\u001b[0m\u001b[0mvar_expand\u001b[0m\u001b[1;33m(\u001b[0m\u001b[0mline\u001b[0m\u001b[1;33m,\u001b[0m \u001b[0mstack_depth\u001b[0m\u001b[1;33m)\u001b[0m\u001b[1;33m\u001b[0m\u001b[1;33m\u001b[0m\u001b[0m\n\u001b[0;32m   2116\u001b[0m             \u001b[1;32mwith\u001b[0m \u001b[0mself\u001b[0m\u001b[1;33m.\u001b[0m\u001b[0mbuiltin_trap\u001b[0m\u001b[1;33m:\u001b[0m\u001b[1;33m\u001b[0m\u001b[1;33m\u001b[0m\u001b[0m\n\u001b[1;32m-> 2117\u001b[1;33m                 \u001b[0mresult\u001b[0m \u001b[1;33m=\u001b[0m \u001b[0mfn\u001b[0m\u001b[1;33m(\u001b[0m\u001b[0mmagic_arg_s\u001b[0m\u001b[1;33m,\u001b[0m \u001b[0mcell\u001b[0m\u001b[1;33m)\u001b[0m\u001b[1;33m\u001b[0m\u001b[1;33m\u001b[0m\u001b[0m\n\u001b[0m\u001b[0;32m   2118\u001b[0m             \u001b[1;32mreturn\u001b[0m \u001b[0mresult\u001b[0m\u001b[1;33m\u001b[0m\u001b[1;33m\u001b[0m\u001b[0m\n\u001b[0;32m   2119\u001b[0m \u001b[1;33m\u001b[0m\u001b[0m\n",
      "\u001b[1;32m<decorator-gen-54>\u001b[0m in \u001b[0;36mtime\u001b[1;34m(self, line, cell, local_ns)\u001b[0m\n",
      "\u001b[1;32mC:\\Users\\akif\\.conda\\envs\\geo\\lib\\site-packages\\IPython\\core\\magic.py\u001b[0m in \u001b[0;36m<lambda>\u001b[1;34m(f, *a, **k)\u001b[0m\n\u001b[0;32m    186\u001b[0m     \u001b[1;31m# but it's overkill for just that one bit of state.\u001b[0m\u001b[1;33m\u001b[0m\u001b[1;33m\u001b[0m\u001b[1;33m\u001b[0m\u001b[0m\n\u001b[0;32m    187\u001b[0m     \u001b[1;32mdef\u001b[0m \u001b[0mmagic_deco\u001b[0m\u001b[1;33m(\u001b[0m\u001b[0marg\u001b[0m\u001b[1;33m)\u001b[0m\u001b[1;33m:\u001b[0m\u001b[1;33m\u001b[0m\u001b[1;33m\u001b[0m\u001b[0m\n\u001b[1;32m--> 188\u001b[1;33m         \u001b[0mcall\u001b[0m \u001b[1;33m=\u001b[0m \u001b[1;32mlambda\u001b[0m \u001b[0mf\u001b[0m\u001b[1;33m,\u001b[0m \u001b[1;33m*\u001b[0m\u001b[0ma\u001b[0m\u001b[1;33m,\u001b[0m \u001b[1;33m**\u001b[0m\u001b[0mk\u001b[0m\u001b[1;33m:\u001b[0m \u001b[0mf\u001b[0m\u001b[1;33m(\u001b[0m\u001b[1;33m*\u001b[0m\u001b[0ma\u001b[0m\u001b[1;33m,\u001b[0m \u001b[1;33m**\u001b[0m\u001b[0mk\u001b[0m\u001b[1;33m)\u001b[0m\u001b[1;33m\u001b[0m\u001b[1;33m\u001b[0m\u001b[0m\n\u001b[0m\u001b[0;32m    189\u001b[0m \u001b[1;33m\u001b[0m\u001b[0m\n\u001b[0;32m    190\u001b[0m         \u001b[1;32mif\u001b[0m \u001b[0mcallable\u001b[0m\u001b[1;33m(\u001b[0m\u001b[0marg\u001b[0m\u001b[1;33m)\u001b[0m\u001b[1;33m:\u001b[0m\u001b[1;33m\u001b[0m\u001b[1;33m\u001b[0m\u001b[0m\n",
      "\u001b[1;32mC:\\Users\\akif\\.conda\\envs\\geo\\lib\\site-packages\\IPython\\core\\magics\\execution.py\u001b[0m in \u001b[0;36mtime\u001b[1;34m(self, line, cell, local_ns)\u001b[0m\n\u001b[0;32m   1191\u001b[0m         \u001b[1;32melse\u001b[0m\u001b[1;33m:\u001b[0m\u001b[1;33m\u001b[0m\u001b[1;33m\u001b[0m\u001b[0m\n\u001b[0;32m   1192\u001b[0m             \u001b[0mst\u001b[0m \u001b[1;33m=\u001b[0m \u001b[0mclock2\u001b[0m\u001b[1;33m(\u001b[0m\u001b[1;33m)\u001b[0m\u001b[1;33m\u001b[0m\u001b[1;33m\u001b[0m\u001b[0m\n\u001b[1;32m-> 1193\u001b[1;33m             \u001b[0mexec\u001b[0m\u001b[1;33m(\u001b[0m\u001b[0mcode\u001b[0m\u001b[1;33m,\u001b[0m \u001b[0mglob\u001b[0m\u001b[1;33m,\u001b[0m \u001b[0mlocal_ns\u001b[0m\u001b[1;33m)\u001b[0m\u001b[1;33m\u001b[0m\u001b[1;33m\u001b[0m\u001b[0m\n\u001b[0m\u001b[0;32m   1194\u001b[0m             \u001b[0mend\u001b[0m \u001b[1;33m=\u001b[0m \u001b[0mclock2\u001b[0m\u001b[1;33m(\u001b[0m\u001b[1;33m)\u001b[0m\u001b[1;33m\u001b[0m\u001b[1;33m\u001b[0m\u001b[0m\n\u001b[0;32m   1195\u001b[0m             \u001b[0mout\u001b[0m \u001b[1;33m=\u001b[0m \u001b[1;32mNone\u001b[0m\u001b[1;33m\u001b[0m\u001b[1;33m\u001b[0m\u001b[0m\n",
      "\u001b[1;32m<timed exec>\u001b[0m in \u001b[0;36m<module>\u001b[1;34m()\u001b[0m\n",
      "\u001b[1;31mNameError\u001b[0m: name 'tiles_list' is not defined"
     ]
    }
   ],
   "source": [
    "%%time\n",
    "image_list=find_sentinel(target_aoi=bbox,\n",
    "                         date=dates,\n",
    "                         tiles_list=tiles_list[0:3],\n",
    "                         max_cloud=cloud_percentage,\n",
    "                         band_list=band_list)"
   ]
  },
  {
   "cell_type": "code",
   "execution_count": null,
   "metadata": {},
   "outputs": [],
   "source": [
    "item.properties"
   ]
  },
  {
   "cell_type": "code",
   "execution_count": null,
   "metadata": {},
   "outputs": [],
   "source": [
    "str(item.properties['sentinel:utm_zone'])+item.properties['sentinel:latitude_band']+item.properties['sentinel:grid_square']"
   ]
  },
  {
   "cell_type": "code",
   "execution_count": null,
   "metadata": {
    "collapsed": true,
    "jupyter": {
     "outputs_hidden": true
    }
   },
   "outputs": [],
   "source": [
    "%history"
   ]
  },
  {
   "cell_type": "code",
   "execution_count": null,
   "metadata": {},
   "outputs": [],
   "source": [
    "image_list"
   ]
  },
  {
   "cell_type": "code",
   "execution_count": null,
   "metadata": {},
   "outputs": [],
   "source": [
    "def find_sentinel_list(target_aoi,date,tiles_list,max_cloud,band_list):\n",
    "    URL='https://earth-search.aws.element84.com/v0'\n",
    "    results = Search.search(url=URL,\n",
    "                                  collections=['sentinel-s2-l2a-cogs'], # note collection='sentinel-s2-l2a-cogs' doesn't work\n",
    "                                  datetime=date,\n",
    "                                  bbox=target_aoi,\n",
    "                                  query={'eo:cloud_cover': {'lt':max_cloud}}, )\n",
    "    \n",
    "    \n",
    "    return results\n",
    "            "
   ]
  },
  {
   "cell_type": "code",
   "execution_count": null,
   "metadata": {},
   "outputs": [],
   "source": [
    "%%time\n",
    "sentinel_list=find_sentinel_list(target_aoi=bbox,\n",
    "                         date=dates,\n",
    "                         tiles_list=tiles_list[0:3],\n",
    "                         max_cloud=cloud_percentage,\n",
    "                         band_list=band_list)\n"
   ]
  },
  {
   "cell_type": "code",
   "execution_count": null,
   "metadata": {},
   "outputs": [],
   "source": [
    "items = sentinel_list.items()\n",
    "items"
   ]
  },
  {
   "cell_type": "code",
   "execution_count": null,
   "metadata": {},
   "outputs": [],
   "source": [
    "item=items._items[0]\n"
   ]
  },
  {
   "cell_type": "code",
   "execution_count": null,
   "metadata": {},
   "outputs": [],
   "source": [
    "item.properties"
   ]
  },
  {
   "cell_type": "code",
   "execution_count": null,
   "metadata": {},
   "outputs": [],
   "source": [
    "a=items.filter('sentinel:product_id',['S2A_MSIL2A_20200711T080611_N0214_R078_T37SDA_20200711T112854','S2A_MSIL2A_20200711T080611_N0214_R078_T37SEA_20200711T112854','S2A_MSIL2A_20200711T080611_N0214_R078_T37SDB_20200711T112854'])\n",
    "a"
   ]
  },
  {
   "cell_type": "code",
   "execution_count": null,
   "metadata": {},
   "outputs": [],
   "source": [
    "items.properties('sentinel:product_id')"
   ]
  },
  {
   "cell_type": "code",
   "execution_count": null,
   "metadata": {},
   "outputs": [],
   "source": [
    "filenames = items.download"
   ]
  },
  {
   "cell_type": "code",
   "execution_count": null,
   "metadata": {},
   "outputs": [],
   "source": [
    "item=items._items[0]"
   ]
  },
  {
   "cell_type": "code",
   "execution_count": null,
   "metadata": {},
   "outputs": [],
   "source": [
    "## bunlara gore kucuk sorgulama ornekleri yapabiliriz\n",
    "# kullanici time series icin bu yontem ile goruntu secebilir\n",
    "item.properties"
   ]
  },
  {
   "cell_type": "code",
   "execution_count": null,
   "metadata": {},
   "outputs": [],
   "source": [
    "%%time\n",
    "## download a specific asset from all items and put in a directory by date in 'downloads'\n",
    "## filenames = items.download('metadata', filename_template='downloads/${date}/${id}')\n",
    "item.download('B08',filename_template='deneme_')"
   ]
  },
  {
   "cell_type": "code",
   "execution_count": null,
   "metadata": {
    "collapsed": true,
    "jupyter": {
     "outputs_hidden": true
    }
   },
   "outputs": [],
   "source": [
    "#oldugu yere id ile kayit\n",
    "#items.download_assets(filename_template='${id}')\n",
    "#deefault sentinel s2-l2a-cogs altinda data/id olarak kayit\n",
    "items.download_assets(filename_template='${date}/${id}')"
   ]
  },
  {
   "cell_type": "code",
   "execution_count": null,
   "metadata": {},
   "outputs": [],
   "source": [
    "items.download('metadata','B08', filename_template='.//${id}_sen')"
   ]
  },
  {
   "cell_type": "code",
   "execution_count": null,
   "metadata": {},
   "outputs": [],
   "source": [
    "item.download(*['info','metadata'])"
   ]
  },
  {
   "cell_type": "code",
   "execution_count": null,
   "metadata": {},
   "outputs": [],
   "source": []
  },
  {
   "cell_type": "code",
   "execution_count": null,
   "metadata": {},
   "outputs": [],
   "source": [
    "item.download('SCL')"
   ]
  },
  {
   "cell_type": "code",
   "execution_count": null,
   "metadata": {
    "collapsed": true,
    "jupyter": {
     "outputs_hidden": true
    }
   },
   "outputs": [],
   "source": [
    "%%time\n",
    "item.download_assets()"
   ]
  },
  {
   "cell_type": "code",
   "execution_count": null,
   "metadata": {},
   "outputs": [],
   "source": [
    "#bbox = [32.48, -3.24, 36.58, -3.14] # (min lon, min lat, max lon, max lat)\n",
    "boundry=list(target_area.geometry.bounds.values[0]) #boundry from your AOI\n",
    "bbox=[boundry[0],boundry[1],boundry[2],boundry[3]] #(min lon, min lat, max lon, max lat)\n",
    "dates = '2020-07-01/2020-07-12'\n",
    "band_list=['B02','B03','B04','B08']\n",
    "cloud_percentage=20"
   ]
  },
  {
   "cell_type": "code",
   "execution_count": null,
   "metadata": {},
   "outputs": [],
   "source": [
    "%%time\n",
    "image_list_stack=find_sentinel_stack(target_aoi=bbox,\n",
    "                         date=dates,\n",
    "                         tiles_list=tiles_list[0:3],\n",
    "                         max_cloud=cloud_percentage,\n",
    "                         band_list=band_list)\n"
   ]
  },
  {
   "cell_type": "code",
   "execution_count": null,
   "metadata": {
    "collapsed": true,
    "jupyter": {
     "outputs_hidden": true
    }
   },
   "outputs": [],
   "source": [
    "image_list_stack."
   ]
  },
  {
   "cell_type": "code",
   "execution_count": null,
   "metadata": {},
   "outputs": [],
   "source": [
    "image_list_stack[0]"
   ]
  },
  {
   "cell_type": "code",
   "execution_count": null,
   "metadata": {},
   "outputs": [],
   "source": [
    "red_band=image_list[0]['tile_images']['bands']['B02']\n",
    "red_band"
   ]
  },
  {
   "cell_type": "code",
   "execution_count": null,
   "metadata": {},
   "outputs": [],
   "source": []
  },
  {
   "cell_type": "code",
   "execution_count": null,
   "metadata": {},
   "outputs": [],
   "source": [
    "import rioxarray\n",
    "\n",
    "%matplotlib inline"
   ]
  },
  {
   "cell_type": "code",
   "execution_count": null,
   "metadata": {},
   "outputs": [],
   "source": [
    "cog_url='https://sentinel-cogs.s3.us-west-2.amazonaws.com/sentinel-s2-l2a-cogs/37/S/DB/2020/7/S2A_37SDB_20200701_0_L2A/B04.tif'"
   ]
  },
  {
   "cell_type": "code",
   "execution_count": null,
   "metadata": {},
   "outputs": [],
   "source": [
    "rds = rioxarray.open_rasterio(cog_url, masked=True, chunks=(512,512))"
   ]
  },
  {
   "cell_type": "code",
   "execution_count": null,
   "metadata": {},
   "outputs": [],
   "source": [
    "rds"
   ]
  },
  {
   "cell_type": "code",
   "execution_count": null,
   "metadata": {},
   "outputs": [],
   "source": []
  },
  {
   "cell_type": "code",
   "execution_count": null,
   "metadata": {},
   "outputs": [],
   "source": [
    "#data from http://geojson.io \n",
    "data={\n",
    "  \"type\": \"FeatureCollection\",\n",
    "  \"features\": [\n",
    "    {\n",
    "      \"type\": \"Feature\",\n",
    "      \"properties\": {},\n",
    "      \"geometry\": {\n",
    "        \"type\": \"Polygon\",\n",
    "        \"coordinates\": [\n",
    "          [\n",
    "            [\n",
    "              38.54827880859375,\n",
    "              36.90378362619561\n",
    "            ],\n",
    "            [\n",
    "              40.0067138671875,\n",
    "              36.90378362619561\n",
    "            ],\n",
    "            [\n",
    "              40.0067138671875,\n",
    "              37.89219554724437\n",
    "            ],\n",
    "            [\n",
    "              38.54827880859375,\n",
    "              37.89219554724437\n",
    "            ],\n",
    "            [\n",
    "              38.54827880859375,\n",
    "              36.90378362619561\n",
    "            ]\n",
    "          ]\n",
    "        ]\n",
    "      }\n",
    "    }\n",
    "  ]\n",
    "}"
   ]
  },
  {
   "cell_type": "code",
   "execution_count": null,
   "metadata": {},
   "outputs": [],
   "source": [
    "#data from http://geojson.io \n",
    "geometries={\n",
    "  \"type\": \"FeatureCollection\",\n",
    "  \"features\": [\n",
    "    {\n",
    "      \"type\": \"Feature\",\n",
    "      \"properties\": {},\n",
    "      \"geometry\": {\n",
    "        \"type\": \"Polygon\",\n",
    "        \"coordinates\": [\n",
    "          [\n",
    "        [\n",
    "              38.8641357421875,\n",
    "              36.83456911447562\n",
    "            ],\n",
    "            [\n",
    "              39.096221923828125,\n",
    "              36.83456911447562\n",
    "            ],\n",
    "            [\n",
    "              39.096221923828125,\n",
    "              37.045312802603355\n",
    "            ],\n",
    "            [\n",
    "              38.8641357421875,\n",
    "              37.045312802603355\n",
    "            ],\n",
    "            [\n",
    "              38.8641357421875,\n",
    "              36.83456911447562\n",
    "            ]\n",
    "          ]\n",
    "        ]\n",
    "      }\n",
    "    }\n",
    "  ]\n",
    "}"
   ]
  },
  {
   "cell_type": "code",
   "execution_count": null,
   "metadata": {},
   "outputs": [],
   "source": [
    "aoi=json.dumps(geometries)\n",
    "aoi_gpd=gpd.read_file(aoi)\n"
   ]
  },
  {
   "cell_type": "code",
   "execution_count": null,
   "metadata": {},
   "outputs": [],
   "source": [
    "rds.rio.crs.to_string()"
   ]
  },
  {
   "cell_type": "code",
   "execution_count": null,
   "metadata": {},
   "outputs": [],
   "source": [
    "#https://geopandas.org/projections.html\n",
    "aoi_gpd=aoi_gpd.to_crs(rds.rio.crs.to_string()) "
   ]
  },
  {
   "cell_type": "code",
   "execution_count": null,
   "metadata": {},
   "outputs": [],
   "source": [
    "aoi_gpd.geometry.to_json"
   ]
  },
  {
   "cell_type": "code",
   "execution_count": null,
   "metadata": {},
   "outputs": [],
   "source": [
    "aoi_gpd.geometry"
   ]
  },
  {
   "cell_type": "code",
   "execution_count": null,
   "metadata": {},
   "outputs": [],
   "source": []
  },
  {
   "cell_type": "code",
   "execution_count": null,
   "metadata": {},
   "outputs": [],
   "source": [
    "clipped =rds.rio.clip(aoi_gpd.geometry)"
   ]
  },
  {
   "cell_type": "code",
   "execution_count": null,
   "metadata": {},
   "outputs": [],
   "source": [
    "clipped=None\n",
    "clipped"
   ]
  },
  {
   "cell_type": "code",
   "execution_count": null,
   "metadata": {},
   "outputs": [],
   "source": [
    "item.properties"
   ]
  },
  {
   "cell_type": "code",
   "execution_count": null,
   "metadata": {},
   "outputs": [],
   "source": [
    "ll=[]"
   ]
  },
  {
   "cell_type": "code",
   "execution_count": null,
   "metadata": {},
   "outputs": [],
   "source": [
    "ll.append(clipped.copy())"
   ]
  },
  {
   "cell_type": "code",
   "execution_count": null,
   "metadata": {},
   "outputs": [],
   "source": [
    "red=ll[0]"
   ]
  },
  {
   "cell_type": "code",
   "execution_count": null,
   "metadata": {},
   "outputs": [],
   "source": [
    "red_a=red.persist()"
   ]
  },
  {
   "cell_type": "code",
   "execution_count": null,
   "metadata": {},
   "outputs": [],
   "source": [
    "type(red_a)"
   ]
  },
  {
   "cell_type": "code",
   "execution_count": null,
   "metadata": {},
   "outputs": [],
   "source": [
    "%%time\n",
    "import rioxarray\n",
    "import numpy as np\n",
    "\n",
    "red=red.persist()\n",
    "nir=red.persist()\n",
    "den=red.values\n",
    "den_nir=nir.values\n",
    "np.seterr(divide='ignore', invalid='ignore')\n",
    "ndvi = (den_nir.astype(float) - den.astype(float))/(den_nir + den)"
   ]
  },
  {
   "cell_type": "code",
   "execution_count": null,
   "metadata": {},
   "outputs": [],
   "source": [
    "ndvi"
   ]
  },
  {
   "cell_type": "code",
   "execution_count": null,
   "metadata": {},
   "outputs": [],
   "source": [
    "%%time\n",
    "rds4326 = clipped.rio.reproject(\"epsg:4326\")"
   ]
  },
  {
   "cell_type": "code",
   "execution_count": null,
   "metadata": {},
   "outputs": [],
   "source": [
    "%%time\n",
    "rds4326.rio.to_raster(\"RGB.byte.4326.tif\")"
   ]
  },
  {
   "cell_type": "code",
   "execution_count": null,
   "metadata": {},
   "outputs": [],
   "source": [
    "cog_url='https://sentinel-cogs.s3.us-west-2.amazonaws.com/sentinel-s2-l2a-cogs/37/S/DB/2020/7/S2A_37SDB_20200701_0_L2A/B03.tif'"
   ]
  },
  {
   "cell_type": "code",
   "execution_count": null,
   "metadata": {},
   "outputs": [],
   "source": [
    "rds=None\n",
    "rds4326=None"
   ]
  },
  {
   "cell_type": "code",
   "execution_count": null,
   "metadata": {},
   "outputs": [],
   "source": [
    "%%time\n",
    "rds = rioxarray.open_rasterio(cog_url, masked=True, chunks=(256,256))\n",
    "clipped =rds.rio.clip(aoi_gpd.geometry)\n",
    "rds4326 = clipped.rio.reproject(\"epsg:4326\")\n",
    "rds4326.rio.to_raster(\"RGB.byte256.4326.tif\")"
   ]
  },
  {
   "cell_type": "code",
   "execution_count": null,
   "metadata": {},
   "outputs": [],
   "source": [
    "%%time\n",
    "rds = rioxarray.open_rasterio(cog_url,chunks=(512,512))\n",
    "clipped =rds.rio.clip(aoi_gpd.geometry)\n",
    "rds4326 = clipped.rio.reproject(\"epsg:4326\")\n",
    "rds4326.rio.to_raster(\"RGB.byte512.4326.tif\")\n"
   ]
  },
  {
   "cell_type": "code",
   "execution_count": null,
   "metadata": {},
   "outputs": [],
   "source": [
    "df[df.data>0.0].to_csv(\"out.csv\", index=False)"
   ]
  },
  {
   "cell_type": "code",
   "execution_count": null,
   "metadata": {
    "collapsed": true,
    "jupyter": {
     "outputs_hidden": true
    }
   },
   "outputs": [],
   "source": [
    "%%time\n",
    "import rioxarray\n",
    "import pandas\n",
    "\n",
    "rds4326 = rds4326.squeeze().drop(\"spatial_ref\").drop(\"band\")\n",
    "rds4326.name = \"data\"\n",
    "df = rds4326.to_dataframe().reset_index()\n",
    "df[df.data>0.0].to_csv(\"out.csv\", index=False)"
   ]
  },
  {
   "cell_type": "code",
   "execution_count": null,
   "metadata": {},
   "outputs": [],
   "source": [
    "%%time\n",
    "rds = rioxarray.open_rasterio(cog_url, masked=True, chunks=(1024,1024))\n",
    "clipped =rds.rio.clip(aoi_gpd.geometry)\n",
    "rds4326 = clipped.rio.reproject(\"epsg:4326\")\n",
    "rds4326.rio.to_raster(\"RGB.byte1024.4326.tif\")\n"
   ]
  },
  {
   "cell_type": "code",
   "execution_count": null,
   "metadata": {},
   "outputs": [],
   "source": [
    "%%time\n",
    "rds = rioxarray.open_rasterio(cog_url, masked=True, )\n",
    "clipped =rds.rio.clip(aoi_gpd.geometry)\n",
    "rds4326 = clipped.rio.reproject(\"epsg:4326\")\n",
    "rds4326.rio.to_raster(\"RGB.byteNoChunk.4326.tif\")\n"
   ]
  },
  {
   "cell_type": "code",
   "execution_count": null,
   "metadata": {},
   "outputs": [],
   "source": [
    "type(rds4326)"
   ]
  },
  {
   "cell_type": "code",
   "execution_count": null,
   "metadata": {},
   "outputs": [],
   "source": [
    "from rasterstats import zonal_stats"
   ]
  },
  {
   "cell_type": "code",
   "execution_count": null,
   "metadata": {
    "collapsed": true,
    "jupyter": {
     "outputs_hidden": true
    }
   },
   "outputs": [],
   "source": [
    "rioxarray.open_rasterio?"
   ]
  },
  {
   "cell_type": "code",
   "execution_count": null,
   "metadata": {},
   "outputs": [],
   "source": [
    "rds.variable"
   ]
  },
  {
   "cell_type": "code",
   "execution_count": null,
   "metadata": {},
   "outputs": [],
   "source": []
  },
  {
   "cell_type": "code",
   "execution_count": null,
   "metadata": {},
   "outputs": [],
   "source": [
    "rds.attrs.values()"
   ]
  },
  {
   "cell_type": "code",
   "execution_count": null,
   "metadata": {},
   "outputs": [],
   "source": [
    "client.shutdown()"
   ]
  },
  {
   "cell_type": "code",
   "execution_count": null,
   "metadata": {},
   "outputs": [],
   "source": [
    "#https://stackoverflow.com/questions/53394935/what-is-the-right-way-to-close-a-dask-localcluster\n",
    "import dask\n",
    "from dask.distributed import Client\n",
    "client = Client(n_workers=4, threads_per_worker=2, memory_limit='2GB')\n",
    "#client = Client(scheduler_port=8787,n_workers=4, threads_per_worker=2, memory_limit='2GB')\n",
    "\n",
    "client\n",
    "#client.shutdown()"
   ]
  },
  {
   "cell_type": "code",
   "execution_count": null,
   "metadata": {},
   "outputs": [],
   "source": [
    "image_list=[{'tile_name': '37SDA',\n",
    "  'tile_images': {'image_name': 'S2A_MSIL2A_20200711T080611_N0214_R078_T37SDA_20200711T112854',\n",
    "   'bands': {'B02': 'https://sentinel-cogs.s3.us-west-2.amazonaws.com/sentinel-s2-l2a-cogs/37/S/DA/2020/7/S2A_37SDA_20200711_0_L2A/B02.tif',\n",
    "    'B03': 'https://sentinel-cogs.s3.us-west-2.amazonaws.com/sentinel-s2-l2a-cogs/37/S/DA/2020/7/S2A_37SDA_20200711_0_L2A/B03.tif',\n",
    "    'B04': 'https://sentinel-cogs.s3.us-west-2.amazonaws.com/sentinel-s2-l2a-cogs/37/S/DA/2020/7/S2A_37SDA_20200711_0_L2A/B04.tif',\n",
    "    'B08': 'https://sentinel-cogs.s3.us-west-2.amazonaws.com/sentinel-s2-l2a-cogs/37/S/DA/2020/7/S2A_37SDA_20200711_0_L2A/B08.tif'}}},\n",
    " {'tile_name': '37SDB',\n",
    "  'tile_images': {'image_name': 'S2B_MSIL2A_20200706T080609_N0214_R078_T37SDB_20200706T113231',\n",
    "   'bands': {'B02': 'https://sentinel-cogs.s3.us-west-2.amazonaws.com/sentinel-s2-l2a-cogs/37/S/DB/2020/7/S2B_37SDB_20200706_1_L2A/B02.tif',\n",
    "    'B03': 'https://sentinel-cogs.s3.us-west-2.amazonaws.com/sentinel-s2-l2a-cogs/37/S/DB/2020/7/S2B_37SDB_20200706_1_L2A/B03.tif',\n",
    "    'B04': 'https://sentinel-cogs.s3.us-west-2.amazonaws.com/sentinel-s2-l2a-cogs/37/S/DB/2020/7/S2B_37SDB_20200706_1_L2A/B04.tif',\n",
    "    'B08': 'https://sentinel-cogs.s3.us-west-2.amazonaws.com/sentinel-s2-l2a-cogs/37/S/DB/2020/7/S2B_37SDB_20200706_1_L2A/B08.tif'}}},\n",
    " {'tile_name': '37SDC',\n",
    "  'tile_images': {'image_name': 'S2B_MSIL2A_20200709T081609_N0214_R121_T37SDC_20200709T114313',\n",
    "   'bands': {'B02': 'https://sentinel-cogs.s3.us-west-2.amazonaws.com/sentinel-s2-l2a-cogs/37/S/DC/2020/7/S2B_37SDC_20200709_0_L2A/B02.tif',\n",
    "    'B03': 'https://sentinel-cogs.s3.us-west-2.amazonaws.com/sentinel-s2-l2a-cogs/37/S/DC/2020/7/S2B_37SDC_20200709_0_L2A/B03.tif',\n",
    "    'B04': 'https://sentinel-cogs.s3.us-west-2.amazonaws.com/sentinel-s2-l2a-cogs/37/S/DC/2020/7/S2B_37SDC_20200709_0_L2A/B04.tif',\n",
    "    'B08': 'https://sentinel-cogs.s3.us-west-2.amazonaws.com/sentinel-s2-l2a-cogs/37/S/DC/2020/7/S2B_37SDC_20200709_0_L2A/B08.tif'}}}]"
   ]
  },
  {
   "cell_type": "code",
   "execution_count": null,
   "metadata": {},
   "outputs": [],
   "source": [
    "red_url=image_list[0]['tile_images']['bands']['B02']\n",
    "nir_url=image_list[0]['tile_images']['bands']['B08']\n",
    "red_url"
   ]
  },
  {
   "cell_type": "code",
   "execution_count": null,
   "metadata": {},
   "outputs": [],
   "source": [
    "red_local='B02big.tif'\n",
    "nir_local='B08big.tif'"
   ]
  },
  {
   "cell_type": "code",
   "execution_count": null,
   "metadata": {},
   "outputs": [],
   "source": [
    "nir_url"
   ]
  },
  {
   "cell_type": "code",
   "execution_count": null,
   "metadata": {},
   "outputs": [],
   "source": [
    "%%time\n",
    "red_band = rioxarray.open_rasterio(red_url, masked=True, chunks=(512,512))\n",
    "nir_band = rioxarray.open_rasterio(nir_url, masked=True, chunks=(512,512))"
   ]
  },
  {
   "cell_type": "code",
   "execution_count": null,
   "metadata": {
    "collapsed": true,
    "jupyter": {
     "outputs_hidden": true
    }
   },
   "outputs": [],
   "source": [
    "ndvi"
   ]
  },
  {
   "cell_type": "code",
   "execution_count": null,
   "metadata": {},
   "outputs": [],
   "source": [
    "%%time\n",
    "ndvi = (nir_band.astype(float) - red_band.astype(float))/(nir_band + red_band)"
   ]
  },
  {
   "cell_type": "code",
   "execution_count": null,
   "metadata": {
    "collapsed": true,
    "jupyter": {
     "outputs_hidden": true
    }
   },
   "outputs": [],
   "source": [
    "%%time\n",
    "ndvi_export = ndvi.squeeze().drop(\"spatial_ref\").drop(\"band\")\n",
    "ndvi_export.name = \"data\"\n",
    "df = ndvi_export.to_dataframe().reset_index()\n",
    "df[df.data>0.0].to_csv(\"ndvi.csv\", index=False)"
   ]
  },
  {
   "cell_type": "code",
   "execution_count": null,
   "metadata": {},
   "outputs": [],
   "source": [
    "type(red_band)"
   ]
  },
  {
   "cell_type": "code",
   "execution_count": null,
   "metadata": {},
   "outputs": [],
   "source": [
    "red_band.data"
   ]
  },
  {
   "cell_type": "code",
   "execution_count": null,
   "metadata": {},
   "outputs": [],
   "source": [
    "red_band.attrs"
   ]
  },
  {
   "cell_type": "code",
   "execution_count": null,
   "metadata": {},
   "outputs": [],
   "source": [
    "def calc_ndvi(nir_band,red_band):\n",
    "    ndvi = (nir_band - red_band) / (nir_band + red_band)\n",
    "    return ndvi"
   ]
  },
  {
   "cell_type": "code",
   "execution_count": null,
   "metadata": {},
   "outputs": [],
   "source": [
    "import dask\n",
    "calc_ndvi = dask.delayed(calc_ndvi)"
   ]
  },
  {
   "cell_type": "code",
   "execution_count": null,
   "metadata": {},
   "outputs": [],
   "source": [
    "ndvi_result=calc_ndvi(nir_band,red_band)"
   ]
  },
  {
   "cell_type": "code",
   "execution_count": null,
   "metadata": {
    "collapsed": true,
    "jupyter": {
     "outputs_hidden": true
    }
   },
   "outputs": [],
   "source": [
    "%%time\n",
    "ndvi2d = ndvi_result.compute().squeeze()"
   ]
  },
  {
   "cell_type": "code",
   "execution_count": null,
   "metadata": {},
   "outputs": [],
   "source": [
    "import matplotlib.pyplot as plt\n",
    "%matplotlib inline"
   ]
  },
  {
   "cell_type": "code",
   "execution_count": null,
   "metadata": {},
   "outputs": [],
   "source": [
    "import matplotlib.pyplot as plt\n",
    "%matplotlib inline"
   ]
  },
  {
   "cell_type": "code",
   "execution_count": null,
   "metadata": {},
   "outputs": [],
   "source": [
    "import dask\n",
    "from dask.distributed import Client\n",
    "client = Client(n_workers=4, threads_per_worker=2, memory_limit='2GB')\n",
    "#client = Client(scheduler_port=8787,n_workers=4, threads_per_worker=2, memory_limit='2GB')\n",
    "\n",
    "client\n",
    "#client.shutdown()"
   ]
  },
  {
   "cell_type": "code",
   "execution_count": null,
   "metadata": {},
   "outputs": [],
   "source": [
    "%%time\n",
    "from dask.distributed import Client, LocalCluster\n",
    "import multiprocessing as mp\n",
    "import xarray as xr\n",
    "import matplotlib.pyplot as plt\n",
    "%matplotlib inline\n",
    "client = Client(n_workers=4, threads_per_worker=2, memory_limit='2GB',timeout=\"50s\")\n",
    "client\n",
    "red = xr.open_rasterio('B02big.tif', chunks={'band': 1, 'x': 1024, 'y': 1024})\n",
    "nir = xr.open_rasterio('B08big.tif', chunks={'band': 1, 'x': 1024, 'y': 1024})\n",
    "ndvi = (nir - red) / (nir + red)\n",
    "ndvi2d = ndvi.squeeze()\n",
    "plt.figure()\n",
    "im = ndvi2d.compute().plot.imshow(cmap='BrBG', vmin=0, vmax=1)\n",
    "plt.axis('equal')\n",
    "plt.show()\n",
    "client.shutdown()"
   ]
  },
  {
   "cell_type": "code",
   "execution_count": null,
   "metadata": {},
   "outputs": [],
   "source": [
    "from dask.distributed import Client, LocalCluster"
   ]
  },
  {
   "cell_type": "code",
   "execution_count": null,
   "metadata": {},
   "outputs": [],
   "source": [
    "client = Client()\n",
    "client"
   ]
  },
  {
   "cell_type": "code",
   "execution_count": null,
   "metadata": {},
   "outputs": [],
   "source": [
    "cluster.close()"
   ]
  },
  {
   "cell_type": "code",
   "execution_count": null,
   "metadata": {},
   "outputs": [],
   "source": [
    "cluster = LocalCluster()\n",
    "cluster"
   ]
  },
  {
   "cell_type": "code",
   "execution_count": null,
   "metadata": {},
   "outputs": [],
   "source": [
    "c"
   ]
  },
  {
   "cell_type": "code",
   "execution_count": null,
   "metadata": {},
   "outputs": [],
   "source": [
    "cluster.status"
   ]
  },
  {
   "cell_type": "code",
   "execution_count": 25,
   "metadata": {},
   "outputs": [
    {
     "data": {
      "text/plain": [
       "7"
      ]
     },
     "execution_count": 25,
     "metadata": {},
     "output_type": "execute_result"
    }
   ],
   "source": [
    "int(0.6 * mp.cpu_count())"
   ]
  },
  {
   "cell_type": "code",
   "execution_count": null,
   "metadata": {},
   "outputs": [],
   "source": [
    "#compare processes=True or false"
   ]
  },
  {
   "cell_type": "code",
   "execution_count": null,
   "metadata": {},
   "outputs": [],
   "source": [
    "%%time\n",
    "from dask.distributed import Client, LocalCluster\n",
    "import multiprocessing as mp\n",
    "import xarray as xr\n",
    "import matplotlib.pyplot as plt\n",
    "%matplotlib inline\n",
    "\n",
    "with LocalCluster(n_workers=int(0.6 * mp.cpu_count()),\n",
    "    processes=True,\n",
    "    threads_per_worker=1,\n",
    "    memory_limit='2GB',\n",
    "    ip='tcp://localhost:9895',\n",
    ") as cluster, Client(cluster) as client:\n",
    "    red = xr.open_rasterio('B02big.tif', chunks={'band': 1, 'x': 1024, 'y': 1024})\n",
    "    nir = xr.open_rasterio('B08big.tif', chunks={'band': 1, 'x': 1024, 'y': 1024})\n",
    "    ndvi = (nir - red) / (nir + red)\n",
    "    ndvi2d = ndvi.squeeze()\n",
    "    plt.figure()\n",
    "    im = ndvi2d.compute().plot.imshow(cmap='BrBG', vmin=0, vmax=1)\n",
    "    plt.axis('equal')\n",
    "    plt.show()\n"
   ]
  },
  {
   "cell_type": "code",
   "execution_count": null,
   "metadata": {},
   "outputs": [],
   "source": [
    "%%time\n",
    "from dask.distributed import Client, LocalCluster\n",
    "import multiprocessing as mp\n",
    "import xarray as xr\n",
    "import matplotlib.pyplot as plt\n",
    "import rioxarray\n",
    "%matplotlib inline\n",
    "\n",
    "with LocalCluster(n_workers=int(0.6 * mp.cpu_count()),\n",
    "    processes=True,\n",
    "    threads_per_worker=1,\n",
    "    memory_limit='2GB',\n",
    "    #ip='tcp://localhost:9895',\n",
    ") as cluster, Client(cluster) as client:\n",
    "    red_band = rioxarray.open_rasterio(red_url, masked=True, chunks=(1024,1024))\n",
    "    nir_band = rioxarray.open_rasterio(nir_url, masked=True, chunks=(1024,1024))\n",
    "    ndvi = (nir_band.astype(float) - red_band.astype(float))/(nir_band + red_band)\n",
    "    ndvi2d = ndvi.squeeze()\n",
    "    plt.figure()\n",
    "    im = ndvi2d.compute().plot.imshow(cmap='BrBG', vmin=0, vmax=1)\n",
    "    plt.axis('equal')\n",
    "    plt.show()"
   ]
  },
  {
   "cell_type": "code",
   "execution_count": null,
   "metadata": {},
   "outputs": [],
   "source": [
    "%%time\n",
    "from dask.distributed import Client, LocalCluster\n",
    "import multiprocessing as mp\n",
    "import xarray as xr\n",
    "import matplotlib.pyplot as plt\n",
    "import rioxarray\n",
    "%matplotlib inline\n",
    "\n",
    "with LocalCluster(n_workers=int(0.6 * mp.cpu_count()),\n",
    "    processes=True,\n",
    "    threads_per_worker=1,\n",
    "    memory_limit='2GB',\n",
    "    ip='tcp://localhost:9895',\n",
    ") as cluster, Client(cluster) as client:\n",
    "    red_band = rioxarray.open_rasterio(red_url, masked=True, chunks=(2048,2048))\n",
    "    nir_band = rioxarray.open_rasterio(nir_url, masked=True, chunks=(2048,2048))\n",
    "    ndvi = (nir_band.astype(float) - red_band.astype(float))/(nir_band + red_band)\n",
    "    ndvi2d = ndvi.squeeze()\n",
    "    plt.figure()\n",
    "    im = ndvi2d.compute().plot.imshow(cmap='BrBG', vmin=0, vmax=1)\n",
    "    plt.axis('equal')\n",
    "    plt.show()"
   ]
  },
  {
   "cell_type": "code",
   "execution_count": null,
   "metadata": {},
   "outputs": [],
   "source": [
    "%%time\n",
    "with LocalCluster(n_workers=int(0.6 * mp.cpu_count()),\n",
    "    processes=True,\n",
    "    threads_per_worker=1,\n",
    "    memory_limit='2GB',\n",
    "    ip='tcp://localhost:9895',\n",
    ") as cluster, Client(cluster) as client:\n",
    "    red_band = rioxarray.open_rasterio(red_url, masked=True, chunks=(1024,1024))\n",
    "    red_band.rio.to_raster('red.tif')"
   ]
  },
  {
   "cell_type": "code",
   "execution_count": null,
   "metadata": {},
   "outputs": [],
   "source": [
    "#### dask persist"
   ]
  },
  {
   "cell_type": "code",
   "execution_count": null,
   "metadata": {},
   "outputs": [],
   "source": [
    "import gdal\n",
    "gdal.VersionInfo()\n"
   ]
  },
  {
   "cell_type": "code",
   "execution_count": null,
   "metadata": {},
   "outputs": [],
   "source": [
    "import rasterio"
   ]
  },
  {
   "cell_type": "code",
   "execution_count": null,
   "metadata": {},
   "outputs": [],
   "source": [
    "ras_den=rasterio.open(url_landsat)"
   ]
  },
  {
   "cell_type": "code",
   "execution_count": null,
   "metadata": {},
   "outputs": [],
   "source": [
    "type(ras_den)"
   ]
  },
  {
   "cell_type": "code",
   "execution_count": null,
   "metadata": {},
   "outputs": [],
   "source": [
    "%%time\n",
    "band=ras_den.read()"
   ]
  },
  {
   "cell_type": "code",
   "execution_count": 15,
   "metadata": {
    "collapsed": true,
    "jupyter": {
     "outputs_hidden": true
    }
   },
   "outputs": [
    {
     "name": "stderr",
     "output_type": "stream",
     "text": [
      "C:\\Users\\akif\\.conda\\envs\\geo\\lib\\site-packages\\dask\\core.py:121: RuntimeWarning: invalid value encountered in true_divide\n",
      "  return func(*(_execute_task(a, cache) for a in args))\n"
     ]
    },
    {
     "ename": "KeyboardInterrupt",
     "evalue": "",
     "output_type": "error",
     "traceback": [
      "\u001b[1;31m---------------------------------------------------------------------------\u001b[0m",
      "\u001b[1;31mKeyboardInterrupt\u001b[0m                         Traceback (most recent call last)",
      "\u001b[1;32m<ipython-input-15-ea4e2f0e2340>\u001b[0m in \u001b[0;36m<module>\u001b[1;34m()\u001b[0m\n\u001b[1;32m----> 1\u001b[1;33m \u001b[0mndvi\u001b[0m\u001b[1;33m.\u001b[0m\u001b[0mplot\u001b[0m\u001b[1;33m(\u001b[0m\u001b[1;33m)\u001b[0m\u001b[1;33m\u001b[0m\u001b[1;33m\u001b[0m\u001b[0m\n\u001b[0m",
      "\u001b[1;32mC:\\Users\\akif\\.conda\\envs\\geo\\lib\\site-packages\\xarray\\plot\\plot.py\u001b[0m in \u001b[0;36m__call__\u001b[1;34m(self, **kwargs)\u001b[0m\n\u001b[0;32m    444\u001b[0m \u001b[1;33m\u001b[0m\u001b[0m\n\u001b[0;32m    445\u001b[0m     \u001b[1;32mdef\u001b[0m \u001b[0m__call__\u001b[0m\u001b[1;33m(\u001b[0m\u001b[0mself\u001b[0m\u001b[1;33m,\u001b[0m \u001b[1;33m**\u001b[0m\u001b[0mkwargs\u001b[0m\u001b[1;33m)\u001b[0m\u001b[1;33m:\u001b[0m\u001b[1;33m\u001b[0m\u001b[1;33m\u001b[0m\u001b[0m\n\u001b[1;32m--> 446\u001b[1;33m         \u001b[1;32mreturn\u001b[0m \u001b[0mplot\u001b[0m\u001b[1;33m(\u001b[0m\u001b[0mself\u001b[0m\u001b[1;33m.\u001b[0m\u001b[0m_da\u001b[0m\u001b[1;33m,\u001b[0m \u001b[1;33m**\u001b[0m\u001b[0mkwargs\u001b[0m\u001b[1;33m)\u001b[0m\u001b[1;33m\u001b[0m\u001b[1;33m\u001b[0m\u001b[0m\n\u001b[0m\u001b[0;32m    447\u001b[0m \u001b[1;33m\u001b[0m\u001b[0m\n\u001b[0;32m    448\u001b[0m     \u001b[1;31m# we can't use functools.wraps here since that also modifies the name / qualname\u001b[0m\u001b[1;33m\u001b[0m\u001b[1;33m\u001b[0m\u001b[1;33m\u001b[0m\u001b[0m\n",
      "\u001b[1;32mC:\\Users\\akif\\.conda\\envs\\geo\\lib\\site-packages\\xarray\\plot\\plot.py\u001b[0m in \u001b[0;36mplot\u001b[1;34m(darray, row, col, col_wrap, ax, hue, rtol, subplot_kws, **kwargs)\u001b[0m\n\u001b[0;32m    161\u001b[0m \u001b[1;33m\u001b[0m\u001b[0m\n\u001b[0;32m    162\u001b[0m     \"\"\"\n\u001b[1;32m--> 163\u001b[1;33m     \u001b[0mdarray\u001b[0m \u001b[1;33m=\u001b[0m \u001b[0mdarray\u001b[0m\u001b[1;33m.\u001b[0m\u001b[0msqueeze\u001b[0m\u001b[1;33m(\u001b[0m\u001b[1;33m)\u001b[0m\u001b[1;33m.\u001b[0m\u001b[0mcompute\u001b[0m\u001b[1;33m(\u001b[0m\u001b[1;33m)\u001b[0m\u001b[1;33m\u001b[0m\u001b[1;33m\u001b[0m\u001b[0m\n\u001b[0m\u001b[0;32m    164\u001b[0m \u001b[1;33m\u001b[0m\u001b[0m\n\u001b[0;32m    165\u001b[0m     \u001b[0mplot_dims\u001b[0m \u001b[1;33m=\u001b[0m \u001b[0mset\u001b[0m\u001b[1;33m(\u001b[0m\u001b[0mdarray\u001b[0m\u001b[1;33m.\u001b[0m\u001b[0mdims\u001b[0m\u001b[1;33m)\u001b[0m\u001b[1;33m\u001b[0m\u001b[1;33m\u001b[0m\u001b[0m\n",
      "\u001b[1;32mC:\\Users\\akif\\.conda\\envs\\geo\\lib\\site-packages\\xarray\\core\\dataarray.py\u001b[0m in \u001b[0;36mcompute\u001b[1;34m(self, **kwargs)\u001b[0m\n\u001b[0;32m    891\u001b[0m         \"\"\"\n\u001b[0;32m    892\u001b[0m         \u001b[0mnew\u001b[0m \u001b[1;33m=\u001b[0m \u001b[0mself\u001b[0m\u001b[1;33m.\u001b[0m\u001b[0mcopy\u001b[0m\u001b[1;33m(\u001b[0m\u001b[0mdeep\u001b[0m\u001b[1;33m=\u001b[0m\u001b[1;32mFalse\u001b[0m\u001b[1;33m)\u001b[0m\u001b[1;33m\u001b[0m\u001b[1;33m\u001b[0m\u001b[0m\n\u001b[1;32m--> 893\u001b[1;33m         \u001b[1;32mreturn\u001b[0m \u001b[0mnew\u001b[0m\u001b[1;33m.\u001b[0m\u001b[0mload\u001b[0m\u001b[1;33m(\u001b[0m\u001b[1;33m**\u001b[0m\u001b[0mkwargs\u001b[0m\u001b[1;33m)\u001b[0m\u001b[1;33m\u001b[0m\u001b[1;33m\u001b[0m\u001b[0m\n\u001b[0m\u001b[0;32m    894\u001b[0m \u001b[1;33m\u001b[0m\u001b[0m\n\u001b[0;32m    895\u001b[0m     \u001b[1;32mdef\u001b[0m \u001b[0mpersist\u001b[0m\u001b[1;33m(\u001b[0m\u001b[0mself\u001b[0m\u001b[1;33m,\u001b[0m \u001b[1;33m**\u001b[0m\u001b[0mkwargs\u001b[0m\u001b[1;33m)\u001b[0m \u001b[1;33m->\u001b[0m \u001b[1;34m\"DataArray\"\u001b[0m\u001b[1;33m:\u001b[0m\u001b[1;33m\u001b[0m\u001b[1;33m\u001b[0m\u001b[0m\n",
      "\u001b[1;32mC:\\Users\\akif\\.conda\\envs\\geo\\lib\\site-packages\\xarray\\core\\dataarray.py\u001b[0m in \u001b[0;36mload\u001b[1;34m(self, **kwargs)\u001b[0m\n\u001b[0;32m    865\u001b[0m         \u001b[0mdask\u001b[0m\u001b[1;33m.\u001b[0m\u001b[0marray\u001b[0m\u001b[1;33m.\u001b[0m\u001b[0mcompute\u001b[0m\u001b[1;33m\u001b[0m\u001b[1;33m\u001b[0m\u001b[0m\n\u001b[0;32m    866\u001b[0m         \"\"\"\n\u001b[1;32m--> 867\u001b[1;33m         \u001b[0mds\u001b[0m \u001b[1;33m=\u001b[0m \u001b[0mself\u001b[0m\u001b[1;33m.\u001b[0m\u001b[0m_to_temp_dataset\u001b[0m\u001b[1;33m(\u001b[0m\u001b[1;33m)\u001b[0m\u001b[1;33m.\u001b[0m\u001b[0mload\u001b[0m\u001b[1;33m(\u001b[0m\u001b[1;33m**\u001b[0m\u001b[0mkwargs\u001b[0m\u001b[1;33m)\u001b[0m\u001b[1;33m\u001b[0m\u001b[1;33m\u001b[0m\u001b[0m\n\u001b[0m\u001b[0;32m    868\u001b[0m         \u001b[0mnew\u001b[0m \u001b[1;33m=\u001b[0m \u001b[0mself\u001b[0m\u001b[1;33m.\u001b[0m\u001b[0m_from_temp_dataset\u001b[0m\u001b[1;33m(\u001b[0m\u001b[0mds\u001b[0m\u001b[1;33m)\u001b[0m\u001b[1;33m\u001b[0m\u001b[1;33m\u001b[0m\u001b[0m\n\u001b[0;32m    869\u001b[0m         \u001b[0mself\u001b[0m\u001b[1;33m.\u001b[0m\u001b[0m_variable\u001b[0m \u001b[1;33m=\u001b[0m \u001b[0mnew\u001b[0m\u001b[1;33m.\u001b[0m\u001b[0m_variable\u001b[0m\u001b[1;33m\u001b[0m\u001b[1;33m\u001b[0m\u001b[0m\n",
      "\u001b[1;32mC:\\Users\\akif\\.conda\\envs\\geo\\lib\\site-packages\\xarray\\core\\dataset.py\u001b[0m in \u001b[0;36mload\u001b[1;34m(self, **kwargs)\u001b[0m\n\u001b[0;32m    739\u001b[0m \u001b[1;33m\u001b[0m\u001b[0m\n\u001b[0;32m    740\u001b[0m             \u001b[1;31m# evaluate all the dask arrays simultaneously\u001b[0m\u001b[1;33m\u001b[0m\u001b[1;33m\u001b[0m\u001b[1;33m\u001b[0m\u001b[0m\n\u001b[1;32m--> 741\u001b[1;33m             \u001b[0mevaluated_data\u001b[0m \u001b[1;33m=\u001b[0m \u001b[0mda\u001b[0m\u001b[1;33m.\u001b[0m\u001b[0mcompute\u001b[0m\u001b[1;33m(\u001b[0m\u001b[1;33m*\u001b[0m\u001b[0mlazy_data\u001b[0m\u001b[1;33m.\u001b[0m\u001b[0mvalues\u001b[0m\u001b[1;33m(\u001b[0m\u001b[1;33m)\u001b[0m\u001b[1;33m,\u001b[0m \u001b[1;33m**\u001b[0m\u001b[0mkwargs\u001b[0m\u001b[1;33m)\u001b[0m\u001b[1;33m\u001b[0m\u001b[1;33m\u001b[0m\u001b[0m\n\u001b[0m\u001b[0;32m    742\u001b[0m \u001b[1;33m\u001b[0m\u001b[0m\n\u001b[0;32m    743\u001b[0m             \u001b[1;32mfor\u001b[0m \u001b[0mk\u001b[0m\u001b[1;33m,\u001b[0m \u001b[0mdata\u001b[0m \u001b[1;32min\u001b[0m \u001b[0mzip\u001b[0m\u001b[1;33m(\u001b[0m\u001b[0mlazy_data\u001b[0m\u001b[1;33m,\u001b[0m \u001b[0mevaluated_data\u001b[0m\u001b[1;33m)\u001b[0m\u001b[1;33m:\u001b[0m\u001b[1;33m\u001b[0m\u001b[1;33m\u001b[0m\u001b[0m\n",
      "\u001b[1;32mC:\\Users\\akif\\.conda\\envs\\geo\\lib\\site-packages\\dask\\base.py\u001b[0m in \u001b[0;36mcompute\u001b[1;34m(*args, **kwargs)\u001b[0m\n\u001b[0;32m    565\u001b[0m         \u001b[0mpostcomputes\u001b[0m\u001b[1;33m.\u001b[0m\u001b[0mappend\u001b[0m\u001b[1;33m(\u001b[0m\u001b[0mx\u001b[0m\u001b[1;33m.\u001b[0m\u001b[0m__dask_postcompute__\u001b[0m\u001b[1;33m(\u001b[0m\u001b[1;33m)\u001b[0m\u001b[1;33m)\u001b[0m\u001b[1;33m\u001b[0m\u001b[1;33m\u001b[0m\u001b[0m\n\u001b[0;32m    566\u001b[0m \u001b[1;33m\u001b[0m\u001b[0m\n\u001b[1;32m--> 567\u001b[1;33m     \u001b[0mresults\u001b[0m \u001b[1;33m=\u001b[0m \u001b[0mschedule\u001b[0m\u001b[1;33m(\u001b[0m\u001b[0mdsk\u001b[0m\u001b[1;33m,\u001b[0m \u001b[0mkeys\u001b[0m\u001b[1;33m,\u001b[0m \u001b[1;33m**\u001b[0m\u001b[0mkwargs\u001b[0m\u001b[1;33m)\u001b[0m\u001b[1;33m\u001b[0m\u001b[1;33m\u001b[0m\u001b[0m\n\u001b[0m\u001b[0;32m    568\u001b[0m     \u001b[1;32mreturn\u001b[0m \u001b[0mrepack\u001b[0m\u001b[1;33m(\u001b[0m\u001b[1;33m[\u001b[0m\u001b[0mf\u001b[0m\u001b[1;33m(\u001b[0m\u001b[0mr\u001b[0m\u001b[1;33m,\u001b[0m \u001b[1;33m*\u001b[0m\u001b[0ma\u001b[0m\u001b[1;33m)\u001b[0m \u001b[1;32mfor\u001b[0m \u001b[0mr\u001b[0m\u001b[1;33m,\u001b[0m \u001b[1;33m(\u001b[0m\u001b[0mf\u001b[0m\u001b[1;33m,\u001b[0m \u001b[0ma\u001b[0m\u001b[1;33m)\u001b[0m \u001b[1;32min\u001b[0m \u001b[0mzip\u001b[0m\u001b[1;33m(\u001b[0m\u001b[0mresults\u001b[0m\u001b[1;33m,\u001b[0m \u001b[0mpostcomputes\u001b[0m\u001b[1;33m)\u001b[0m\u001b[1;33m]\u001b[0m\u001b[1;33m)\u001b[0m\u001b[1;33m\u001b[0m\u001b[1;33m\u001b[0m\u001b[0m\n\u001b[0;32m    569\u001b[0m \u001b[1;33m\u001b[0m\u001b[0m\n",
      "\u001b[1;32mC:\\Users\\akif\\.conda\\envs\\geo\\lib\\site-packages\\dask\\threaded.py\u001b[0m in \u001b[0;36mget\u001b[1;34m(dsk, result, cache, num_workers, pool, **kwargs)\u001b[0m\n\u001b[0;32m     82\u001b[0m         \u001b[0mget_id\u001b[0m\u001b[1;33m=\u001b[0m\u001b[0m_thread_get_id\u001b[0m\u001b[1;33m,\u001b[0m\u001b[1;33m\u001b[0m\u001b[1;33m\u001b[0m\u001b[0m\n\u001b[0;32m     83\u001b[0m         \u001b[0mpack_exception\u001b[0m\u001b[1;33m=\u001b[0m\u001b[0mpack_exception\u001b[0m\u001b[1;33m,\u001b[0m\u001b[1;33m\u001b[0m\u001b[1;33m\u001b[0m\u001b[0m\n\u001b[1;32m---> 84\u001b[1;33m         \u001b[1;33m**\u001b[0m\u001b[0mkwargs\u001b[0m\u001b[1;33m\u001b[0m\u001b[1;33m\u001b[0m\u001b[0m\n\u001b[0m\u001b[0;32m     85\u001b[0m     )\n\u001b[0;32m     86\u001b[0m \u001b[1;33m\u001b[0m\u001b[0m\n",
      "\u001b[1;32mC:\\Users\\akif\\.conda\\envs\\geo\\lib\\site-packages\\dask\\local.py\u001b[0m in \u001b[0;36mget_async\u001b[1;34m(apply_async, num_workers, dsk, result, cache, get_id, rerun_exceptions_locally, pack_exception, raise_exception, callbacks, dumps, loads, **kwargs)\u001b[0m\n\u001b[0;32m    473\u001b[0m             \u001b[1;31m# Main loop, wait on tasks to finish, insert new ones\u001b[0m\u001b[1;33m\u001b[0m\u001b[1;33m\u001b[0m\u001b[1;33m\u001b[0m\u001b[0m\n\u001b[0;32m    474\u001b[0m             \u001b[1;32mwhile\u001b[0m \u001b[0mstate\u001b[0m\u001b[1;33m[\u001b[0m\u001b[1;34m\"waiting\"\u001b[0m\u001b[1;33m]\u001b[0m \u001b[1;32mor\u001b[0m \u001b[0mstate\u001b[0m\u001b[1;33m[\u001b[0m\u001b[1;34m\"ready\"\u001b[0m\u001b[1;33m]\u001b[0m \u001b[1;32mor\u001b[0m \u001b[0mstate\u001b[0m\u001b[1;33m[\u001b[0m\u001b[1;34m\"running\"\u001b[0m\u001b[1;33m]\u001b[0m\u001b[1;33m:\u001b[0m\u001b[1;33m\u001b[0m\u001b[1;33m\u001b[0m\u001b[0m\n\u001b[1;32m--> 475\u001b[1;33m                 \u001b[0mkey\u001b[0m\u001b[1;33m,\u001b[0m \u001b[0mres_info\u001b[0m\u001b[1;33m,\u001b[0m \u001b[0mfailed\u001b[0m \u001b[1;33m=\u001b[0m \u001b[0mqueue_get\u001b[0m\u001b[1;33m(\u001b[0m\u001b[0mqueue\u001b[0m\u001b[1;33m)\u001b[0m\u001b[1;33m\u001b[0m\u001b[1;33m\u001b[0m\u001b[0m\n\u001b[0m\u001b[0;32m    476\u001b[0m                 \u001b[1;32mif\u001b[0m \u001b[0mfailed\u001b[0m\u001b[1;33m:\u001b[0m\u001b[1;33m\u001b[0m\u001b[1;33m\u001b[0m\u001b[0m\n\u001b[0;32m    477\u001b[0m                     \u001b[0mexc\u001b[0m\u001b[1;33m,\u001b[0m \u001b[0mtb\u001b[0m \u001b[1;33m=\u001b[0m \u001b[0mloads\u001b[0m\u001b[1;33m(\u001b[0m\u001b[0mres_info\u001b[0m\u001b[1;33m)\u001b[0m\u001b[1;33m\u001b[0m\u001b[1;33m\u001b[0m\u001b[0m\n",
      "\u001b[1;32mC:\\Users\\akif\\.conda\\envs\\geo\\lib\\site-packages\\dask\\local.py\u001b[0m in \u001b[0;36mqueue_get\u001b[1;34m(q)\u001b[0m\n\u001b[0;32m    123\u001b[0m         \u001b[1;32mwhile\u001b[0m \u001b[1;32mTrue\u001b[0m\u001b[1;33m:\u001b[0m\u001b[1;33m\u001b[0m\u001b[1;33m\u001b[0m\u001b[0m\n\u001b[0;32m    124\u001b[0m             \u001b[1;32mtry\u001b[0m\u001b[1;33m:\u001b[0m\u001b[1;33m\u001b[0m\u001b[1;33m\u001b[0m\u001b[0m\n\u001b[1;32m--> 125\u001b[1;33m                 \u001b[1;32mreturn\u001b[0m \u001b[0mq\u001b[0m\u001b[1;33m.\u001b[0m\u001b[0mget\u001b[0m\u001b[1;33m(\u001b[0m\u001b[0mblock\u001b[0m\u001b[1;33m=\u001b[0m\u001b[1;32mTrue\u001b[0m\u001b[1;33m,\u001b[0m \u001b[0mtimeout\u001b[0m\u001b[1;33m=\u001b[0m\u001b[1;36m0.1\u001b[0m\u001b[1;33m)\u001b[0m\u001b[1;33m\u001b[0m\u001b[1;33m\u001b[0m\u001b[0m\n\u001b[0m\u001b[0;32m    126\u001b[0m             \u001b[1;32mexcept\u001b[0m \u001b[0mEmpty\u001b[0m\u001b[1;33m:\u001b[0m\u001b[1;33m\u001b[0m\u001b[1;33m\u001b[0m\u001b[0m\n\u001b[0;32m    127\u001b[0m                 \u001b[1;32mpass\u001b[0m\u001b[1;33m\u001b[0m\u001b[1;33m\u001b[0m\u001b[0m\n",
      "\u001b[1;32mC:\\Users\\akif\\.conda\\envs\\geo\\lib\\queue.py\u001b[0m in \u001b[0;36mget\u001b[1;34m(self, block, timeout)\u001b[0m\n\u001b[0;32m    177\u001b[0m                     \u001b[1;32mif\u001b[0m \u001b[0mremaining\u001b[0m \u001b[1;33m<=\u001b[0m \u001b[1;36m0.0\u001b[0m\u001b[1;33m:\u001b[0m\u001b[1;33m\u001b[0m\u001b[1;33m\u001b[0m\u001b[0m\n\u001b[0;32m    178\u001b[0m                         \u001b[1;32mraise\u001b[0m \u001b[0mEmpty\u001b[0m\u001b[1;33m\u001b[0m\u001b[1;33m\u001b[0m\u001b[0m\n\u001b[1;32m--> 179\u001b[1;33m                     \u001b[0mself\u001b[0m\u001b[1;33m.\u001b[0m\u001b[0mnot_empty\u001b[0m\u001b[1;33m.\u001b[0m\u001b[0mwait\u001b[0m\u001b[1;33m(\u001b[0m\u001b[0mremaining\u001b[0m\u001b[1;33m)\u001b[0m\u001b[1;33m\u001b[0m\u001b[1;33m\u001b[0m\u001b[0m\n\u001b[0m\u001b[0;32m    180\u001b[0m             \u001b[0mitem\u001b[0m \u001b[1;33m=\u001b[0m \u001b[0mself\u001b[0m\u001b[1;33m.\u001b[0m\u001b[0m_get\u001b[0m\u001b[1;33m(\u001b[0m\u001b[1;33m)\u001b[0m\u001b[1;33m\u001b[0m\u001b[1;33m\u001b[0m\u001b[0m\n\u001b[0;32m    181\u001b[0m             \u001b[0mself\u001b[0m\u001b[1;33m.\u001b[0m\u001b[0mnot_full\u001b[0m\u001b[1;33m.\u001b[0m\u001b[0mnotify\u001b[0m\u001b[1;33m(\u001b[0m\u001b[1;33m)\u001b[0m\u001b[1;33m\u001b[0m\u001b[1;33m\u001b[0m\u001b[0m\n",
      "\u001b[1;32mC:\\Users\\akif\\.conda\\envs\\geo\\lib\\threading.py\u001b[0m in \u001b[0;36mwait\u001b[1;34m(self, timeout)\u001b[0m\n\u001b[0;32m    298\u001b[0m             \u001b[1;32melse\u001b[0m\u001b[1;33m:\u001b[0m\u001b[1;33m\u001b[0m\u001b[1;33m\u001b[0m\u001b[0m\n\u001b[0;32m    299\u001b[0m                 \u001b[1;32mif\u001b[0m \u001b[0mtimeout\u001b[0m \u001b[1;33m>\u001b[0m \u001b[1;36m0\u001b[0m\u001b[1;33m:\u001b[0m\u001b[1;33m\u001b[0m\u001b[1;33m\u001b[0m\u001b[0m\n\u001b[1;32m--> 300\u001b[1;33m                     \u001b[0mgotit\u001b[0m \u001b[1;33m=\u001b[0m \u001b[0mwaiter\u001b[0m\u001b[1;33m.\u001b[0m\u001b[0macquire\u001b[0m\u001b[1;33m(\u001b[0m\u001b[1;32mTrue\u001b[0m\u001b[1;33m,\u001b[0m \u001b[0mtimeout\u001b[0m\u001b[1;33m)\u001b[0m\u001b[1;33m\u001b[0m\u001b[1;33m\u001b[0m\u001b[0m\n\u001b[0m\u001b[0;32m    301\u001b[0m                 \u001b[1;32melse\u001b[0m\u001b[1;33m:\u001b[0m\u001b[1;33m\u001b[0m\u001b[1;33m\u001b[0m\u001b[0m\n\u001b[0;32m    302\u001b[0m                     \u001b[0mgotit\u001b[0m \u001b[1;33m=\u001b[0m \u001b[0mwaiter\u001b[0m\u001b[1;33m.\u001b[0m\u001b[0macquire\u001b[0m\u001b[1;33m(\u001b[0m\u001b[1;32mFalse\u001b[0m\u001b[1;33m)\u001b[0m\u001b[1;33m\u001b[0m\u001b[1;33m\u001b[0m\u001b[0m\n",
      "\u001b[1;31mKeyboardInterrupt\u001b[0m: "
     ]
    }
   ],
   "source": [
    "ndvi"
   ]
  },
  {
   "cell_type": "code",
   "execution_count": null,
   "metadata": {},
   "outputs": [],
   "source": []
  },
  {
   "cell_type": "code",
   "execution_count": 6,
   "metadata": {
    "collapsed": true,
    "jupyter": {
     "outputs_hidden": true
    }
   },
   "outputs": [
    {
     "name": "stderr",
     "output_type": "stream",
     "text": [
      "C:\\Users\\akif\\.conda\\envs\\geo\\lib\\site-packages\\xarray\\core\\indexing.py:1375: PerformanceWarning: Slicing is producing a large chunk. To accept the large\n",
      "chunk and silence this warning, set the option\n",
      "    >>> with dask.config.set(**{'array.slicing.split_large_chunks': False}):\n",
      "    ...     array[indexer]\n",
      "\n",
      "To avoid creating the large chunks, set the option\n",
      "    >>> with dask.config.set(**{'array.slicing.split_large_chunks': True}):\n",
      "    ...     array[indexer]\n",
      "  value = value[(slice(None),) * axis + (subkey,)]\n",
      "C:\\Users\\akif\\.conda\\envs\\geo\\lib\\site-packages\\xarray\\core\\indexing.py:1375: PerformanceWarning: Slicing is producing a large chunk. To accept the large\n",
      "chunk and silence this warning, set the option\n",
      "    >>> with dask.config.set(**{'array.slicing.split_large_chunks': False}):\n",
      "    ...     array[indexer]\n",
      "\n",
      "To avoid creating the large chunks, set the option\n",
      "    >>> with dask.config.set(**{'array.slicing.split_large_chunks': True}):\n",
      "    ...     array[indexer]\n",
      "  value = value[(slice(None),) * axis + (subkey,)]\n"
     ]
    },
    {
     "name": "stdout",
     "output_type": "stream",
     "text": [
      "<class 'xarray.core.dataarray.DataArray'>\n",
      "<class 'xarray.core.dataarray.DataArray'>\n",
      "<class 'matplotlib.image.AxesImage'>\n"
     ]
    },
    {
     "data": {
      "image/png": "[encoded data removed]",
      "text/plain": [
       "<Figure size 432x288 with 2 Axes>"
      ]
     },
     "metadata": {
      "needs_background": "light"
     },
     "output_type": "display_data"
    },
    {
     "name": "stdout",
     "output_type": "stream",
     "text": [
      "Wall time: 6min 2s\n"
     ]
    }
   ],
   "source": [
    "%%time\n",
    "red_url='https://s3-us-west-2.amazonaws.com/landsat-pds/c1/L8/173/034/LC08_L1TP_173034_20180711_20180717_01_T1/LC08_L1TP_173034_20180711_20180717_01_T1_B2.TIF'\n",
    "nir_url='https://s3-us-west-2.amazonaws.com/landsat-pds/c1/L8/173/034/LC08_L1TP_173034_20180711_20180717_01_T1/LC08_L1TP_173034_20180711_20180717_01_T1_B8.TIF'\n",
    "\n",
    "from dask.distributed import Client, LocalCluster\n",
    "import multiprocessing as mp\n",
    "import xarray as xr\n",
    "import matplotlib.pyplot as plt\n",
    "import rioxarray\n",
    "%matplotlib inline\n",
    "\n",
    "with LocalCluster(n_workers=int(0.6 * mp.cpu_count()),\n",
    "    processes=True,\n",
    "    threads_per_worker=1,\n",
    "    memory_limit='2GB',\n",
    "    #ip='tcp://localhost:9895',\n",
    ") as cluster, Client(cluster) as client:\n",
    "    red_band = rioxarray.open_rasterio(red_url, masked=True, chunks=(1024,1024))\n",
    "    nir_band = rioxarray.open_rasterio(nir_url, masked=True, chunks=(1024,1024))\n",
    "    ndvi = (nir_band.astype(float) - red_band.astype(float))/(nir_band + red_band)\n",
    "    print(type(ndvi))\n",
    "    ndvi2d = ndvi.squeeze()\n",
    "    print(type(ndvi2d))\n",
    "    plt.figure()\n",
    "    im = ndvi2d.compute().plot.imshow(cmap='BrBG', vmin=0, vmax=1)\n",
    "    print(type(im))    \n",
    "    plt.axis('equal')\n",
    "    plt.show()"
   ]
  },
  {
   "cell_type": "code",
   "execution_count": 11,
   "metadata": {},
   "outputs": [
    {
     "data": {
      "text/html": [
       "<div><svg style=\"position: absolute; width: 0; height: 0; overflow: hidden\">\n",
       "<defs>\n",
       "<symbol id=\"icon-database\" viewBox=\"0 0 32 32\">\n",
       "<path d=\"M16 0c-8.837 0-16 2.239-16 5v4c0 2.761 7.163 5 16 5s16-2.239 16-5v-4c0-2.761-7.163-5-16-5z\"></path>\n",
       "<path d=\"M16 17c-8.837 0-16-2.239-16-5v6c0 2.761 7.163 5 16 5s16-2.239 16-5v-6c0 2.761-7.163 5-16 5z\"></path>\n",
       "<path d=\"M16 26c-8.837 0-16-2.239-16-5v6c0 2.761 7.163 5 16 5s16-2.239 16-5v-6c0 2.761-7.163 5-16 5z\"></path>\n",
       "</symbol>\n",
       "<symbol id=\"icon-file-text2\" viewBox=\"0 0 32 32\">\n",
       "<path d=\"M28.681 7.159c-0.694-0.947-1.662-2.053-2.724-3.116s-2.169-2.030-3.116-2.724c-1.612-1.182-2.393-1.319-2.841-1.319h-15.5c-1.378 0-2.5 1.121-2.5 2.5v27c0 1.378 1.122 2.5 2.5 2.5h23c1.378 0 2.5-1.122 2.5-2.5v-19.5c0-0.448-0.137-1.23-1.319-2.841zM24.543 5.457c0.959 0.959 1.712 1.825 2.268 2.543h-4.811v-4.811c0.718 0.556 1.584 1.309 2.543 2.268zM28 29.5c0 0.271-0.229 0.5-0.5 0.5h-23c-0.271 0-0.5-0.229-0.5-0.5v-27c0-0.271 0.229-0.5 0.5-0.5 0 0 15.499-0 15.5 0v7c0 0.552 0.448 1 1 1h7v19.5z\"></path>\n",
       "<path d=\"M23 26h-14c-0.552 0-1-0.448-1-1s0.448-1 1-1h14c0.552 0 1 0.448 1 1s-0.448 1-1 1z\"></path>\n",
       "<path d=\"M23 22h-14c-0.552 0-1-0.448-1-1s0.448-1 1-1h14c0.552 0 1 0.448 1 1s-0.448 1-1 1z\"></path>\n",
       "<path d=\"M23 18h-14c-0.552 0-1-0.448-1-1s0.448-1 1-1h14c0.552 0 1 0.448 1 1s-0.448 1-1 1z\"></path>\n",
       "</symbol>\n",
       "</defs>\n",
       "</svg>\n",
       "<style>/* CSS stylesheet for displaying xarray objects in jupyterlab.\n",
       " *\n",
       " */\n",
       "\n",
       ":root {\n",
       "  --xr-font-color0: var(--jp-content-font-color0, rgba(0, 0, 0, 1));\n",
       "  --xr-font-color2: var(--jp-content-font-color2, rgba(0, 0, 0, 0.54));\n",
       "  --xr-font-color3: var(--jp-content-font-color3, rgba(0, 0, 0, 0.38));\n",
       "  --xr-border-color: var(--jp-border-color2, #e0e0e0);\n",
       "  --xr-disabled-color: var(--jp-layout-color3, #bdbdbd);\n",
       "  --xr-background-color: var(--jp-layout-color0, white);\n",
       "  --xr-background-color-row-even: var(--jp-layout-color1, white);\n",
       "  --xr-background-color-row-odd: var(--jp-layout-color2, #eeeeee);\n",
       "}\n",
       "\n",
       "html[theme=dark],\n",
       "body.vscode-dark {\n",
       "  --xr-font-color0: rgba(255, 255, 255, 1);\n",
       "  --xr-font-color2: rgba(255, 255, 255, 0.54);\n",
       "  --xr-font-color3: rgba(255, 255, 255, 0.38);\n",
       "  --xr-border-color: #1F1F1F;\n",
       "  --xr-disabled-color: #515151;\n",
       "  --xr-background-color: #111111;\n",
       "  --xr-background-color-row-even: #111111;\n",
       "  --xr-background-color-row-odd: #313131;\n",
       "}\n",
       "\n",
       ".xr-wrap {\n",
       "  display: block;\n",
       "  min-width: 300px;\n",
       "  max-width: 700px;\n",
       "}\n",
       "\n",
       ".xr-text-repr-fallback {\n",
       "  /* fallback to plain text repr when CSS is not injected (untrusted notebook) */\n",
       "  display: none;\n",
       "}\n",
       "\n",
       ".xr-header {\n",
       "  padding-top: 6px;\n",
       "  padding-bottom: 6px;\n",
       "  margin-bottom: 4px;\n",
       "  border-bottom: solid 1px var(--xr-border-color);\n",
       "}\n",
       "\n",
       ".xr-header > div,\n",
       ".xr-header > ul {\n",
       "  display: inline;\n",
       "  margin-top: 0;\n",
       "  margin-bottom: 0;\n",
       "}\n",
       "\n",
       ".xr-obj-type,\n",
       ".xr-array-name {\n",
       "  margin-left: 2px;\n",
       "  margin-right: 10px;\n",
       "}\n",
       "\n",
       ".xr-obj-type {\n",
       "  color: var(--xr-font-color2);\n",
       "}\n",
       "\n",
       ".xr-sections {\n",
       "  padding-left: 0 !important;\n",
       "  display: grid;\n",
       "  grid-template-columns: 150px auto auto 1fr 20px 20px;\n",
       "}\n",
       "\n",
       ".xr-section-item {\n",
       "  display: contents;\n",
       "}\n",
       "\n",
       ".xr-section-item input {\n",
       "  display: none;\n",
       "}\n",
       "\n",
       ".xr-section-item input + label {\n",
       "  color: var(--xr-disabled-color);\n",
       "}\n",
       "\n",
       ".xr-section-item input:enabled + label {\n",
       "  cursor: pointer;\n",
       "  color: var(--xr-font-color2);\n",
       "}\n",
       "\n",
       ".xr-section-item input:enabled + label:hover {\n",
       "  color: var(--xr-font-color0);\n",
       "}\n",
       "\n",
       ".xr-section-summary {\n",
       "  grid-column: 1;\n",
       "  color: var(--xr-font-color2);\n",
       "  font-weight: 500;\n",
       "}\n",
       "\n",
       ".xr-section-summary > span {\n",
       "  display: inline-block;\n",
       "  padding-left: 0.5em;\n",
       "}\n",
       "\n",
       ".xr-section-summary-in:disabled + label {\n",
       "  color: var(--xr-font-color2);\n",
       "}\n",
       "\n",
       ".xr-section-summary-in + label:before {\n",
       "  display: inline-block;\n",
       "  content: '►';\n",
       "  font-size: 11px;\n",
       "  width: 15px;\n",
       "  text-align: center;\n",
       "}\n",
       "\n",
       ".xr-section-summary-in:disabled + label:before {\n",
       "  color: var(--xr-disabled-color);\n",
       "}\n",
       "\n",
       ".xr-section-summary-in:checked + label:before {\n",
       "  content: '▼';\n",
       "}\n",
       "\n",
       ".xr-section-summary-in:checked + label > span {\n",
       "  display: none;\n",
       "}\n",
       "\n",
       ".xr-section-summary,\n",
       ".xr-section-inline-details {\n",
       "  padding-top: 4px;\n",
       "  padding-bottom: 4px;\n",
       "}\n",
       "\n",
       ".xr-section-inline-details {\n",
       "  grid-column: 2 / -1;\n",
       "}\n",
       "\n",
       ".xr-section-details {\n",
       "  display: none;\n",
       "  grid-column: 1 / -1;\n",
       "  margin-bottom: 5px;\n",
       "}\n",
       "\n",
       ".xr-section-summary-in:checked ~ .xr-section-details {\n",
       "  display: contents;\n",
       "}\n",
       "\n",
       ".xr-array-wrap {\n",
       "  grid-column: 1 / -1;\n",
       "  display: grid;\n",
       "  grid-template-columns: 20px auto;\n",
       "}\n",
       "\n",
       ".xr-array-wrap > label {\n",
       "  grid-column: 1;\n",
       "  vertical-align: top;\n",
       "}\n",
       "\n",
       ".xr-preview {\n",
       "  color: var(--xr-font-color3);\n",
       "}\n",
       "\n",
       ".xr-array-preview,\n",
       ".xr-array-data {\n",
       "  padding: 0 5px !important;\n",
       "  grid-column: 2;\n",
       "}\n",
       "\n",
       ".xr-array-data,\n",
       ".xr-array-in:checked ~ .xr-array-preview {\n",
       "  display: none;\n",
       "}\n",
       "\n",
       ".xr-array-in:checked ~ .xr-array-data,\n",
       ".xr-array-preview {\n",
       "  display: inline-block;\n",
       "}\n",
       "\n",
       ".xr-dim-list {\n",
       "  display: inline-block !important;\n",
       "  list-style: none;\n",
       "  padding: 0 !important;\n",
       "  margin: 0;\n",
       "}\n",
       "\n",
       ".xr-dim-list li {\n",
       "  display: inline-block;\n",
       "  padding: 0;\n",
       "  margin: 0;\n",
       "}\n",
       "\n",
       ".xr-dim-list:before {\n",
       "  content: '(';\n",
       "}\n",
       "\n",
       ".xr-dim-list:after {\n",
       "  content: ')';\n",
       "}\n",
       "\n",
       ".xr-dim-list li:not(:last-child):after {\n",
       "  content: ',';\n",
       "  padding-right: 5px;\n",
       "}\n",
       "\n",
       ".xr-has-index {\n",
       "  font-weight: bold;\n",
       "}\n",
       "\n",
       ".xr-var-list,\n",
       ".xr-var-item {\n",
       "  display: contents;\n",
       "}\n",
       "\n",
       ".xr-var-item > div,\n",
       ".xr-var-item label,\n",
       ".xr-var-item > .xr-var-name span {\n",
       "  background-color: var(--xr-background-color-row-even);\n",
       "  margin-bottom: 0;\n",
       "}\n",
       "\n",
       ".xr-var-item > .xr-var-name:hover span {\n",
       "  padding-right: 5px;\n",
       "}\n",
       "\n",
       ".xr-var-list > li:nth-child(odd) > div,\n",
       ".xr-var-list > li:nth-child(odd) > label,\n",
       ".xr-var-list > li:nth-child(odd) > .xr-var-name span {\n",
       "  background-color: var(--xr-background-color-row-odd);\n",
       "}\n",
       "\n",
       ".xr-var-name {\n",
       "  grid-column: 1;\n",
       "}\n",
       "\n",
       ".xr-var-dims {\n",
       "  grid-column: 2;\n",
       "}\n",
       "\n",
       ".xr-var-dtype {\n",
       "  grid-column: 3;\n",
       "  text-align: right;\n",
       "  color: var(--xr-font-color2);\n",
       "}\n",
       "\n",
       ".xr-var-preview {\n",
       "  grid-column: 4;\n",
       "}\n",
       "\n",
       ".xr-var-name,\n",
       ".xr-var-dims,\n",
       ".xr-var-dtype,\n",
       ".xr-preview,\n",
       ".xr-attrs dt {\n",
       "  white-space: nowrap;\n",
       "  overflow: hidden;\n",
       "  text-overflow: ellipsis;\n",
       "  padding-right: 10px;\n",
       "}\n",
       "\n",
       ".xr-var-name:hover,\n",
       ".xr-var-dims:hover,\n",
       ".xr-var-dtype:hover,\n",
       ".xr-attrs dt:hover {\n",
       "  overflow: visible;\n",
       "  width: auto;\n",
       "  z-index: 1;\n",
       "}\n",
       "\n",
       ".xr-var-attrs,\n",
       ".xr-var-data {\n",
       "  display: none;\n",
       "  background-color: var(--xr-background-color) !important;\n",
       "  padding-bottom: 5px !important;\n",
       "}\n",
       "\n",
       ".xr-var-attrs-in:checked ~ .xr-var-attrs,\n",
       ".xr-var-data-in:checked ~ .xr-var-data {\n",
       "  display: block;\n",
       "}\n",
       "\n",
       ".xr-var-data > table {\n",
       "  float: right;\n",
       "}\n",
       "\n",
       ".xr-var-name span,\n",
       ".xr-var-data,\n",
       ".xr-attrs {\n",
       "  padding-left: 25px !important;\n",
       "}\n",
       "\n",
       ".xr-attrs,\n",
       ".xr-var-attrs,\n",
       ".xr-var-data {\n",
       "  grid-column: 1 / -1;\n",
       "}\n",
       "\n",
       "dl.xr-attrs {\n",
       "  padding: 0;\n",
       "  margin: 0;\n",
       "  display: grid;\n",
       "  grid-template-columns: 125px auto;\n",
       "}\n",
       "\n",
       ".xr-attrs dt,\n",
       ".xr-attrs dd {\n",
       "  padding: 0;\n",
       "  margin: 0;\n",
       "  float: left;\n",
       "  padding-right: 10px;\n",
       "  width: auto;\n",
       "}\n",
       "\n",
       ".xr-attrs dt {\n",
       "  font-weight: normal;\n",
       "  grid-column: 1;\n",
       "}\n",
       "\n",
       ".xr-attrs dt:hover span {\n",
       "  display: inline-block;\n",
       "  background: var(--xr-background-color);\n",
       "  padding-right: 10px;\n",
       "}\n",
       "\n",
       ".xr-attrs dd {\n",
       "  grid-column: 2;\n",
       "  white-space: pre-wrap;\n",
       "  word-break: break-all;\n",
       "}\n",
       "\n",
       ".xr-icon-database,\n",
       ".xr-icon-file-text2 {\n",
       "  display: inline-block;\n",
       "  vertical-align: middle;\n",
       "  width: 1em;\n",
       "  height: 1.5em !important;\n",
       "  stroke-width: 0;\n",
       "  stroke: currentColor;\n",
       "  fill: currentColor;\n",
       "}\n",
       "</style><pre class='xr-text-repr-fallback'>&lt;xarray.DataArray (band: 1, y: 7871, x: 7741)&gt;\n",
       "dask.array&lt;truediv, shape=(1, 7871, 7741), dtype=float64, chunksize=(1, 512, 7741), chunktype=numpy.ndarray&gt;\n",
       "Coordinates:\n",
       "  * y            (y) float64 4.265e+06 4.265e+06 ... 4.029e+06 4.029e+06\n",
       "  * x            (x) float64 3.483e+05 3.483e+05 ... 5.805e+05 5.805e+05\n",
       "  * band         (band) int32 1\n",
       "    spatial_ref  int32 0</pre><div class='xr-wrap' hidden><div class='xr-header'><div class='xr-obj-type'>xarray.DataArray</div><div class='xr-array-name'></div><ul class='xr-dim-list'><li><span class='xr-has-index'>band</span>: 1</li><li><span class='xr-has-index'>y</span>: 7871</li><li><span class='xr-has-index'>x</span>: 7741</li></ul></div><ul class='xr-sections'><li class='xr-section-item'><div class='xr-array-wrap'><input id='section-6ad298fe-f63c-4f01-b888-ac24143d51bc' class='xr-array-in' type='checkbox' checked><label for='section-6ad298fe-f63c-4f01-b888-ac24143d51bc' title='Show/hide data repr'><svg class='icon xr-icon-database'><use xlink:href='#icon-database'></use></svg></label><div class='xr-array-preview xr-preview'><span>dask.array&lt;chunksize=(1, 512, 7741), meta=np.ndarray&gt;</span></div><div class='xr-array-data'><table>\n",
       "<tr>\n",
       "<td>\n",
       "<table>\n",
       "  <thead>\n",
       "    <tr><td> </td><th> Array </th><th> Chunk </th></tr>\n",
       "  </thead>\n",
       "  <tbody>\n",
       "    <tr><th> Bytes </th><td> 487.44 MB </td> <td> 31.71 MB </td></tr>\n",
       "    <tr><th> Shape </th><td> (1, 7871, 7741) </td> <td> (1, 512, 7741) </td></tr>\n",
       "    <tr><th> Count </th><td> 138 Tasks </td><td> 16 Chunks </td></tr>\n",
       "    <tr><th> Type </th><td> float64 </td><td> numpy.ndarray </td></tr>\n",
       "  </tbody>\n",
       "</table>\n",
       "</td>\n",
       "<td>\n",
       "<svg width=\"192\" height=\"184\" style=\"stroke:rgb(0,0,0);stroke-width:1\" >\n",
       "\n",
       "  <!-- Horizontal lines -->\n",
       "  <line x1=\"10\" y1=\"0\" x2=\"24\" y2=\"14\" style=\"stroke-width:2\" />\n",
       "  <line x1=\"10\" y1=\"7\" x2=\"24\" y2=\"22\" />\n",
       "  <line x1=\"10\" y1=\"15\" x2=\"24\" y2=\"30\" />\n",
       "  <line x1=\"10\" y1=\"23\" x2=\"24\" y2=\"38\" />\n",
       "  <line x1=\"10\" y1=\"31\" x2=\"24\" y2=\"46\" />\n",
       "  <line x1=\"10\" y1=\"39\" x2=\"24\" y2=\"53\" />\n",
       "  <line x1=\"10\" y1=\"46\" x2=\"24\" y2=\"61\" />\n",
       "  <line x1=\"10\" y1=\"54\" x2=\"24\" y2=\"69\" />\n",
       "  <line x1=\"10\" y1=\"62\" x2=\"24\" y2=\"77\" />\n",
       "  <line x1=\"10\" y1=\"70\" x2=\"24\" y2=\"85\" />\n",
       "  <line x1=\"10\" y1=\"78\" x2=\"24\" y2=\"93\" />\n",
       "  <line x1=\"10\" y1=\"85\" x2=\"24\" y2=\"100\" />\n",
       "  <line x1=\"10\" y1=\"93\" x2=\"24\" y2=\"108\" />\n",
       "  <line x1=\"10\" y1=\"101\" x2=\"24\" y2=\"116\" />\n",
       "  <line x1=\"10\" y1=\"109\" x2=\"24\" y2=\"124\" />\n",
       "  <line x1=\"10\" y1=\"117\" x2=\"24\" y2=\"132\" />\n",
       "  <line x1=\"10\" y1=\"120\" x2=\"24\" y2=\"134\" style=\"stroke-width:2\" />\n",
       "\n",
       "  <!-- Vertical lines -->\n",
       "  <line x1=\"10\" y1=\"0\" x2=\"10\" y2=\"120\" style=\"stroke-width:2\" />\n",
       "  <line x1=\"24\" y1=\"14\" x2=\"24\" y2=\"134\" style=\"stroke-width:2\" />\n",
       "\n",
       "  <!-- Colored Rectangle -->\n",
       "  <polygon points=\"10.0,0.0 24.9485979497544,14.948597949754403 24.9485979497544,134.9485979497544 10.0,120.0\" style=\"fill:#ECB172A0;stroke-width:0\"/>\n",
       "\n",
       "  <!-- Horizontal lines -->\n",
       "  <line x1=\"10\" y1=\"0\" x2=\"128\" y2=\"0\" style=\"stroke-width:2\" />\n",
       "  <line x1=\"24\" y1=\"14\" x2=\"142\" y2=\"14\" style=\"stroke-width:2\" />\n",
       "\n",
       "  <!-- Vertical lines -->\n",
       "  <line x1=\"10\" y1=\"0\" x2=\"24\" y2=\"14\" style=\"stroke-width:2\" />\n",
       "  <line x1=\"128\" y1=\"0\" x2=\"142\" y2=\"14\" style=\"stroke-width:2\" />\n",
       "\n",
       "  <!-- Colored Rectangle -->\n",
       "  <polygon points=\"10.0,0.0 128.0180409096684,0.0 142.9666388594228,14.948597949754403 24.9485979497544,14.948597949754403\" style=\"fill:#ECB172A0;stroke-width:0\"/>\n",
       "\n",
       "  <!-- Horizontal lines -->\n",
       "  <line x1=\"24\" y1=\"14\" x2=\"142\" y2=\"14\" style=\"stroke-width:2\" />\n",
       "  <line x1=\"24\" y1=\"22\" x2=\"142\" y2=\"22\" />\n",
       "  <line x1=\"24\" y1=\"30\" x2=\"142\" y2=\"30\" />\n",
       "  <line x1=\"24\" y1=\"38\" x2=\"142\" y2=\"38\" />\n",
       "  <line x1=\"24\" y1=\"46\" x2=\"142\" y2=\"46\" />\n",
       "  <line x1=\"24\" y1=\"53\" x2=\"142\" y2=\"53\" />\n",
       "  <line x1=\"24\" y1=\"61\" x2=\"142\" y2=\"61\" />\n",
       "  <line x1=\"24\" y1=\"69\" x2=\"142\" y2=\"69\" />\n",
       "  <line x1=\"24\" y1=\"77\" x2=\"142\" y2=\"77\" />\n",
       "  <line x1=\"24\" y1=\"85\" x2=\"142\" y2=\"85\" />\n",
       "  <line x1=\"24\" y1=\"93\" x2=\"142\" y2=\"93\" />\n",
       "  <line x1=\"24\" y1=\"100\" x2=\"142\" y2=\"100\" />\n",
       "  <line x1=\"24\" y1=\"108\" x2=\"142\" y2=\"108\" />\n",
       "  <line x1=\"24\" y1=\"116\" x2=\"142\" y2=\"116\" />\n",
       "  <line x1=\"24\" y1=\"124\" x2=\"142\" y2=\"124\" />\n",
       "  <line x1=\"24\" y1=\"132\" x2=\"142\" y2=\"132\" />\n",
       "  <line x1=\"24\" y1=\"134\" x2=\"142\" y2=\"134\" style=\"stroke-width:2\" />\n",
       "\n",
       "  <!-- Vertical lines -->\n",
       "  <line x1=\"24\" y1=\"14\" x2=\"24\" y2=\"134\" style=\"stroke-width:2\" />\n",
       "  <line x1=\"142\" y1=\"14\" x2=\"142\" y2=\"134\" style=\"stroke-width:2\" />\n",
       "\n",
       "  <!-- Colored Rectangle -->\n",
       "  <polygon points=\"24.9485979497544,14.948597949754403 142.9666388594228,14.948597949754403 142.9666388594228,134.9485979497544 24.9485979497544,134.9485979497544\" style=\"fill:#ECB172A0;stroke-width:0\"/>\n",
       "\n",
       "  <!-- Text -->\n",
       "  <text x=\"83.957618\" y=\"154.948598\" font-size=\"1.0rem\" font-weight=\"100\" text-anchor=\"middle\" >7741</text>\n",
       "  <text x=\"162.966639\" y=\"74.948598\" font-size=\"1.0rem\" font-weight=\"100\" text-anchor=\"middle\" transform=\"rotate(-90,162.966639,74.948598)\">7871</text>\n",
       "  <text x=\"7.474299\" y=\"147.474299\" font-size=\"1.0rem\" font-weight=\"100\" text-anchor=\"middle\" transform=\"rotate(45,7.474299,147.474299)\">1</text>\n",
       "</svg>\n",
       "</td>\n",
       "</tr>\n",
       "</table></div></div></li><li class='xr-section-item'><input id='section-67cc354e-152b-40e3-9549-104e5d82c560' class='xr-section-summary-in' type='checkbox'  checked><label for='section-67cc354e-152b-40e3-9549-104e5d82c560' class='xr-section-summary' >Coordinates: <span>(4)</span></label><div class='xr-section-inline-details'></div><div class='xr-section-details'><ul class='xr-var-list'><li class='xr-var-item'><div class='xr-var-name'><span class='xr-has-index'>y</span></div><div class='xr-var-dims'>(y)</div><div class='xr-var-dtype'>float64</div><div class='xr-var-preview xr-preview'>4.265e+06 4.265e+06 ... 4.029e+06</div><input id='attrs-a499e49e-8d9f-4c7a-8f5d-2fd53765ad3f' class='xr-var-attrs-in' type='checkbox' disabled><label for='attrs-a499e49e-8d9f-4c7a-8f5d-2fd53765ad3f' title='Show/Hide attributes'><svg class='icon xr-icon-file-text2'><use xlink:href='#icon-file-text2'></use></svg></label><input id='data-155398ab-cc0d-496a-b49f-3a63aeea20d2' class='xr-var-data-in' type='checkbox'><label for='data-155398ab-cc0d-496a-b49f-3a63aeea20d2' title='Show/Hide data repr'><svg class='icon xr-icon-database'><use xlink:href='#icon-database'></use></svg></label><div class='xr-var-attrs'><dl class='xr-attrs'></dl></div><div class='xr-var-data'><pre>array([4265100., 4265070., 4265040., ..., 4029060., 4029030., 4029000.])</pre></div></li><li class='xr-var-item'><div class='xr-var-name'><span class='xr-has-index'>x</span></div><div class='xr-var-dims'>(x)</div><div class='xr-var-dtype'>float64</div><div class='xr-var-preview xr-preview'>3.483e+05 3.483e+05 ... 5.805e+05</div><input id='attrs-b92a76ad-0e8d-45b1-99e6-3a44ffff3537' class='xr-var-attrs-in' type='checkbox' disabled><label for='attrs-b92a76ad-0e8d-45b1-99e6-3a44ffff3537' title='Show/Hide attributes'><svg class='icon xr-icon-file-text2'><use xlink:href='#icon-file-text2'></use></svg></label><input id='data-13e0dec6-9b21-48e7-866f-13f782d8d8cb' class='xr-var-data-in' type='checkbox'><label for='data-13e0dec6-9b21-48e7-866f-13f782d8d8cb' title='Show/Hide data repr'><svg class='icon xr-icon-database'><use xlink:href='#icon-database'></use></svg></label><div class='xr-var-attrs'><dl class='xr-attrs'></dl></div><div class='xr-var-data'><pre>array([348300., 348330., 348360., ..., 580440., 580470., 580500.])</pre></div></li><li class='xr-var-item'><div class='xr-var-name'><span class='xr-has-index'>band</span></div><div class='xr-var-dims'>(band)</div><div class='xr-var-dtype'>int32</div><div class='xr-var-preview xr-preview'>1</div><input id='attrs-e02a5bd9-3011-45e5-aa8c-7527798e6952' class='xr-var-attrs-in' type='checkbox' disabled><label for='attrs-e02a5bd9-3011-45e5-aa8c-7527798e6952' title='Show/Hide attributes'><svg class='icon xr-icon-file-text2'><use xlink:href='#icon-file-text2'></use></svg></label><input id='data-23b629ab-e31b-41ed-a441-db5d50f66e66' class='xr-var-data-in' type='checkbox'><label for='data-23b629ab-e31b-41ed-a441-db5d50f66e66' title='Show/Hide data repr'><svg class='icon xr-icon-database'><use xlink:href='#icon-database'></use></svg></label><div class='xr-var-attrs'><dl class='xr-attrs'></dl></div><div class='xr-var-data'><pre>array([1])</pre></div></li><li class='xr-var-item'><div class='xr-var-name'><span>spatial_ref</span></div><div class='xr-var-dims'>()</div><div class='xr-var-dtype'>int32</div><div class='xr-var-preview xr-preview'>0</div><input id='attrs-7af3a672-0a0e-4b9f-964c-5f0575f4d1d3' class='xr-var-attrs-in' type='checkbox' ><label for='attrs-7af3a672-0a0e-4b9f-964c-5f0575f4d1d3' title='Show/Hide attributes'><svg class='icon xr-icon-file-text2'><use xlink:href='#icon-file-text2'></use></svg></label><input id='data-7e36dcfd-eac7-423e-80bd-520b534e12fd' class='xr-var-data-in' type='checkbox'><label for='data-7e36dcfd-eac7-423e-80bd-520b534e12fd' title='Show/Hide data repr'><svg class='icon xr-icon-database'><use xlink:href='#icon-database'></use></svg></label><div class='xr-var-attrs'><dl class='xr-attrs'><dt><span>crs_wkt :</span></dt><dd>PROJCRS[&quot;WGS 84 / UTM zone 37N&quot;,BASEGEOGCRS[&quot;WGS 84&quot;,DATUM[&quot;World Geodetic System 1984&quot;,ELLIPSOID[&quot;WGS 84&quot;,6378137,298.257223563,LENGTHUNIT[&quot;metre&quot;,1]]],PRIMEM[&quot;Greenwich&quot;,0,ANGLEUNIT[&quot;degree&quot;,0.0174532925199433]],ID[&quot;EPSG&quot;,4326]],CONVERSION[&quot;UTM zone 37N&quot;,METHOD[&quot;Transverse Mercator&quot;,ID[&quot;EPSG&quot;,9807]],PARAMETER[&quot;Latitude of natural origin&quot;,0,ANGLEUNIT[&quot;degree&quot;,0.0174532925199433],ID[&quot;EPSG&quot;,8801]],PARAMETER[&quot;Longitude of natural origin&quot;,39,ANGLEUNIT[&quot;degree&quot;,0.0174532925199433],ID[&quot;EPSG&quot;,8802]],PARAMETER[&quot;Scale factor at natural origin&quot;,0.9996,SCALEUNIT[&quot;unity&quot;,1],ID[&quot;EPSG&quot;,8805]],PARAMETER[&quot;False easting&quot;,500000,LENGTHUNIT[&quot;metre&quot;,1],ID[&quot;EPSG&quot;,8806]],PARAMETER[&quot;False northing&quot;,0,LENGTHUNIT[&quot;metre&quot;,1],ID[&quot;EPSG&quot;,8807]]],CS[Cartesian,2],AXIS[&quot;easting&quot;,east,ORDER[1],LENGTHUNIT[&quot;metre&quot;,1]],AXIS[&quot;northing&quot;,north,ORDER[2],LENGTHUNIT[&quot;metre&quot;,1]],ID[&quot;EPSG&quot;,32637]]</dd><dt><span>semi_major_axis :</span></dt><dd>6378137.0</dd><dt><span>semi_minor_axis :</span></dt><dd>6356752.314245179</dd><dt><span>inverse_flattening :</span></dt><dd>298.257223563</dd><dt><span>reference_ellipsoid_name :</span></dt><dd>WGS 84</dd><dt><span>longitude_of_prime_meridian :</span></dt><dd>0.0</dd><dt><span>prime_meridian_name :</span></dt><dd>Greenwich</dd><dt><span>geographic_crs_name :</span></dt><dd>WGS 84</dd><dt><span>horizontal_datum_name :</span></dt><dd>World Geodetic System 1984</dd><dt><span>projected_crs_name :</span></dt><dd>WGS 84 / UTM zone 37N</dd><dt><span>grid_mapping_name :</span></dt><dd>transverse_mercator</dd><dt><span>latitude_of_projection_origin :</span></dt><dd>0.0</dd><dt><span>longitude_of_central_meridian :</span></dt><dd>39.0</dd><dt><span>false_easting :</span></dt><dd>500000.0</dd><dt><span>false_northing :</span></dt><dd>0.0</dd><dt><span>scale_factor_at_central_meridian :</span></dt><dd>0.9996</dd><dt><span>spatial_ref :</span></dt><dd>PROJCRS[&quot;WGS 84 / UTM zone 37N&quot;,BASEGEOGCRS[&quot;WGS 84&quot;,DATUM[&quot;World Geodetic System 1984&quot;,ELLIPSOID[&quot;WGS 84&quot;,6378137,298.257223563,LENGTHUNIT[&quot;metre&quot;,1]]],PRIMEM[&quot;Greenwich&quot;,0,ANGLEUNIT[&quot;degree&quot;,0.0174532925199433]],ID[&quot;EPSG&quot;,4326]],CONVERSION[&quot;UTM zone 37N&quot;,METHOD[&quot;Transverse Mercator&quot;,ID[&quot;EPSG&quot;,9807]],PARAMETER[&quot;Latitude of natural origin&quot;,0,ANGLEUNIT[&quot;degree&quot;,0.0174532925199433],ID[&quot;EPSG&quot;,8801]],PARAMETER[&quot;Longitude of natural origin&quot;,39,ANGLEUNIT[&quot;degree&quot;,0.0174532925199433],ID[&quot;EPSG&quot;,8802]],PARAMETER[&quot;Scale factor at natural origin&quot;,0.9996,SCALEUNIT[&quot;unity&quot;,1],ID[&quot;EPSG&quot;,8805]],PARAMETER[&quot;False easting&quot;,500000,LENGTHUNIT[&quot;metre&quot;,1],ID[&quot;EPSG&quot;,8806]],PARAMETER[&quot;False northing&quot;,0,LENGTHUNIT[&quot;metre&quot;,1],ID[&quot;EPSG&quot;,8807]]],CS[Cartesian,2],AXIS[&quot;easting&quot;,east,ORDER[1],LENGTHUNIT[&quot;metre&quot;,1]],AXIS[&quot;northing&quot;,north,ORDER[2],LENGTHUNIT[&quot;metre&quot;,1]],ID[&quot;EPSG&quot;,32637]]</dd><dt><span>GeoTransform :</span></dt><dd>348292.5 15.0 0.0 4265107.5 0.0 -15.0</dd></dl></div><div class='xr-var-data'><pre>array(0)</pre></div></li></ul></div></li><li class='xr-section-item'><input id='section-12560b14-cc5a-44a1-a915-486d5b5d76a7' class='xr-section-summary-in' type='checkbox' disabled ><label for='section-12560b14-cc5a-44a1-a915-486d5b5d76a7' class='xr-section-summary'  title='Expand/collapse section'>Attributes: <span>(0)</span></label><div class='xr-section-inline-details'></div><div class='xr-section-details'><dl class='xr-attrs'></dl></div></li></ul></div></div>"
      ],
      "text/plain": [
       "<xarray.DataArray (band: 1, y: 7871, x: 7741)>\n",
       "dask.array<truediv, shape=(1, 7871, 7741), dtype=float64, chunksize=(1, 512, 7741), chunktype=numpy.ndarray>\n",
       "Coordinates:\n",
       "  * y            (y) float64 4.265e+06 4.265e+06 ... 4.029e+06 4.029e+06\n",
       "  * x            (x) float64 3.483e+05 3.483e+05 ... 5.805e+05 5.805e+05\n",
       "  * band         (band) int32 1\n",
       "    spatial_ref  int32 0"
      ]
     },
     "execution_count": 11,
     "metadata": {},
     "output_type": "execute_result"
    }
   ],
   "source": [
    "ndvi"
   ]
  },
  {
   "cell_type": "code",
   "execution_count": 12,
   "metadata": {},
   "outputs": [
    {
     "data": {
      "text/html": [
       "<div><svg style=\"position: absolute; width: 0; height: 0; overflow: hidden\">\n",
       "<defs>\n",
       "<symbol id=\"icon-database\" viewBox=\"0 0 32 32\">\n",
       "<path d=\"M16 0c-8.837 0-16 2.239-16 5v4c0 2.761 7.163 5 16 5s16-2.239 16-5v-4c0-2.761-7.163-5-16-5z\"></path>\n",
       "<path d=\"M16 17c-8.837 0-16-2.239-16-5v6c0 2.761 7.163 5 16 5s16-2.239 16-5v-6c0 2.761-7.163 5-16 5z\"></path>\n",
       "<path d=\"M16 26c-8.837 0-16-2.239-16-5v6c0 2.761 7.163 5 16 5s16-2.239 16-5v-6c0 2.761-7.163 5-16 5z\"></path>\n",
       "</symbol>\n",
       "<symbol id=\"icon-file-text2\" viewBox=\"0 0 32 32\">\n",
       "<path d=\"M28.681 7.159c-0.694-0.947-1.662-2.053-2.724-3.116s-2.169-2.030-3.116-2.724c-1.612-1.182-2.393-1.319-2.841-1.319h-15.5c-1.378 0-2.5 1.121-2.5 2.5v27c0 1.378 1.122 2.5 2.5 2.5h23c1.378 0 2.5-1.122 2.5-2.5v-19.5c0-0.448-0.137-1.23-1.319-2.841zM24.543 5.457c0.959 0.959 1.712 1.825 2.268 2.543h-4.811v-4.811c0.718 0.556 1.584 1.309 2.543 2.268zM28 29.5c0 0.271-0.229 0.5-0.5 0.5h-23c-0.271 0-0.5-0.229-0.5-0.5v-27c0-0.271 0.229-0.5 0.5-0.5 0 0 15.499-0 15.5 0v7c0 0.552 0.448 1 1 1h7v19.5z\"></path>\n",
       "<path d=\"M23 26h-14c-0.552 0-1-0.448-1-1s0.448-1 1-1h14c0.552 0 1 0.448 1 1s-0.448 1-1 1z\"></path>\n",
       "<path d=\"M23 22h-14c-0.552 0-1-0.448-1-1s0.448-1 1-1h14c0.552 0 1 0.448 1 1s-0.448 1-1 1z\"></path>\n",
       "<path d=\"M23 18h-14c-0.552 0-1-0.448-1-1s0.448-1 1-1h14c0.552 0 1 0.448 1 1s-0.448 1-1 1z\"></path>\n",
       "</symbol>\n",
       "</defs>\n",
       "</svg>\n",
       "<style>/* CSS stylesheet for displaying xarray objects in jupyterlab.\n",
       " *\n",
       " */\n",
       "\n",
       ":root {\n",
       "  --xr-font-color0: var(--jp-content-font-color0, rgba(0, 0, 0, 1));\n",
       "  --xr-font-color2: var(--jp-content-font-color2, rgba(0, 0, 0, 0.54));\n",
       "  --xr-font-color3: var(--jp-content-font-color3, rgba(0, 0, 0, 0.38));\n",
       "  --xr-border-color: var(--jp-border-color2, #e0e0e0);\n",
       "  --xr-disabled-color: var(--jp-layout-color3, #bdbdbd);\n",
       "  --xr-background-color: var(--jp-layout-color0, white);\n",
       "  --xr-background-color-row-even: var(--jp-layout-color1, white);\n",
       "  --xr-background-color-row-odd: var(--jp-layout-color2, #eeeeee);\n",
       "}\n",
       "\n",
       "html[theme=dark],\n",
       "body.vscode-dark {\n",
       "  --xr-font-color0: rgba(255, 255, 255, 1);\n",
       "  --xr-font-color2: rgba(255, 255, 255, 0.54);\n",
       "  --xr-font-color3: rgba(255, 255, 255, 0.38);\n",
       "  --xr-border-color: #1F1F1F;\n",
       "  --xr-disabled-color: #515151;\n",
       "  --xr-background-color: #111111;\n",
       "  --xr-background-color-row-even: #111111;\n",
       "  --xr-background-color-row-odd: #313131;\n",
       "}\n",
       "\n",
       ".xr-wrap {\n",
       "  display: block;\n",
       "  min-width: 300px;\n",
       "  max-width: 700px;\n",
       "}\n",
       "\n",
       ".xr-text-repr-fallback {\n",
       "  /* fallback to plain text repr when CSS is not injected (untrusted notebook) */\n",
       "  display: none;\n",
       "}\n",
       "\n",
       ".xr-header {\n",
       "  padding-top: 6px;\n",
       "  padding-bottom: 6px;\n",
       "  margin-bottom: 4px;\n",
       "  border-bottom: solid 1px var(--xr-border-color);\n",
       "}\n",
       "\n",
       ".xr-header > div,\n",
       ".xr-header > ul {\n",
       "  display: inline;\n",
       "  margin-top: 0;\n",
       "  margin-bottom: 0;\n",
       "}\n",
       "\n",
       ".xr-obj-type,\n",
       ".xr-array-name {\n",
       "  margin-left: 2px;\n",
       "  margin-right: 10px;\n",
       "}\n",
       "\n",
       ".xr-obj-type {\n",
       "  color: var(--xr-font-color2);\n",
       "}\n",
       "\n",
       ".xr-sections {\n",
       "  padding-left: 0 !important;\n",
       "  display: grid;\n",
       "  grid-template-columns: 150px auto auto 1fr 20px 20px;\n",
       "}\n",
       "\n",
       ".xr-section-item {\n",
       "  display: contents;\n",
       "}\n",
       "\n",
       ".xr-section-item input {\n",
       "  display: none;\n",
       "}\n",
       "\n",
       ".xr-section-item input + label {\n",
       "  color: var(--xr-disabled-color);\n",
       "}\n",
       "\n",
       ".xr-section-item input:enabled + label {\n",
       "  cursor: pointer;\n",
       "  color: var(--xr-font-color2);\n",
       "}\n",
       "\n",
       ".xr-section-item input:enabled + label:hover {\n",
       "  color: var(--xr-font-color0);\n",
       "}\n",
       "\n",
       ".xr-section-summary {\n",
       "  grid-column: 1;\n",
       "  color: var(--xr-font-color2);\n",
       "  font-weight: 500;\n",
       "}\n",
       "\n",
       ".xr-section-summary > span {\n",
       "  display: inline-block;\n",
       "  padding-left: 0.5em;\n",
       "}\n",
       "\n",
       ".xr-section-summary-in:disabled + label {\n",
       "  color: var(--xr-font-color2);\n",
       "}\n",
       "\n",
       ".xr-section-summary-in + label:before {\n",
       "  display: inline-block;\n",
       "  content: '►';\n",
       "  font-size: 11px;\n",
       "  width: 15px;\n",
       "  text-align: center;\n",
       "}\n",
       "\n",
       ".xr-section-summary-in:disabled + label:before {\n",
       "  color: var(--xr-disabled-color);\n",
       "}\n",
       "\n",
       ".xr-section-summary-in:checked + label:before {\n",
       "  content: '▼';\n",
       "}\n",
       "\n",
       ".xr-section-summary-in:checked + label > span {\n",
       "  display: none;\n",
       "}\n",
       "\n",
       ".xr-section-summary,\n",
       ".xr-section-inline-details {\n",
       "  padding-top: 4px;\n",
       "  padding-bottom: 4px;\n",
       "}\n",
       "\n",
       ".xr-section-inline-details {\n",
       "  grid-column: 2 / -1;\n",
       "}\n",
       "\n",
       ".xr-section-details {\n",
       "  display: none;\n",
       "  grid-column: 1 / -1;\n",
       "  margin-bottom: 5px;\n",
       "}\n",
       "\n",
       ".xr-section-summary-in:checked ~ .xr-section-details {\n",
       "  display: contents;\n",
       "}\n",
       "\n",
       ".xr-array-wrap {\n",
       "  grid-column: 1 / -1;\n",
       "  display: grid;\n",
       "  grid-template-columns: 20px auto;\n",
       "}\n",
       "\n",
       ".xr-array-wrap > label {\n",
       "  grid-column: 1;\n",
       "  vertical-align: top;\n",
       "}\n",
       "\n",
       ".xr-preview {\n",
       "  color: var(--xr-font-color3);\n",
       "}\n",
       "\n",
       ".xr-array-preview,\n",
       ".xr-array-data {\n",
       "  padding: 0 5px !important;\n",
       "  grid-column: 2;\n",
       "}\n",
       "\n",
       ".xr-array-data,\n",
       ".xr-array-in:checked ~ .xr-array-preview {\n",
       "  display: none;\n",
       "}\n",
       "\n",
       ".xr-array-in:checked ~ .xr-array-data,\n",
       ".xr-array-preview {\n",
       "  display: inline-block;\n",
       "}\n",
       "\n",
       ".xr-dim-list {\n",
       "  display: inline-block !important;\n",
       "  list-style: none;\n",
       "  padding: 0 !important;\n",
       "  margin: 0;\n",
       "}\n",
       "\n",
       ".xr-dim-list li {\n",
       "  display: inline-block;\n",
       "  padding: 0;\n",
       "  margin: 0;\n",
       "}\n",
       "\n",
       ".xr-dim-list:before {\n",
       "  content: '(';\n",
       "}\n",
       "\n",
       ".xr-dim-list:after {\n",
       "  content: ')';\n",
       "}\n",
       "\n",
       ".xr-dim-list li:not(:last-child):after {\n",
       "  content: ',';\n",
       "  padding-right: 5px;\n",
       "}\n",
       "\n",
       ".xr-has-index {\n",
       "  font-weight: bold;\n",
       "}\n",
       "\n",
       ".xr-var-list,\n",
       ".xr-var-item {\n",
       "  display: contents;\n",
       "}\n",
       "\n",
       ".xr-var-item > div,\n",
       ".xr-var-item label,\n",
       ".xr-var-item > .xr-var-name span {\n",
       "  background-color: var(--xr-background-color-row-even);\n",
       "  margin-bottom: 0;\n",
       "}\n",
       "\n",
       ".xr-var-item > .xr-var-name:hover span {\n",
       "  padding-right: 5px;\n",
       "}\n",
       "\n",
       ".xr-var-list > li:nth-child(odd) > div,\n",
       ".xr-var-list > li:nth-child(odd) > label,\n",
       ".xr-var-list > li:nth-child(odd) > .xr-var-name span {\n",
       "  background-color: var(--xr-background-color-row-odd);\n",
       "}\n",
       "\n",
       ".xr-var-name {\n",
       "  grid-column: 1;\n",
       "}\n",
       "\n",
       ".xr-var-dims {\n",
       "  grid-column: 2;\n",
       "}\n",
       "\n",
       ".xr-var-dtype {\n",
       "  grid-column: 3;\n",
       "  text-align: right;\n",
       "  color: var(--xr-font-color2);\n",
       "}\n",
       "\n",
       ".xr-var-preview {\n",
       "  grid-column: 4;\n",
       "}\n",
       "\n",
       ".xr-var-name,\n",
       ".xr-var-dims,\n",
       ".xr-var-dtype,\n",
       ".xr-preview,\n",
       ".xr-attrs dt {\n",
       "  white-space: nowrap;\n",
       "  overflow: hidden;\n",
       "  text-overflow: ellipsis;\n",
       "  padding-right: 10px;\n",
       "}\n",
       "\n",
       ".xr-var-name:hover,\n",
       ".xr-var-dims:hover,\n",
       ".xr-var-dtype:hover,\n",
       ".xr-attrs dt:hover {\n",
       "  overflow: visible;\n",
       "  width: auto;\n",
       "  z-index: 1;\n",
       "}\n",
       "\n",
       ".xr-var-attrs,\n",
       ".xr-var-data {\n",
       "  display: none;\n",
       "  background-color: var(--xr-background-color) !important;\n",
       "  padding-bottom: 5px !important;\n",
       "}\n",
       "\n",
       ".xr-var-attrs-in:checked ~ .xr-var-attrs,\n",
       ".xr-var-data-in:checked ~ .xr-var-data {\n",
       "  display: block;\n",
       "}\n",
       "\n",
       ".xr-var-data > table {\n",
       "  float: right;\n",
       "}\n",
       "\n",
       ".xr-var-name span,\n",
       ".xr-var-data,\n",
       ".xr-attrs {\n",
       "  padding-left: 25px !important;\n",
       "}\n",
       "\n",
       ".xr-attrs,\n",
       ".xr-var-attrs,\n",
       ".xr-var-data {\n",
       "  grid-column: 1 / -1;\n",
       "}\n",
       "\n",
       "dl.xr-attrs {\n",
       "  padding: 0;\n",
       "  margin: 0;\n",
       "  display: grid;\n",
       "  grid-template-columns: 125px auto;\n",
       "}\n",
       "\n",
       ".xr-attrs dt,\n",
       ".xr-attrs dd {\n",
       "  padding: 0;\n",
       "  margin: 0;\n",
       "  float: left;\n",
       "  padding-right: 10px;\n",
       "  width: auto;\n",
       "}\n",
       "\n",
       ".xr-attrs dt {\n",
       "  font-weight: normal;\n",
       "  grid-column: 1;\n",
       "}\n",
       "\n",
       ".xr-attrs dt:hover span {\n",
       "  display: inline-block;\n",
       "  background: var(--xr-background-color);\n",
       "  padding-right: 10px;\n",
       "}\n",
       "\n",
       ".xr-attrs dd {\n",
       "  grid-column: 2;\n",
       "  white-space: pre-wrap;\n",
       "  word-break: break-all;\n",
       "}\n",
       "\n",
       ".xr-icon-database,\n",
       ".xr-icon-file-text2 {\n",
       "  display: inline-block;\n",
       "  vertical-align: middle;\n",
       "  width: 1em;\n",
       "  height: 1.5em !important;\n",
       "  stroke-width: 0;\n",
       "  stroke: currentColor;\n",
       "  fill: currentColor;\n",
       "}\n",
       "</style><pre class='xr-text-repr-fallback'>&lt;xarray.DataArray (y: 7871, x: 7741)&gt;\n",
       "dask.array&lt;getitem, shape=(7871, 7741), dtype=float64, chunksize=(512, 7741), chunktype=numpy.ndarray&gt;\n",
       "Coordinates:\n",
       "  * y            (y) float64 4.265e+06 4.265e+06 ... 4.029e+06 4.029e+06\n",
       "  * x            (x) float64 3.483e+05 3.483e+05 ... 5.805e+05 5.805e+05\n",
       "    band         int32 1\n",
       "    spatial_ref  int32 0</pre><div class='xr-wrap' hidden><div class='xr-header'><div class='xr-obj-type'>xarray.DataArray</div><div class='xr-array-name'></div><ul class='xr-dim-list'><li><span class='xr-has-index'>y</span>: 7871</li><li><span class='xr-has-index'>x</span>: 7741</li></ul></div><ul class='xr-sections'><li class='xr-section-item'><div class='xr-array-wrap'><input id='section-7dbdb54e-23cb-431c-a564-2b5df68f1ad7' class='xr-array-in' type='checkbox' checked><label for='section-7dbdb54e-23cb-431c-a564-2b5df68f1ad7' title='Show/hide data repr'><svg class='icon xr-icon-database'><use xlink:href='#icon-database'></use></svg></label><div class='xr-array-preview xr-preview'><span>dask.array&lt;chunksize=(512, 7741), meta=np.ndarray&gt;</span></div><div class='xr-array-data'><table>\n",
       "<tr>\n",
       "<td>\n",
       "<table>\n",
       "  <thead>\n",
       "    <tr><td> </td><th> Array </th><th> Chunk </th></tr>\n",
       "  </thead>\n",
       "  <tbody>\n",
       "    <tr><th> Bytes </th><td> 487.44 MB </td> <td> 31.71 MB </td></tr>\n",
       "    <tr><th> Shape </th><td> (7871, 7741) </td> <td> (512, 7741) </td></tr>\n",
       "    <tr><th> Count </th><td> 154 Tasks </td><td> 16 Chunks </td></tr>\n",
       "    <tr><th> Type </th><td> float64 </td><td> numpy.ndarray </td></tr>\n",
       "  </tbody>\n",
       "</table>\n",
       "</td>\n",
       "<td>\n",
       "<svg width=\"168\" height=\"170\" style=\"stroke:rgb(0,0,0);stroke-width:1\" >\n",
       "\n",
       "  <!-- Horizontal lines -->\n",
       "  <line x1=\"0\" y1=\"0\" x2=\"118\" y2=\"0\" style=\"stroke-width:2\" />\n",
       "  <line x1=\"0\" y1=\"7\" x2=\"118\" y2=\"7\" />\n",
       "  <line x1=\"0\" y1=\"15\" x2=\"118\" y2=\"15\" />\n",
       "  <line x1=\"0\" y1=\"23\" x2=\"118\" y2=\"23\" />\n",
       "  <line x1=\"0\" y1=\"31\" x2=\"118\" y2=\"31\" />\n",
       "  <line x1=\"0\" y1=\"39\" x2=\"118\" y2=\"39\" />\n",
       "  <line x1=\"0\" y1=\"46\" x2=\"118\" y2=\"46\" />\n",
       "  <line x1=\"0\" y1=\"54\" x2=\"118\" y2=\"54\" />\n",
       "  <line x1=\"0\" y1=\"62\" x2=\"118\" y2=\"62\" />\n",
       "  <line x1=\"0\" y1=\"70\" x2=\"118\" y2=\"70\" />\n",
       "  <line x1=\"0\" y1=\"78\" x2=\"118\" y2=\"78\" />\n",
       "  <line x1=\"0\" y1=\"85\" x2=\"118\" y2=\"85\" />\n",
       "  <line x1=\"0\" y1=\"93\" x2=\"118\" y2=\"93\" />\n",
       "  <line x1=\"0\" y1=\"101\" x2=\"118\" y2=\"101\" />\n",
       "  <line x1=\"0\" y1=\"109\" x2=\"118\" y2=\"109\" />\n",
       "  <line x1=\"0\" y1=\"117\" x2=\"118\" y2=\"117\" />\n",
       "  <line x1=\"0\" y1=\"120\" x2=\"118\" y2=\"120\" style=\"stroke-width:2\" />\n",
       "\n",
       "  <!-- Vertical lines -->\n",
       "  <line x1=\"0\" y1=\"0\" x2=\"0\" y2=\"120\" style=\"stroke-width:2\" />\n",
       "  <line x1=\"118\" y1=\"0\" x2=\"118\" y2=\"120\" style=\"stroke-width:2\" />\n",
       "\n",
       "  <!-- Colored Rectangle -->\n",
       "  <polygon points=\"0.0,0.0 118.01804090966841,0.0 118.01804090966841,120.0 0.0,120.0\" style=\"fill:#ECB172A0;stroke-width:0\"/>\n",
       "\n",
       "  <!-- Text -->\n",
       "  <text x=\"59.009020\" y=\"140.000000\" font-size=\"1.0rem\" font-weight=\"100\" text-anchor=\"middle\" >7741</text>\n",
       "  <text x=\"138.018041\" y=\"60.000000\" font-size=\"1.0rem\" font-weight=\"100\" text-anchor=\"middle\" transform=\"rotate(-90,138.018041,60.000000)\">7871</text>\n",
       "</svg>\n",
       "</td>\n",
       "</tr>\n",
       "</table></div></div></li><li class='xr-section-item'><input id='section-8e53fff7-9151-45f1-a065-9e73f0059a5a' class='xr-section-summary-in' type='checkbox'  checked><label for='section-8e53fff7-9151-45f1-a065-9e73f0059a5a' class='xr-section-summary' >Coordinates: <span>(4)</span></label><div class='xr-section-inline-details'></div><div class='xr-section-details'><ul class='xr-var-list'><li class='xr-var-item'><div class='xr-var-name'><span class='xr-has-index'>y</span></div><div class='xr-var-dims'>(y)</div><div class='xr-var-dtype'>float64</div><div class='xr-var-preview xr-preview'>4.265e+06 4.265e+06 ... 4.029e+06</div><input id='attrs-9afca088-90d9-4acd-a3ee-f3a9d1ddd19c' class='xr-var-attrs-in' type='checkbox' disabled><label for='attrs-9afca088-90d9-4acd-a3ee-f3a9d1ddd19c' title='Show/Hide attributes'><svg class='icon xr-icon-file-text2'><use xlink:href='#icon-file-text2'></use></svg></label><input id='data-b55d137c-2a83-4873-93d3-19cd490d10e8' class='xr-var-data-in' type='checkbox'><label for='data-b55d137c-2a83-4873-93d3-19cd490d10e8' title='Show/Hide data repr'><svg class='icon xr-icon-database'><use xlink:href='#icon-database'></use></svg></label><div class='xr-var-attrs'><dl class='xr-attrs'></dl></div><div class='xr-var-data'><pre>array([4265100., 4265070., 4265040., ..., 4029060., 4029030., 4029000.])</pre></div></li><li class='xr-var-item'><div class='xr-var-name'><span class='xr-has-index'>x</span></div><div class='xr-var-dims'>(x)</div><div class='xr-var-dtype'>float64</div><div class='xr-var-preview xr-preview'>3.483e+05 3.483e+05 ... 5.805e+05</div><input id='attrs-a59bc175-aa69-4a05-a0ec-99162ab7a0fa' class='xr-var-attrs-in' type='checkbox' disabled><label for='attrs-a59bc175-aa69-4a05-a0ec-99162ab7a0fa' title='Show/Hide attributes'><svg class='icon xr-icon-file-text2'><use xlink:href='#icon-file-text2'></use></svg></label><input id='data-eb0e38f4-bbbe-48db-bfcc-26918fc1e03c' class='xr-var-data-in' type='checkbox'><label for='data-eb0e38f4-bbbe-48db-bfcc-26918fc1e03c' title='Show/Hide data repr'><svg class='icon xr-icon-database'><use xlink:href='#icon-database'></use></svg></label><div class='xr-var-attrs'><dl class='xr-attrs'></dl></div><div class='xr-var-data'><pre>array([348300., 348330., 348360., ..., 580440., 580470., 580500.])</pre></div></li><li class='xr-var-item'><div class='xr-var-name'><span>band</span></div><div class='xr-var-dims'>()</div><div class='xr-var-dtype'>int32</div><div class='xr-var-preview xr-preview'>1</div><input id='attrs-1a35bb1b-f3f5-4f31-9910-862e8ba6b8f0' class='xr-var-attrs-in' type='checkbox' disabled><label for='attrs-1a35bb1b-f3f5-4f31-9910-862e8ba6b8f0' title='Show/Hide attributes'><svg class='icon xr-icon-file-text2'><use xlink:href='#icon-file-text2'></use></svg></label><input id='data-5eab9624-5b57-4699-afdf-e727e7fbe366' class='xr-var-data-in' type='checkbox'><label for='data-5eab9624-5b57-4699-afdf-e727e7fbe366' title='Show/Hide data repr'><svg class='icon xr-icon-database'><use xlink:href='#icon-database'></use></svg></label><div class='xr-var-attrs'><dl class='xr-attrs'></dl></div><div class='xr-var-data'><pre>array(1)</pre></div></li><li class='xr-var-item'><div class='xr-var-name'><span>spatial_ref</span></div><div class='xr-var-dims'>()</div><div class='xr-var-dtype'>int32</div><div class='xr-var-preview xr-preview'>0</div><input id='attrs-eb7fe5f8-daf7-4d9d-8a5d-ac2fc52f2cf9' class='xr-var-attrs-in' type='checkbox' ><label for='attrs-eb7fe5f8-daf7-4d9d-8a5d-ac2fc52f2cf9' title='Show/Hide attributes'><svg class='icon xr-icon-file-text2'><use xlink:href='#icon-file-text2'></use></svg></label><input id='data-2c2c9517-5a5d-4d49-83e7-3597f4f6abdc' class='xr-var-data-in' type='checkbox'><label for='data-2c2c9517-5a5d-4d49-83e7-3597f4f6abdc' title='Show/Hide data repr'><svg class='icon xr-icon-database'><use xlink:href='#icon-database'></use></svg></label><div class='xr-var-attrs'><dl class='xr-attrs'><dt><span>crs_wkt :</span></dt><dd>PROJCRS[&quot;WGS 84 / UTM zone 37N&quot;,BASEGEOGCRS[&quot;WGS 84&quot;,DATUM[&quot;World Geodetic System 1984&quot;,ELLIPSOID[&quot;WGS 84&quot;,6378137,298.257223563,LENGTHUNIT[&quot;metre&quot;,1]]],PRIMEM[&quot;Greenwich&quot;,0,ANGLEUNIT[&quot;degree&quot;,0.0174532925199433]],ID[&quot;EPSG&quot;,4326]],CONVERSION[&quot;UTM zone 37N&quot;,METHOD[&quot;Transverse Mercator&quot;,ID[&quot;EPSG&quot;,9807]],PARAMETER[&quot;Latitude of natural origin&quot;,0,ANGLEUNIT[&quot;degree&quot;,0.0174532925199433],ID[&quot;EPSG&quot;,8801]],PARAMETER[&quot;Longitude of natural origin&quot;,39,ANGLEUNIT[&quot;degree&quot;,0.0174532925199433],ID[&quot;EPSG&quot;,8802]],PARAMETER[&quot;Scale factor at natural origin&quot;,0.9996,SCALEUNIT[&quot;unity&quot;,1],ID[&quot;EPSG&quot;,8805]],PARAMETER[&quot;False easting&quot;,500000,LENGTHUNIT[&quot;metre&quot;,1],ID[&quot;EPSG&quot;,8806]],PARAMETER[&quot;False northing&quot;,0,LENGTHUNIT[&quot;metre&quot;,1],ID[&quot;EPSG&quot;,8807]]],CS[Cartesian,2],AXIS[&quot;easting&quot;,east,ORDER[1],LENGTHUNIT[&quot;metre&quot;,1]],AXIS[&quot;northing&quot;,north,ORDER[2],LENGTHUNIT[&quot;metre&quot;,1]],ID[&quot;EPSG&quot;,32637]]</dd><dt><span>semi_major_axis :</span></dt><dd>6378137.0</dd><dt><span>semi_minor_axis :</span></dt><dd>6356752.314245179</dd><dt><span>inverse_flattening :</span></dt><dd>298.257223563</dd><dt><span>reference_ellipsoid_name :</span></dt><dd>WGS 84</dd><dt><span>longitude_of_prime_meridian :</span></dt><dd>0.0</dd><dt><span>prime_meridian_name :</span></dt><dd>Greenwich</dd><dt><span>geographic_crs_name :</span></dt><dd>WGS 84</dd><dt><span>horizontal_datum_name :</span></dt><dd>World Geodetic System 1984</dd><dt><span>projected_crs_name :</span></dt><dd>WGS 84 / UTM zone 37N</dd><dt><span>grid_mapping_name :</span></dt><dd>transverse_mercator</dd><dt><span>latitude_of_projection_origin :</span></dt><dd>0.0</dd><dt><span>longitude_of_central_meridian :</span></dt><dd>39.0</dd><dt><span>false_easting :</span></dt><dd>500000.0</dd><dt><span>false_northing :</span></dt><dd>0.0</dd><dt><span>scale_factor_at_central_meridian :</span></dt><dd>0.9996</dd><dt><span>spatial_ref :</span></dt><dd>PROJCRS[&quot;WGS 84 / UTM zone 37N&quot;,BASEGEOGCRS[&quot;WGS 84&quot;,DATUM[&quot;World Geodetic System 1984&quot;,ELLIPSOID[&quot;WGS 84&quot;,6378137,298.257223563,LENGTHUNIT[&quot;metre&quot;,1]]],PRIMEM[&quot;Greenwich&quot;,0,ANGLEUNIT[&quot;degree&quot;,0.0174532925199433]],ID[&quot;EPSG&quot;,4326]],CONVERSION[&quot;UTM zone 37N&quot;,METHOD[&quot;Transverse Mercator&quot;,ID[&quot;EPSG&quot;,9807]],PARAMETER[&quot;Latitude of natural origin&quot;,0,ANGLEUNIT[&quot;degree&quot;,0.0174532925199433],ID[&quot;EPSG&quot;,8801]],PARAMETER[&quot;Longitude of natural origin&quot;,39,ANGLEUNIT[&quot;degree&quot;,0.0174532925199433],ID[&quot;EPSG&quot;,8802]],PARAMETER[&quot;Scale factor at natural origin&quot;,0.9996,SCALEUNIT[&quot;unity&quot;,1],ID[&quot;EPSG&quot;,8805]],PARAMETER[&quot;False easting&quot;,500000,LENGTHUNIT[&quot;metre&quot;,1],ID[&quot;EPSG&quot;,8806]],PARAMETER[&quot;False northing&quot;,0,LENGTHUNIT[&quot;metre&quot;,1],ID[&quot;EPSG&quot;,8807]]],CS[Cartesian,2],AXIS[&quot;easting&quot;,east,ORDER[1],LENGTHUNIT[&quot;metre&quot;,1]],AXIS[&quot;northing&quot;,north,ORDER[2],LENGTHUNIT[&quot;metre&quot;,1]],ID[&quot;EPSG&quot;,32637]]</dd><dt><span>GeoTransform :</span></dt><dd>348292.5 15.0 0.0 4265107.5 0.0 -15.0</dd></dl></div><div class='xr-var-data'><pre>array(0)</pre></div></li></ul></div></li><li class='xr-section-item'><input id='section-a31cb5d3-b265-41a7-9866-4ae270a1e1f4' class='xr-section-summary-in' type='checkbox' disabled ><label for='section-a31cb5d3-b265-41a7-9866-4ae270a1e1f4' class='xr-section-summary'  title='Expand/collapse section'>Attributes: <span>(0)</span></label><div class='xr-section-inline-details'></div><div class='xr-section-details'><dl class='xr-attrs'></dl></div></li></ul></div></div>"
      ],
      "text/plain": [
       "<xarray.DataArray (y: 7871, x: 7741)>\n",
       "dask.array<getitem, shape=(7871, 7741), dtype=float64, chunksize=(512, 7741), chunktype=numpy.ndarray>\n",
       "Coordinates:\n",
       "  * y            (y) float64 4.265e+06 4.265e+06 ... 4.029e+06 4.029e+06\n",
       "  * x            (x) float64 3.483e+05 3.483e+05 ... 5.805e+05 5.805e+05\n",
       "    band         int32 1\n",
       "    spatial_ref  int32 0"
      ]
     },
     "execution_count": 12,
     "metadata": {},
     "output_type": "execute_result"
    }
   ],
   "source": [
    "ndvi2d"
   ]
  },
  {
   "cell_type": "code",
   "execution_count": 155,
   "metadata": {},
   "outputs": [
    {
     "name": "stdout",
     "output_type": "stream",
     "text": [
      "Wall time: 7.33 s\n"
     ]
    }
   ],
   "source": [
    "%%time\n",
    "import rioxarray\n",
    "url_landsat='https://s3-us-west-2.amazonaws.com/landsat-pds/c1/L8/173/034/LC08_L1TP_173034_20180711_20180717_01_T1/LC08_L1TP_173034_20180711_20180717_01_T1_B2.TIF'\n",
    "nir_landsat='https://s3-us-west-2.amazonaws.com/landsat-pds/c1/L8/173/034/LC08_L1TP_173034_20180711_20180717_01_T1/LC08_L1TP_173034_20180711_20180717_01_T1_B8.TIF'\n",
    "red_landsat=rioxarray.open_rasterio(url_landsat)\n",
    "nir_landsat=rioxarray.open_rasterio(nir_landsat)\n"
   ]
  },
  {
   "cell_type": "code",
   "execution_count": null,
   "metadata": {},
   "outputs": [],
   "source": [
    "#red=red_landsat.persist()\n",
    "#nir=nir_landsat.persist()\n",
    "red=red_landsat.values\n",
    "nir=nir_landsat.alues\n"
   ]
  },
  {
   "cell_type": "code",
   "execution_count": null,
   "metadata": {},
   "outputs": [],
   "source": [
    "type(red)"
   ]
  },
  {
   "cell_type": "code",
   "execution_count": 148,
   "metadata": {},
   "outputs": [],
   "source": [
    "ndvi = (den_nir.astype(float) - den.astype(float))/(den_nir + den)"
   ]
  },
  {
   "cell_type": "code",
   "execution_count": 154,
   "metadata": {},
   "outputs": [
    {
     "data": {
      "text/plain": [
       "nan"
      ]
     },
     "execution_count": 154,
     "metadata": {},
     "output_type": "execute_result"
    }
   ],
   "source": [
    "ndvi.max()"
   ]
  },
  {
   "cell_type": "code",
   "execution_count": null,
   "metadata": {},
   "outputs": [],
   "source": [
    "def to_raster(in_xds, template_xds, out_file):\n",
    "    in_xds = in_xds.rio.write_crs(template_xds.rio.crs)\n",
    "    if template_xds.rio.nodata is not None:\n",
    "        in_xds.attrs[\"_FillValue\"] = template_xds.rio.nodata\n",
    "    in_xds.rio.to_raster(out_file)\n",
    "\n",
    "to_raster(red_landsat,ndvi, \"landsat-ndvi.tif\")"
   ]
  },
  {
   "cell_type": "code",
   "execution_count": 14,
   "metadata": {},
   "outputs": [
    {
     "data": {
      "text/plain": [
       "\u001b[1;31mSignature:\u001b[0m \u001b[0mndvi\u001b[0m\u001b[1;33m.\u001b[0m\u001b[0mrio\u001b[0m\u001b[1;33m.\u001b[0m\u001b[0mwrite_crs\u001b[0m\u001b[1;33m(\u001b[0m\u001b[0minput_crs\u001b[0m\u001b[1;33m=\u001b[0m\u001b[1;32mNone\u001b[0m\u001b[1;33m,\u001b[0m \u001b[0mgrid_mapping_name\u001b[0m\u001b[1;33m=\u001b[0m\u001b[1;32mNone\u001b[0m\u001b[1;33m,\u001b[0m \u001b[0minplace\u001b[0m\u001b[1;33m=\u001b[0m\u001b[1;32mFalse\u001b[0m\u001b[1;33m)\u001b[0m\u001b[1;33m\u001b[0m\u001b[1;33m\u001b[0m\u001b[0m\n",
       "\u001b[1;31mDocstring:\u001b[0m\n",
       "Write the CRS to the dataset in a CF compliant manner.\n",
       "\n",
       "Parameters\n",
       "----------\n",
       "input_crs: object\n",
       "    Anything accepted by `rasterio.crs.CRS.from_user_input`.\n",
       "grid_mapping_name: str, optional\n",
       "    Name of the grid_mapping coordinate to store the CRS information in.\n",
       "    Default is the grid_mapping name of the dataset.\n",
       "inplace: bool, optional\n",
       "    If True, it will write to the existing dataset. Default is False.\n",
       "\n",
       "Returns\n",
       "-------\n",
       ":obj:`xarray.Dataset` | :obj:`xarray.DataArray`:\n",
       "    Modified dataset with CF compliant CRS information.\n",
       "\u001b[1;31mFile:\u001b[0m      c:\\users\\akif\\.conda\\envs\\geo\\lib\\site-packages\\rioxarray\\rioxarray.py\n",
       "\u001b[1;31mType:\u001b[0m      method\n"
      ]
     },
     "metadata": {},
     "output_type": "display_data"
    }
   ],
   "source": [
    "ndvi.rio.write_crs?"
   ]
  },
  {
   "cell_type": "code",
   "execution_count": null,
   "metadata": {
    "collapsed": true,
    "jupyter": {
     "outputs_hidden": true
    }
   },
   "outputs": [],
   "source": [
    "%%time\n",
    "ndvi=ndvi.compute()\n",
    "ndvi.rio.to_raster('landsat-ndvi.tif')"
   ]
  },
  {
   "cell_type": "code",
   "execution_count": null,
   "metadata": {
    "collapsed": true,
    "jupyter": {
     "outputs_hidden": true
    }
   },
   "outputs": [],
   "source": [
    "%%time\n",
    "ndvi.rio.to_raster('landsat-ndvi.tif')"
   ]
  },
  {
   "cell_type": "code",
   "execution_count": null,
   "metadata": {},
   "outputs": [],
   "source": [
    "! rio info  https://s3-us-west-2.amazonaws.com/landsat-pds/c1/L8/111/111/LC08_L1GT_111111_20181130_20181130_01_RT/LC08_L1GT_111111_20181130_20181130_01_RT_B4.TIF"
   ]
  },
  {
   "cell_type": "code",
   "execution_count": null,
   "metadata": {},
   "outputs": [],
   "source": [
    "dates"
   ]
  },
  {
   "cell_type": "code",
   "execution_count": null,
   "metadata": {},
   "outputs": [],
   "source": [
    "import fasteners"
   ]
  },
  {
   "cell_type": "code",
   "execution_count": null,
   "metadata": {},
   "outputs": [],
   "source": [
    "URL='https://earth-search.aws.element84.com/v0/'\n",
    "results = satsearch.Search.search(url=URL,\n",
    "                                  collections=['landsat-8-l1-c1'], # note collection='sentinel-s2-l2a-cogs' doesn't work\n",
    "                                  datetime=dates,\n",
    "        )"
   ]
  },
  {
   "cell_type": "code",
   "execution_count": null,
   "metadata": {},
   "outputs": [],
   "source": [
    "Litems=results.items()\n",
    "Litems.summary()"
   ]
  },
  {
   "cell_type": "code",
   "execution_count": null,
   "metadata": {},
   "outputs": [],
   "source": [
    "bbox"
   ]
  },
  {
   "cell_type": "code",
   "execution_count": null,
   "metadata": {},
   "outputs": [],
   "source": [
    "def get_STAC_items(url, collection, dates, bbox):\n",
    "    results = Search.search(url=url,\n",
    "                        collections=[collection], \n",
    "                        datetime=dates,\n",
    "                        bbox=bbox,    \n",
    "                        sortby=['-properties.datetime']\n",
    "                           )\n",
    "\n",
    "    items = results.items()\n",
    "    print(f'Found {len(items)} Items')\n",
    "    \n",
    "    return items"
   ]
  },
  {
   "cell_type": "code",
   "execution_count": null,
   "metadata": {},
   "outputs": [],
   "source": [
    "bbox"
   ]
  },
  {
   "cell_type": "code",
   "execution_count": null,
   "metadata": {},
   "outputs": [],
   "source": [
    "%%time\n",
    "dates2='2019-01-01/2020-07-12'\n",
    "bbox2=[26.54827880859375, 36.90378362619561, 45.0067138671875, 42.89219554724437]\n",
    "landsat=get_STAC_items(url='https://earth-search.aws.element84.com/v0',\n",
    "                       collection='landsat-8-l1-c1',\n",
    "                       dates=dates2, bbox=bbox)\n",
    "#sentinel-s2-l2a-cogs"
   ]
  },
  {
   "cell_type": "code",
   "execution_count": null,
   "metadata": {},
   "outputs": [],
   "source": [
    "type(landsat)"
   ]
  },
  {
   "cell_type": "code",
   "execution_count": null,
   "metadata": {},
   "outputs": [],
   "source": [
    "print(landsat.summary(['date', 'id']))"
   ]
  },
  {
   "cell_type": "code",
   "execution_count": null,
   "metadata": {},
   "outputs": [],
   "source": [
    "Litems=landsat.items()"
   ]
  },
  {
   "cell_type": "code",
   "execution_count": null,
   "metadata": {},
   "outputs": [],
   "source": [
    "print(Litems.summary(['date', 'id']))"
   ]
  },
  {
   "cell_type": "code",
   "execution_count": null,
   "metadata": {},
   "outputs": [],
   "source": []
  },
  {
   "cell_type": "code",
   "execution_count": null,
   "metadata": {},
   "outputs": [],
   "source": [
    "from satstac import Catalog, Collection, Item\n",
    "\n",
    "cat = Catalog.open('https://landsat-stac.s3.amazonaws.com/catalog.json')\n",
    "print(cat, cat.filename)"
   ]
  },
  {
   "cell_type": "code",
   "execution_count": null,
   "metadata": {},
   "outputs": [],
   "source": [
    "col = Collection.open('https://landsat-stac.s3.amazonaws.com/landsat-8-l1/catalog.json')\n",
    "print(col, col.filename)"
   ]
  },
  {
   "cell_type": "code",
   "execution_count": null,
   "metadata": {},
   "outputs": [],
   "source": [
    "cat."
   ]
  },
  {
   "cell_type": "code",
   "execution_count": null,
   "metadata": {},
   "outputs": [],
   "source": [
    "Catalog?"
   ]
  },
  {
   "cell_type": "code",
   "execution_count": null,
   "metadata": {},
   "outputs": [],
   "source": []
  }
 ],
 "metadata": {
  "kernelspec": {
   "display_name": "Python 3",
   "language": "python",
   "name": "python3"
  },
  "language_info": {
   "codemirror_mode": {
    "name": "ipython",
    "version": 3
   },
   "file_extension": ".py",
   "mimetype": "text/x-python",
   "name": "python",
   "nbconvert_exporter": "python",
   "pygments_lexer": "ipython3",
   "version": "3.7.9"
  }
 },
 "nbformat": 4,
 "nbformat_minor": 4
}
