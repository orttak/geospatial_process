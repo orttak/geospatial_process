{
 "cells": [
  {
   "cell_type": "code",
   "execution_count": 2,
   "id": "5a883125-028b-45c2-a16c-e947da8b6c72",
   "metadata": {},
   "outputs": [],
   "source": [
    "import leafmap\n",
    "import geopandas as gpd"
   ]
  },
  {
   "cell_type": "code",
   "execution_count": 7,
   "id": "0467d51f-552c-4adb-bbd7-0f7fce34c4a9",
   "metadata": {},
   "outputs": [],
   "source": [
    "gdf_points=gpd.read_file(\"seqana_gis_solutions_eng_challenge_existing_sample_data.gpkg\")\n",
    "gdf_boundry=gpd.read_file(\"seqana_gis_solutions_eng_challenge_project_boundary.gpkg\")"
   ]
  },
  {
   "cell_type": "code",
   "execution_count": 11,
   "id": "176aef19-7060-4b0c-9472-4f36380d6cad",
   "metadata": {},
   "outputs": [],
   "source": [
    "m = leafmap.Map()"
   ]
  },
  {
   "cell_type": "code",
   "execution_count": 12,
   "id": "cebf9a4f-4b95-4a31-92d6-698246dac7d6",
   "metadata": {},
   "outputs": [],
   "source": [
    "m.add_gdf(gdf_points,layer_name='points')\n",
    "m.add_gdf(gdf_boundry,layer_name='boundry')\n"
   ]
  },
  {
   "cell_type": "code",
   "execution_count": 13,
   "id": "fdf4e0f9-6ea5-4b8f-a251-5304a0aa3761",
   "metadata": {},
   "outputs": [
    {
     "data": {
      "application/vnd.jupyter.widget-view+json": {
       "model_id": "4d79861fa18f4f748f327f9a2cfd680e",
       "version_major": 2,
       "version_minor": 0
      },
      "text/plain": [
       "Map(center=[43.30665001762719, -89.3355990782405], controls=(ZoomControl(options=['position', 'zoom_in_text', …"
      ]
     },
     "metadata": {},
     "output_type": "display_data"
    }
   ],
   "source": [
    "m"
   ]
  },
  {
   "cell_type": "code",
   "execution_count": null,
   "id": "20009ba8-352c-4086-bd79-70f3254b1992",
   "metadata": {},
   "outputs": [],
   "source": []
  }
 ],
 "metadata": {
  "kernelspec": {
   "display_name": "Python 3 (ipykernel)",
   "language": "python",
   "name": "python3"
  },
  "language_info": {
   "codemirror_mode": {
    "name": "ipython",
    "version": 3
   },
   "file_extension": ".py",
   "mimetype": "text/x-python",
   "name": "python",
   "nbconvert_exporter": "python",
   "pygments_lexer": "ipython3",
   "version": "3.9.7"
  }
 },
 "nbformat": 4,
 "nbformat_minor": 5
}
