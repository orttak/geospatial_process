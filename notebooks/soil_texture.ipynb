{
 "cells": [
  {
   "cell_type": "code",
   "execution_count": 1,
   "metadata": {},
   "outputs": [],
   "source": [
    "import pandas as pd"
   ]
  },
  {
   "cell_type": "code",
   "execution_count": 162,
   "metadata": {},
   "outputs": [],
   "source": [
    "texture=pd.read_csv('../../raster_processing/data/raw/optimization/texture_and_runoff/texture_and_runoff.csv')\n",
    "texture['texture']=texture.texture.str.replace('! ', '!')"
   ]
  },
  {
   "cell_type": "code",
   "execution_count": 163,
   "metadata": {},
   "outputs": [
    {
     "data": {
      "text/html": [
       "<div>\n",
       "<style scoped>\n",
       "    .dataframe tbody tr th:only-of-type {\n",
       "        vertical-align: middle;\n",
       "    }\n",
       "\n",
       "    .dataframe tbody tr th {\n",
       "        vertical-align: top;\n",
       "    }\n",
       "\n",
       "    .dataframe thead th {\n",
       "        text-align: right;\n",
       "    }\n",
       "</style>\n",
       "<table border=\"1\" class=\"dataframe\">\n",
       "  <thead>\n",
       "    <tr style=\"text-align: right;\">\n",
       "      <th></th>\n",
       "      <th>Unnamed: 0</th>\n",
       "      <th>Filed_Id</th>\n",
       "      <th>sand</th>\n",
       "      <th>clay</th>\n",
       "      <th>silt</th>\n",
       "      <th>texture</th>\n",
       "      <th>runoff</th>\n",
       "    </tr>\n",
       "  </thead>\n",
       "  <tbody>\n",
       "    <tr>\n",
       "      <th>0</th>\n",
       "      <td>0</td>\n",
       "      <td>6099219</td>\n",
       "      <td>25.50</td>\n",
       "      <td>32.60</td>\n",
       "      <td>41.90</td>\n",
       "      <td>Clay Loam</td>\n",
       "      <td>HSG-C</td>\n",
       "    </tr>\n",
       "    <tr>\n",
       "      <th>1</th>\n",
       "      <td>1</td>\n",
       "      <td>6099220</td>\n",
       "      <td>25.90</td>\n",
       "      <td>32.85</td>\n",
       "      <td>41.25</td>\n",
       "      <td>Clay Loam</td>\n",
       "      <td>HSG-C</td>\n",
       "    </tr>\n",
       "    <tr>\n",
       "      <th>2</th>\n",
       "      <td>2</td>\n",
       "      <td>6099221</td>\n",
       "      <td>25.17</td>\n",
       "      <td>32.97</td>\n",
       "      <td>41.86</td>\n",
       "      <td>Clay Loam</td>\n",
       "      <td>HSG-C</td>\n",
       "    </tr>\n",
       "    <tr>\n",
       "      <th>3</th>\n",
       "      <td>3</td>\n",
       "      <td>6099222</td>\n",
       "      <td>26.18</td>\n",
       "      <td>33.93</td>\n",
       "      <td>39.89</td>\n",
       "      <td>Clay Loam</td>\n",
       "      <td>HSG-C</td>\n",
       "    </tr>\n",
       "    <tr>\n",
       "      <th>4</th>\n",
       "      <td>4</td>\n",
       "      <td>6099223</td>\n",
       "      <td>24.80</td>\n",
       "      <td>37.40</td>\n",
       "      <td>37.80</td>\n",
       "      <td>Clay Loam</td>\n",
       "      <td>HSG-C</td>\n",
       "    </tr>\n",
       "  </tbody>\n",
       "</table>\n",
       "</div>"
      ],
      "text/plain": [
       "   Unnamed: 0  Filed_Id   sand   clay   silt    texture runoff\n",
       "0           0   6099219  25.50  32.60  41.90  Clay Loam  HSG-C\n",
       "1           1   6099220  25.90  32.85  41.25  Clay Loam  HSG-C\n",
       "2           2   6099221  25.17  32.97  41.86  Clay Loam  HSG-C\n",
       "3           3   6099222  26.18  33.93  39.89  Clay Loam  HSG-C\n",
       "4           4   6099223  24.80  37.40  37.80  Clay Loam  HSG-C"
      ]
     },
     "execution_count": 163,
     "metadata": {},
     "output_type": "execute_result"
    }
   ],
   "source": [
    "texture.head()"
   ]
  },
  {
   "cell_type": "code",
   "execution_count": 138,
   "metadata": {},
   "outputs": [],
   "source": [
    "tex=texture.texture.values\n",
    "runoff=texture.runoff.values"
   ]
  },
  {
   "cell_type": "code",
   "execution_count": 139,
   "metadata": {},
   "outputs": [],
   "source": [
    "def find_space(row):\n",
    "    if row ==' Loam':\n",
    "        return 'Loam'\n",
    "    elif row == ' Silty Clay':\n",
    "        return 'Silty Clay'\n",
    "    elif row ==' Silty Clay Loam':\n",
    "        return 'Silty Clay Loam'\n",
    "    else:\n",
    "        return row"
   ]
  },
  {
   "cell_type": "code",
   "execution_count": null,
   "metadata": {},
   "outputs": [],
   "source": []
  },
  {
   "cell_type": "code",
   "execution_count": 121,
   "metadata": {},
   "outputs": [],
   "source": [
    "texture['texture']= texture['texture'].apply(lambda x: find_space(x))"
   ]
  },
  {
   "cell_type": "code",
   "execution_count": null,
   "metadata": {},
   "outputs": [],
   "source": []
  },
  {
   "cell_type": "code",
   "execution_count": 140,
   "metadata": {},
   "outputs": [],
   "source": [
    "tex=texture.texture.values\n",
    "runoff=texture.runoff.values\n",
    "list_text=list(set(tex))"
   ]
  },
  {
   "cell_type": "code",
   "execution_count": 197,
   "metadata": {},
   "outputs": [
    {
     "data": {
      "text/plain": [
       "{'0', 'HSG-B', 'HSG-C', 'HSG-D'}"
      ]
     },
     "execution_count": 197,
     "metadata": {},
     "output_type": "execute_result"
    }
   ],
   "source": [
    "set(runoff)"
   ]
  },
  {
   "cell_type": "code",
   "execution_count": 141,
   "metadata": {},
   "outputs": [],
   "source": [
    "all_text=[]\n",
    "for t in list_text:\n",
    "    temp=t.split('!')\n",
    "    for i in temp:\n",
    "        all_text.append(i)\n",
    "    #print(temp)\n",
    "    "
   ]
  },
  {
   "cell_type": "code",
   "execution_count": 142,
   "metadata": {},
   "outputs": [
    {
     "data": {
      "text/plain": [
       "['0',\n",
       " 'Clay',\n",
       " 'Clay Loam',\n",
       " 'Loam',\n",
       " 'Loamy Sand',\n",
       " 'Sandy Clay Loam',\n",
       " 'Sandy Loam',\n",
       " 'Silt Loam',\n",
       " 'Silty Clay',\n",
       " 'Silty Clay Loam']"
      ]
     },
     "execution_count": 142,
     "metadata": {},
     "output_type": "execute_result"
    }
   ],
   "source": [
    "sorted(set(all_text))"
   ]
  },
  {
   "cell_type": "code",
   "execution_count": 166,
   "metadata": {},
   "outputs": [],
   "source": [
    "dict_text={'0':0,\n",
    " 'Clay':1,\n",
    " 'Clay Loam':2,\n",
    " 'Loam':3,\n",
    " 'Loamy Sand':4,\n",
    " 'Sandy Clay Loam':5,\n",
    " 'Sandy Loam':6,\n",
    " 'Silt Loam':7,\n",
    " 'Silty Clay':8,\n",
    " 'Silty Clay Loam':9}"
   ]
  },
  {
   "cell_type": "code",
   "execution_count": 167,
   "metadata": {},
   "outputs": [
    {
     "data": {
      "text/plain": [
       "9"
      ]
     },
     "execution_count": 167,
     "metadata": {},
     "output_type": "execute_result"
    }
   ],
   "source": [
    "dict_text['Silty Clay Loam']"
   ]
  },
  {
   "cell_type": "code",
   "execution_count": 16,
   "metadata": {},
   "outputs": [
    {
     "data": {
      "text/plain": [
       "4"
      ]
     },
     "execution_count": 16,
     "metadata": {},
     "output_type": "execute_result"
    }
   ],
   "source": [
    "len(set(runoff))"
   ]
  },
  {
   "cell_type": "code",
   "execution_count": 164,
   "metadata": {},
   "outputs": [],
   "source": [
    "bb=texture[0:10]"
   ]
  },
  {
   "cell_type": "code",
   "execution_count": 148,
   "metadata": {},
   "outputs": [
    {
     "data": {
      "text/plain": [
       "{'Clay Loam', 'Loam'}"
      ]
     },
     "execution_count": 148,
     "metadata": {},
     "output_type": "execute_result"
    }
   ],
   "source": [
    "set(bb.texture.values)"
   ]
  },
  {
   "cell_type": "code",
   "execution_count": 145,
   "metadata": {
    "collapsed": true,
    "jupyter": {
     "outputs_hidden": true
    }
   },
   "outputs": [
    {
     "ename": "AttributeError",
     "evalue": "'DataFrame' object has no attribute 'set_value'",
     "output_type": "error",
     "traceback": [
      "\u001b[1;31m---------------------------------------------------------------------------\u001b[0m",
      "\u001b[1;31mAttributeError\u001b[0m                            Traceback (most recent call last)",
      "\u001b[1;32m<ipython-input-145-6b4b5dcbd539>\u001b[0m in \u001b[0;36m<module>\u001b[1;34m()\u001b[0m\n\u001b[1;32m----> 1\u001b[1;33m \u001b[0mbb\u001b[0m\u001b[1;33m.\u001b[0m\u001b[0mset_value\u001b[0m\u001b[1;33m(\u001b[0m\u001b[1;34m'sand'\u001b[0m\u001b[1;33m,\u001b[0m \u001b[1;34m'25.50'\u001b[0m\u001b[1;33m,\u001b[0m \u001b[1;36m10\u001b[0m\u001b[1;33m)\u001b[0m\u001b[1;33m\u001b[0m\u001b[1;33m\u001b[0m\u001b[0m\n\u001b[0m",
      "\u001b[1;32mC:\\Users\\akif\\.conda\\envs\\geo\\lib\\site-packages\\pandas\\core\\generic.py\u001b[0m in \u001b[0;36m__getattr__\u001b[1;34m(self, name)\u001b[0m\n\u001b[0;32m   5137\u001b[0m             \u001b[1;32mif\u001b[0m \u001b[0mself\u001b[0m\u001b[1;33m.\u001b[0m\u001b[0m_info_axis\u001b[0m\u001b[1;33m.\u001b[0m\u001b[0m_can_hold_identifiers_and_holds_name\u001b[0m\u001b[1;33m(\u001b[0m\u001b[0mname\u001b[0m\u001b[1;33m)\u001b[0m\u001b[1;33m:\u001b[0m\u001b[1;33m\u001b[0m\u001b[1;33m\u001b[0m\u001b[0m\n\u001b[0;32m   5138\u001b[0m                 \u001b[1;32mreturn\u001b[0m \u001b[0mself\u001b[0m\u001b[1;33m[\u001b[0m\u001b[0mname\u001b[0m\u001b[1;33m]\u001b[0m\u001b[1;33m\u001b[0m\u001b[1;33m\u001b[0m\u001b[0m\n\u001b[1;32m-> 5139\u001b[1;33m             \u001b[1;32mreturn\u001b[0m \u001b[0mobject\u001b[0m\u001b[1;33m.\u001b[0m\u001b[0m__getattribute__\u001b[0m\u001b[1;33m(\u001b[0m\u001b[0mself\u001b[0m\u001b[1;33m,\u001b[0m \u001b[0mname\u001b[0m\u001b[1;33m)\u001b[0m\u001b[1;33m\u001b[0m\u001b[1;33m\u001b[0m\u001b[0m\n\u001b[0m\u001b[0;32m   5140\u001b[0m \u001b[1;33m\u001b[0m\u001b[0m\n\u001b[0;32m   5141\u001b[0m     \u001b[1;32mdef\u001b[0m \u001b[0m__setattr__\u001b[0m\u001b[1;33m(\u001b[0m\u001b[0mself\u001b[0m\u001b[1;33m,\u001b[0m \u001b[0mname\u001b[0m\u001b[1;33m:\u001b[0m \u001b[0mstr\u001b[0m\u001b[1;33m,\u001b[0m \u001b[0mvalue\u001b[0m\u001b[1;33m)\u001b[0m \u001b[1;33m->\u001b[0m \u001b[1;32mNone\u001b[0m\u001b[1;33m:\u001b[0m\u001b[1;33m\u001b[0m\u001b[1;33m\u001b[0m\u001b[0m\n",
      "\u001b[1;31mAttributeError\u001b[0m: 'DataFrame' object has no attribute 'set_value'"
     ]
    }
   ],
   "source": [
    "bb.set_value('sand', '25.50', 10)"
   ]
  },
  {
   "cell_type": "code",
   "execution_count": 146,
   "metadata": {},
   "outputs": [
    {
     "name": "stdout",
     "output_type": "stream",
     "text": [
      "Object `bb.ix` not found.\n"
     ]
    }
   ],
   "source": [
    "bb.ix?"
   ]
  },
  {
   "cell_type": "code",
   "execution_count": 149,
   "metadata": {},
   "outputs": [
    {
     "name": "stderr",
     "output_type": "stream",
     "text": [
      "C:\\Users\\akif\\.conda\\envs\\geo\\lib\\site-packages\\ipykernel_launcher.py:1: SettingWithCopyWarning: \n",
      "A value is trying to be set on a copy of a slice from a DataFrame.\n",
      "Try using .loc[row_indexer,col_indexer] = value instead\n",
      "\n",
      "See the caveats in the documentation: https://pandas.pydata.org/pandas-docs/stable/user_guide/indexing.html#returning-a-view-versus-a-copy\n",
      "  \"\"\"Entry point for launching an IPython kernel.\n"
     ]
    }
   ],
   "source": [
    "bb['texture'] = bb['texture'].replace(['Clay Loam', 'Loam'],['1','1-2'])"
   ]
  },
  {
   "cell_type": "code",
   "execution_count": 211,
   "metadata": {},
   "outputs": [
    {
     "data": {
      "text/html": [
       "<div>\n",
       "<style scoped>\n",
       "    .dataframe tbody tr th:only-of-type {\n",
       "        vertical-align: middle;\n",
       "    }\n",
       "\n",
       "    .dataframe tbody tr th {\n",
       "        vertical-align: top;\n",
       "    }\n",
       "\n",
       "    .dataframe thead th {\n",
       "        text-align: right;\n",
       "    }\n",
       "</style>\n",
       "<table border=\"1\" class=\"dataframe\">\n",
       "  <thead>\n",
       "    <tr style=\"text-align: right;\">\n",
       "      <th></th>\n",
       "      <th>Unnamed: 0</th>\n",
       "      <th>Filed_Id</th>\n",
       "      <th>sand</th>\n",
       "      <th>clay</th>\n",
       "      <th>silt</th>\n",
       "      <th>texture</th>\n",
       "      <th>runoff</th>\n",
       "    </tr>\n",
       "  </thead>\n",
       "  <tbody>\n",
       "    <tr>\n",
       "      <th>0</th>\n",
       "      <td>0</td>\n",
       "      <td>6099219</td>\n",
       "      <td>25.50</td>\n",
       "      <td>32.60</td>\n",
       "      <td>41.90</td>\n",
       "      <td>Clay Loam</td>\n",
       "      <td>HSG-C</td>\n",
       "    </tr>\n",
       "    <tr>\n",
       "      <th>1</th>\n",
       "      <td>1</td>\n",
       "      <td>6099220</td>\n",
       "      <td>25.90</td>\n",
       "      <td>32.85</td>\n",
       "      <td>41.25</td>\n",
       "      <td>Clay Loam</td>\n",
       "      <td>HSG-C</td>\n",
       "    </tr>\n",
       "    <tr>\n",
       "      <th>2</th>\n",
       "      <td>2</td>\n",
       "      <td>6099221</td>\n",
       "      <td>25.17</td>\n",
       "      <td>32.97</td>\n",
       "      <td>41.86</td>\n",
       "      <td>Clay Loam</td>\n",
       "      <td>HSG-C</td>\n",
       "    </tr>\n",
       "    <tr>\n",
       "      <th>3</th>\n",
       "      <td>3</td>\n",
       "      <td>6099222</td>\n",
       "      <td>26.18</td>\n",
       "      <td>33.93</td>\n",
       "      <td>39.89</td>\n",
       "      <td>Clay Loam</td>\n",
       "      <td>HSG-C</td>\n",
       "    </tr>\n",
       "    <tr>\n",
       "      <th>4</th>\n",
       "      <td>4</td>\n",
       "      <td>6099223</td>\n",
       "      <td>24.80</td>\n",
       "      <td>37.40</td>\n",
       "      <td>37.80</td>\n",
       "      <td>Clay Loam</td>\n",
       "      <td>HSG-C</td>\n",
       "    </tr>\n",
       "    <tr>\n",
       "      <th>5</th>\n",
       "      <td>5</td>\n",
       "      <td>6099224</td>\n",
       "      <td>37.36</td>\n",
       "      <td>23.24</td>\n",
       "      <td>39.40</td>\n",
       "      <td>Loam</td>\n",
       "      <td>HSG-C</td>\n",
       "    </tr>\n",
       "    <tr>\n",
       "      <th>6</th>\n",
       "      <td>6</td>\n",
       "      <td>6099225</td>\n",
       "      <td>36.92</td>\n",
       "      <td>23.68</td>\n",
       "      <td>39.40</td>\n",
       "      <td>Loam</td>\n",
       "      <td>HSG-C</td>\n",
       "    </tr>\n",
       "    <tr>\n",
       "      <th>7</th>\n",
       "      <td>7</td>\n",
       "      <td>6099226</td>\n",
       "      <td>40.10</td>\n",
       "      <td>24.10</td>\n",
       "      <td>35.80</td>\n",
       "      <td>Loam</td>\n",
       "      <td>HSG-C</td>\n",
       "    </tr>\n",
       "    <tr>\n",
       "      <th>8</th>\n",
       "      <td>8</td>\n",
       "      <td>6099227</td>\n",
       "      <td>38.40</td>\n",
       "      <td>18.20</td>\n",
       "      <td>43.40</td>\n",
       "      <td>Loam</td>\n",
       "      <td>0</td>\n",
       "    </tr>\n",
       "    <tr>\n",
       "      <th>9</th>\n",
       "      <td>9</td>\n",
       "      <td>6099228</td>\n",
       "      <td>38.93</td>\n",
       "      <td>18.24</td>\n",
       "      <td>42.83</td>\n",
       "      <td>Loam</td>\n",
       "      <td>0</td>\n",
       "    </tr>\n",
       "  </tbody>\n",
       "</table>\n",
       "</div>"
      ],
      "text/plain": [
       "   Unnamed: 0  Filed_Id   sand   clay   silt    texture runoff\n",
       "0           0   6099219  25.50  32.60  41.90  Clay Loam  HSG-C\n",
       "1           1   6099220  25.90  32.85  41.25  Clay Loam  HSG-C\n",
       "2           2   6099221  25.17  32.97  41.86  Clay Loam  HSG-C\n",
       "3           3   6099222  26.18  33.93  39.89  Clay Loam  HSG-C\n",
       "4           4   6099223  24.80  37.40  37.80  Clay Loam  HSG-C\n",
       "5           5   6099224  37.36  23.24  39.40       Loam  HSG-C\n",
       "6           6   6099225  36.92  23.68  39.40       Loam  HSG-C\n",
       "7           7   6099226  40.10  24.10  35.80       Loam  HSG-C\n",
       "8           8   6099227  38.40  18.20  43.40       Loam      0\n",
       "9           9   6099228  38.93  18.24  42.83       Loam      0"
      ]
     },
     "execution_count": 211,
     "metadata": {},
     "output_type": "execute_result"
    }
   ],
   "source": [
    "bb"
   ]
  },
  {
   "cell_type": "code",
   "execution_count": 152,
   "metadata": {
    "collapsed": true,
    "jupyter": {
     "outputs_hidden": true
    }
   },
   "outputs": [
    {
     "data": {
      "text/html": [
       "<div>\n",
       "<style scoped>\n",
       "    .dataframe tbody tr th:only-of-type {\n",
       "        vertical-align: middle;\n",
       "    }\n",
       "\n",
       "    .dataframe tbody tr th {\n",
       "        vertical-align: top;\n",
       "    }\n",
       "\n",
       "    .dataframe thead th {\n",
       "        text-align: right;\n",
       "    }\n",
       "</style>\n",
       "<table border=\"1\" class=\"dataframe\">\n",
       "  <thead>\n",
       "    <tr style=\"text-align: right;\">\n",
       "      <th></th>\n",
       "      <th>Unnamed: 0</th>\n",
       "      <th>Filed_Id</th>\n",
       "      <th>sand</th>\n",
       "      <th>clay</th>\n",
       "      <th>silt</th>\n",
       "      <th>texture</th>\n",
       "      <th>runoff</th>\n",
       "    </tr>\n",
       "  </thead>\n",
       "  <tbody>\n",
       "    <tr>\n",
       "      <th>0</th>\n",
       "      <td>0</td>\n",
       "      <td>6099219</td>\n",
       "      <td>25.50</td>\n",
       "      <td>32.60</td>\n",
       "      <td>41.90</td>\n",
       "      <td>1</td>\n",
       "      <td>HSG-C</td>\n",
       "    </tr>\n",
       "    <tr>\n",
       "      <th>1</th>\n",
       "      <td>1</td>\n",
       "      <td>6099220</td>\n",
       "      <td>25.90</td>\n",
       "      <td>32.85</td>\n",
       "      <td>41.25</td>\n",
       "      <td>1</td>\n",
       "      <td>HSG-C</td>\n",
       "    </tr>\n",
       "    <tr>\n",
       "      <th>2</th>\n",
       "      <td>2</td>\n",
       "      <td>6099221</td>\n",
       "      <td>25.17</td>\n",
       "      <td>32.97</td>\n",
       "      <td>41.86</td>\n",
       "      <td>1</td>\n",
       "      <td>HSG-C</td>\n",
       "    </tr>\n",
       "    <tr>\n",
       "      <th>3</th>\n",
       "      <td>3</td>\n",
       "      <td>6099222</td>\n",
       "      <td>26.18</td>\n",
       "      <td>33.93</td>\n",
       "      <td>39.89</td>\n",
       "      <td>1</td>\n",
       "      <td>HSG-C</td>\n",
       "    </tr>\n",
       "    <tr>\n",
       "      <th>4</th>\n",
       "      <td>4</td>\n",
       "      <td>6099223</td>\n",
       "      <td>24.80</td>\n",
       "      <td>37.40</td>\n",
       "      <td>37.80</td>\n",
       "      <td>1</td>\n",
       "      <td>HSG-C</td>\n",
       "    </tr>\n",
       "    <tr>\n",
       "      <th>5</th>\n",
       "      <td>5</td>\n",
       "      <td>6099224</td>\n",
       "      <td>37.36</td>\n",
       "      <td>23.24</td>\n",
       "      <td>39.40</td>\n",
       "      <td>1-2</td>\n",
       "      <td>HSG-C</td>\n",
       "    </tr>\n",
       "    <tr>\n",
       "      <th>6</th>\n",
       "      <td>6</td>\n",
       "      <td>6099225</td>\n",
       "      <td>36.92</td>\n",
       "      <td>23.68</td>\n",
       "      <td>39.40</td>\n",
       "      <td>1-2</td>\n",
       "      <td>HSG-C</td>\n",
       "    </tr>\n",
       "    <tr>\n",
       "      <th>7</th>\n",
       "      <td>7</td>\n",
       "      <td>6099226</td>\n",
       "      <td>40.10</td>\n",
       "      <td>24.10</td>\n",
       "      <td>35.80</td>\n",
       "      <td>1-2</td>\n",
       "      <td>HSG-C</td>\n",
       "    </tr>\n",
       "    <tr>\n",
       "      <th>8</th>\n",
       "      <td>8</td>\n",
       "      <td>6099227</td>\n",
       "      <td>38.40</td>\n",
       "      <td>18.20</td>\n",
       "      <td>43.40</td>\n",
       "      <td>1-2</td>\n",
       "      <td>0</td>\n",
       "    </tr>\n",
       "    <tr>\n",
       "      <th>9</th>\n",
       "      <td>9</td>\n",
       "      <td>6099228</td>\n",
       "      <td>38.93</td>\n",
       "      <td>18.24</td>\n",
       "      <td>42.83</td>\n",
       "      <td>1-2</td>\n",
       "      <td>0</td>\n",
       "    </tr>\n",
       "  </tbody>\n",
       "</table>\n",
       "</div>"
      ],
      "text/plain": [
       "   Unnamed: 0  Filed_Id   sand   clay   silt texture runoff\n",
       "0           0   6099219  25.50  32.60  41.90       1  HSG-C\n",
       "1           1   6099220  25.90  32.85  41.25       1  HSG-C\n",
       "2           2   6099221  25.17  32.97  41.86       1  HSG-C\n",
       "3           3   6099222  26.18  33.93  39.89       1  HSG-C\n",
       "4           4   6099223  24.80  37.40  37.80       1  HSG-C\n",
       "5           5   6099224  37.36  23.24  39.40     1-2  HSG-C\n",
       "6           6   6099225  36.92  23.68  39.40     1-2  HSG-C\n",
       "7           7   6099226  40.10  24.10  35.80     1-2  HSG-C\n",
       "8           8   6099227  38.40  18.20  43.40     1-2      0\n",
       "9           9   6099228  38.93  18.24  42.83     1-2      0"
      ]
     },
     "execution_count": 152,
     "metadata": {},
     "output_type": "execute_result"
    }
   ],
   "source": [
    "bb[bb['texture'].str.contains('1')]"
   ]
  },
  {
   "cell_type": "code",
   "execution_count": 174,
   "metadata": {},
   "outputs": [
    {
     "data": {
      "text/plain": [
       "0    2\n",
       "1    2\n",
       "2    2\n",
       "3    2\n",
       "4    2\n",
       "5    3\n",
       "6    3\n",
       "7    3\n",
       "8    3\n",
       "9    3\n",
       "Name: texture, dtype: object"
      ]
     },
     "execution_count": 174,
     "metadata": {},
     "output_type": "execute_result"
    }
   ],
   "source": [
    "bb.texture.apply(lambda row : find_text(row))"
   ]
  },
  {
   "cell_type": "code",
   "execution_count": 184,
   "metadata": {},
   "outputs": [],
   "source": [
    "def find_text(row):\n",
    "    texture_list=row.split('!')\n",
    "    if len(texture_list)>1:\n",
    "        r_obje=f'{dict_text[texture_list[0]]}'\n",
    "        for t in texture_list[1:]:           \n",
    "            r_obje=r_obje+f'-{dict_text[t]}'\n",
    "        return r_obje\n",
    "    else:\n",
    "        return str(dict_text[row])"
   ]
  },
  {
   "cell_type": "code",
   "execution_count": 175,
   "metadata": {},
   "outputs": [
    {
     "data": {
      "text/plain": [
       "{'0': 0,\n",
       " 'Clay': 1,\n",
       " 'Clay Loam': 2,\n",
       " 'Loam': 3,\n",
       " 'Loamy Sand': 4,\n",
       " 'Sandy Clay Loam': 5,\n",
       " 'Sandy Loam': 6,\n",
       " 'Silt Loam': 7,\n",
       " 'Silty Clay': 8,\n",
       " 'Silty Clay Loam': 9}"
      ]
     },
     "execution_count": 175,
     "metadata": {},
     "output_type": "execute_result"
    }
   ],
   "source": [
    "dict_text"
   ]
  },
  {
   "cell_type": "code",
   "execution_count": 171,
   "metadata": {},
   "outputs": [
    {
     "data": {
      "text/plain": [
       "['Silty Clay Loam']"
      ]
     },
     "execution_count": 171,
     "metadata": {},
     "output_type": "execute_result"
    }
   ],
   "source": [
    "list('Silty Clay Loam'.split('!'))"
   ]
  },
  {
   "cell_type": "code",
   "execution_count": null,
   "metadata": {},
   "outputs": [],
   "source": []
  },
  {
   "cell_type": "code",
   "execution_count": null,
   "metadata": {},
   "outputs": [],
   "source": []
  },
  {
   "cell_type": "code",
   "execution_count": 183,
   "metadata": {},
   "outputs": [],
   "source": [
    "cc=texture.copy()"
   ]
  },
  {
   "cell_type": "code",
   "execution_count": 154,
   "metadata": {},
   "outputs": [],
   "source": [
    "cc['texture'] = cc['texture'].replace(['Clay Loam', 'Loam'],['1','1-2'])"
   ]
  },
  {
   "cell_type": "code",
   "execution_count": 185,
   "metadata": {},
   "outputs": [],
   "source": [
    "cc.texture=cc.texture.apply(lambda row : find_text(row))"
   ]
  },
  {
   "cell_type": "code",
   "execution_count": 186,
   "metadata": {},
   "outputs": [],
   "source": [
    "texcc=cc.texture.values\n",
    "runoffcc=cc.runoff.values\n",
    "list_textcc=list(set(texcc))"
   ]
  },
  {
   "cell_type": "code",
   "execution_count": 187,
   "metadata": {},
   "outputs": [
    {
     "data": {
      "text/plain": [
       "['3',\n",
       " '1',\n",
       " '6',\n",
       " '8-9',\n",
       " '2-5',\n",
       " '2-3-5',\n",
       " '4',\n",
       " '2-9',\n",
       " '5-3',\n",
       " '9',\n",
       " '5',\n",
       " '7',\n",
       " '1-2',\n",
       " '0',\n",
       " '3-6',\n",
       " '1-8-9-2',\n",
       " '7-3',\n",
       " '8',\n",
       " '5-6',\n",
       " '1-8',\n",
       " '2-3',\n",
       " '2']"
      ]
     },
     "execution_count": 187,
     "metadata": {},
     "output_type": "execute_result"
    }
   ],
   "source": [
    "list_textcc"
   ]
  },
  {
   "cell_type": "code",
   "execution_count": 191,
   "metadata": {},
   "outputs": [
    {
     "data": {
      "text/plain": [
       "6103080"
      ]
     },
     "execution_count": 191,
     "metadata": {},
     "output_type": "execute_result"
    }
   ],
   "source": [
    "len(cc.texture)"
   ]
  },
  {
   "cell_type": "code",
   "execution_count": 193,
   "metadata": {},
   "outputs": [
    {
     "data": {
      "text/plain": [
       "3157"
      ]
     },
     "execution_count": 193,
     "metadata": {},
     "output_type": "execute_result"
    }
   ],
   "source": [
    "len(cc[cc['texture']=='5'])"
   ]
  },
  {
   "cell_type": "code",
   "execution_count": 194,
   "metadata": {},
   "outputs": [
    {
     "data": {
      "text/plain": [
       "3157"
      ]
     },
     "execution_count": 194,
     "metadata": {},
     "output_type": "execute_result"
    }
   ],
   "source": [
    "len(texture[texture['texture']=='Sandy Clay Loam'])"
   ]
  },
  {
   "cell_type": "code",
   "execution_count": 195,
   "metadata": {},
   "outputs": [
    {
     "data": {
      "text/html": [
       "<div>\n",
       "<style scoped>\n",
       "    .dataframe tbody tr th:only-of-type {\n",
       "        vertical-align: middle;\n",
       "    }\n",
       "\n",
       "    .dataframe tbody tr th {\n",
       "        vertical-align: top;\n",
       "    }\n",
       "\n",
       "    .dataframe thead th {\n",
       "        text-align: right;\n",
       "    }\n",
       "</style>\n",
       "<table border=\"1\" class=\"dataframe\">\n",
       "  <thead>\n",
       "    <tr style=\"text-align: right;\">\n",
       "      <th></th>\n",
       "      <th>Unnamed: 0</th>\n",
       "      <th>Filed_Id</th>\n",
       "      <th>sand</th>\n",
       "      <th>clay</th>\n",
       "      <th>silt</th>\n",
       "      <th>texture</th>\n",
       "      <th>runoff</th>\n",
       "    </tr>\n",
       "  </thead>\n",
       "  <tbody>\n",
       "    <tr>\n",
       "      <th>0</th>\n",
       "      <td>0</td>\n",
       "      <td>6099219</td>\n",
       "      <td>25.50</td>\n",
       "      <td>32.60</td>\n",
       "      <td>41.90</td>\n",
       "      <td>2</td>\n",
       "      <td>HSG-C</td>\n",
       "    </tr>\n",
       "    <tr>\n",
       "      <th>1</th>\n",
       "      <td>1</td>\n",
       "      <td>6099220</td>\n",
       "      <td>25.90</td>\n",
       "      <td>32.85</td>\n",
       "      <td>41.25</td>\n",
       "      <td>2</td>\n",
       "      <td>HSG-C</td>\n",
       "    </tr>\n",
       "    <tr>\n",
       "      <th>2</th>\n",
       "      <td>2</td>\n",
       "      <td>6099221</td>\n",
       "      <td>25.17</td>\n",
       "      <td>32.97</td>\n",
       "      <td>41.86</td>\n",
       "      <td>2</td>\n",
       "      <td>HSG-C</td>\n",
       "    </tr>\n",
       "    <tr>\n",
       "      <th>3</th>\n",
       "      <td>3</td>\n",
       "      <td>6099222</td>\n",
       "      <td>26.18</td>\n",
       "      <td>33.93</td>\n",
       "      <td>39.89</td>\n",
       "      <td>2</td>\n",
       "      <td>HSG-C</td>\n",
       "    </tr>\n",
       "    <tr>\n",
       "      <th>4</th>\n",
       "      <td>4</td>\n",
       "      <td>6099223</td>\n",
       "      <td>24.80</td>\n",
       "      <td>37.40</td>\n",
       "      <td>37.80</td>\n",
       "      <td>2</td>\n",
       "      <td>HSG-C</td>\n",
       "    </tr>\n",
       "  </tbody>\n",
       "</table>\n",
       "</div>"
      ],
      "text/plain": [
       "   Unnamed: 0  Filed_Id   sand   clay   silt texture runoff\n",
       "0           0   6099219  25.50  32.60  41.90       2  HSG-C\n",
       "1           1   6099220  25.90  32.85  41.25       2  HSG-C\n",
       "2           2   6099221  25.17  32.97  41.86       2  HSG-C\n",
       "3           3   6099222  26.18  33.93  39.89       2  HSG-C\n",
       "4           4   6099223  24.80  37.40  37.80       2  HSG-C"
      ]
     },
     "execution_count": 195,
     "metadata": {},
     "output_type": "execute_result"
    }
   ],
   "source": [
    "cc.head()"
   ]
  },
  {
   "cell_type": "code",
   "execution_count": 202,
   "metadata": {},
   "outputs": [],
   "source": [
    "cc=cc.drop(['Unnamed: 0','sand','clay','silt'],axis=1)"
   ]
  },
  {
   "cell_type": "code",
   "execution_count": 203,
   "metadata": {},
   "outputs": [
    {
     "data": {
      "text/html": [
       "<div>\n",
       "<style scoped>\n",
       "    .dataframe tbody tr th:only-of-type {\n",
       "        vertical-align: middle;\n",
       "    }\n",
       "\n",
       "    .dataframe tbody tr th {\n",
       "        vertical-align: top;\n",
       "    }\n",
       "\n",
       "    .dataframe thead th {\n",
       "        text-align: right;\n",
       "    }\n",
       "</style>\n",
       "<table border=\"1\" class=\"dataframe\">\n",
       "  <thead>\n",
       "    <tr style=\"text-align: right;\">\n",
       "      <th></th>\n",
       "      <th>Filed_Id</th>\n",
       "      <th>texture</th>\n",
       "      <th>runoff</th>\n",
       "    </tr>\n",
       "  </thead>\n",
       "  <tbody>\n",
       "    <tr>\n",
       "      <th>0</th>\n",
       "      <td>6099219</td>\n",
       "      <td>2</td>\n",
       "      <td>HSG-C</td>\n",
       "    </tr>\n",
       "    <tr>\n",
       "      <th>1</th>\n",
       "      <td>6099220</td>\n",
       "      <td>2</td>\n",
       "      <td>HSG-C</td>\n",
       "    </tr>\n",
       "    <tr>\n",
       "      <th>2</th>\n",
       "      <td>6099221</td>\n",
       "      <td>2</td>\n",
       "      <td>HSG-C</td>\n",
       "    </tr>\n",
       "    <tr>\n",
       "      <th>3</th>\n",
       "      <td>6099222</td>\n",
       "      <td>2</td>\n",
       "      <td>HSG-C</td>\n",
       "    </tr>\n",
       "    <tr>\n",
       "      <th>4</th>\n",
       "      <td>6099223</td>\n",
       "      <td>2</td>\n",
       "      <td>HSG-C</td>\n",
       "    </tr>\n",
       "  </tbody>\n",
       "</table>\n",
       "</div>"
      ],
      "text/plain": [
       "   Filed_Id texture runoff\n",
       "0   6099219       2  HSG-C\n",
       "1   6099220       2  HSG-C\n",
       "2   6099221       2  HSG-C\n",
       "3   6099222       2  HSG-C\n",
       "4   6099223       2  HSG-C"
      ]
     },
     "execution_count": 203,
     "metadata": {},
     "output_type": "execute_result"
    }
   ],
   "source": [
    "cc.head()"
   ]
  },
  {
   "cell_type": "code",
   "execution_count": 204,
   "metadata": {},
   "outputs": [],
   "source": [
    "ee=texture.copy()"
   ]
  },
  {
   "cell_type": "code",
   "execution_count": 205,
   "metadata": {},
   "outputs": [
    {
     "data": {
      "text/html": [
       "<div>\n",
       "<style scoped>\n",
       "    .dataframe tbody tr th:only-of-type {\n",
       "        vertical-align: middle;\n",
       "    }\n",
       "\n",
       "    .dataframe tbody tr th {\n",
       "        vertical-align: top;\n",
       "    }\n",
       "\n",
       "    .dataframe thead th {\n",
       "        text-align: right;\n",
       "    }\n",
       "</style>\n",
       "<table border=\"1\" class=\"dataframe\">\n",
       "  <thead>\n",
       "    <tr style=\"text-align: right;\">\n",
       "      <th></th>\n",
       "      <th>Filed_Id</th>\n",
       "    </tr>\n",
       "  </thead>\n",
       "  <tbody>\n",
       "    <tr>\n",
       "      <th>0</th>\n",
       "      <td>6099219</td>\n",
       "    </tr>\n",
       "    <tr>\n",
       "      <th>1</th>\n",
       "      <td>6099220</td>\n",
       "    </tr>\n",
       "  </tbody>\n",
       "</table>\n",
       "</div>"
      ],
      "text/plain": [
       "   Filed_Id\n",
       "0   6099219\n",
       "1   6099220"
      ]
     },
     "execution_count": 205,
     "metadata": {},
     "output_type": "execute_result"
    }
   ],
   "source": [
    "ee=ee.drop(['Unnamed: 0','sand','clay','silt','texture','runoff'],axis=1)\n",
    "ee.head(2)"
   ]
  },
  {
   "cell_type": "code",
   "execution_count": 207,
   "metadata": {},
   "outputs": [],
   "source": [
    "merge_df=cc.merge(ee, on=\"Filed_Id\", how = 'inner')"
   ]
  },
  {
   "cell_type": "code",
   "execution_count": 213,
   "metadata": {},
   "outputs": [
    {
     "data": {
      "text/html": [
       "<div>\n",
       "<style scoped>\n",
       "    .dataframe tbody tr th:only-of-type {\n",
       "        vertical-align: middle;\n",
       "    }\n",
       "\n",
       "    .dataframe tbody tr th {\n",
       "        vertical-align: top;\n",
       "    }\n",
       "\n",
       "    .dataframe thead th {\n",
       "        text-align: right;\n",
       "    }\n",
       "</style>\n",
       "<table border=\"1\" class=\"dataframe\">\n",
       "  <thead>\n",
       "    <tr style=\"text-align: right;\">\n",
       "      <th></th>\n",
       "      <th>Filed_Id</th>\n",
       "      <th>texture</th>\n",
       "      <th>runoff</th>\n",
       "    </tr>\n",
       "  </thead>\n",
       "  <tbody>\n",
       "    <tr>\n",
       "      <th>0</th>\n",
       "      <td>6099219</td>\n",
       "      <td>2</td>\n",
       "      <td>HSG-C</td>\n",
       "    </tr>\n",
       "    <tr>\n",
       "      <th>1</th>\n",
       "      <td>6099220</td>\n",
       "      <td>2</td>\n",
       "      <td>HSG-C</td>\n",
       "    </tr>\n",
       "    <tr>\n",
       "      <th>2</th>\n",
       "      <td>6099221</td>\n",
       "      <td>2</td>\n",
       "      <td>HSG-C</td>\n",
       "    </tr>\n",
       "    <tr>\n",
       "      <th>3</th>\n",
       "      <td>6099222</td>\n",
       "      <td>2</td>\n",
       "      <td>HSG-C</td>\n",
       "    </tr>\n",
       "    <tr>\n",
       "      <th>4</th>\n",
       "      <td>6099223</td>\n",
       "      <td>2</td>\n",
       "      <td>HSG-C</td>\n",
       "    </tr>\n",
       "  </tbody>\n",
       "</table>\n",
       "</div>"
      ],
      "text/plain": [
       "   Filed_Id texture runoff\n",
       "0   6099219       2  HSG-C\n",
       "1   6099220       2  HSG-C\n",
       "2   6099221       2  HSG-C\n",
       "3   6099222       2  HSG-C\n",
       "4   6099223       2  HSG-C"
      ]
     },
     "execution_count": 213,
     "metadata": {},
     "output_type": "execute_result"
    }
   ],
   "source": [
    "merge_df.head()"
   ]
  },
  {
   "cell_type": "code",
   "execution_count": 215,
   "metadata": {},
   "outputs": [],
   "source": [
    "cc.to_csv('../data/raw/optimization/texture_and_runoff/texture_and_runoff_V2.csv',index=False)"
   ]
  },
  {
   "cell_type": "code",
   "execution_count": 212,
   "metadata": {},
   "outputs": [
    {
     "data": {
      "text/html": [
       "<div>\n",
       "<style scoped>\n",
       "    .dataframe tbody tr th:only-of-type {\n",
       "        vertical-align: middle;\n",
       "    }\n",
       "\n",
       "    .dataframe tbody tr th {\n",
       "        vertical-align: top;\n",
       "    }\n",
       "\n",
       "    .dataframe thead th {\n",
       "        text-align: right;\n",
       "    }\n",
       "</style>\n",
       "<table border=\"1\" class=\"dataframe\">\n",
       "  <thead>\n",
       "    <tr style=\"text-align: right;\">\n",
       "      <th></th>\n",
       "      <th>Filed_Id</th>\n",
       "      <th>texture_x</th>\n",
       "      <th>runoff_x</th>\n",
       "      <th>Unnamed: 0</th>\n",
       "      <th>sand</th>\n",
       "      <th>clay</th>\n",
       "      <th>silt</th>\n",
       "      <th>texture_y</th>\n",
       "      <th>runoff_y</th>\n",
       "    </tr>\n",
       "  </thead>\n",
       "  <tbody>\n",
       "    <tr>\n",
       "      <th>0</th>\n",
       "      <td>6099219</td>\n",
       "      <td>2</td>\n",
       "      <td>HSG-C</td>\n",
       "      <td>0</td>\n",
       "      <td>25.50</td>\n",
       "      <td>32.60</td>\n",
       "      <td>41.90</td>\n",
       "      <td>Clay Loam</td>\n",
       "      <td>HSG-C</td>\n",
       "    </tr>\n",
       "    <tr>\n",
       "      <th>1</th>\n",
       "      <td>6099220</td>\n",
       "      <td>2</td>\n",
       "      <td>HSG-C</td>\n",
       "      <td>1</td>\n",
       "      <td>25.90</td>\n",
       "      <td>32.85</td>\n",
       "      <td>41.25</td>\n",
       "      <td>Clay Loam</td>\n",
       "      <td>HSG-C</td>\n",
       "    </tr>\n",
       "    <tr>\n",
       "      <th>2</th>\n",
       "      <td>6099221</td>\n",
       "      <td>2</td>\n",
       "      <td>HSG-C</td>\n",
       "      <td>2</td>\n",
       "      <td>25.17</td>\n",
       "      <td>32.97</td>\n",
       "      <td>41.86</td>\n",
       "      <td>Clay Loam</td>\n",
       "      <td>HSG-C</td>\n",
       "    </tr>\n",
       "    <tr>\n",
       "      <th>3</th>\n",
       "      <td>6099222</td>\n",
       "      <td>2</td>\n",
       "      <td>HSG-C</td>\n",
       "      <td>3</td>\n",
       "      <td>26.18</td>\n",
       "      <td>33.93</td>\n",
       "      <td>39.89</td>\n",
       "      <td>Clay Loam</td>\n",
       "      <td>HSG-C</td>\n",
       "    </tr>\n",
       "    <tr>\n",
       "      <th>4</th>\n",
       "      <td>6099223</td>\n",
       "      <td>2</td>\n",
       "      <td>HSG-C</td>\n",
       "      <td>4</td>\n",
       "      <td>24.80</td>\n",
       "      <td>37.40</td>\n",
       "      <td>37.80</td>\n",
       "      <td>Clay Loam</td>\n",
       "      <td>HSG-C</td>\n",
       "    </tr>\n",
       "    <tr>\n",
       "      <th>5</th>\n",
       "      <td>6099224</td>\n",
       "      <td>3</td>\n",
       "      <td>HSG-C</td>\n",
       "      <td>5</td>\n",
       "      <td>37.36</td>\n",
       "      <td>23.24</td>\n",
       "      <td>39.40</td>\n",
       "      <td>Loam</td>\n",
       "      <td>HSG-C</td>\n",
       "    </tr>\n",
       "    <tr>\n",
       "      <th>6</th>\n",
       "      <td>6099225</td>\n",
       "      <td>3</td>\n",
       "      <td>HSG-C</td>\n",
       "      <td>6</td>\n",
       "      <td>36.92</td>\n",
       "      <td>23.68</td>\n",
       "      <td>39.40</td>\n",
       "      <td>Loam</td>\n",
       "      <td>HSG-C</td>\n",
       "    </tr>\n",
       "    <tr>\n",
       "      <th>7</th>\n",
       "      <td>6099226</td>\n",
       "      <td>3</td>\n",
       "      <td>HSG-C</td>\n",
       "      <td>7</td>\n",
       "      <td>40.10</td>\n",
       "      <td>24.10</td>\n",
       "      <td>35.80</td>\n",
       "      <td>Loam</td>\n",
       "      <td>HSG-C</td>\n",
       "    </tr>\n",
       "    <tr>\n",
       "      <th>8</th>\n",
       "      <td>6099227</td>\n",
       "      <td>3</td>\n",
       "      <td>0</td>\n",
       "      <td>8</td>\n",
       "      <td>38.40</td>\n",
       "      <td>18.20</td>\n",
       "      <td>43.40</td>\n",
       "      <td>Loam</td>\n",
       "      <td>0</td>\n",
       "    </tr>\n",
       "    <tr>\n",
       "      <th>9</th>\n",
       "      <td>6099228</td>\n",
       "      <td>3</td>\n",
       "      <td>0</td>\n",
       "      <td>9</td>\n",
       "      <td>38.93</td>\n",
       "      <td>18.24</td>\n",
       "      <td>42.83</td>\n",
       "      <td>Loam</td>\n",
       "      <td>0</td>\n",
       "    </tr>\n",
       "  </tbody>\n",
       "</table>\n",
       "</div>"
      ],
      "text/plain": [
       "   Filed_Id texture_x runoff_x  Unnamed: 0   sand   clay   silt  texture_y  \\\n",
       "0   6099219         2    HSG-C           0  25.50  32.60  41.90  Clay Loam   \n",
       "1   6099220         2    HSG-C           1  25.90  32.85  41.25  Clay Loam   \n",
       "2   6099221         2    HSG-C           2  25.17  32.97  41.86  Clay Loam   \n",
       "3   6099222         2    HSG-C           3  26.18  33.93  39.89  Clay Loam   \n",
       "4   6099223         2    HSG-C           4  24.80  37.40  37.80  Clay Loam   \n",
       "5   6099224         3    HSG-C           5  37.36  23.24  39.40       Loam   \n",
       "6   6099225         3    HSG-C           6  36.92  23.68  39.40       Loam   \n",
       "7   6099226         3    HSG-C           7  40.10  24.10  35.80       Loam   \n",
       "8   6099227         3        0           8  38.40  18.20  43.40       Loam   \n",
       "9   6099228         3        0           9  38.93  18.24  42.83       Loam   \n",
       "\n",
       "  runoff_y  \n",
       "0    HSG-C  \n",
       "1    HSG-C  \n",
       "2    HSG-C  \n",
       "3    HSG-C  \n",
       "4    HSG-C  \n",
       "5    HSG-C  \n",
       "6    HSG-C  \n",
       "7    HSG-C  \n",
       "8        0  \n",
       "9        0  "
      ]
     },
     "execution_count": 212,
     "metadata": {},
     "output_type": "execute_result"
    }
   ],
   "source": [
    "cc.merge(bb, on=\"Filed_Id\", how = 'inner')"
   ]
  },
  {
   "cell_type": "code",
   "execution_count": 216,
   "metadata": {},
   "outputs": [],
   "source": [
    "textV2=pd.read_csv('../data/raw/optimization/texture_and_runoff/texture_and_runoff_V2.csv')"
   ]
  },
  {
   "cell_type": "code",
   "execution_count": 217,
   "metadata": {},
   "outputs": [
    {
     "data": {
      "text/html": [
       "<div>\n",
       "<style scoped>\n",
       "    .dataframe tbody tr th:only-of-type {\n",
       "        vertical-align: middle;\n",
       "    }\n",
       "\n",
       "    .dataframe tbody tr th {\n",
       "        vertical-align: top;\n",
       "    }\n",
       "\n",
       "    .dataframe thead th {\n",
       "        text-align: right;\n",
       "    }\n",
       "</style>\n",
       "<table border=\"1\" class=\"dataframe\">\n",
       "  <thead>\n",
       "    <tr style=\"text-align: right;\">\n",
       "      <th></th>\n",
       "      <th>Filed_Id</th>\n",
       "      <th>texture</th>\n",
       "      <th>runoff</th>\n",
       "    </tr>\n",
       "  </thead>\n",
       "  <tbody>\n",
       "    <tr>\n",
       "      <th>0</th>\n",
       "      <td>6099219</td>\n",
       "      <td>2</td>\n",
       "      <td>HSG-C</td>\n",
       "    </tr>\n",
       "    <tr>\n",
       "      <th>1</th>\n",
       "      <td>6099220</td>\n",
       "      <td>2</td>\n",
       "      <td>HSG-C</td>\n",
       "    </tr>\n",
       "    <tr>\n",
       "      <th>2</th>\n",
       "      <td>6099221</td>\n",
       "      <td>2</td>\n",
       "      <td>HSG-C</td>\n",
       "    </tr>\n",
       "    <tr>\n",
       "      <th>3</th>\n",
       "      <td>6099222</td>\n",
       "      <td>2</td>\n",
       "      <td>HSG-C</td>\n",
       "    </tr>\n",
       "    <tr>\n",
       "      <th>4</th>\n",
       "      <td>6099223</td>\n",
       "      <td>2</td>\n",
       "      <td>HSG-C</td>\n",
       "    </tr>\n",
       "  </tbody>\n",
       "</table>\n",
       "</div>"
      ],
      "text/plain": [
       "   Filed_Id texture runoff\n",
       "0   6099219       2  HSG-C\n",
       "1   6099220       2  HSG-C\n",
       "2   6099221       2  HSG-C\n",
       "3   6099222       2  HSG-C\n",
       "4   6099223       2  HSG-C"
      ]
     },
     "execution_count": 217,
     "metadata": {},
     "output_type": "execute_result"
    }
   ],
   "source": [
    "textV2.head()"
   ]
  },
  {
   "cell_type": "code",
   "execution_count": 221,
   "metadata": {},
   "outputs": [
    {
     "data": {
      "text/plain": [
       "{'0',\n",
       " '1',\n",
       " '1-2',\n",
       " '1-8',\n",
       " '1-8-9-2',\n",
       " '2',\n",
       " '2-3',\n",
       " '2-3-5',\n",
       " '2-5',\n",
       " '2-9',\n",
       " '3',\n",
       " '3-6',\n",
       " '4',\n",
       " '5',\n",
       " '5-3',\n",
       " '5-6',\n",
       " '6',\n",
       " '7',\n",
       " '7-3',\n",
       " '8',\n",
       " '8-9',\n",
       " '9'}"
      ]
     },
     "execution_count": 221,
     "metadata": {},
     "output_type": "execute_result"
    }
   ],
   "source": [
    "set(cc.texture.values)"
   ]
  },
  {
   "cell_type": "code",
   "execution_count": null,
   "metadata": {},
   "outputs": [],
   "source": []
  }
 ],
 "metadata": {
  "kernelspec": {
   "display_name": "Python 3",
   "language": "python",
   "name": "python3"
  },
  "language_info": {
   "codemirror_mode": {
    "name": "ipython",
    "version": 3
   },
   "file_extension": ".py",
   "mimetype": "text/x-python",
   "name": "python",
   "nbconvert_exporter": "python",
   "pygments_lexer": "ipython3",
   "version": "3.7.9"
  }
 },
 "nbformat": 4,
 "nbformat_minor": 4
}
