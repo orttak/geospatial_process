{
 "cells": [
  {
   "cell_type": "code",
   "execution_count": 1,
   "metadata": {},
   "outputs": [],
   "source": [
    "import json\n",
    "import satsearch\n",
    "import geopandas as gpd\n",
    "import numpy as np\n",
    "import pandas as pd\n",
    "import warnings\n",
    "from shapely.geometry import  Polygon\n",
    "import rioxarray\n",
    "import satstac\n",
    "import os\n",
    "warnings.filterwarnings(\"ignore\")"
   ]
  },
  {
   "cell_type": "code",
   "execution_count": 2,
   "metadata": {},
   "outputs": [],
   "source": [
    "import data.sentinel_cog as sc\n"
   ]
  },
  {
   "cell_type": "code",
   "execution_count": 3,
   "metadata": {},
   "outputs": [],
   "source": [
    "harran={\n",
    "\"type\": \"FeatureCollection\",\n",
    "\"name\": \"Harran_AOI\",\n",
    "\"crs\": { \"type\": \"name\", \"properties\": { \"name\": \"urn:ogc:def:crs:OGC:1.3:CRS84\" } },\n",
    "\"features\": [\n",
    "{ \"type\": \"Feature\", \"properties\": { \"fid\": 1 }, \"geometry\": { \"type\": \"Polygon\", \"coordinates\": [ [ [ 38.680367610550277, 36.71081864055018 ], [ 38.688923838082594, 37.274751818816462 ], [ 39.282414893278698, 37.277085335416182 ], [ 39.29019328194444, 36.690594830019251 ], [ 38.680367610550277, 36.71081864055018 ] ] ] } }\n",
    "]\n",
    "}\n"
   ]
  },
  {
   "cell_type": "code",
   "execution_count": 4,
   "metadata": {},
   "outputs": [
    {
     "data": {
      "text/plain": [
       "dict"
      ]
     },
     "execution_count": 4,
     "metadata": {},
     "output_type": "execute_result"
    }
   ],
   "source": [
    "type(harran)"
   ]
  },
  {
   "cell_type": "code",
   "execution_count": 5,
   "metadata": {},
   "outputs": [],
   "source": [
    "datajson=json.dumps(harran)\n",
    "target_area=gpd.read_file(datajson)\n"
   ]
  },
  {
   "cell_type": "code",
   "execution_count": 8,
   "metadata": {},
   "outputs": [
    {
     "name": "stdout",
     "output_type": "stream",
     "text": [
      "5\n"
     ]
    }
   ],
   "source": [
    "if type(target_area)==gpd.geodataframe.GeoDataFrame:\n",
    "    print(5)\n"
   ]
  },
  {
   "cell_type": "code",
   "execution_count": 5,
   "metadata": {},
   "outputs": [
    {
     "data": {
      "text/html": [
       "<div style=\"width:100%;\"><div style=\"position:relative;width:100%;height:0;padding-bottom:60%;\"><span style=\"color:#565656\">Make this Notebook Trusted to load map: File -> Trust Notebook</span><iframe src=\"about:blank\" style=\"position:absolute;width:100%;height:100%;left:0;top:0;border:none !important;\" data-html=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 onload=\"this.contentDocument.open();this.contentDocument.write(atob(this.getAttribute('data-html')));this.contentDocument.close();\" allowfullscreen webkitallowfullscreen mozallowfullscreen></iframe></div></div>"
      ],
      "text/plain": [
       "<folium.folium.Map at 0x2271d18adc8>"
      ]
     },
     "execution_count": 5,
     "metadata": {},
     "output_type": "execute_result"
    }
   ],
   "source": [
    "tiles_intersection,tile_map=sc.find_sentinel_tile(target_area,sentinel_tiles_path='../data/raw/boundries/sentinel_tr_tiles.shp')\n",
    "tile_map"
   ]
  },
  {
   "cell_type": "code",
   "execution_count": 6,
   "metadata": {},
   "outputs": [
    {
     "data": {
      "text/html": [
       "<div>\n",
       "<style scoped>\n",
       "    .dataframe tbody tr th:only-of-type {\n",
       "        vertical-align: middle;\n",
       "    }\n",
       "\n",
       "    .dataframe tbody tr th {\n",
       "        vertical-align: top;\n",
       "    }\n",
       "\n",
       "    .dataframe thead th {\n",
       "        text-align: right;\n",
       "    }\n",
       "</style>\n",
       "<table border=\"1\" class=\"dataframe\">\n",
       "  <thead>\n",
       "    <tr style=\"text-align: right;\">\n",
       "      <th></th>\n",
       "      <th>name</th>\n",
       "      <th>folders</th>\n",
       "      <th>descriptio</th>\n",
       "      <th>altitude</th>\n",
       "      <th>alt_mode</th>\n",
       "      <th>time_begin</th>\n",
       "      <th>time_end</th>\n",
       "      <th>time_when</th>\n",
       "      <th>GID_0</th>\n",
       "      <th>NAME_0</th>\n",
       "      <th>geometry</th>\n",
       "    </tr>\n",
       "  </thead>\n",
       "  <tbody>\n",
       "    <tr>\n",
       "      <th>0</th>\n",
       "      <td>37SDA</td>\n",
       "      <td>Features</td>\n",
       "      <td>TILE PROPERTIES&lt;br&gt;&lt;table border=0 cellpadding...</td>\n",
       "      <td>0.0</td>\n",
       "      <td>None</td>\n",
       "      <td>None</td>\n",
       "      <td>None</td>\n",
       "      <td>None</td>\n",
       "      <td>TUR</td>\n",
       "      <td>Turkey</td>\n",
       "      <td>POLYGON Z ((37.87506 37.04125 0.00000, 39.1097...</td>\n",
       "    </tr>\n",
       "    <tr>\n",
       "      <th>1</th>\n",
       "      <td>37SDB</td>\n",
       "      <td>Features</td>\n",
       "      <td>TILE PROPERTIES&lt;br&gt;&lt;table border=0 cellpadding...</td>\n",
       "      <td>0.0</td>\n",
       "      <td>None</td>\n",
       "      <td>None</td>\n",
       "      <td>None</td>\n",
       "      <td>None</td>\n",
       "      <td>TUR</td>\n",
       "      <td>Turkey</td>\n",
       "      <td>POLYGON Z ((37.86147 37.94208 0.00000, 39.1110...</td>\n",
       "    </tr>\n",
       "    <tr>\n",
       "      <th>2</th>\n",
       "      <td>37SEA</td>\n",
       "      <td>Features</td>\n",
       "      <td>TILE PROPERTIES&lt;br&gt;&lt;table border=0 cellpadding...</td>\n",
       "      <td>0.0</td>\n",
       "      <td>None</td>\n",
       "      <td>None</td>\n",
       "      <td>None</td>\n",
       "      <td>None</td>\n",
       "      <td>TUR</td>\n",
       "      <td>Turkey</td>\n",
       "      <td>POLYGON Z ((38.99978 37.04658 0.00000, 40.2344...</td>\n",
       "    </tr>\n",
       "    <tr>\n",
       "      <th>3</th>\n",
       "      <td>37SEB</td>\n",
       "      <td>Features</td>\n",
       "      <td>TILE PROPERTIES&lt;br&gt;&lt;table border=0 cellpadding...</td>\n",
       "      <td>0.0</td>\n",
       "      <td>None</td>\n",
       "      <td>None</td>\n",
       "      <td>None</td>\n",
       "      <td>None</td>\n",
       "      <td>TUR</td>\n",
       "      <td>Turkey</td>\n",
       "      <td>POLYGON Z ((38.99977 37.94759 0.00000, 40.2493...</td>\n",
       "    </tr>\n",
       "  </tbody>\n",
       "</table>\n",
       "</div>"
      ],
      "text/plain": [
       "    name   folders                                         descriptio  \\\n",
       "0  37SDA  Features  TILE PROPERTIES<br><table border=0 cellpadding...   \n",
       "1  37SDB  Features  TILE PROPERTIES<br><table border=0 cellpadding...   \n",
       "2  37SEA  Features  TILE PROPERTIES<br><table border=0 cellpadding...   \n",
       "3  37SEB  Features  TILE PROPERTIES<br><table border=0 cellpadding...   \n",
       "\n",
       "   altitude alt_mode time_begin time_end time_when GID_0  NAME_0  \\\n",
       "0       0.0     None       None     None      None   TUR  Turkey   \n",
       "1       0.0     None       None     None      None   TUR  Turkey   \n",
       "2       0.0     None       None     None      None   TUR  Turkey   \n",
       "3       0.0     None       None     None      None   TUR  Turkey   \n",
       "\n",
       "                                            geometry  \n",
       "0  POLYGON Z ((37.87506 37.04125 0.00000, 39.1097...  \n",
       "1  POLYGON Z ((37.86147 37.94208 0.00000, 39.1110...  \n",
       "2  POLYGON Z ((38.99978 37.04658 0.00000, 40.2344...  \n",
       "3  POLYGON Z ((38.99977 37.94759 0.00000, 40.2493...  "
      ]
     },
     "execution_count": 6,
     "metadata": {},
     "output_type": "execute_result"
    }
   ],
   "source": [
    "tiles_intersection"
   ]
  },
  {
   "cell_type": "code",
   "execution_count": 7,
   "metadata": {},
   "outputs": [],
   "source": [
    "def find_stac_result(target_aoi,date,max_cloud=10):\n",
    "    URL='https://earth-search.aws.element84.com/v0'\n",
    "    results = satsearch.Search.search(url=URL,\n",
    "                                collections=['sentinel-s2-l2a-cogs'],\n",
    "                                datetime=date,\n",
    "                                bbox=target_aoi,\n",
    "                                query={'eo:cloud_cover': {'lt':max_cloud}}, )\n",
    "    return results\n",
    "def show_result_df(result=None,items_list=[]):\n",
    "    #this function return stac result as a pandas dataframe\n",
    "    if not items_list:\n",
    "        # if you want to see all result from main stac result(find_stac_result function)\n",
    "        # you can use this method\n",
    "        items = result.items()\n",
    "        items_json=items.geojson()\n",
    "        items_json=json.dumps(items_json)\n",
    "        df=gpd.read_file(items_json)\n",
    "        df['datetime']=pd.to_datetime(df['datetime'], infer_datetime_format=True)\n",
    "        df['datetime']=pd.to_datetime(df['datetime']).dt.strftime('%Y-%m-%d')\n",
    "        return df\n",
    "    else:\n",
    "        # list comprehension result from find_sentinel_item method,\n",
    "        # you can show that as a dataframe\n",
    "\n",
    "        #create empty df\n",
    "        df=gpd.GeoDataFrame()\n",
    "        for item in items_list:\n",
    "            #get item properties as a json\n",
    "            items_json=item.properties\n",
    "            tmp=gpd.GeoDataFrame(items_json)\n",
    "            geo_dict = {'geometry': [Polygon(item.geometry['coordinates'][0])]}\n",
    "            gdf = gpd.GeoDataFrame(geo_dict, crs=\"EPSG:4326\")\n",
    "            #import geo info\n",
    "            tmp['geometry']=gdf['geometry']\n",
    "            df=df.append(tmp)\n",
    "            #change datatime columt datatype\n",
    "        df['datetime']=pd.to_datetime(df['datetime'], infer_datetime_format=True)\n",
    "        df.reset_index(inplace=True)\n",
    "        return df\n",
    "def create_tiles_list(stac_result):\n",
    "    items = stac_result.items()\n",
    "    items_json=items.geojson()\n",
    "    items_json=json.dumps(items_json)\n",
    "    df=gpd.read_file(items_json)\n",
    "    df['tile']=df.apply(lambda row: str(row['sentinel:utm_zone'])+row['sentinel:latitude_band']+row['sentinel:grid_square'], axis=1)\n",
    "    tiles_list = sorted(df['tile'].unique().tolist())\n",
    "    return tiles_list\n"
   ]
  },
  {
   "cell_type": "code",
   "execution_count": 8,
   "metadata": {},
   "outputs": [],
   "source": [
    "# 2018-08-01 ile 2020-11-30"
   ]
  },
  {
   "cell_type": "code",
   "execution_count": 9,
   "metadata": {},
   "outputs": [],
   "source": [
    "boundry=list(target_area.geometry.bounds.values[0]) #boundry from your AOI\n",
    "bbox=[boundry[0],boundry[1],boundry[2],boundry[3]] #(min lon, min lat, max lon, max lat)\n",
    "dates = '2018-08-01/2020-11-30'\n",
    "band_list=['B02','B03','B04','B08']\n",
    "cloud_percentage=10"
   ]
  },
  {
   "cell_type": "code",
   "execution_count": 10,
   "metadata": {},
   "outputs": [],
   "source": [
    "stac_result=find_stac_result(bbox,dates,cloud_percentage)\n",
    "items = stac_result.items()"
   ]
  },
  {
   "cell_type": "code",
   "execution_count": 11,
   "metadata": {},
   "outputs": [
    {
     "data": {
      "text/plain": [
       "['37SDA', '37SDB', '37SEA', '37SEB']"
      ]
     },
     "execution_count": 11,
     "metadata": {},
     "output_type": "execute_result"
    }
   ],
   "source": [
    "tile_list=create_tiles_list(stac_result)\n",
    "tile_list"
   ]
  },
  {
   "cell_type": "code",
   "execution_count": 12,
   "metadata": {},
   "outputs": [
    {
     "data": {
      "text/plain": [
       "443"
      ]
     },
     "execution_count": 12,
     "metadata": {},
     "output_type": "execute_result"
    }
   ],
   "source": [
    "df=show_result_df(stac_result)\n",
    "len(df)"
   ]
  },
  {
   "cell_type": "code",
   "execution_count": 13,
   "metadata": {},
   "outputs": [
    {
     "data": {
      "text/plain": [
       "410"
      ]
     },
     "execution_count": 13,
     "metadata": {},
     "output_type": "execute_result"
    }
   ],
   "source": [
    "df=df[df['sentinel:data_coverage']>95]\n",
    "len(df)"
   ]
  },
  {
   "cell_type": "code",
   "execution_count": 14,
   "metadata": {},
   "outputs": [
    {
     "name": "stdout",
     "output_type": "stream",
     "text": [
      "123\n",
      "2020-11-28\n"
     ]
    }
   ],
   "source": [
    "frame_time=df['datetime'].unique()\n",
    "print(len(frame_time))\n",
    "print(frame_time[0])"
   ]
  },
  {
   "cell_type": "code",
   "execution_count": 15,
   "metadata": {},
   "outputs": [
    {
     "data": {
      "text/plain": [
       "42"
      ]
     },
     "execution_count": 15,
     "metadata": {},
     "output_type": "execute_result"
    }
   ],
   "source": [
    "count=0\n",
    "for f in frame_time:\n",
    "    tmp_df=df[df['datetime']==f]\n",
    "    if len(tmp_df)!=4:\n",
    "        count+=1\n",
    "count"
   ]
  },
  {
   "cell_type": "code",
   "execution_count": 16,
   "metadata": {},
   "outputs": [],
   "source": [
    "def drop_notmosaic_date(time_list,target_df):\n",
    "    for f in time_list:\n",
    "        tmp_df=target_df[target_df['datetime']==f]\n",
    "        if len(tmp_df)!=4:\n",
    "            for i in tmp_df.id :\n",
    "                target_df = target_df[target_df.id != i]\n",
    "                \n",
    "    return target_df"
   ]
  },
  {
   "cell_type": "code",
   "execution_count": 17,
   "metadata": {},
   "outputs": [
    {
     "data": {
      "text/html": [
       "<div>\n",
       "<style scoped>\n",
       "    .dataframe tbody tr th:only-of-type {\n",
       "        vertical-align: middle;\n",
       "    }\n",
       "\n",
       "    .dataframe tbody tr th {\n",
       "        vertical-align: top;\n",
       "    }\n",
       "\n",
       "    .dataframe thead th {\n",
       "        text-align: right;\n",
       "    }\n",
       "</style>\n",
       "<table border=\"1\" class=\"dataframe\">\n",
       "  <thead>\n",
       "    <tr style=\"text-align: right;\">\n",
       "      <th></th>\n",
       "      <th>id</th>\n",
       "      <th>datetime</th>\n",
       "      <th>platform</th>\n",
       "      <th>constellation</th>\n",
       "      <th>gsd</th>\n",
       "      <th>view:off_nadir</th>\n",
       "      <th>proj:epsg</th>\n",
       "      <th>sentinel:utm_zone</th>\n",
       "      <th>sentinel:latitude_band</th>\n",
       "      <th>sentinel:grid_square</th>\n",
       "      <th>sentinel:sequence</th>\n",
       "      <th>sentinel:product_id</th>\n",
       "      <th>sentinel:data_coverage</th>\n",
       "      <th>eo:cloud_cover</th>\n",
       "      <th>sentinel:valid_cloud_cover</th>\n",
       "      <th>created</th>\n",
       "      <th>updated</th>\n",
       "      <th>data_coverage</th>\n",
       "      <th>geometry</th>\n",
       "    </tr>\n",
       "  </thead>\n",
       "  <tbody>\n",
       "    <tr>\n",
       "      <th>0</th>\n",
       "      <td>S2A_37SEA_20201128_0_L2A</td>\n",
       "      <td>2020-11-28</td>\n",
       "      <td>sentinel-2a</td>\n",
       "      <td>sentinel-2</td>\n",
       "      <td>10</td>\n",
       "      <td>0</td>\n",
       "      <td>32637</td>\n",
       "      <td>37</td>\n",
       "      <td>S</td>\n",
       "      <td>EA</td>\n",
       "      <td>0</td>\n",
       "      <td>S2A_MSIL2A_20201128T081301_N0214_R078_T37SEA_2...</td>\n",
       "      <td>100.0</td>\n",
       "      <td>2.65</td>\n",
       "      <td>True</td>\n",
       "      <td>2020-12-28T11:44:32.564999+00:00</td>\n",
       "      <td>2020-12-28T11:44:32.564999+00:00</td>\n",
       "      <td>NaN</td>\n",
       "      <td>POLYGON ((40.21879 36.05054, 38.99979 36.05673...</td>\n",
       "    </tr>\n",
       "    <tr>\n",
       "      <th>1</th>\n",
       "      <td>S2B_37SDA_20201123_0_L2A</td>\n",
       "      <td>2020-11-23</td>\n",
       "      <td>sentinel-2b</td>\n",
       "      <td>sentinel-2</td>\n",
       "      <td>10</td>\n",
       "      <td>0</td>\n",
       "      <td>32637</td>\n",
       "      <td>37</td>\n",
       "      <td>S</td>\n",
       "      <td>DA</td>\n",
       "      <td>0</td>\n",
       "      <td>S2B_MSIL2A_20201123T081249_N0214_R078_T37SDA_2...</td>\n",
       "      <td>100.0</td>\n",
       "      <td>0.00</td>\n",
       "      <td>True</td>\n",
       "      <td>2020-11-23T15:27:19.611000+00:00</td>\n",
       "      <td>2020-11-23T15:27:19.611000+00:00</td>\n",
       "      <td>NaN</td>\n",
       "      <td>POLYGON ((37.88933 36.05159, 37.87508 37.04124...</td>\n",
       "    </tr>\n",
       "  </tbody>\n",
       "</table>\n",
       "</div>"
      ],
      "text/plain": [
       "                         id    datetime     platform constellation  gsd  \\\n",
       "0  S2A_37SEA_20201128_0_L2A  2020-11-28  sentinel-2a    sentinel-2   10   \n",
       "1  S2B_37SDA_20201123_0_L2A  2020-11-23  sentinel-2b    sentinel-2   10   \n",
       "\n",
       "   view:off_nadir  proj:epsg  sentinel:utm_zone sentinel:latitude_band  \\\n",
       "0               0      32637                 37                      S   \n",
       "1               0      32637                 37                      S   \n",
       "\n",
       "  sentinel:grid_square sentinel:sequence  \\\n",
       "0                   EA                 0   \n",
       "1                   DA                 0   \n",
       "\n",
       "                                 sentinel:product_id  sentinel:data_coverage  \\\n",
       "0  S2A_MSIL2A_20201128T081301_N0214_R078_T37SEA_2...                   100.0   \n",
       "1  S2B_MSIL2A_20201123T081249_N0214_R078_T37SDA_2...                   100.0   \n",
       "\n",
       "   eo:cloud_cover  sentinel:valid_cloud_cover  \\\n",
       "0            2.65                        True   \n",
       "1            0.00                        True   \n",
       "\n",
       "                            created                           updated  \\\n",
       "0  2020-12-28T11:44:32.564999+00:00  2020-12-28T11:44:32.564999+00:00   \n",
       "1  2020-11-23T15:27:19.611000+00:00  2020-11-23T15:27:19.611000+00:00   \n",
       "\n",
       "   data_coverage                                           geometry  \n",
       "0            NaN  POLYGON ((40.21879 36.05054, 38.99979 36.05673...  \n",
       "1            NaN  POLYGON ((37.88933 36.05159, 37.87508 37.04124...  "
      ]
     },
     "execution_count": 17,
     "metadata": {},
     "output_type": "execute_result"
    }
   ],
   "source": [
    "sentinel_df=df.copy()\n",
    "sentinel_df.head(2)"
   ]
  },
  {
   "cell_type": "code",
   "execution_count": 18,
   "metadata": {},
   "outputs": [],
   "source": [
    "sentinel_df=drop_notmosaic_date(time_list=frame_time,target_df=sentinel_df)"
   ]
  },
  {
   "cell_type": "code",
   "execution_count": 19,
   "metadata": {},
   "outputs": [
    {
     "data": {
      "text/plain": [
       "324"
      ]
     },
     "execution_count": 19,
     "metadata": {},
     "output_type": "execute_result"
    }
   ],
   "source": [
    "len(sentinel_df)"
   ]
  },
  {
   "cell_type": "code",
   "execution_count": 20,
   "metadata": {},
   "outputs": [],
   "source": [
    "#drop_list=['37SDA', '37SDC', '37SEA', '37SEB', '37SEC']"
   ]
  },
  {
   "cell_type": "code",
   "execution_count": 21,
   "metadata": {},
   "outputs": [],
   "source": [
    "#tiles_intersection=sc.drop_tile(tiles_intersection,drop_list)\n",
    "#tiles_intersection"
   ]
  },
  {
   "cell_type": "code",
   "execution_count": 30,
   "metadata": {},
   "outputs": [
    {
     "name": "stdout",
     "output_type": "stream",
     "text": [
      "Wall time: 0 ns\n"
     ]
    }
   ],
   "source": [
    "%%time\n",
    "from dask.distributed import Client, LocalCluster\n",
    "import multiprocessing as mp\n",
    "import xarray as xr\n",
    "import matplotlib.pyplot as plt\n",
    "import rioxarray\n",
    "band_list=['B01', 'B02', 'B03', 'B04', 'B05', 'B06', 'B07', 'B08', 'B8A',\n",
    "           'B09', 'B11', 'B12', 'AOT', 'WVP', 'SCL', 'info', 'metadata',\n",
    "           'visual', 'overview', 'thumbnail']\n",
    "\n",
    "def download_subset_image(download_status=False,stac_result=None,item_id_list=[],\n",
    "                        item_list=[],aoi=None,target_epsg='',\n",
    "                        band_list=band_list[:-5],\n",
    "                        download_path='./sentinel_cog',name_suffix='',auto_folder=True):\n",
    "    result_list=[]\n",
    "    if item_list:\n",
    "        with LocalCluster(n_workers=int(0.5 * mp.cpu_count()),\n",
    "                          processes=True,\n",
    "                          threads_per_worker=2,\n",
    "                          memory_limit='2GB',\n",
    "                          #ip='tcp://localhost:9895',\n",
    "                          ) as cluster, Client(cluster) as client:\n",
    "            for item in item_list:\n",
    "                bands_dict={}\n",
    "                for band in band_list:\n",
    "                    img_name=item.properties['sentinel:product_id']\n",
    "                    bands_dict['image_name']=img_name\n",
    "                    band_url=item.assets[band]['href']\n",
    "                    rds = rioxarray.open_rasterio(band_url, masked=True, chunks=(4, \"auto\", -1))\n",
    "                    #aoi data from http://geojson.io \n",
    "                    # get aoi as geopandas df\n",
    "                    datajson=json.dumps(aoi)\n",
    "                    target_area=gpd.read_file(datajson)\n",
    "                    #https://geopandas.org/projections.html\n",
    "                    target_area=target_area.to_crs(rds.rio.crs.to_string())\n",
    "                    clipped =rds.rio.clip(target_area.geometry)\n",
    "                     \n",
    "                    if target_epsg:\n",
    "                        # target_epsg='epsg:4326'\n",
    "                        clipped = clipped.rio.reproject(target_epsg)\n",
    "    \n",
    "                    if download_status:\n",
    "                        img_path=download_path+'/'+img_name\n",
    "                        if not os.path.isdir(img_path):\n",
    "                            os.mkdir(img_path)\n",
    "                        img_name=band+'.tif'\n",
    "                        clipped.rio.to_raster(img_path+'/'+img_name)\n",
    "                       \n",
    "                    bands_dict[band]=clipped.copy()\n",
    "                    rds=None\n",
    "                result_list.append(bands_dict)\n",
    "                \n",
    "        return result_list"
   ]
  },
  {
   "cell_type": "code",
   "execution_count": 31,
   "metadata": {},
   "outputs": [
    {
     "data": {
      "text/plain": [
       "[S2A_37SEA_20201128_0_L2A,\n",
       " S2B_37SDA_20201123_0_L2A,\n",
       " S2B_37SEA_20201123_0_L2A,\n",
       " S2B_37SDB_20201123_0_L2A,\n",
       " S2B_37SEB_20201123_0_L2A]"
      ]
     },
     "execution_count": 31,
     "metadata": {},
     "output_type": "execute_result"
    }
   ],
   "source": [
    "items[0:5]"
   ]
  },
  {
   "cell_type": "code",
   "execution_count": 33,
   "metadata": {},
   "outputs": [
    {
     "name": "stdout",
     "output_type": "stream",
     "text": [
      "Wall time: 28min 49s\n"
     ]
    }
   ],
   "source": [
    "%%time\n",
    "subset_dask=download_subset_image(download_status=True,item_list=items[0:5],aoi=harran,target_epsg='',\n",
    "                        band_list=['B02','B08'],download_path='./harran',name_suffix='',auto_folder=True)"
   ]
  },
  {
   "cell_type": "code",
   "execution_count": 4,
   "metadata": {},
   "outputs": [],
   "source": [
    "from dask.distributed import Client, LocalCluster\n",
    "import multiprocessing as mp\n",
    "import xarray as xr\n",
    "import matplotlib.pyplot as plt\n",
    "import rioxarray\n",
    "\n",
    "def calculate_ndvi(red,nir):\n",
    "    with LocalCluster(n_workers=int(0.6 * mp.cpu_count()),\n",
    "        processes=False,\n",
    "        threads_per_worker=1,\n",
    "        memory_limit='2GB',\n",
    "        #ip='tcp://localhost:9895',\n",
    "        ) as cluster, Client(cluster) as client:\n",
    "\n",
    "            red_xarray=red\n",
    "            nir_xarray=nir\n",
    "            red=red_xarray.persist()\n",
    "            nir=nir_xarray.persist()\n",
    "            red=red.values\n",
    "            nir=nir.values\n",
    "            ndvi = (nir.astype(float) - red.astype(float))/(nir + red)\n",
    "\n",
    "    return ndvi\n",
    "\n",
    "def direct_ndvi(red,nir):\n",
    "    #rioxarray return\n",
    "    with LocalCluster(n_workers=int(0.6 * mp.cpu_count()),\n",
    "        processes=False,\n",
    "        threads_per_worker=1,\n",
    "        memory_limit='6GB',\n",
    "        ip='tcp://localhost:9895',\n",
    "        ) as cluster, Client(cluster) as client:\n",
    "            red_xarray=red\n",
    "            nir_xarray=nir\n",
    "            ndvi = (nir_xarray.astype(float) - red_xarray.astype(float))/(nir_xarray + red_xarray)\n",
    "\n",
    "    return ndvi\n"
   ]
  },
  {
   "cell_type": "code",
   "execution_count": null,
   "metadata": {},
   "outputs": [],
   "source": [
    "from rioxarray import merge\n",
    "def calculate_zonal_ndvi3(time_list,target_df,stac_items,vector_gpd):\n",
    "    fin=pd.DataFrame({'projectID':[],})\n",
    "    ndvi_list=[]\n",
    "    for f in time_list:\n",
    "        tmp_df=target_df[target_df['datetime']==f]\n",
    "        tmp_items=satstac.ItemCollection(stac_items)\n",
    "        tmp_items.filter('sentinel:product_id',list(tmp_df['sentinel:product_id']))\n",
    "        subset_dask=download_subset_image(download_status=False,item_list=list(tmp_items),aoi=harran,band_list=['B02','B08'])\n",
    "        for index,img in enumerate(subset_dask):\n",
    "            ndvidirecty=direct_ndvi(subset_dask[index]['B02'],subset_dask[index]['B08'])\n",
    "            ndvidirecty.name='ndvi'\n",
    "            ndvi_list.append(ndvidirecty)\n",
    "        print('start ndvi merge')\n",
    "        with LocalCluster(n_workers=int(0.6 * mp.cpu_count()),\n",
    "                          processes=False,\n",
    "                          threads_per_worker=1,\n",
    "                          memory_limit='6GB',\n",
    "                          ip='tcp://localhost:9895',\n",
    "                          ) as cluster, Client(cluster) as client:\n",
    "            ndvi = merge.merge_arrays(ndvi_list)\n",
    "        print('finnish ndvi merge')\n",
    "        with LocalCluster(n_workers=int(0.6 * mp.cpu_count()),\n",
    "                          processes=False,\n",
    "                          threads_per_worker=2,\n",
    "                          memory_limit='6GB',\n",
    "                          ip='tcp://localhost:9895',\n",
    "                          ) as cluster, Client(cluster) as client:\n",
    "            out_grid = make_geocube(vector_data=vector_gpd,\n",
    "                                    measurements=[\"projectID\"],\n",
    "                                    like=ndvi, # ensure the data are on the same grid\n",
    "                                    #fill=np.nan\n",
    "                                    )\n",
    "            out_grid[\"ndvi\"] = ndvi\n",
    "        print('finnish out grid')\n",
    "        with LocalCluster(n_workers=int(0.6 * mp.cpu_count()),\n",
    "                          processes=False,\n",
    "                          threads_per_worker=2,\n",
    "                          memory_limit='6GB',\n",
    "                          ip='tcp://localhost:9895',\n",
    "                          ) as cluster, Client(cluster) as client:\n",
    "            \n",
    "            grouped_ndvi = out_grid.drop(\"spatial_ref\").groupby(out_grid.projectID)\n",
    "            grid_mean = grouped_ndvi.mean().rename({\"ndvi\": f'ndviMean_{f}'})\n",
    "            zonal_stats = xarray.merge([grid_mean,])\n",
    "            last_df=zonal_stats.to_dataframe()\n",
    "            last_df.reset_index(inplace=True)\n",
    "            last_df.rename(columns={'ndvi_mean': f'ndviMean_{f}'}, inplace=True)\n",
    "            last_df.drop(columns=['band','spatial_ref'],inplace=True)\n",
    "            last_df.to_csv(f'csv/ndviMean_{f}.csv', index=False)\n",
    "            \n",
    "            fin=fin.merge(last_df,how='outer',on='projectID')\n",
    "            print('end fin')\n",
    "    fin.to_csv(f'csv/ndvi_all.csv', index=False)\n",
    "    return print('end')"
   ]
  },
  {
   "cell_type": "code",
   "execution_count": 121,
   "metadata": {},
   "outputs": [
    {
     "name": "stdout",
     "output_type": "stream",
     "text": [
      "2020-11-23\n",
      "81\n"
     ]
    }
   ],
   "source": [
    "ndvi_time=sentinel_df['datetime'].unique()\n",
    "print(ndvi_time[0])\n",
    "print(len(ndvi_time))\n"
   ]
  },
  {
   "cell_type": "code",
   "execution_count": 122,
   "metadata": {},
   "outputs": [],
   "source": [
    "harran_field = gpd.read_file(\"../data/raw/HARRAN_Boundary_2019-2020_v04.gpkg\")"
   ]
  },
  {
   "cell_type": "code",
   "execution_count": 123,
   "metadata": {},
   "outputs": [
    {
     "data": {
      "text/html": [
       "<div>\n",
       "<style scoped>\n",
       "    .dataframe tbody tr th:only-of-type {\n",
       "        vertical-align: middle;\n",
       "    }\n",
       "\n",
       "    .dataframe tbody tr th {\n",
       "        vertical-align: top;\n",
       "    }\n",
       "\n",
       "    .dataframe thead th {\n",
       "        text-align: right;\n",
       "    }\n",
       "</style>\n",
       "<table border=\"1\" class=\"dataframe\">\n",
       "  <thead>\n",
       "    <tr style=\"text-align: right;\">\n",
       "      <th></th>\n",
       "      <th>id</th>\n",
       "      <th>crop</th>\n",
       "      <th>Il_Adi</th>\n",
       "      <th>Ilce_Adi</th>\n",
       "      <th>Bolge_Adi</th>\n",
       "      <th>Bolum_Adi</th>\n",
       "      <th>area</th>\n",
       "      <th>PlaceName</th>\n",
       "      <th>projectID</th>\n",
       "      <th>P12_2019majority</th>\n",
       "      <th>P34_2019majority</th>\n",
       "      <th>P12_2020majority</th>\n",
       "      <th>P34_2020majority</th>\n",
       "      <th>geometry</th>\n",
       "    </tr>\n",
       "  </thead>\n",
       "  <tbody>\n",
       "    <tr>\n",
       "      <th>0</th>\n",
       "      <td>204980733</td>\n",
       "      <td>None</td>\n",
       "      <td>ŞANLIURFA</td>\n",
       "      <td>HALİLİYE</td>\n",
       "      <td>Güneydoğu Anadolu Bölgesi</td>\n",
       "      <td>Orta Fırat Bölümü</td>\n",
       "      <td>4.3844</td>\n",
       "      <td>Çanakçı</td>\n",
       "      <td>1</td>\n",
       "      <td>31.0</td>\n",
       "      <td>23.0</td>\n",
       "      <td>111.0</td>\n",
       "      <td>18.0</td>\n",
       "      <td>MULTIPOLYGON (((39.17457 37.12100, 39.17457 37...</td>\n",
       "    </tr>\n",
       "  </tbody>\n",
       "</table>\n",
       "</div>"
      ],
      "text/plain": [
       "          id  crop     Il_Adi  Ilce_Adi                  Bolge_Adi  \\\n",
       "0  204980733  None  ŞANLIURFA  HALİLİYE  Güneydoğu Anadolu Bölgesi   \n",
       "\n",
       "           Bolum_Adi    area PlaceName  projectID  P12_2019majority  \\\n",
       "0  Orta Fırat Bölümü  4.3844   Çanakçı          1              31.0   \n",
       "\n",
       "   P34_2019majority  P12_2020majority  P34_2020majority  \\\n",
       "0              23.0             111.0              18.0   \n",
       "\n",
       "                                            geometry  \n",
       "0  MULTIPOLYGON (((39.17457 37.12100, 39.17457 37...  "
      ]
     },
     "execution_count": 123,
     "metadata": {},
     "output_type": "execute_result"
    }
   ],
   "source": [
    "harran_field.head(1)"
   ]
  },
  {
   "cell_type": "code",
   "execution_count": 124,
   "metadata": {},
   "outputs": [],
   "source": [
    "from geocube.api.core import make_geocube\n",
    "import numpy as np\n",
    "import xarray"
   ]
  },
  {
   "cell_type": "code",
   "execution_count": 125,
   "metadata": {},
   "outputs": [],
   "source": [
    "harran_field_utm=harran_field.to_crs('EPSG:32637')"
   ]
  },
  {
   "cell_type": "code",
   "execution_count": 31,
   "metadata": {},
   "outputs": [],
   "source": [
    "from rioxarray import merge\n",
    "def calculate_zonal_ndvi(time_list,target_df,stac_items,vector_gpd):\n",
    "    ndvi_list=[]\n",
    "    for f in time_list:\n",
    "        tmp_df=target_df[target_df['datetime']==f]\n",
    "        tmp_items=satstac.ItemCollection(stac_items)\n",
    "        tmp_items.filter('sentinel:product_id',list(tmp_df['sentinel:product_id']))\n",
    "        subset_dask=download_subset_image(download_status=False,item_list=list(tmp_items),aoi=harran,band_list=['B02','B08'])\n",
    "        for index,img in enumerate(subset_dask):\n",
    "            ndvidirecty=direct_ndvi(subset_dask[index]['B02'],subset_dask[index]['B08'])\n",
    "            ndvidirecty.name='ndvi'\n",
    "            ndvi_list.append(ndvidirecty)\n",
    "    \n",
    "        ndvi = merge.merge_arrays(ndvi_list)\n",
    "        out_grid = make_geocube(vector_data=vector_gpd,\n",
    "                                measurements=[\"projectID\"],\n",
    "                                like=ndvi, # ensure the data are on the same grid\n",
    "                                #fill=np.nan\n",
    "                                )\n",
    "        out_grid[\"ndvi\"] = ndvi\n",
    "\n",
    "        grouped_ndvi = out_grid.drop(\"spatial_ref\").groupby(out_grid.projectID)\n",
    "        grid_mean = grouped_ndvi.mean().rename({\"ndvi\": f'ndviMean_{f}'})\n",
    "        zonal_stats = xarray.merge([grid_mean,])\n",
    "        last_df=zonal_stats.to_dataframe()\n",
    "        last_df.reset_index(inplace=True)\n",
    "        last_df.rename(columns={'ndvi_mean': f'ndviMean_{f}'}, inplace=True)\n",
    "        last_df.drop(columns=['band','spatial_ref'],inplace=True)\n",
    "    return last_df"
   ]
  },
  {
   "cell_type": "code",
   "execution_count": 128,
   "metadata": {},
   "outputs": [
    {
     "data": {
      "text/plain": [
       "array(['2020-07-21'], dtype=object)"
      ]
     },
     "execution_count": 128,
     "metadata": {},
     "output_type": "execute_result"
    }
   ],
   "source": [
    "ndvi_time_den=ndvi_time[20:21]\n",
    "ndvi_time_den"
   ]
  },
  {
   "cell_type": "code",
   "execution_count": 39,
   "metadata": {
    "collapsed": true,
    "jupyter": {
     "outputs_hidden": true
    }
   },
   "outputs": [
    {
     "ename": "KeyboardInterrupt",
     "evalue": "",
     "output_type": "error",
     "traceback": [
      "\u001b[1;31m---------------------------------------------------------------------------\u001b[0m",
      "\u001b[1;31mKeyboardInterrupt\u001b[0m                         Traceback (most recent call last)",
      "\u001b[1;32m<ipython-input-39-77b3b0f915f2>\u001b[0m in \u001b[0;36m<module>\u001b[1;34m()\u001b[0m\n\u001b[1;32m----> 1\u001b[1;33m \u001b[0mget_ipython\u001b[0m\u001b[1;33m(\u001b[0m\u001b[1;33m)\u001b[0m\u001b[1;33m.\u001b[0m\u001b[0mrun_cell_magic\u001b[0m\u001b[1;33m(\u001b[0m\u001b[1;34m'time'\u001b[0m\u001b[1;33m,\u001b[0m \u001b[1;34m''\u001b[0m\u001b[1;33m,\u001b[0m \u001b[1;34m'lst_df=calculate_zonal_ndvi(time_list=ndvi_time_den,target_df=sentinel_df,stac_items=items,vector_gpd=harran_field_utm)'\u001b[0m\u001b[1;33m)\u001b[0m\u001b[1;33m\u001b[0m\u001b[1;33m\u001b[0m\u001b[0m\n\u001b[0m",
      "\u001b[1;32mC:\\Users\\akif\\.conda\\envs\\geo\\lib\\site-packages\\IPython\\core\\interactiveshell.py\u001b[0m in \u001b[0;36mrun_cell_magic\u001b[1;34m(self, magic_name, line, cell)\u001b[0m\n\u001b[0;32m   2115\u001b[0m             \u001b[0mmagic_arg_s\u001b[0m \u001b[1;33m=\u001b[0m \u001b[0mself\u001b[0m\u001b[1;33m.\u001b[0m\u001b[0mvar_expand\u001b[0m\u001b[1;33m(\u001b[0m\u001b[0mline\u001b[0m\u001b[1;33m,\u001b[0m \u001b[0mstack_depth\u001b[0m\u001b[1;33m)\u001b[0m\u001b[1;33m\u001b[0m\u001b[1;33m\u001b[0m\u001b[0m\n\u001b[0;32m   2116\u001b[0m             \u001b[1;32mwith\u001b[0m \u001b[0mself\u001b[0m\u001b[1;33m.\u001b[0m\u001b[0mbuiltin_trap\u001b[0m\u001b[1;33m:\u001b[0m\u001b[1;33m\u001b[0m\u001b[1;33m\u001b[0m\u001b[0m\n\u001b[1;32m-> 2117\u001b[1;33m                 \u001b[0mresult\u001b[0m \u001b[1;33m=\u001b[0m \u001b[0mfn\u001b[0m\u001b[1;33m(\u001b[0m\u001b[0mmagic_arg_s\u001b[0m\u001b[1;33m,\u001b[0m \u001b[0mcell\u001b[0m\u001b[1;33m)\u001b[0m\u001b[1;33m\u001b[0m\u001b[1;33m\u001b[0m\u001b[0m\n\u001b[0m\u001b[0;32m   2118\u001b[0m             \u001b[1;32mreturn\u001b[0m \u001b[0mresult\u001b[0m\u001b[1;33m\u001b[0m\u001b[1;33m\u001b[0m\u001b[0m\n\u001b[0;32m   2119\u001b[0m \u001b[1;33m\u001b[0m\u001b[0m\n",
      "\u001b[1;32m<decorator-gen-54>\u001b[0m in \u001b[0;36mtime\u001b[1;34m(self, line, cell, local_ns)\u001b[0m\n",
      "\u001b[1;32mC:\\Users\\akif\\.conda\\envs\\geo\\lib\\site-packages\\IPython\\core\\magic.py\u001b[0m in \u001b[0;36m<lambda>\u001b[1;34m(f, *a, **k)\u001b[0m\n\u001b[0;32m    186\u001b[0m     \u001b[1;31m# but it's overkill for just that one bit of state.\u001b[0m\u001b[1;33m\u001b[0m\u001b[1;33m\u001b[0m\u001b[1;33m\u001b[0m\u001b[0m\n\u001b[0;32m    187\u001b[0m     \u001b[1;32mdef\u001b[0m \u001b[0mmagic_deco\u001b[0m\u001b[1;33m(\u001b[0m\u001b[0marg\u001b[0m\u001b[1;33m)\u001b[0m\u001b[1;33m:\u001b[0m\u001b[1;33m\u001b[0m\u001b[1;33m\u001b[0m\u001b[0m\n\u001b[1;32m--> 188\u001b[1;33m         \u001b[0mcall\u001b[0m \u001b[1;33m=\u001b[0m \u001b[1;32mlambda\u001b[0m \u001b[0mf\u001b[0m\u001b[1;33m,\u001b[0m \u001b[1;33m*\u001b[0m\u001b[0ma\u001b[0m\u001b[1;33m,\u001b[0m \u001b[1;33m**\u001b[0m\u001b[0mk\u001b[0m\u001b[1;33m:\u001b[0m \u001b[0mf\u001b[0m\u001b[1;33m(\u001b[0m\u001b[1;33m*\u001b[0m\u001b[0ma\u001b[0m\u001b[1;33m,\u001b[0m \u001b[1;33m**\u001b[0m\u001b[0mk\u001b[0m\u001b[1;33m)\u001b[0m\u001b[1;33m\u001b[0m\u001b[1;33m\u001b[0m\u001b[0m\n\u001b[0m\u001b[0;32m    189\u001b[0m \u001b[1;33m\u001b[0m\u001b[0m\n\u001b[0;32m    190\u001b[0m         \u001b[1;32mif\u001b[0m \u001b[0mcallable\u001b[0m\u001b[1;33m(\u001b[0m\u001b[0marg\u001b[0m\u001b[1;33m)\u001b[0m\u001b[1;33m:\u001b[0m\u001b[1;33m\u001b[0m\u001b[1;33m\u001b[0m\u001b[0m\n",
      "\u001b[1;32mC:\\Users\\akif\\.conda\\envs\\geo\\lib\\site-packages\\IPython\\core\\magics\\execution.py\u001b[0m in \u001b[0;36mtime\u001b[1;34m(self, line, cell, local_ns)\u001b[0m\n\u001b[0;32m   1191\u001b[0m         \u001b[1;32melse\u001b[0m\u001b[1;33m:\u001b[0m\u001b[1;33m\u001b[0m\u001b[1;33m\u001b[0m\u001b[0m\n\u001b[0;32m   1192\u001b[0m             \u001b[0mst\u001b[0m \u001b[1;33m=\u001b[0m \u001b[0mclock2\u001b[0m\u001b[1;33m(\u001b[0m\u001b[1;33m)\u001b[0m\u001b[1;33m\u001b[0m\u001b[1;33m\u001b[0m\u001b[0m\n\u001b[1;32m-> 1193\u001b[1;33m             \u001b[0mexec\u001b[0m\u001b[1;33m(\u001b[0m\u001b[0mcode\u001b[0m\u001b[1;33m,\u001b[0m \u001b[0mglob\u001b[0m\u001b[1;33m,\u001b[0m \u001b[0mlocal_ns\u001b[0m\u001b[1;33m)\u001b[0m\u001b[1;33m\u001b[0m\u001b[1;33m\u001b[0m\u001b[0m\n\u001b[0m\u001b[0;32m   1194\u001b[0m             \u001b[0mend\u001b[0m \u001b[1;33m=\u001b[0m \u001b[0mclock2\u001b[0m\u001b[1;33m(\u001b[0m\u001b[1;33m)\u001b[0m\u001b[1;33m\u001b[0m\u001b[1;33m\u001b[0m\u001b[0m\n\u001b[0;32m   1195\u001b[0m             \u001b[0mout\u001b[0m \u001b[1;33m=\u001b[0m \u001b[1;32mNone\u001b[0m\u001b[1;33m\u001b[0m\u001b[1;33m\u001b[0m\u001b[0m\n",
      "\u001b[1;32m<timed exec>\u001b[0m in \u001b[0;36m<module>\u001b[1;34m()\u001b[0m\n",
      "\u001b[1;32m<ipython-input-31-9acf51d40f43>\u001b[0m in \u001b[0;36mcalculate_zonal_ndvi\u001b[1;34m(time_list, target_df, stac_items, vector_gpd)\u001b[0m\n\u001b[0;32m     12\u001b[0m             \u001b[0mndvi_list\u001b[0m\u001b[1;33m.\u001b[0m\u001b[0mappend\u001b[0m\u001b[1;33m(\u001b[0m\u001b[0mndvidirecty\u001b[0m\u001b[1;33m)\u001b[0m\u001b[1;33m\u001b[0m\u001b[1;33m\u001b[0m\u001b[0m\n\u001b[0;32m     13\u001b[0m \u001b[1;33m\u001b[0m\u001b[0m\n\u001b[1;32m---> 14\u001b[1;33m         \u001b[0mndvi\u001b[0m \u001b[1;33m=\u001b[0m \u001b[0mmerge\u001b[0m\u001b[1;33m.\u001b[0m\u001b[0mmerge_arrays\u001b[0m\u001b[1;33m(\u001b[0m\u001b[0mndvi_list\u001b[0m\u001b[1;33m)\u001b[0m\u001b[1;33m\u001b[0m\u001b[1;33m\u001b[0m\u001b[0m\n\u001b[0m\u001b[0;32m     15\u001b[0m         out_grid = make_geocube(vector_data=vector_gpd,\n\u001b[0;32m     16\u001b[0m                                 \u001b[0mmeasurements\u001b[0m\u001b[1;33m=\u001b[0m\u001b[1;33m[\u001b[0m\u001b[1;34m\"projectID\"\u001b[0m\u001b[1;33m]\u001b[0m\u001b[1;33m,\u001b[0m\u001b[1;33m\u001b[0m\u001b[1;33m\u001b[0m\u001b[0m\n",
      "\u001b[1;32mC:\\Users\\akif\\.conda\\envs\\geo\\lib\\site-packages\\rioxarray\\merge.py\u001b[0m in \u001b[0;36mmerge_arrays\u001b[1;34m(dataarrays, bounds, res, nodata, precision, method, parse_coordinates)\u001b[0m\n\u001b[0;32m    108\u001b[0m     merged_data, merged_transform = _rio_merge(\n\u001b[0;32m    109\u001b[0m         \u001b[1;33m[\u001b[0m\u001b[0mRasterioDatasetDuck\u001b[0m\u001b[1;33m(\u001b[0m\u001b[0mdataarray\u001b[0m\u001b[1;33m)\u001b[0m \u001b[1;32mfor\u001b[0m \u001b[0mdataarray\u001b[0m \u001b[1;32min\u001b[0m \u001b[0mdataarrays\u001b[0m\u001b[1;33m]\u001b[0m\u001b[1;33m,\u001b[0m\u001b[1;33m\u001b[0m\u001b[1;33m\u001b[0m\u001b[0m\n\u001b[1;32m--> 110\u001b[1;33m         \u001b[1;33m**\u001b[0m\u001b[1;33m{\u001b[0m\u001b[0mkey\u001b[0m\u001b[1;33m:\u001b[0m \u001b[0mval\u001b[0m \u001b[1;32mfor\u001b[0m \u001b[0mkey\u001b[0m\u001b[1;33m,\u001b[0m \u001b[0mval\u001b[0m \u001b[1;32min\u001b[0m \u001b[0minput_kwargs\u001b[0m\u001b[1;33m.\u001b[0m\u001b[0mitems\u001b[0m\u001b[1;33m(\u001b[0m\u001b[1;33m)\u001b[0m \u001b[1;32mif\u001b[0m \u001b[0mval\u001b[0m \u001b[1;32mis\u001b[0m \u001b[1;32mnot\u001b[0m \u001b[1;32mNone\u001b[0m\u001b[1;33m}\u001b[0m\u001b[1;33m,\u001b[0m\u001b[1;33m\u001b[0m\u001b[1;33m\u001b[0m\u001b[0m\n\u001b[0m\u001b[0;32m    111\u001b[0m     )\n\u001b[0;32m    112\u001b[0m     \u001b[0mmerged_shape\u001b[0m \u001b[1;33m=\u001b[0m \u001b[0mmerged_data\u001b[0m\u001b[1;33m.\u001b[0m\u001b[0mshape\u001b[0m\u001b[1;33m\u001b[0m\u001b[1;33m\u001b[0m\u001b[0m\n",
      "\u001b[1;32mC:\\Users\\akif\\.conda\\envs\\geo\\lib\\site-packages\\rasterio\\merge.py\u001b[0m in \u001b[0;36mmerge\u001b[1;34m(datasets, bounds, res, nodata, dtype, precision, indexes, output_count, resampling, method)\u001b[0m\n\u001b[0;32m    277\u001b[0m                 \u001b[0mmasked\u001b[0m\u001b[1;33m=\u001b[0m\u001b[1;32mTrue\u001b[0m\u001b[1;33m,\u001b[0m\u001b[1;33m\u001b[0m\u001b[1;33m\u001b[0m\u001b[0m\n\u001b[0;32m    278\u001b[0m                 \u001b[0mindexes\u001b[0m\u001b[1;33m=\u001b[0m\u001b[0mindexes\u001b[0m\u001b[1;33m,\u001b[0m\u001b[1;33m\u001b[0m\u001b[1;33m\u001b[0m\u001b[0m\n\u001b[1;32m--> 279\u001b[1;33m                 \u001b[0mresampling\u001b[0m\u001b[1;33m=\u001b[0m\u001b[0mresampling\u001b[0m\u001b[1;33m,\u001b[0m\u001b[1;33m\u001b[0m\u001b[1;33m\u001b[0m\u001b[0m\n\u001b[0m\u001b[0;32m    280\u001b[0m             )\n\u001b[0;32m    281\u001b[0m \u001b[1;33m\u001b[0m\u001b[0m\n",
      "\u001b[1;32mC:\\Users\\akif\\.conda\\envs\\geo\\lib\\site-packages\\rioxarray\\merge.py\u001b[0m in \u001b[0;36mread\u001b[1;34m(self, window, out_shape, *args, **kwargs)\u001b[0m\n\u001b[0;32m     55\u001b[0m \u001b[1;33m\u001b[0m\u001b[0m\n\u001b[0;32m     56\u001b[0m         return numpy.ma.array(\n\u001b[1;32m---> 57\u001b[1;33m             \u001b[0mdata_window\u001b[0m\u001b[1;33m,\u001b[0m \u001b[0mmask\u001b[0m\u001b[1;33m=\u001b[0m\u001b[0mmask\u001b[0m\u001b[1;33m,\u001b[0m \u001b[0mfill_value\u001b[0m\u001b[1;33m=\u001b[0m\u001b[0mfill_value\u001b[0m\u001b[1;33m,\u001b[0m \u001b[0mdtype\u001b[0m\u001b[1;33m=\u001b[0m\u001b[0mself\u001b[0m\u001b[1;33m.\u001b[0m\u001b[0mdtypes\u001b[0m\u001b[1;33m[\u001b[0m\u001b[1;36m0\u001b[0m\u001b[1;33m]\u001b[0m\u001b[1;33m\u001b[0m\u001b[1;33m\u001b[0m\u001b[0m\n\u001b[0m\u001b[0;32m     58\u001b[0m         )\n\u001b[0;32m     59\u001b[0m \u001b[1;33m\u001b[0m\u001b[0m\n",
      "\u001b[1;32mC:\\Users\\akif\\.conda\\envs\\geo\\lib\\site-packages\\numpy\\ma\\core.py\u001b[0m in \u001b[0;36marray\u001b[1;34m(data, dtype, copy, order, mask, fill_value, keep_mask, hard_mask, shrink, subok, ndmin)\u001b[0m\n\u001b[0;32m   6560\u001b[0m                        \u001b[0msubok\u001b[0m\u001b[1;33m=\u001b[0m\u001b[0msubok\u001b[0m\u001b[1;33m,\u001b[0m \u001b[0mkeep_mask\u001b[0m\u001b[1;33m=\u001b[0m\u001b[0mkeep_mask\u001b[0m\u001b[1;33m,\u001b[0m\u001b[1;33m\u001b[0m\u001b[1;33m\u001b[0m\u001b[0m\n\u001b[0;32m   6561\u001b[0m                        \u001b[0mhard_mask\u001b[0m\u001b[1;33m=\u001b[0m\u001b[0mhard_mask\u001b[0m\u001b[1;33m,\u001b[0m \u001b[0mfill_value\u001b[0m\u001b[1;33m=\u001b[0m\u001b[0mfill_value\u001b[0m\u001b[1;33m,\u001b[0m\u001b[1;33m\u001b[0m\u001b[1;33m\u001b[0m\u001b[0m\n\u001b[1;32m-> 6562\u001b[1;33m                        ndmin=ndmin, shrink=shrink, order=order)\n\u001b[0m\u001b[0;32m   6563\u001b[0m \u001b[0marray\u001b[0m\u001b[1;33m.\u001b[0m\u001b[0m__doc__\u001b[0m \u001b[1;33m=\u001b[0m \u001b[0mmasked_array\u001b[0m\u001b[1;33m.\u001b[0m\u001b[0m__doc__\u001b[0m\u001b[1;33m\u001b[0m\u001b[1;33m\u001b[0m\u001b[0m\n\u001b[0;32m   6564\u001b[0m \u001b[1;33m\u001b[0m\u001b[0m\n",
      "\u001b[1;32mC:\\Users\\akif\\.conda\\envs\\geo\\lib\\site-packages\\numpy\\ma\\core.py\u001b[0m in \u001b[0;36m__new__\u001b[1;34m(cls, data, mask, dtype, copy, subok, ndmin, fill_value, keep_mask, hard_mask, shrink, order, **options)\u001b[0m\n\u001b[0;32m   2830\u001b[0m         \u001b[1;31m# Process data.\u001b[0m\u001b[1;33m\u001b[0m\u001b[1;33m\u001b[0m\u001b[1;33m\u001b[0m\u001b[0m\n\u001b[0;32m   2831\u001b[0m         _data = np.array(data, dtype=dtype, copy=copy,\n\u001b[1;32m-> 2832\u001b[1;33m                          order=order, subok=True, ndmin=ndmin)\n\u001b[0m\u001b[0;32m   2833\u001b[0m         \u001b[0m_baseclass\u001b[0m \u001b[1;33m=\u001b[0m \u001b[0mgetattr\u001b[0m\u001b[1;33m(\u001b[0m\u001b[0mdata\u001b[0m\u001b[1;33m,\u001b[0m \u001b[1;34m'_baseclass'\u001b[0m\u001b[1;33m,\u001b[0m \u001b[0mtype\u001b[0m\u001b[1;33m(\u001b[0m\u001b[0m_data\u001b[0m\u001b[1;33m)\u001b[0m\u001b[1;33m)\u001b[0m\u001b[1;33m\u001b[0m\u001b[1;33m\u001b[0m\u001b[0m\n\u001b[0;32m   2834\u001b[0m         \u001b[1;31m# Check that we're not erasing the mask.\u001b[0m\u001b[1;33m\u001b[0m\u001b[1;33m\u001b[0m\u001b[1;33m\u001b[0m\u001b[0m\n",
      "\u001b[1;32mC:\\Users\\akif\\.conda\\envs\\geo\\lib\\site-packages\\xarray\\core\\common.py\u001b[0m in \u001b[0;36m__array__\u001b[1;34m(self, dtype)\u001b[0m\n\u001b[0;32m    129\u001b[0m \u001b[1;33m\u001b[0m\u001b[0m\n\u001b[0;32m    130\u001b[0m     \u001b[1;32mdef\u001b[0m \u001b[0m__array__\u001b[0m\u001b[1;33m(\u001b[0m\u001b[0mself\u001b[0m\u001b[1;33m:\u001b[0m \u001b[0mAny\u001b[0m\u001b[1;33m,\u001b[0m \u001b[0mdtype\u001b[0m\u001b[1;33m:\u001b[0m \u001b[0mDTypeLike\u001b[0m \u001b[1;33m=\u001b[0m \u001b[1;32mNone\u001b[0m\u001b[1;33m)\u001b[0m \u001b[1;33m->\u001b[0m \u001b[0mnp\u001b[0m\u001b[1;33m.\u001b[0m\u001b[0mndarray\u001b[0m\u001b[1;33m:\u001b[0m\u001b[1;33m\u001b[0m\u001b[1;33m\u001b[0m\u001b[0m\n\u001b[1;32m--> 131\u001b[1;33m         \u001b[1;32mreturn\u001b[0m \u001b[0mnp\u001b[0m\u001b[1;33m.\u001b[0m\u001b[0masarray\u001b[0m\u001b[1;33m(\u001b[0m\u001b[0mself\u001b[0m\u001b[1;33m.\u001b[0m\u001b[0mvalues\u001b[0m\u001b[1;33m,\u001b[0m \u001b[0mdtype\u001b[0m\u001b[1;33m=\u001b[0m\u001b[0mdtype\u001b[0m\u001b[1;33m)\u001b[0m\u001b[1;33m\u001b[0m\u001b[1;33m\u001b[0m\u001b[0m\n\u001b[0m\u001b[0;32m    132\u001b[0m \u001b[1;33m\u001b[0m\u001b[0m\n\u001b[0;32m    133\u001b[0m     \u001b[1;32mdef\u001b[0m \u001b[0m__repr__\u001b[0m\u001b[1;33m(\u001b[0m\u001b[0mself\u001b[0m\u001b[1;33m)\u001b[0m \u001b[1;33m->\u001b[0m \u001b[0mstr\u001b[0m\u001b[1;33m:\u001b[0m\u001b[1;33m\u001b[0m\u001b[1;33m\u001b[0m\u001b[0m\n",
      "\u001b[1;32mC:\\Users\\akif\\.conda\\envs\\geo\\lib\\site-packages\\xarray\\core\\dataarray.py\u001b[0m in \u001b[0;36mvalues\u001b[1;34m(self)\u001b[0m\n\u001b[0;32m    626\u001b[0m     \u001b[1;32mdef\u001b[0m \u001b[0mvalues\u001b[0m\u001b[1;33m(\u001b[0m\u001b[0mself\u001b[0m\u001b[1;33m)\u001b[0m \u001b[1;33m->\u001b[0m \u001b[0mnp\u001b[0m\u001b[1;33m.\u001b[0m\u001b[0mndarray\u001b[0m\u001b[1;33m:\u001b[0m\u001b[1;33m\u001b[0m\u001b[1;33m\u001b[0m\u001b[0m\n\u001b[0;32m    627\u001b[0m         \u001b[1;34m\"\"\"The array's data as a numpy.ndarray\"\"\"\u001b[0m\u001b[1;33m\u001b[0m\u001b[1;33m\u001b[0m\u001b[0m\n\u001b[1;32m--> 628\u001b[1;33m         \u001b[1;32mreturn\u001b[0m \u001b[0mself\u001b[0m\u001b[1;33m.\u001b[0m\u001b[0mvariable\u001b[0m\u001b[1;33m.\u001b[0m\u001b[0mvalues\u001b[0m\u001b[1;33m\u001b[0m\u001b[1;33m\u001b[0m\u001b[0m\n\u001b[0m\u001b[0;32m    629\u001b[0m \u001b[1;33m\u001b[0m\u001b[0m\n\u001b[0;32m    630\u001b[0m     \u001b[1;33m@\u001b[0m\u001b[0mvalues\u001b[0m\u001b[1;33m.\u001b[0m\u001b[0msetter\u001b[0m\u001b[1;33m\u001b[0m\u001b[1;33m\u001b[0m\u001b[0m\n",
      "\u001b[1;32mC:\\Users\\akif\\.conda\\envs\\geo\\lib\\site-packages\\xarray\\core\\variable.py\u001b[0m in \u001b[0;36mvalues\u001b[1;34m(self)\u001b[0m\n\u001b[0;32m    510\u001b[0m     \u001b[1;32mdef\u001b[0m \u001b[0mvalues\u001b[0m\u001b[1;33m(\u001b[0m\u001b[0mself\u001b[0m\u001b[1;33m)\u001b[0m\u001b[1;33m:\u001b[0m\u001b[1;33m\u001b[0m\u001b[1;33m\u001b[0m\u001b[0m\n\u001b[0;32m    511\u001b[0m         \u001b[1;34m\"\"\"The variable's data as a numpy.ndarray\"\"\"\u001b[0m\u001b[1;33m\u001b[0m\u001b[1;33m\u001b[0m\u001b[0m\n\u001b[1;32m--> 512\u001b[1;33m         \u001b[1;32mreturn\u001b[0m \u001b[0m_as_array_or_item\u001b[0m\u001b[1;33m(\u001b[0m\u001b[0mself\u001b[0m\u001b[1;33m.\u001b[0m\u001b[0m_data\u001b[0m\u001b[1;33m)\u001b[0m\u001b[1;33m\u001b[0m\u001b[1;33m\u001b[0m\u001b[0m\n\u001b[0m\u001b[0;32m    513\u001b[0m \u001b[1;33m\u001b[0m\u001b[0m\n\u001b[0;32m    514\u001b[0m     \u001b[1;33m@\u001b[0m\u001b[0mvalues\u001b[0m\u001b[1;33m.\u001b[0m\u001b[0msetter\u001b[0m\u001b[1;33m\u001b[0m\u001b[1;33m\u001b[0m\u001b[0m\n",
      "\u001b[1;32mC:\\Users\\akif\\.conda\\envs\\geo\\lib\\site-packages\\xarray\\core\\variable.py\u001b[0m in \u001b[0;36m_as_array_or_item\u001b[1;34m(data)\u001b[0m\n\u001b[0;32m    272\u001b[0m         \u001b[0mdata\u001b[0m \u001b[1;33m=\u001b[0m \u001b[0mdata\u001b[0m\u001b[1;33m.\u001b[0m\u001b[0mget\u001b[0m\u001b[1;33m(\u001b[0m\u001b[1;33m)\u001b[0m\u001b[1;33m\u001b[0m\u001b[1;33m\u001b[0m\u001b[0m\n\u001b[0;32m    273\u001b[0m     \u001b[1;32melse\u001b[0m\u001b[1;33m:\u001b[0m\u001b[1;33m\u001b[0m\u001b[1;33m\u001b[0m\u001b[0m\n\u001b[1;32m--> 274\u001b[1;33m         \u001b[0mdata\u001b[0m \u001b[1;33m=\u001b[0m \u001b[0mnp\u001b[0m\u001b[1;33m.\u001b[0m\u001b[0masarray\u001b[0m\u001b[1;33m(\u001b[0m\u001b[0mdata\u001b[0m\u001b[1;33m)\u001b[0m\u001b[1;33m\u001b[0m\u001b[1;33m\u001b[0m\u001b[0m\n\u001b[0m\u001b[0;32m    275\u001b[0m     \u001b[1;32mif\u001b[0m \u001b[0mdata\u001b[0m\u001b[1;33m.\u001b[0m\u001b[0mndim\u001b[0m \u001b[1;33m==\u001b[0m \u001b[1;36m0\u001b[0m\u001b[1;33m:\u001b[0m\u001b[1;33m\u001b[0m\u001b[1;33m\u001b[0m\u001b[0m\n\u001b[0;32m    276\u001b[0m         \u001b[1;32mif\u001b[0m \u001b[0mdata\u001b[0m\u001b[1;33m.\u001b[0m\u001b[0mdtype\u001b[0m\u001b[1;33m.\u001b[0m\u001b[0mkind\u001b[0m \u001b[1;33m==\u001b[0m \u001b[1;34m\"M\"\u001b[0m\u001b[1;33m:\u001b[0m\u001b[1;33m\u001b[0m\u001b[1;33m\u001b[0m\u001b[0m\n",
      "\u001b[1;32mC:\\Users\\akif\\.conda\\envs\\geo\\lib\\site-packages\\numpy\\core\\_asarray.py\u001b[0m in \u001b[0;36masarray\u001b[1;34m(a, dtype, order)\u001b[0m\n\u001b[0;32m     81\u001b[0m \u001b[1;33m\u001b[0m\u001b[0m\n\u001b[0;32m     82\u001b[0m     \"\"\"\n\u001b[1;32m---> 83\u001b[1;33m     \u001b[1;32mreturn\u001b[0m \u001b[0marray\u001b[0m\u001b[1;33m(\u001b[0m\u001b[0ma\u001b[0m\u001b[1;33m,\u001b[0m \u001b[0mdtype\u001b[0m\u001b[1;33m,\u001b[0m \u001b[0mcopy\u001b[0m\u001b[1;33m=\u001b[0m\u001b[1;32mFalse\u001b[0m\u001b[1;33m,\u001b[0m \u001b[0morder\u001b[0m\u001b[1;33m=\u001b[0m\u001b[0morder\u001b[0m\u001b[1;33m)\u001b[0m\u001b[1;33m\u001b[0m\u001b[1;33m\u001b[0m\u001b[0m\n\u001b[0m\u001b[0;32m     84\u001b[0m \u001b[1;33m\u001b[0m\u001b[0m\n\u001b[0;32m     85\u001b[0m \u001b[1;33m\u001b[0m\u001b[0m\n",
      "\u001b[1;32mC:\\Users\\akif\\.conda\\envs\\geo\\lib\\site-packages\\dask\\array\\core.py\u001b[0m in \u001b[0;36m__array__\u001b[1;34m(self, dtype, **kwargs)\u001b[0m\n\u001b[0;32m   1414\u001b[0m \u001b[1;33m\u001b[0m\u001b[0m\n\u001b[0;32m   1415\u001b[0m     \u001b[1;32mdef\u001b[0m \u001b[0m__array__\u001b[0m\u001b[1;33m(\u001b[0m\u001b[0mself\u001b[0m\u001b[1;33m,\u001b[0m \u001b[0mdtype\u001b[0m\u001b[1;33m=\u001b[0m\u001b[1;32mNone\u001b[0m\u001b[1;33m,\u001b[0m \u001b[1;33m**\u001b[0m\u001b[0mkwargs\u001b[0m\u001b[1;33m)\u001b[0m\u001b[1;33m:\u001b[0m\u001b[1;33m\u001b[0m\u001b[1;33m\u001b[0m\u001b[0m\n\u001b[1;32m-> 1416\u001b[1;33m         \u001b[0mx\u001b[0m \u001b[1;33m=\u001b[0m \u001b[0mself\u001b[0m\u001b[1;33m.\u001b[0m\u001b[0mcompute\u001b[0m\u001b[1;33m(\u001b[0m\u001b[1;33m)\u001b[0m\u001b[1;33m\u001b[0m\u001b[1;33m\u001b[0m\u001b[0m\n\u001b[0m\u001b[0;32m   1417\u001b[0m         \u001b[1;32mif\u001b[0m \u001b[0mdtype\u001b[0m \u001b[1;32mand\u001b[0m \u001b[0mx\u001b[0m\u001b[1;33m.\u001b[0m\u001b[0mdtype\u001b[0m \u001b[1;33m!=\u001b[0m \u001b[0mdtype\u001b[0m\u001b[1;33m:\u001b[0m\u001b[1;33m\u001b[0m\u001b[1;33m\u001b[0m\u001b[0m\n\u001b[0;32m   1418\u001b[0m             \u001b[0mx\u001b[0m \u001b[1;33m=\u001b[0m \u001b[0mx\u001b[0m\u001b[1;33m.\u001b[0m\u001b[0mastype\u001b[0m\u001b[1;33m(\u001b[0m\u001b[0mdtype\u001b[0m\u001b[1;33m)\u001b[0m\u001b[1;33m\u001b[0m\u001b[1;33m\u001b[0m\u001b[0m\n",
      "\u001b[1;32mC:\\Users\\akif\\.conda\\envs\\geo\\lib\\site-packages\\dask\\base.py\u001b[0m in \u001b[0;36mcompute\u001b[1;34m(self, **kwargs)\u001b[0m\n\u001b[0;32m    277\u001b[0m         \u001b[0mdask\u001b[0m\u001b[1;33m.\u001b[0m\u001b[0mbase\u001b[0m\u001b[1;33m.\u001b[0m\u001b[0mcompute\u001b[0m\u001b[1;33m\u001b[0m\u001b[1;33m\u001b[0m\u001b[0m\n\u001b[0;32m    278\u001b[0m         \"\"\"\n\u001b[1;32m--> 279\u001b[1;33m         \u001b[1;33m(\u001b[0m\u001b[0mresult\u001b[0m\u001b[1;33m,\u001b[0m\u001b[1;33m)\u001b[0m \u001b[1;33m=\u001b[0m \u001b[0mcompute\u001b[0m\u001b[1;33m(\u001b[0m\u001b[0mself\u001b[0m\u001b[1;33m,\u001b[0m \u001b[0mtraverse\u001b[0m\u001b[1;33m=\u001b[0m\u001b[1;32mFalse\u001b[0m\u001b[1;33m,\u001b[0m \u001b[1;33m**\u001b[0m\u001b[0mkwargs\u001b[0m\u001b[1;33m)\u001b[0m\u001b[1;33m\u001b[0m\u001b[1;33m\u001b[0m\u001b[0m\n\u001b[0m\u001b[0;32m    280\u001b[0m         \u001b[1;32mreturn\u001b[0m \u001b[0mresult\u001b[0m\u001b[1;33m\u001b[0m\u001b[1;33m\u001b[0m\u001b[0m\n\u001b[0;32m    281\u001b[0m \u001b[1;33m\u001b[0m\u001b[0m\n",
      "\u001b[1;32mC:\\Users\\akif\\.conda\\envs\\geo\\lib\\site-packages\\dask\\base.py\u001b[0m in \u001b[0;36mcompute\u001b[1;34m(*args, **kwargs)\u001b[0m\n\u001b[0;32m    565\u001b[0m         \u001b[0mpostcomputes\u001b[0m\u001b[1;33m.\u001b[0m\u001b[0mappend\u001b[0m\u001b[1;33m(\u001b[0m\u001b[0mx\u001b[0m\u001b[1;33m.\u001b[0m\u001b[0m__dask_postcompute__\u001b[0m\u001b[1;33m(\u001b[0m\u001b[1;33m)\u001b[0m\u001b[1;33m)\u001b[0m\u001b[1;33m\u001b[0m\u001b[1;33m\u001b[0m\u001b[0m\n\u001b[0;32m    566\u001b[0m \u001b[1;33m\u001b[0m\u001b[0m\n\u001b[1;32m--> 567\u001b[1;33m     \u001b[0mresults\u001b[0m \u001b[1;33m=\u001b[0m \u001b[0mschedule\u001b[0m\u001b[1;33m(\u001b[0m\u001b[0mdsk\u001b[0m\u001b[1;33m,\u001b[0m \u001b[0mkeys\u001b[0m\u001b[1;33m,\u001b[0m \u001b[1;33m**\u001b[0m\u001b[0mkwargs\u001b[0m\u001b[1;33m)\u001b[0m\u001b[1;33m\u001b[0m\u001b[1;33m\u001b[0m\u001b[0m\n\u001b[0m\u001b[0;32m    568\u001b[0m     \u001b[1;32mreturn\u001b[0m \u001b[0mrepack\u001b[0m\u001b[1;33m(\u001b[0m\u001b[1;33m[\u001b[0m\u001b[0mf\u001b[0m\u001b[1;33m(\u001b[0m\u001b[0mr\u001b[0m\u001b[1;33m,\u001b[0m \u001b[1;33m*\u001b[0m\u001b[0ma\u001b[0m\u001b[1;33m)\u001b[0m \u001b[1;32mfor\u001b[0m \u001b[0mr\u001b[0m\u001b[1;33m,\u001b[0m \u001b[1;33m(\u001b[0m\u001b[0mf\u001b[0m\u001b[1;33m,\u001b[0m \u001b[0ma\u001b[0m\u001b[1;33m)\u001b[0m \u001b[1;32min\u001b[0m \u001b[0mzip\u001b[0m\u001b[1;33m(\u001b[0m\u001b[0mresults\u001b[0m\u001b[1;33m,\u001b[0m \u001b[0mpostcomputes\u001b[0m\u001b[1;33m)\u001b[0m\u001b[1;33m]\u001b[0m\u001b[1;33m)\u001b[0m\u001b[1;33m\u001b[0m\u001b[1;33m\u001b[0m\u001b[0m\n\u001b[0;32m    569\u001b[0m \u001b[1;33m\u001b[0m\u001b[0m\n",
      "\u001b[1;32mC:\\Users\\akif\\.conda\\envs\\geo\\lib\\site-packages\\dask\\threaded.py\u001b[0m in \u001b[0;36mget\u001b[1;34m(dsk, result, cache, num_workers, pool, **kwargs)\u001b[0m\n\u001b[0;32m     82\u001b[0m         \u001b[0mget_id\u001b[0m\u001b[1;33m=\u001b[0m\u001b[0m_thread_get_id\u001b[0m\u001b[1;33m,\u001b[0m\u001b[1;33m\u001b[0m\u001b[1;33m\u001b[0m\u001b[0m\n\u001b[0;32m     83\u001b[0m         \u001b[0mpack_exception\u001b[0m\u001b[1;33m=\u001b[0m\u001b[0mpack_exception\u001b[0m\u001b[1;33m,\u001b[0m\u001b[1;33m\u001b[0m\u001b[1;33m\u001b[0m\u001b[0m\n\u001b[1;32m---> 84\u001b[1;33m         \u001b[1;33m**\u001b[0m\u001b[0mkwargs\u001b[0m\u001b[1;33m\u001b[0m\u001b[1;33m\u001b[0m\u001b[0m\n\u001b[0m\u001b[0;32m     85\u001b[0m     )\n\u001b[0;32m     86\u001b[0m \u001b[1;33m\u001b[0m\u001b[0m\n",
      "\u001b[1;32mC:\\Users\\akif\\.conda\\envs\\geo\\lib\\site-packages\\dask\\local.py\u001b[0m in \u001b[0;36mget_async\u001b[1;34m(apply_async, num_workers, dsk, result, cache, get_id, rerun_exceptions_locally, pack_exception, raise_exception, callbacks, dumps, loads, **kwargs)\u001b[0m\n\u001b[0;32m    473\u001b[0m             \u001b[1;31m# Main loop, wait on tasks to finish, insert new ones\u001b[0m\u001b[1;33m\u001b[0m\u001b[1;33m\u001b[0m\u001b[1;33m\u001b[0m\u001b[0m\n\u001b[0;32m    474\u001b[0m             \u001b[1;32mwhile\u001b[0m \u001b[0mstate\u001b[0m\u001b[1;33m[\u001b[0m\u001b[1;34m\"waiting\"\u001b[0m\u001b[1;33m]\u001b[0m \u001b[1;32mor\u001b[0m \u001b[0mstate\u001b[0m\u001b[1;33m[\u001b[0m\u001b[1;34m\"ready\"\u001b[0m\u001b[1;33m]\u001b[0m \u001b[1;32mor\u001b[0m \u001b[0mstate\u001b[0m\u001b[1;33m[\u001b[0m\u001b[1;34m\"running\"\u001b[0m\u001b[1;33m]\u001b[0m\u001b[1;33m:\u001b[0m\u001b[1;33m\u001b[0m\u001b[1;33m\u001b[0m\u001b[0m\n\u001b[1;32m--> 475\u001b[1;33m                 \u001b[0mkey\u001b[0m\u001b[1;33m,\u001b[0m \u001b[0mres_info\u001b[0m\u001b[1;33m,\u001b[0m \u001b[0mfailed\u001b[0m \u001b[1;33m=\u001b[0m \u001b[0mqueue_get\u001b[0m\u001b[1;33m(\u001b[0m\u001b[0mqueue\u001b[0m\u001b[1;33m)\u001b[0m\u001b[1;33m\u001b[0m\u001b[1;33m\u001b[0m\u001b[0m\n\u001b[0m\u001b[0;32m    476\u001b[0m                 \u001b[1;32mif\u001b[0m \u001b[0mfailed\u001b[0m\u001b[1;33m:\u001b[0m\u001b[1;33m\u001b[0m\u001b[1;33m\u001b[0m\u001b[0m\n\u001b[0;32m    477\u001b[0m                     \u001b[0mexc\u001b[0m\u001b[1;33m,\u001b[0m \u001b[0mtb\u001b[0m \u001b[1;33m=\u001b[0m \u001b[0mloads\u001b[0m\u001b[1;33m(\u001b[0m\u001b[0mres_info\u001b[0m\u001b[1;33m)\u001b[0m\u001b[1;33m\u001b[0m\u001b[1;33m\u001b[0m\u001b[0m\n",
      "\u001b[1;32mC:\\Users\\akif\\.conda\\envs\\geo\\lib\\site-packages\\dask\\local.py\u001b[0m in \u001b[0;36mqueue_get\u001b[1;34m(q)\u001b[0m\n\u001b[0;32m    123\u001b[0m         \u001b[1;32mwhile\u001b[0m \u001b[1;32mTrue\u001b[0m\u001b[1;33m:\u001b[0m\u001b[1;33m\u001b[0m\u001b[1;33m\u001b[0m\u001b[0m\n\u001b[0;32m    124\u001b[0m             \u001b[1;32mtry\u001b[0m\u001b[1;33m:\u001b[0m\u001b[1;33m\u001b[0m\u001b[1;33m\u001b[0m\u001b[0m\n\u001b[1;32m--> 125\u001b[1;33m                 \u001b[1;32mreturn\u001b[0m \u001b[0mq\u001b[0m\u001b[1;33m.\u001b[0m\u001b[0mget\u001b[0m\u001b[1;33m(\u001b[0m\u001b[0mblock\u001b[0m\u001b[1;33m=\u001b[0m\u001b[1;32mTrue\u001b[0m\u001b[1;33m,\u001b[0m \u001b[0mtimeout\u001b[0m\u001b[1;33m=\u001b[0m\u001b[1;36m0.1\u001b[0m\u001b[1;33m)\u001b[0m\u001b[1;33m\u001b[0m\u001b[1;33m\u001b[0m\u001b[0m\n\u001b[0m\u001b[0;32m    126\u001b[0m             \u001b[1;32mexcept\u001b[0m \u001b[0mEmpty\u001b[0m\u001b[1;33m:\u001b[0m\u001b[1;33m\u001b[0m\u001b[1;33m\u001b[0m\u001b[0m\n\u001b[0;32m    127\u001b[0m                 \u001b[1;32mpass\u001b[0m\u001b[1;33m\u001b[0m\u001b[1;33m\u001b[0m\u001b[0m\n",
      "\u001b[1;32mC:\\Users\\akif\\.conda\\envs\\geo\\lib\\queue.py\u001b[0m in \u001b[0;36mget\u001b[1;34m(self, block, timeout)\u001b[0m\n\u001b[0;32m    177\u001b[0m                     \u001b[1;32mif\u001b[0m \u001b[0mremaining\u001b[0m \u001b[1;33m<=\u001b[0m \u001b[1;36m0.0\u001b[0m\u001b[1;33m:\u001b[0m\u001b[1;33m\u001b[0m\u001b[1;33m\u001b[0m\u001b[0m\n\u001b[0;32m    178\u001b[0m                         \u001b[1;32mraise\u001b[0m \u001b[0mEmpty\u001b[0m\u001b[1;33m\u001b[0m\u001b[1;33m\u001b[0m\u001b[0m\n\u001b[1;32m--> 179\u001b[1;33m                     \u001b[0mself\u001b[0m\u001b[1;33m.\u001b[0m\u001b[0mnot_empty\u001b[0m\u001b[1;33m.\u001b[0m\u001b[0mwait\u001b[0m\u001b[1;33m(\u001b[0m\u001b[0mremaining\u001b[0m\u001b[1;33m)\u001b[0m\u001b[1;33m\u001b[0m\u001b[1;33m\u001b[0m\u001b[0m\n\u001b[0m\u001b[0;32m    180\u001b[0m             \u001b[0mitem\u001b[0m \u001b[1;33m=\u001b[0m \u001b[0mself\u001b[0m\u001b[1;33m.\u001b[0m\u001b[0m_get\u001b[0m\u001b[1;33m(\u001b[0m\u001b[1;33m)\u001b[0m\u001b[1;33m\u001b[0m\u001b[1;33m\u001b[0m\u001b[0m\n\u001b[0;32m    181\u001b[0m             \u001b[0mself\u001b[0m\u001b[1;33m.\u001b[0m\u001b[0mnot_full\u001b[0m\u001b[1;33m.\u001b[0m\u001b[0mnotify\u001b[0m\u001b[1;33m(\u001b[0m\u001b[1;33m)\u001b[0m\u001b[1;33m\u001b[0m\u001b[1;33m\u001b[0m\u001b[0m\n",
      "\u001b[1;32mC:\\Users\\akif\\.conda\\envs\\geo\\lib\\threading.py\u001b[0m in \u001b[0;36mwait\u001b[1;34m(self, timeout)\u001b[0m\n\u001b[0;32m    298\u001b[0m             \u001b[1;32melse\u001b[0m\u001b[1;33m:\u001b[0m\u001b[1;33m\u001b[0m\u001b[1;33m\u001b[0m\u001b[0m\n\u001b[0;32m    299\u001b[0m                 \u001b[1;32mif\u001b[0m \u001b[0mtimeout\u001b[0m \u001b[1;33m>\u001b[0m \u001b[1;36m0\u001b[0m\u001b[1;33m:\u001b[0m\u001b[1;33m\u001b[0m\u001b[1;33m\u001b[0m\u001b[0m\n\u001b[1;32m--> 300\u001b[1;33m                     \u001b[0mgotit\u001b[0m \u001b[1;33m=\u001b[0m \u001b[0mwaiter\u001b[0m\u001b[1;33m.\u001b[0m\u001b[0macquire\u001b[0m\u001b[1;33m(\u001b[0m\u001b[1;32mTrue\u001b[0m\u001b[1;33m,\u001b[0m \u001b[0mtimeout\u001b[0m\u001b[1;33m)\u001b[0m\u001b[1;33m\u001b[0m\u001b[1;33m\u001b[0m\u001b[0m\n\u001b[0m\u001b[0;32m    301\u001b[0m                 \u001b[1;32melse\u001b[0m\u001b[1;33m:\u001b[0m\u001b[1;33m\u001b[0m\u001b[1;33m\u001b[0m\u001b[0m\n\u001b[0;32m    302\u001b[0m                     \u001b[0mgotit\u001b[0m \u001b[1;33m=\u001b[0m \u001b[0mwaiter\u001b[0m\u001b[1;33m.\u001b[0m\u001b[0macquire\u001b[0m\u001b[1;33m(\u001b[0m\u001b[1;32mFalse\u001b[0m\u001b[1;33m)\u001b[0m\u001b[1;33m\u001b[0m\u001b[1;33m\u001b[0m\u001b[0m\n",
      "\u001b[1;31mKeyboardInterrupt\u001b[0m: "
     ]
    }
   ],
   "source": [
    "%%time\n",
    "lst_df=calculate_zonal_ndvi(time_list=ndvi_time_den,target_df=sentinel_df,stac_items=items,vector_gpd=harran_field_utm)"
   ]
  },
  {
   "cell_type": "code",
   "execution_count": 35,
   "metadata": {},
   "outputs": [
    {
     "data": {
      "text/plain": [
       "34914"
      ]
     },
     "execution_count": 35,
     "metadata": {},
     "output_type": "execute_result"
    }
   ],
   "source": [
    "len(lst_df)"
   ]
  },
  {
   "cell_type": "code",
   "execution_count": 42,
   "metadata": {},
   "outputs": [],
   "source": [
    "err_list=list(sentinel_df[sentinel_df['datetime']=='2020-08-05']['sentinel:product_id'])"
   ]
  },
  {
   "cell_type": "code",
   "execution_count": 44,
   "metadata": {},
   "outputs": [],
   "source": [
    "tmp_items=satstac.ItemCollection(items)\n",
    "tmp_items.filter('sentinel:product_id',err_list)"
   ]
  },
  {
   "cell_type": "code",
   "execution_count": 50,
   "metadata": {},
   "outputs": [
    {
     "data": {
      "text/plain": [
       "'https://sentinel-cogs.s3.us-west-2.amazonaws.com/sentinel-s2-l2a-cogs/37/S/DA/2020/8/S2B_37SDA_20200805_0_L2A/B02.tif'"
      ]
     },
     "execution_count": 50,
     "metadata": {},
     "output_type": "execute_result"
    }
   ],
   "source": [
    "tmp_items[0].assets['B02']['href']"
   ]
  },
  {
   "cell_type": "code",
   "execution_count": null,
   "metadata": {},
   "outputs": [],
   "source": [
    "out_grid = make_geocube(\n",
    "    vector_data=harran_field_utm,\n",
    "    measurements=[\"projectID\"],\n",
    "    like=ndvidirecty, # ensure the data are on the same grid\n",
    "    #fill=np.nan\n",
    ")\n",
    "out_grid[\"ndvi\"] = ndvidirecty\n"
   ]
  },
  {
   "cell_type": "code",
   "execution_count": null,
   "metadata": {},
   "outputs": [],
   "source": [
    "out_grid = make_geocube(\n",
    "    vector_data=harran_field_utm,\n",
    "    measurements=[\"projectID\"],\n",
    "    like=ndvidirecty, # ensure the data are on the same grid\n",
    "    #fill=np.nan\n",
    ")"
   ]
  },
  {
   "cell_type": "code",
   "execution_count": null,
   "metadata": {},
   "outputs": [],
   "source": [
    "out_grid[\"ndvi\"] = ndvidirecty\n",
    "out_grid"
   ]
  },
  {
   "cell_type": "code",
   "execution_count": null,
   "metadata": {},
   "outputs": [],
   "source": [
    "out_grid.ndvi.rio.to_raster('ndvifromgrid.tif')"
   ]
  },
  {
   "cell_type": "code",
   "execution_count": null,
   "metadata": {},
   "outputs": [],
   "source": [
    "grouped_ndvi = out_grid.drop(\"spatial_ref\").groupby(out_grid.projectID)\n",
    "grid_mean = grouped_ndvi.mean().rename({\"ndvi\": \"ndvi_mean\"})"
   ]
  },
  {
   "cell_type": "code",
   "execution_count": null,
   "metadata": {},
   "outputs": [],
   "source": [
    "zonal_stats = xarray.merge([grid_mean,])\n",
    "#zonal_stats.to_dataframe()"
   ]
  },
  {
   "cell_type": "code",
   "execution_count": null,
   "metadata": {},
   "outputs": [],
   "source": [
    "last_df=zonal_stats.to_dataframe()"
   ]
  },
  {
   "cell_type": "code",
   "execution_count": null,
   "metadata": {},
   "outputs": [],
   "source": [
    "last_df.reset_index(inplace=True)\n",
    "last_df.rename(columns={'ndvi_mean': f'ndviMean_{d}'}, inplace=True)\n",
    "last_df.drop(columns=['band','spatial_ref'],inplace=True)\n",
    "fin=pd.DataFrame({'projectID':[],})\n",
    "fin=fin.merge(dene,how='outer',on='projectID')\n"
   ]
  },
  {
   "cell_type": "code",
   "execution_count": null,
   "metadata": {},
   "outputs": [],
   "source": [
    "dene=last_df.iloc[0:10]"
   ]
  },
  {
   "cell_type": "code",
   "execution_count": null,
   "metadata": {},
   "outputs": [],
   "source": [
    "dene.reset_index(inplace=True)"
   ]
  },
  {
   "cell_type": "code",
   "execution_count": null,
   "metadata": {},
   "outputs": [],
   "source": [
    "dene.rename(columns={'ndvi_mean': 'ndvi1'}, inplace=True)\n",
    "dene"
   ]
  },
  {
   "cell_type": "code",
   "execution_count": null,
   "metadata": {},
   "outputs": [],
   "source": [
    "dene.drop(columns=['band','spatial_ref'],inplace=True)"
   ]
  },
  {
   "cell_type": "code",
   "execution_count": null,
   "metadata": {},
   "outputs": [],
   "source": [
    "dene"
   ]
  },
  {
   "cell_type": "code",
   "execution_count": null,
   "metadata": {},
   "outputs": [],
   "source": [
    "import pandas as pd"
   ]
  },
  {
   "cell_type": "code",
   "execution_count": null,
   "metadata": {},
   "outputs": [],
   "source": [
    "fin=pd.DataFrame({'projectID':[],})\n",
    "fin"
   ]
  },
  {
   "cell_type": "code",
   "execution_count": null,
   "metadata": {},
   "outputs": [],
   "source": [
    "fin=fin.merge(dene,how='outer',on='projectID')\n",
    "fin"
   ]
  },
  {
   "cell_type": "code",
   "execution_count": null,
   "metadata": {},
   "outputs": [],
   "source": [
    "dene2['ndvi_mean']=[1,2,3,4,5,6,7,8,9,10]\n",
    "dene2.rename(columns={'ndvi_mean': 'ndvi2'}, inplace=True)\n",
    "dene2"
   ]
  },
  {
   "cell_type": "code",
   "execution_count": null,
   "metadata": {},
   "outputs": [],
   "source": [
    "fin=pd.concat([fin,dene],axis=1,ignore_index=False)\n",
    "fin"
   ]
  },
  {
   "cell_type": "code",
   "execution_count": null,
   "metadata": {},
   "outputs": [],
   "source": [
    "fin.reset_index(inplace=True, drop=True)"
   ]
  },
  {
   "cell_type": "code",
   "execution_count": null,
   "metadata": {},
   "outputs": [],
   "source": [
    "fin"
   ]
  },
  {
   "cell_type": "code",
   "execution_count": null,
   "metadata": {},
   "outputs": [],
   "source": [
    "fin=pd.concat([fin,dene],axis=1)\n",
    "fin"
   ]
  },
  {
   "cell_type": "code",
   "execution_count": 131,
   "metadata": {},
   "outputs": [],
   "source": [
    "from rioxarray import merge\n",
    "def calculate_zonal_ndvi4(time_list,target_df,stac_items,vector_gpd):\n",
    "    fin=pd.DataFrame({'projectID':[],})\n",
    "    for f in time_list:\n",
    "        tmp_df=target_df[target_df['datetime']==f]\n",
    "        tmp_items=satstac.ItemCollection(stac_items)\n",
    "        tmp_items.filter('sentinel:product_id',list(tmp_df['sentinel:product_id']))\n",
    "        subset_dask=download_subset_image(download_status=False,item_list=list(tmp_items),aoi=harran,band_list=['B02','B08'])\n",
    "        for index,img in enumerate(subset_dask):\n",
    "            ndvi=direct_ndvi(subset_dask[index]['B02'],subset_dask[index]['B08'])\n",
    "            ndvi.name='ndvi'\n",
    "            out_grid = make_geocube(vector_data=vector_gpd,\n",
    "                                    measurements=[\"projectID\"],\n",
    "                                    like=ndvi, # ensure the data are on the same grid\n",
    "                                    fill=np.nan\n",
    "                                    )\n",
    "            out_grid[\"ndvi\"] = ndvi\n",
    "            grouped_ndvi = out_grid.drop(\"spatial_ref\").groupby(out_grid.projectID)\n",
    "            grid_mean = grouped_ndvi.mean().rename({\"ndvi\": f'ndviMean_{f}'})\n",
    "            print('grid finish')\n",
    "            zonal_stats = xarray.merge([grid_mean,])\n",
    "            last_df=zonal_stats.to_dataframe()\n",
    "            last_df.reset_index(inplace=True)\n",
    "            last_df.rename(columns={'ndvi_mean': f'ndviMean_{f}'}, inplace=True)\n",
    "            last_df.drop(columns=['band','spatial_ref'],inplace=True)\n",
    "            last_df.to_csv(f'ndviMean_{f}.csv', index=False)\n",
    "            fin=pd.merge(df1, df2, on=\"projectID\",how='outer')\n",
    "            fin=fin.fillna(0)\n",
    "            convert_dict={f'ndviMean_{f}_x': 'float',f'ndviMean_{f}_y': 'float'}\n",
    "            fin = fin.astype(convert_dict)\n",
    "            fin[f'ndviMean_{f}'] = fin[['B_x', 'B_y']].mean(axis=1)\n",
    "            fin.drop(columns=[f'ndviMean_{f}_x',f'ndviMean_{f}_y'],axis=1,inplace=True)\n",
    "    return fin"
   ]
  },
  {
   "cell_type": "code",
   "execution_count": 132,
   "metadata": {
    "collapsed": true,
    "jupyter": {
     "outputs_hidden": true
    }
   },
   "outputs": [
    {
     "ename": "KeyboardInterrupt",
     "evalue": "",
     "output_type": "error",
     "traceback": [
      "\u001b[1;31m---------------------------------------------------------------------------\u001b[0m",
      "\u001b[1;31mKeyboardInterrupt\u001b[0m                         Traceback (most recent call last)",
      "\u001b[1;32m<ipython-input-132-fac0dfea50e9>\u001b[0m in \u001b[0;36m<module>\u001b[1;34m()\u001b[0m\n\u001b[1;32m----> 1\u001b[1;33m \u001b[0mget_ipython\u001b[0m\u001b[1;33m(\u001b[0m\u001b[1;33m)\u001b[0m\u001b[1;33m.\u001b[0m\u001b[0mrun_cell_magic\u001b[0m\u001b[1;33m(\u001b[0m\u001b[1;34m'time'\u001b[0m\u001b[1;33m,\u001b[0m \u001b[1;34m''\u001b[0m\u001b[1;33m,\u001b[0m \u001b[1;34m'lst_df=calculate_zonal_ndvi4(time_list=ndvi_time[0:2],target_df=sentinel_df,stac_items=items,vector_gpd=harran_field_utm)'\u001b[0m\u001b[1;33m)\u001b[0m\u001b[1;33m\u001b[0m\u001b[1;33m\u001b[0m\u001b[0m\n\u001b[0m",
      "\u001b[1;32mC:\\Users\\akif\\.conda\\envs\\geo\\lib\\site-packages\\IPython\\core\\interactiveshell.py\u001b[0m in \u001b[0;36mrun_cell_magic\u001b[1;34m(self, magic_name, line, cell)\u001b[0m\n\u001b[0;32m   2115\u001b[0m             \u001b[0mmagic_arg_s\u001b[0m \u001b[1;33m=\u001b[0m \u001b[0mself\u001b[0m\u001b[1;33m.\u001b[0m\u001b[0mvar_expand\u001b[0m\u001b[1;33m(\u001b[0m\u001b[0mline\u001b[0m\u001b[1;33m,\u001b[0m \u001b[0mstack_depth\u001b[0m\u001b[1;33m)\u001b[0m\u001b[1;33m\u001b[0m\u001b[1;33m\u001b[0m\u001b[0m\n\u001b[0;32m   2116\u001b[0m             \u001b[1;32mwith\u001b[0m \u001b[0mself\u001b[0m\u001b[1;33m.\u001b[0m\u001b[0mbuiltin_trap\u001b[0m\u001b[1;33m:\u001b[0m\u001b[1;33m\u001b[0m\u001b[1;33m\u001b[0m\u001b[0m\n\u001b[1;32m-> 2117\u001b[1;33m                 \u001b[0mresult\u001b[0m \u001b[1;33m=\u001b[0m \u001b[0mfn\u001b[0m\u001b[1;33m(\u001b[0m\u001b[0mmagic_arg_s\u001b[0m\u001b[1;33m,\u001b[0m \u001b[0mcell\u001b[0m\u001b[1;33m)\u001b[0m\u001b[1;33m\u001b[0m\u001b[1;33m\u001b[0m\u001b[0m\n\u001b[0m\u001b[0;32m   2118\u001b[0m             \u001b[1;32mreturn\u001b[0m \u001b[0mresult\u001b[0m\u001b[1;33m\u001b[0m\u001b[1;33m\u001b[0m\u001b[0m\n\u001b[0;32m   2119\u001b[0m \u001b[1;33m\u001b[0m\u001b[0m\n",
      "\u001b[1;32m<decorator-gen-54>\u001b[0m in \u001b[0;36mtime\u001b[1;34m(self, line, cell, local_ns)\u001b[0m\n",
      "\u001b[1;32mC:\\Users\\akif\\.conda\\envs\\geo\\lib\\site-packages\\IPython\\core\\magic.py\u001b[0m in \u001b[0;36m<lambda>\u001b[1;34m(f, *a, **k)\u001b[0m\n\u001b[0;32m    186\u001b[0m     \u001b[1;31m# but it's overkill for just that one bit of state.\u001b[0m\u001b[1;33m\u001b[0m\u001b[1;33m\u001b[0m\u001b[1;33m\u001b[0m\u001b[0m\n\u001b[0;32m    187\u001b[0m     \u001b[1;32mdef\u001b[0m \u001b[0mmagic_deco\u001b[0m\u001b[1;33m(\u001b[0m\u001b[0marg\u001b[0m\u001b[1;33m)\u001b[0m\u001b[1;33m:\u001b[0m\u001b[1;33m\u001b[0m\u001b[1;33m\u001b[0m\u001b[0m\n\u001b[1;32m--> 188\u001b[1;33m         \u001b[0mcall\u001b[0m \u001b[1;33m=\u001b[0m \u001b[1;32mlambda\u001b[0m \u001b[0mf\u001b[0m\u001b[1;33m,\u001b[0m \u001b[1;33m*\u001b[0m\u001b[0ma\u001b[0m\u001b[1;33m,\u001b[0m \u001b[1;33m**\u001b[0m\u001b[0mk\u001b[0m\u001b[1;33m:\u001b[0m \u001b[0mf\u001b[0m\u001b[1;33m(\u001b[0m\u001b[1;33m*\u001b[0m\u001b[0ma\u001b[0m\u001b[1;33m,\u001b[0m \u001b[1;33m**\u001b[0m\u001b[0mk\u001b[0m\u001b[1;33m)\u001b[0m\u001b[1;33m\u001b[0m\u001b[1;33m\u001b[0m\u001b[0m\n\u001b[0m\u001b[0;32m    189\u001b[0m \u001b[1;33m\u001b[0m\u001b[0m\n\u001b[0;32m    190\u001b[0m         \u001b[1;32mif\u001b[0m \u001b[0mcallable\u001b[0m\u001b[1;33m(\u001b[0m\u001b[0marg\u001b[0m\u001b[1;33m)\u001b[0m\u001b[1;33m:\u001b[0m\u001b[1;33m\u001b[0m\u001b[1;33m\u001b[0m\u001b[0m\n",
      "\u001b[1;32mC:\\Users\\akif\\.conda\\envs\\geo\\lib\\site-packages\\IPython\\core\\magics\\execution.py\u001b[0m in \u001b[0;36mtime\u001b[1;34m(self, line, cell, local_ns)\u001b[0m\n\u001b[0;32m   1191\u001b[0m         \u001b[1;32melse\u001b[0m\u001b[1;33m:\u001b[0m\u001b[1;33m\u001b[0m\u001b[1;33m\u001b[0m\u001b[0m\n\u001b[0;32m   1192\u001b[0m             \u001b[0mst\u001b[0m \u001b[1;33m=\u001b[0m \u001b[0mclock2\u001b[0m\u001b[1;33m(\u001b[0m\u001b[1;33m)\u001b[0m\u001b[1;33m\u001b[0m\u001b[1;33m\u001b[0m\u001b[0m\n\u001b[1;32m-> 1193\u001b[1;33m             \u001b[0mexec\u001b[0m\u001b[1;33m(\u001b[0m\u001b[0mcode\u001b[0m\u001b[1;33m,\u001b[0m \u001b[0mglob\u001b[0m\u001b[1;33m,\u001b[0m \u001b[0mlocal_ns\u001b[0m\u001b[1;33m)\u001b[0m\u001b[1;33m\u001b[0m\u001b[1;33m\u001b[0m\u001b[0m\n\u001b[0m\u001b[0;32m   1194\u001b[0m             \u001b[0mend\u001b[0m \u001b[1;33m=\u001b[0m \u001b[0mclock2\u001b[0m\u001b[1;33m(\u001b[0m\u001b[1;33m)\u001b[0m\u001b[1;33m\u001b[0m\u001b[1;33m\u001b[0m\u001b[0m\n\u001b[0;32m   1195\u001b[0m             \u001b[0mout\u001b[0m \u001b[1;33m=\u001b[0m \u001b[1;32mNone\u001b[0m\u001b[1;33m\u001b[0m\u001b[1;33m\u001b[0m\u001b[0m\n",
      "\u001b[1;32m<timed exec>\u001b[0m in \u001b[0;36m<module>\u001b[1;34m()\u001b[0m\n",
      "\u001b[1;32m<ipython-input-131-a00b6cd3a934>\u001b[0m in \u001b[0;36mcalculate_zonal_ndvi4\u001b[1;34m(time_list, target_df, stac_items, vector_gpd)\u001b[0m\n\u001b[0;32m     19\u001b[0m             \u001b[0mgrid_mean\u001b[0m \u001b[1;33m=\u001b[0m \u001b[0mgrouped_ndvi\u001b[0m\u001b[1;33m.\u001b[0m\u001b[0mmean\u001b[0m\u001b[1;33m(\u001b[0m\u001b[1;33m)\u001b[0m\u001b[1;33m.\u001b[0m\u001b[0mrename\u001b[0m\u001b[1;33m(\u001b[0m\u001b[1;33m{\u001b[0m\u001b[1;34m\"ndvi\"\u001b[0m\u001b[1;33m:\u001b[0m \u001b[1;34mf'ndviMean_{f}'\u001b[0m\u001b[1;33m}\u001b[0m\u001b[1;33m)\u001b[0m\u001b[1;33m\u001b[0m\u001b[1;33m\u001b[0m\u001b[0m\n\u001b[0;32m     20\u001b[0m             \u001b[0mzonal_stats\u001b[0m \u001b[1;33m=\u001b[0m \u001b[0mxarray\u001b[0m\u001b[1;33m.\u001b[0m\u001b[0mmerge\u001b[0m\u001b[1;33m(\u001b[0m\u001b[1;33m[\u001b[0m\u001b[0mgrid_mean\u001b[0m\u001b[1;33m,\u001b[0m\u001b[1;33m]\u001b[0m\u001b[1;33m)\u001b[0m\u001b[1;33m\u001b[0m\u001b[1;33m\u001b[0m\u001b[0m\n\u001b[1;32m---> 21\u001b[1;33m             \u001b[0mlast_df\u001b[0m\u001b[1;33m=\u001b[0m\u001b[0mzonal_stats\u001b[0m\u001b[1;33m.\u001b[0m\u001b[0mto_dataframe\u001b[0m\u001b[1;33m(\u001b[0m\u001b[1;33m)\u001b[0m\u001b[1;33m\u001b[0m\u001b[1;33m\u001b[0m\u001b[0m\n\u001b[0m\u001b[0;32m     22\u001b[0m             \u001b[0mlast_df\u001b[0m\u001b[1;33m.\u001b[0m\u001b[0mreset_index\u001b[0m\u001b[1;33m(\u001b[0m\u001b[0minplace\u001b[0m\u001b[1;33m=\u001b[0m\u001b[1;32mTrue\u001b[0m\u001b[1;33m)\u001b[0m\u001b[1;33m\u001b[0m\u001b[1;33m\u001b[0m\u001b[0m\n\u001b[0;32m     23\u001b[0m             \u001b[0mlast_df\u001b[0m\u001b[1;33m.\u001b[0m\u001b[0mrename\u001b[0m\u001b[1;33m(\u001b[0m\u001b[0mcolumns\u001b[0m\u001b[1;33m=\u001b[0m\u001b[1;33m{\u001b[0m\u001b[1;34m'ndvi_mean'\u001b[0m\u001b[1;33m:\u001b[0m \u001b[1;34mf'ndviMean_{f}'\u001b[0m\u001b[1;33m}\u001b[0m\u001b[1;33m,\u001b[0m \u001b[0minplace\u001b[0m\u001b[1;33m=\u001b[0m\u001b[1;32mTrue\u001b[0m\u001b[1;33m)\u001b[0m\u001b[1;33m\u001b[0m\u001b[1;33m\u001b[0m\u001b[0m\n",
      "\u001b[1;32mC:\\Users\\akif\\.conda\\envs\\geo\\lib\\site-packages\\xarray\\core\\dataset.py\u001b[0m in \u001b[0;36mto_dataframe\u001b[1;34m(self, dim_order)\u001b[0m\n\u001b[0;32m   4813\u001b[0m         \u001b[0mordered_dims\u001b[0m \u001b[1;33m=\u001b[0m \u001b[0mself\u001b[0m\u001b[1;33m.\u001b[0m\u001b[0m_normalize_dim_order\u001b[0m\u001b[1;33m(\u001b[0m\u001b[0mdim_order\u001b[0m\u001b[1;33m=\u001b[0m\u001b[0mdim_order\u001b[0m\u001b[1;33m)\u001b[0m\u001b[1;33m\u001b[0m\u001b[1;33m\u001b[0m\u001b[0m\n\u001b[0;32m   4814\u001b[0m \u001b[1;33m\u001b[0m\u001b[0m\n\u001b[1;32m-> 4815\u001b[1;33m         \u001b[1;32mreturn\u001b[0m \u001b[0mself\u001b[0m\u001b[1;33m.\u001b[0m\u001b[0m_to_dataframe\u001b[0m\u001b[1;33m(\u001b[0m\u001b[0mordered_dims\u001b[0m\u001b[1;33m=\u001b[0m\u001b[0mordered_dims\u001b[0m\u001b[1;33m)\u001b[0m\u001b[1;33m\u001b[0m\u001b[1;33m\u001b[0m\u001b[0m\n\u001b[0m\u001b[0;32m   4816\u001b[0m \u001b[1;33m\u001b[0m\u001b[0m\n\u001b[0;32m   4817\u001b[0m     def _set_sparse_data_from_dataframe(\n",
      "\u001b[1;32mC:\\Users\\akif\\.conda\\envs\\geo\\lib\\site-packages\\xarray\\core\\dataset.py\u001b[0m in \u001b[0;36m_to_dataframe\u001b[1;34m(self, ordered_dims)\u001b[0m\n\u001b[0;32m   4779\u001b[0m         data = [\n\u001b[0;32m   4780\u001b[0m             \u001b[0mself\u001b[0m\u001b[1;33m.\u001b[0m\u001b[0m_variables\u001b[0m\u001b[1;33m[\u001b[0m\u001b[0mk\u001b[0m\u001b[1;33m]\u001b[0m\u001b[1;33m.\u001b[0m\u001b[0mset_dims\u001b[0m\u001b[1;33m(\u001b[0m\u001b[0mordered_dims\u001b[0m\u001b[1;33m)\u001b[0m\u001b[1;33m.\u001b[0m\u001b[0mvalues\u001b[0m\u001b[1;33m.\u001b[0m\u001b[0mreshape\u001b[0m\u001b[1;33m(\u001b[0m\u001b[1;33m-\u001b[0m\u001b[1;36m1\u001b[0m\u001b[1;33m)\u001b[0m\u001b[1;33m\u001b[0m\u001b[1;33m\u001b[0m\u001b[0m\n\u001b[1;32m-> 4781\u001b[1;33m             \u001b[1;32mfor\u001b[0m \u001b[0mk\u001b[0m \u001b[1;32min\u001b[0m \u001b[0mcolumns\u001b[0m\u001b[1;33m\u001b[0m\u001b[1;33m\u001b[0m\u001b[0m\n\u001b[0m\u001b[0;32m   4782\u001b[0m         ]\n\u001b[0;32m   4783\u001b[0m         \u001b[0mindex\u001b[0m \u001b[1;33m=\u001b[0m \u001b[0mself\u001b[0m\u001b[1;33m.\u001b[0m\u001b[0mcoords\u001b[0m\u001b[1;33m.\u001b[0m\u001b[0mto_index\u001b[0m\u001b[1;33m(\u001b[0m\u001b[1;33m[\u001b[0m\u001b[1;33m*\u001b[0m\u001b[0mordered_dims\u001b[0m\u001b[1;33m]\u001b[0m\u001b[1;33m)\u001b[0m\u001b[1;33m\u001b[0m\u001b[1;33m\u001b[0m\u001b[0m\n",
      "\u001b[1;32mC:\\Users\\akif\\.conda\\envs\\geo\\lib\\site-packages\\xarray\\core\\dataset.py\u001b[0m in \u001b[0;36m<listcomp>\u001b[1;34m(.0)\u001b[0m\n\u001b[0;32m   4779\u001b[0m         data = [\n\u001b[0;32m   4780\u001b[0m             \u001b[0mself\u001b[0m\u001b[1;33m.\u001b[0m\u001b[0m_variables\u001b[0m\u001b[1;33m[\u001b[0m\u001b[0mk\u001b[0m\u001b[1;33m]\u001b[0m\u001b[1;33m.\u001b[0m\u001b[0mset_dims\u001b[0m\u001b[1;33m(\u001b[0m\u001b[0mordered_dims\u001b[0m\u001b[1;33m)\u001b[0m\u001b[1;33m.\u001b[0m\u001b[0mvalues\u001b[0m\u001b[1;33m.\u001b[0m\u001b[0mreshape\u001b[0m\u001b[1;33m(\u001b[0m\u001b[1;33m-\u001b[0m\u001b[1;36m1\u001b[0m\u001b[1;33m)\u001b[0m\u001b[1;33m\u001b[0m\u001b[1;33m\u001b[0m\u001b[0m\n\u001b[1;32m-> 4781\u001b[1;33m             \u001b[1;32mfor\u001b[0m \u001b[0mk\u001b[0m \u001b[1;32min\u001b[0m \u001b[0mcolumns\u001b[0m\u001b[1;33m\u001b[0m\u001b[1;33m\u001b[0m\u001b[0m\n\u001b[0m\u001b[0;32m   4782\u001b[0m         ]\n\u001b[0;32m   4783\u001b[0m         \u001b[0mindex\u001b[0m \u001b[1;33m=\u001b[0m \u001b[0mself\u001b[0m\u001b[1;33m.\u001b[0m\u001b[0mcoords\u001b[0m\u001b[1;33m.\u001b[0m\u001b[0mto_index\u001b[0m\u001b[1;33m(\u001b[0m\u001b[1;33m[\u001b[0m\u001b[1;33m*\u001b[0m\u001b[0mordered_dims\u001b[0m\u001b[1;33m]\u001b[0m\u001b[1;33m)\u001b[0m\u001b[1;33m\u001b[0m\u001b[1;33m\u001b[0m\u001b[0m\n",
      "\u001b[1;32mC:\\Users\\akif\\.conda\\envs\\geo\\lib\\site-packages\\xarray\\core\\variable.py\u001b[0m in \u001b[0;36mvalues\u001b[1;34m(self)\u001b[0m\n\u001b[0;32m    510\u001b[0m     \u001b[1;32mdef\u001b[0m \u001b[0mvalues\u001b[0m\u001b[1;33m(\u001b[0m\u001b[0mself\u001b[0m\u001b[1;33m)\u001b[0m\u001b[1;33m:\u001b[0m\u001b[1;33m\u001b[0m\u001b[1;33m\u001b[0m\u001b[0m\n\u001b[0;32m    511\u001b[0m         \u001b[1;34m\"\"\"The variable's data as a numpy.ndarray\"\"\"\u001b[0m\u001b[1;33m\u001b[0m\u001b[1;33m\u001b[0m\u001b[0m\n\u001b[1;32m--> 512\u001b[1;33m         \u001b[1;32mreturn\u001b[0m \u001b[0m_as_array_or_item\u001b[0m\u001b[1;33m(\u001b[0m\u001b[0mself\u001b[0m\u001b[1;33m.\u001b[0m\u001b[0m_data\u001b[0m\u001b[1;33m)\u001b[0m\u001b[1;33m\u001b[0m\u001b[1;33m\u001b[0m\u001b[0m\n\u001b[0m\u001b[0;32m    513\u001b[0m \u001b[1;33m\u001b[0m\u001b[0m\n\u001b[0;32m    514\u001b[0m     \u001b[1;33m@\u001b[0m\u001b[0mvalues\u001b[0m\u001b[1;33m.\u001b[0m\u001b[0msetter\u001b[0m\u001b[1;33m\u001b[0m\u001b[1;33m\u001b[0m\u001b[0m\n",
      "\u001b[1;32mC:\\Users\\akif\\.conda\\envs\\geo\\lib\\site-packages\\xarray\\core\\variable.py\u001b[0m in \u001b[0;36m_as_array_or_item\u001b[1;34m(data)\u001b[0m\n\u001b[0;32m    272\u001b[0m         \u001b[0mdata\u001b[0m \u001b[1;33m=\u001b[0m \u001b[0mdata\u001b[0m\u001b[1;33m.\u001b[0m\u001b[0mget\u001b[0m\u001b[1;33m(\u001b[0m\u001b[1;33m)\u001b[0m\u001b[1;33m\u001b[0m\u001b[1;33m\u001b[0m\u001b[0m\n\u001b[0;32m    273\u001b[0m     \u001b[1;32melse\u001b[0m\u001b[1;33m:\u001b[0m\u001b[1;33m\u001b[0m\u001b[1;33m\u001b[0m\u001b[0m\n\u001b[1;32m--> 274\u001b[1;33m         \u001b[0mdata\u001b[0m \u001b[1;33m=\u001b[0m \u001b[0mnp\u001b[0m\u001b[1;33m.\u001b[0m\u001b[0masarray\u001b[0m\u001b[1;33m(\u001b[0m\u001b[0mdata\u001b[0m\u001b[1;33m)\u001b[0m\u001b[1;33m\u001b[0m\u001b[1;33m\u001b[0m\u001b[0m\n\u001b[0m\u001b[0;32m    275\u001b[0m     \u001b[1;32mif\u001b[0m \u001b[0mdata\u001b[0m\u001b[1;33m.\u001b[0m\u001b[0mndim\u001b[0m \u001b[1;33m==\u001b[0m \u001b[1;36m0\u001b[0m\u001b[1;33m:\u001b[0m\u001b[1;33m\u001b[0m\u001b[1;33m\u001b[0m\u001b[0m\n\u001b[0;32m    276\u001b[0m         \u001b[1;32mif\u001b[0m \u001b[0mdata\u001b[0m\u001b[1;33m.\u001b[0m\u001b[0mdtype\u001b[0m\u001b[1;33m.\u001b[0m\u001b[0mkind\u001b[0m \u001b[1;33m==\u001b[0m \u001b[1;34m\"M\"\u001b[0m\u001b[1;33m:\u001b[0m\u001b[1;33m\u001b[0m\u001b[1;33m\u001b[0m\u001b[0m\n",
      "\u001b[1;32mC:\\Users\\akif\\.conda\\envs\\geo\\lib\\site-packages\\numpy\\core\\_asarray.py\u001b[0m in \u001b[0;36masarray\u001b[1;34m(a, dtype, order)\u001b[0m\n\u001b[0;32m     81\u001b[0m \u001b[1;33m\u001b[0m\u001b[0m\n\u001b[0;32m     82\u001b[0m     \"\"\"\n\u001b[1;32m---> 83\u001b[1;33m     \u001b[1;32mreturn\u001b[0m \u001b[0marray\u001b[0m\u001b[1;33m(\u001b[0m\u001b[0ma\u001b[0m\u001b[1;33m,\u001b[0m \u001b[0mdtype\u001b[0m\u001b[1;33m,\u001b[0m \u001b[0mcopy\u001b[0m\u001b[1;33m=\u001b[0m\u001b[1;32mFalse\u001b[0m\u001b[1;33m,\u001b[0m \u001b[0morder\u001b[0m\u001b[1;33m=\u001b[0m\u001b[0morder\u001b[0m\u001b[1;33m)\u001b[0m\u001b[1;33m\u001b[0m\u001b[1;33m\u001b[0m\u001b[0m\n\u001b[0m\u001b[0;32m     84\u001b[0m \u001b[1;33m\u001b[0m\u001b[0m\n\u001b[0;32m     85\u001b[0m \u001b[1;33m\u001b[0m\u001b[0m\n",
      "\u001b[1;32mC:\\Users\\akif\\.conda\\envs\\geo\\lib\\site-packages\\dask\\array\\core.py\u001b[0m in \u001b[0;36m__array__\u001b[1;34m(self, dtype, **kwargs)\u001b[0m\n\u001b[0;32m   1414\u001b[0m \u001b[1;33m\u001b[0m\u001b[0m\n\u001b[0;32m   1415\u001b[0m     \u001b[1;32mdef\u001b[0m \u001b[0m__array__\u001b[0m\u001b[1;33m(\u001b[0m\u001b[0mself\u001b[0m\u001b[1;33m,\u001b[0m \u001b[0mdtype\u001b[0m\u001b[1;33m=\u001b[0m\u001b[1;32mNone\u001b[0m\u001b[1;33m,\u001b[0m \u001b[1;33m**\u001b[0m\u001b[0mkwargs\u001b[0m\u001b[1;33m)\u001b[0m\u001b[1;33m:\u001b[0m\u001b[1;33m\u001b[0m\u001b[1;33m\u001b[0m\u001b[0m\n\u001b[1;32m-> 1416\u001b[1;33m         \u001b[0mx\u001b[0m \u001b[1;33m=\u001b[0m \u001b[0mself\u001b[0m\u001b[1;33m.\u001b[0m\u001b[0mcompute\u001b[0m\u001b[1;33m(\u001b[0m\u001b[1;33m)\u001b[0m\u001b[1;33m\u001b[0m\u001b[1;33m\u001b[0m\u001b[0m\n\u001b[0m\u001b[0;32m   1417\u001b[0m         \u001b[1;32mif\u001b[0m \u001b[0mdtype\u001b[0m \u001b[1;32mand\u001b[0m \u001b[0mx\u001b[0m\u001b[1;33m.\u001b[0m\u001b[0mdtype\u001b[0m \u001b[1;33m!=\u001b[0m \u001b[0mdtype\u001b[0m\u001b[1;33m:\u001b[0m\u001b[1;33m\u001b[0m\u001b[1;33m\u001b[0m\u001b[0m\n\u001b[0;32m   1418\u001b[0m             \u001b[0mx\u001b[0m \u001b[1;33m=\u001b[0m \u001b[0mx\u001b[0m\u001b[1;33m.\u001b[0m\u001b[0mastype\u001b[0m\u001b[1;33m(\u001b[0m\u001b[0mdtype\u001b[0m\u001b[1;33m)\u001b[0m\u001b[1;33m\u001b[0m\u001b[1;33m\u001b[0m\u001b[0m\n",
      "\u001b[1;32mC:\\Users\\akif\\.conda\\envs\\geo\\lib\\site-packages\\dask\\base.py\u001b[0m in \u001b[0;36mcompute\u001b[1;34m(self, **kwargs)\u001b[0m\n\u001b[0;32m    277\u001b[0m         \u001b[0mdask\u001b[0m\u001b[1;33m.\u001b[0m\u001b[0mbase\u001b[0m\u001b[1;33m.\u001b[0m\u001b[0mcompute\u001b[0m\u001b[1;33m\u001b[0m\u001b[1;33m\u001b[0m\u001b[0m\n\u001b[0;32m    278\u001b[0m         \"\"\"\n\u001b[1;32m--> 279\u001b[1;33m         \u001b[1;33m(\u001b[0m\u001b[0mresult\u001b[0m\u001b[1;33m,\u001b[0m\u001b[1;33m)\u001b[0m \u001b[1;33m=\u001b[0m \u001b[0mcompute\u001b[0m\u001b[1;33m(\u001b[0m\u001b[0mself\u001b[0m\u001b[1;33m,\u001b[0m \u001b[0mtraverse\u001b[0m\u001b[1;33m=\u001b[0m\u001b[1;32mFalse\u001b[0m\u001b[1;33m,\u001b[0m \u001b[1;33m**\u001b[0m\u001b[0mkwargs\u001b[0m\u001b[1;33m)\u001b[0m\u001b[1;33m\u001b[0m\u001b[1;33m\u001b[0m\u001b[0m\n\u001b[0m\u001b[0;32m    280\u001b[0m         \u001b[1;32mreturn\u001b[0m \u001b[0mresult\u001b[0m\u001b[1;33m\u001b[0m\u001b[1;33m\u001b[0m\u001b[0m\n\u001b[0;32m    281\u001b[0m \u001b[1;33m\u001b[0m\u001b[0m\n",
      "\u001b[1;32mC:\\Users\\akif\\.conda\\envs\\geo\\lib\\site-packages\\dask\\base.py\u001b[0m in \u001b[0;36mcompute\u001b[1;34m(*args, **kwargs)\u001b[0m\n\u001b[0;32m    559\u001b[0m     )\n\u001b[0;32m    560\u001b[0m \u001b[1;33m\u001b[0m\u001b[0m\n\u001b[1;32m--> 561\u001b[1;33m     \u001b[0mdsk\u001b[0m \u001b[1;33m=\u001b[0m \u001b[0mcollections_to_dsk\u001b[0m\u001b[1;33m(\u001b[0m\u001b[0mcollections\u001b[0m\u001b[1;33m,\u001b[0m \u001b[0moptimize_graph\u001b[0m\u001b[1;33m,\u001b[0m \u001b[1;33m**\u001b[0m\u001b[0mkwargs\u001b[0m\u001b[1;33m)\u001b[0m\u001b[1;33m\u001b[0m\u001b[1;33m\u001b[0m\u001b[0m\n\u001b[0m\u001b[0;32m    562\u001b[0m     \u001b[0mkeys\u001b[0m\u001b[1;33m,\u001b[0m \u001b[0mpostcomputes\u001b[0m \u001b[1;33m=\u001b[0m \u001b[1;33m[\u001b[0m\u001b[1;33m]\u001b[0m\u001b[1;33m,\u001b[0m \u001b[1;33m[\u001b[0m\u001b[1;33m]\u001b[0m\u001b[1;33m\u001b[0m\u001b[1;33m\u001b[0m\u001b[0m\n\u001b[0;32m    563\u001b[0m     \u001b[1;32mfor\u001b[0m \u001b[0mx\u001b[0m \u001b[1;32min\u001b[0m \u001b[0mcollections\u001b[0m\u001b[1;33m:\u001b[0m\u001b[1;33m\u001b[0m\u001b[1;33m\u001b[0m\u001b[0m\n",
      "\u001b[1;32mC:\\Users\\akif\\.conda\\envs\\geo\\lib\\site-packages\\dask\\base.py\u001b[0m in \u001b[0;36mcollections_to_dsk\u001b[1;34m(collections, optimize_graph, **kwargs)\u001b[0m\n\u001b[0;32m    330\u001b[0m             \u001b[0mdsk\u001b[0m\u001b[1;33m,\u001b[0m \u001b[0mkeys\u001b[0m \u001b[1;33m=\u001b[0m \u001b[0m_extract_graph_and_keys\u001b[0m\u001b[1;33m(\u001b[0m\u001b[0mval\u001b[0m\u001b[1;33m)\u001b[0m\u001b[1;33m\u001b[0m\u001b[1;33m\u001b[0m\u001b[0m\n\u001b[0;32m    331\u001b[0m             \u001b[0mgroups\u001b[0m\u001b[1;33m[\u001b[0m\u001b[0mopt\u001b[0m\u001b[1;33m]\u001b[0m \u001b[1;33m=\u001b[0m \u001b[1;33m(\u001b[0m\u001b[0mdsk\u001b[0m\u001b[1;33m,\u001b[0m \u001b[0mkeys\u001b[0m\u001b[1;33m)\u001b[0m\u001b[1;33m\u001b[0m\u001b[1;33m\u001b[0m\u001b[0m\n\u001b[1;32m--> 332\u001b[1;33m             \u001b[0m_opt\u001b[0m \u001b[1;33m=\u001b[0m \u001b[0mopt\u001b[0m\u001b[1;33m(\u001b[0m\u001b[0mdsk\u001b[0m\u001b[1;33m,\u001b[0m \u001b[0mkeys\u001b[0m\u001b[1;33m,\u001b[0m \u001b[1;33m**\u001b[0m\u001b[0mkwargs\u001b[0m\u001b[1;33m)\u001b[0m\u001b[1;33m\u001b[0m\u001b[1;33m\u001b[0m\u001b[0m\n\u001b[0m\u001b[0;32m    333\u001b[0m             \u001b[0m_opt_list\u001b[0m\u001b[1;33m.\u001b[0m\u001b[0mappend\u001b[0m\u001b[1;33m(\u001b[0m\u001b[0m_opt\u001b[0m\u001b[1;33m)\u001b[0m\u001b[1;33m\u001b[0m\u001b[1;33m\u001b[0m\u001b[0m\n\u001b[0;32m    334\u001b[0m \u001b[1;33m\u001b[0m\u001b[0m\n",
      "\u001b[1;32mC:\\Users\\akif\\.conda\\envs\\geo\\lib\\site-packages\\dask\\array\\optimization.py\u001b[0m in \u001b[0;36moptimize\u001b[1;34m(dsk, keys, fuse_keys, fast_functions, inline_functions_fast_functions, rename_fused_keys, **kwargs)\u001b[0m\n\u001b[0;32m     46\u001b[0m     \u001b[0mdsk\u001b[0m \u001b[1;33m=\u001b[0m \u001b[0moptimize_blockwise\u001b[0m\u001b[1;33m(\u001b[0m\u001b[0mdsk\u001b[0m\u001b[1;33m,\u001b[0m \u001b[0mkeys\u001b[0m\u001b[1;33m=\u001b[0m\u001b[0mkeys\u001b[0m\u001b[1;33m)\u001b[0m\u001b[1;33m\u001b[0m\u001b[1;33m\u001b[0m\u001b[0m\n\u001b[0;32m     47\u001b[0m     \u001b[0mdsk\u001b[0m \u001b[1;33m=\u001b[0m \u001b[0mfuse_roots\u001b[0m\u001b[1;33m(\u001b[0m\u001b[0mdsk\u001b[0m\u001b[1;33m,\u001b[0m \u001b[0mkeys\u001b[0m\u001b[1;33m=\u001b[0m\u001b[0mkeys\u001b[0m\u001b[1;33m)\u001b[0m\u001b[1;33m\u001b[0m\u001b[1;33m\u001b[0m\u001b[0m\n\u001b[1;32m---> 48\u001b[1;33m     \u001b[0mdsk\u001b[0m \u001b[1;33m=\u001b[0m \u001b[0mdsk\u001b[0m\u001b[1;33m.\u001b[0m\u001b[0mcull\u001b[0m\u001b[1;33m(\u001b[0m\u001b[0mset\u001b[0m\u001b[1;33m(\u001b[0m\u001b[0mkeys\u001b[0m\u001b[1;33m)\u001b[0m\u001b[1;33m)\u001b[0m\u001b[1;33m\u001b[0m\u001b[1;33m\u001b[0m\u001b[0m\n\u001b[0m\u001b[0;32m     49\u001b[0m \u001b[1;33m\u001b[0m\u001b[0m\n\u001b[0;32m     50\u001b[0m     \u001b[1;32mif\u001b[0m \u001b[1;32mnot\u001b[0m \u001b[0mconfig\u001b[0m\u001b[1;33m.\u001b[0m\u001b[0mget\u001b[0m\u001b[1;33m(\u001b[0m\u001b[1;34m\"optimization.fuse.active\"\u001b[0m\u001b[1;33m)\u001b[0m\u001b[1;33m:\u001b[0m\u001b[1;33m\u001b[0m\u001b[1;33m\u001b[0m\u001b[0m\n",
      "\u001b[1;32mC:\\Users\\akif\\.conda\\envs\\geo\\lib\\site-packages\\dask\\highlevelgraph.py\u001b[0m in \u001b[0;36mcull\u001b[1;34m(self, keys)\u001b[0m\n\u001b[0;32m    628\u001b[0m         \u001b[0mret_layers\u001b[0m \u001b[1;33m=\u001b[0m \u001b[1;33m{\u001b[0m\u001b[1;33m}\u001b[0m\u001b[1;33m\u001b[0m\u001b[1;33m\u001b[0m\u001b[0m\n\u001b[0;32m    629\u001b[0m         \u001b[0mret_key_deps\u001b[0m \u001b[1;33m=\u001b[0m \u001b[1;33m{\u001b[0m\u001b[1;33m}\u001b[0m\u001b[1;33m\u001b[0m\u001b[1;33m\u001b[0m\u001b[0m\n\u001b[1;32m--> 630\u001b[1;33m         \u001b[1;32mfor\u001b[0m \u001b[0mlayer_name\u001b[0m \u001b[1;32min\u001b[0m \u001b[0mreversed\u001b[0m\u001b[1;33m(\u001b[0m\u001b[0mself\u001b[0m\u001b[1;33m.\u001b[0m\u001b[0m_toposort_layers\u001b[0m\u001b[1;33m(\u001b[0m\u001b[1;33m)\u001b[0m\u001b[1;33m)\u001b[0m\u001b[1;33m:\u001b[0m\u001b[1;33m\u001b[0m\u001b[1;33m\u001b[0m\u001b[0m\n\u001b[0m\u001b[0;32m    631\u001b[0m             \u001b[0mlayer\u001b[0m \u001b[1;33m=\u001b[0m \u001b[0mself\u001b[0m\u001b[1;33m.\u001b[0m\u001b[0mlayers\u001b[0m\u001b[1;33m[\u001b[0m\u001b[0mlayer_name\u001b[0m\u001b[1;33m]\u001b[0m\u001b[1;33m\u001b[0m\u001b[1;33m\u001b[0m\u001b[0m\n\u001b[0;32m    632\u001b[0m             \u001b[1;31m# Let's cull the layer to produce its part of `keys`\u001b[0m\u001b[1;33m\u001b[0m\u001b[1;33m\u001b[0m\u001b[1;33m\u001b[0m\u001b[0m\n",
      "\u001b[1;32mC:\\Users\\akif\\.conda\\envs\\geo\\lib\\site-packages\\dask\\highlevelgraph.py\u001b[0m in \u001b[0;36m_toposort_layers\u001b[1;34m(self)\u001b[0m\n\u001b[0;32m    610\u001b[0m                 \u001b[0mv\u001b[0m\u001b[1;33m.\u001b[0m\u001b[0mdiscard\u001b[0m\u001b[1;33m(\u001b[0m\u001b[0mlayer\u001b[0m\u001b[1;33m)\u001b[0m\u001b[1;33m\u001b[0m\u001b[1;33m\u001b[0m\u001b[0m\n\u001b[0;32m    611\u001b[0m                 \u001b[1;32mif\u001b[0m \u001b[0mlen\u001b[0m\u001b[1;33m(\u001b[0m\u001b[0mv\u001b[0m\u001b[1;33m)\u001b[0m \u001b[1;33m==\u001b[0m \u001b[1;36m0\u001b[0m\u001b[1;33m:\u001b[0m\u001b[1;33m\u001b[0m\u001b[1;33m\u001b[0m\u001b[0m\n\u001b[1;32m--> 612\u001b[1;33m                     \u001b[0mready\u001b[0m\u001b[1;33m.\u001b[0m\u001b[0madd\u001b[0m\u001b[1;33m(\u001b[0m\u001b[0mk\u001b[0m\u001b[1;33m)\u001b[0m\u001b[1;33m\u001b[0m\u001b[1;33m\u001b[0m\u001b[0m\n\u001b[0m\u001b[0;32m    613\u001b[0m         \u001b[1;32mreturn\u001b[0m \u001b[0mret\u001b[0m\u001b[1;33m\u001b[0m\u001b[1;33m\u001b[0m\u001b[0m\n\u001b[0;32m    614\u001b[0m \u001b[1;33m\u001b[0m\u001b[0m\n",
      "\u001b[1;31mKeyboardInterrupt\u001b[0m: "
     ]
    }
   ],
   "source": [
    "%%time\n",
    "lst_df=calculate_zonal_ndvi4(time_list=ndvi_time[0:2],target_df=sentinel_df,stac_items=items,vector_gpd=harran_field_utm)"
   ]
  },
  {
   "cell_type": "code",
   "execution_count": 149,
   "metadata": {
    "collapsed": true,
    "jupyter": {
     "outputs_hidden": true
    }
   },
   "outputs": [
    {
     "name": "stdout",
     "output_type": "stream",
     "text": [
      "ndvi\n",
      "grid finish\n",
      "grid meann\n",
      "lastdf\n",
      "ndvi\n",
      "grid finish\n",
      "grid meann\n",
      "lastdf\n"
     ]
    },
    {
     "ename": "KeyError",
     "evalue": "'Only a column name can be used for the key in a dtype mappings argument.'",
     "output_type": "error",
     "traceback": [
      "\u001b[1;31m---------------------------------------------------------------------------\u001b[0m",
      "\u001b[1;31mKeyError\u001b[0m                                  Traceback (most recent call last)",
      "\u001b[1;32m<ipython-input-149-eeced5087399>\u001b[0m in \u001b[0;36m<module>\u001b[1;34m()\u001b[0m\n\u001b[1;32m----> 1\u001b[1;33m \u001b[0mget_ipython\u001b[0m\u001b[1;33m(\u001b[0m\u001b[1;33m)\u001b[0m\u001b[1;33m.\u001b[0m\u001b[0mrun_cell_magic\u001b[0m\u001b[1;33m(\u001b[0m\u001b[1;34m'time'\u001b[0m\u001b[1;33m,\u001b[0m \u001b[1;34m''\u001b[0m\u001b[1;33m,\u001b[0m \u001b[1;34m'\\nfrom rioxarray import merge\\n\\nfin=pd.DataFrame({\\'projectID\\':[],\\'ndvi_mean\\':[]})\\nfor f in ndvi_time[0:2]:\\n    tmp_df=sentinel_df[sentinel_df[\\'datetime\\']==f]\\n    tmp_items=satstac.ItemCollection(items)\\n    tmp_items.filter(\\'sentinel:product_id\\',list(tmp_df[\\'sentinel:product_id\\']))\\n    subset_dask=download_subset_image(download_status=False,item_list=list(tmp_items),aoi=harran,band_list=[\\'B02\\',\\'B08\\'])\\n    for index,img in enumerate(subset_dask):\\n        ndvi=direct_ndvi(subset_dask[index][\\'B02\\'],subset_dask[index][\\'B08\\'])\\n        ndvi.name=\\'ndvi\\'\\n        print(\\'ndvi\\')\\n        out_grid = make_geocube(vector_data=harran_field_utm,\\n                                measurements=[\"projectID\"],\\n                                like=ndvi, # ensure the data are on the same grid\\n                                fill=np.nan\\n                                )\\n        out_grid[\"ndvi\"] = ndvi\\n        print(\\'grid finish\\')\\n        grouped_ndvi = out_grid.drop(\"spatial_ref\").groupby(out_grid.projectID)\\n        grid_mean = grouped_ndvi.mean().rename({\"ndvi\": \\'ndvi_mean\\'})\\n        print(\\'grid meann\\')\\n        zonal_stats = xarray.merge([grid_mean,])\\n        last_df=zonal_stats.to_dataframe()\\n        print(\\'lastdf\\')\\n        last_df.reset_index(inplace=True)\\n        last_df.drop(columns=[\\'band\\',\\'spatial_ref\\'],inplace=True)\\n        last_df.to_csv(f\\'ndviMean_{f}_{index}.csv\\', index=False)\\n        fin=pd.merge(fin, last_df, on=\"projectID\",how=\\'outer\\')\\n        fin=fin.fillna(0)\\n        convert_dict={\\'ndvi_mean_x\\': \\'float\\',\\'ndvi_mean_y\\': \\'float\\'}\\n        fin = fin.astype(convert_dict)\\n        fin[f\\'ndviMean_{f}\\'] = fin[[\\'ndvi_mean_x\\', \\'ndvi_mean_y\\']].mean(axis=1)\\n        fin.drop(columns=[\\'ndvi_mean_x\\',\\'ndvi_mean_y\\'],axis=1,inplace=True)'\u001b[0m\u001b[1;33m)\u001b[0m\u001b[1;33m\u001b[0m\u001b[1;33m\u001b[0m\u001b[0m\n\u001b[0m",
      "\u001b[1;32mC:\\Users\\akif\\.conda\\envs\\geo\\lib\\site-packages\\IPython\\core\\interactiveshell.py\u001b[0m in \u001b[0;36mrun_cell_magic\u001b[1;34m(self, magic_name, line, cell)\u001b[0m\n\u001b[0;32m   2115\u001b[0m             \u001b[0mmagic_arg_s\u001b[0m \u001b[1;33m=\u001b[0m \u001b[0mself\u001b[0m\u001b[1;33m.\u001b[0m\u001b[0mvar_expand\u001b[0m\u001b[1;33m(\u001b[0m\u001b[0mline\u001b[0m\u001b[1;33m,\u001b[0m \u001b[0mstack_depth\u001b[0m\u001b[1;33m)\u001b[0m\u001b[1;33m\u001b[0m\u001b[1;33m\u001b[0m\u001b[0m\n\u001b[0;32m   2116\u001b[0m             \u001b[1;32mwith\u001b[0m \u001b[0mself\u001b[0m\u001b[1;33m.\u001b[0m\u001b[0mbuiltin_trap\u001b[0m\u001b[1;33m:\u001b[0m\u001b[1;33m\u001b[0m\u001b[1;33m\u001b[0m\u001b[0m\n\u001b[1;32m-> 2117\u001b[1;33m                 \u001b[0mresult\u001b[0m \u001b[1;33m=\u001b[0m \u001b[0mfn\u001b[0m\u001b[1;33m(\u001b[0m\u001b[0mmagic_arg_s\u001b[0m\u001b[1;33m,\u001b[0m \u001b[0mcell\u001b[0m\u001b[1;33m)\u001b[0m\u001b[1;33m\u001b[0m\u001b[1;33m\u001b[0m\u001b[0m\n\u001b[0m\u001b[0;32m   2118\u001b[0m             \u001b[1;32mreturn\u001b[0m \u001b[0mresult\u001b[0m\u001b[1;33m\u001b[0m\u001b[1;33m\u001b[0m\u001b[0m\n\u001b[0;32m   2119\u001b[0m \u001b[1;33m\u001b[0m\u001b[0m\n",
      "\u001b[1;32m<decorator-gen-54>\u001b[0m in \u001b[0;36mtime\u001b[1;34m(self, line, cell, local_ns)\u001b[0m\n",
      "\u001b[1;32mC:\\Users\\akif\\.conda\\envs\\geo\\lib\\site-packages\\IPython\\core\\magic.py\u001b[0m in \u001b[0;36m<lambda>\u001b[1;34m(f, *a, **k)\u001b[0m\n\u001b[0;32m    186\u001b[0m     \u001b[1;31m# but it's overkill for just that one bit of state.\u001b[0m\u001b[1;33m\u001b[0m\u001b[1;33m\u001b[0m\u001b[1;33m\u001b[0m\u001b[0m\n\u001b[0;32m    187\u001b[0m     \u001b[1;32mdef\u001b[0m \u001b[0mmagic_deco\u001b[0m\u001b[1;33m(\u001b[0m\u001b[0marg\u001b[0m\u001b[1;33m)\u001b[0m\u001b[1;33m:\u001b[0m\u001b[1;33m\u001b[0m\u001b[1;33m\u001b[0m\u001b[0m\n\u001b[1;32m--> 188\u001b[1;33m         \u001b[0mcall\u001b[0m \u001b[1;33m=\u001b[0m \u001b[1;32mlambda\u001b[0m \u001b[0mf\u001b[0m\u001b[1;33m,\u001b[0m \u001b[1;33m*\u001b[0m\u001b[0ma\u001b[0m\u001b[1;33m,\u001b[0m \u001b[1;33m**\u001b[0m\u001b[0mk\u001b[0m\u001b[1;33m:\u001b[0m \u001b[0mf\u001b[0m\u001b[1;33m(\u001b[0m\u001b[1;33m*\u001b[0m\u001b[0ma\u001b[0m\u001b[1;33m,\u001b[0m \u001b[1;33m**\u001b[0m\u001b[0mk\u001b[0m\u001b[1;33m)\u001b[0m\u001b[1;33m\u001b[0m\u001b[1;33m\u001b[0m\u001b[0m\n\u001b[0m\u001b[0;32m    189\u001b[0m \u001b[1;33m\u001b[0m\u001b[0m\n\u001b[0;32m    190\u001b[0m         \u001b[1;32mif\u001b[0m \u001b[0mcallable\u001b[0m\u001b[1;33m(\u001b[0m\u001b[0marg\u001b[0m\u001b[1;33m)\u001b[0m\u001b[1;33m:\u001b[0m\u001b[1;33m\u001b[0m\u001b[1;33m\u001b[0m\u001b[0m\n",
      "\u001b[1;32mC:\\Users\\akif\\.conda\\envs\\geo\\lib\\site-packages\\IPython\\core\\magics\\execution.py\u001b[0m in \u001b[0;36mtime\u001b[1;34m(self, line, cell, local_ns)\u001b[0m\n\u001b[0;32m   1191\u001b[0m         \u001b[1;32melse\u001b[0m\u001b[1;33m:\u001b[0m\u001b[1;33m\u001b[0m\u001b[1;33m\u001b[0m\u001b[0m\n\u001b[0;32m   1192\u001b[0m             \u001b[0mst\u001b[0m \u001b[1;33m=\u001b[0m \u001b[0mclock2\u001b[0m\u001b[1;33m(\u001b[0m\u001b[1;33m)\u001b[0m\u001b[1;33m\u001b[0m\u001b[1;33m\u001b[0m\u001b[0m\n\u001b[1;32m-> 1193\u001b[1;33m             \u001b[0mexec\u001b[0m\u001b[1;33m(\u001b[0m\u001b[0mcode\u001b[0m\u001b[1;33m,\u001b[0m \u001b[0mglob\u001b[0m\u001b[1;33m,\u001b[0m \u001b[0mlocal_ns\u001b[0m\u001b[1;33m)\u001b[0m\u001b[1;33m\u001b[0m\u001b[1;33m\u001b[0m\u001b[0m\n\u001b[0m\u001b[0;32m   1194\u001b[0m             \u001b[0mend\u001b[0m \u001b[1;33m=\u001b[0m \u001b[0mclock2\u001b[0m\u001b[1;33m(\u001b[0m\u001b[1;33m)\u001b[0m\u001b[1;33m\u001b[0m\u001b[1;33m\u001b[0m\u001b[0m\n\u001b[0;32m   1195\u001b[0m             \u001b[0mout\u001b[0m \u001b[1;33m=\u001b[0m \u001b[1;32mNone\u001b[0m\u001b[1;33m\u001b[0m\u001b[1;33m\u001b[0m\u001b[0m\n",
      "\u001b[1;32m<timed exec>\u001b[0m in \u001b[0;36m<module>\u001b[1;34m()\u001b[0m\n",
      "\u001b[1;32mC:\\Users\\akif\\.conda\\envs\\geo\\lib\\site-packages\\pandas\\core\\generic.py\u001b[0m in \u001b[0;36mastype\u001b[1;34m(self, dtype, copy, errors)\u001b[0m\n\u001b[0;32m   5522\u001b[0m                 \u001b[1;32mif\u001b[0m \u001b[0mcol_name\u001b[0m \u001b[1;32mnot\u001b[0m \u001b[1;32min\u001b[0m \u001b[0mself\u001b[0m\u001b[1;33m:\u001b[0m\u001b[1;33m\u001b[0m\u001b[1;33m\u001b[0m\u001b[0m\n\u001b[0;32m   5523\u001b[0m                     raise KeyError(\n\u001b[1;32m-> 5524\u001b[1;33m                         \u001b[1;34m\"Only a column name can be used for the \"\u001b[0m\u001b[1;33m\u001b[0m\u001b[1;33m\u001b[0m\u001b[0m\n\u001b[0m\u001b[0;32m   5525\u001b[0m                         \u001b[1;34m\"key in a dtype mappings argument.\"\u001b[0m\u001b[1;33m\u001b[0m\u001b[1;33m\u001b[0m\u001b[0m\n\u001b[0;32m   5526\u001b[0m                     )\n",
      "\u001b[1;31mKeyError\u001b[0m: 'Only a column name can be used for the key in a dtype mappings argument.'"
     ]
    }
   ],
   "source": [
    "%%time\n",
    "\n",
    "from rioxarray import merge\n",
    "\n",
    "fin=pd.DataFrame({'projectID':[],'ndvi_mean':[]})\n",
    "for f in ndvi_time[0:2]:\n",
    "    tmp_df=sentinel_df[sentinel_df['datetime']==f]\n",
    "    tmp_items=satstac.ItemCollection(items)\n",
    "    tmp_items.filter('sentinel:product_id',list(tmp_df['sentinel:product_id']))\n",
    "    subset_dask=download_subset_image(download_status=False,item_list=list(tmp_items),aoi=harran,band_list=['B02','B08'])\n",
    "    for index,img in enumerate(subset_dask):\n",
    "        ndvi=direct_ndvi(subset_dask[index]['B02'],subset_dask[index]['B08'])\n",
    "        ndvi.name='ndvi'\n",
    "        print('ndvi')\n",
    "        out_grid = make_geocube(vector_data=harran_field_utm,\n",
    "                                measurements=[\"projectID\"],\n",
    "                                like=ndvi, # ensure the data are on the same grid\n",
    "                                fill=np.nan\n",
    "                                )\n",
    "        out_grid[\"ndvi\"] = ndvi\n",
    "        print('grid finish')\n",
    "        grouped_ndvi = out_grid.drop(\"spatial_ref\").groupby(out_grid.projectID)\n",
    "        grid_mean = grouped_ndvi.mean().rename({\"ndvi\": 'ndvi_mean'})\n",
    "        print('grid meann')\n",
    "        zonal_stats = xarray.merge([grid_mean,])\n",
    "        last_df=zonal_stats.to_dataframe()\n",
    "        print('lastdf')\n",
    "        last_df.reset_index(inplace=True)\n",
    "        last_df.drop(columns=['band','spatial_ref'],inplace=True)\n",
    "        last_df.to_csv(f'ndviMean_{f}_{index}.csv', index=False)\n",
    "        fin=pd.merge(fin, last_df, on=\"projectID\",how='outer')\n",
    "        fin=fin.fillna(0)\n",
    "        convert_dict={'ndvi_mean_x': 'float','ndvi_mean_y': 'float'}\n",
    "        fin = fin.astype(convert_dict)\n",
    "        fin[f'ndviMean_{f}'] = fin[['ndvi_mean_x', 'ndvi_mean_y']].mean(axis=1)\n",
    "        fin.drop(columns=['ndvi_mean_x','ndvi_mean_y'],axis=1,inplace=True)"
   ]
  },
  {
   "cell_type": "code",
   "execution_count": 266,
   "metadata": {},
   "outputs": [
    {
     "data": {
      "text/html": [
       "<div><svg style=\"position: absolute; width: 0; height: 0; overflow: hidden\">\n",
       "<defs>\n",
       "<symbol id=\"icon-database\" viewBox=\"0 0 32 32\">\n",
       "<path d=\"M16 0c-8.837 0-16 2.239-16 5v4c0 2.761 7.163 5 16 5s16-2.239 16-5v-4c0-2.761-7.163-5-16-5z\"></path>\n",
       "<path d=\"M16 17c-8.837 0-16-2.239-16-5v6c0 2.761 7.163 5 16 5s16-2.239 16-5v-6c0 2.761-7.163 5-16 5z\"></path>\n",
       "<path d=\"M16 26c-8.837 0-16-2.239-16-5v6c0 2.761 7.163 5 16 5s16-2.239 16-5v-6c0 2.761-7.163 5-16 5z\"></path>\n",
       "</symbol>\n",
       "<symbol id=\"icon-file-text2\" viewBox=\"0 0 32 32\">\n",
       "<path d=\"M28.681 7.159c-0.694-0.947-1.662-2.053-2.724-3.116s-2.169-2.030-3.116-2.724c-1.612-1.182-2.393-1.319-2.841-1.319h-15.5c-1.378 0-2.5 1.121-2.5 2.5v27c0 1.378 1.122 2.5 2.5 2.5h23c1.378 0 2.5-1.122 2.5-2.5v-19.5c0-0.448-0.137-1.23-1.319-2.841zM24.543 5.457c0.959 0.959 1.712 1.825 2.268 2.543h-4.811v-4.811c0.718 0.556 1.584 1.309 2.543 2.268zM28 29.5c0 0.271-0.229 0.5-0.5 0.5h-23c-0.271 0-0.5-0.229-0.5-0.5v-27c0-0.271 0.229-0.5 0.5-0.5 0 0 15.499-0 15.5 0v7c0 0.552 0.448 1 1 1h7v19.5z\"></path>\n",
       "<path d=\"M23 26h-14c-0.552 0-1-0.448-1-1s0.448-1 1-1h14c0.552 0 1 0.448 1 1s-0.448 1-1 1z\"></path>\n",
       "<path d=\"M23 22h-14c-0.552 0-1-0.448-1-1s0.448-1 1-1h14c0.552 0 1 0.448 1 1s-0.448 1-1 1z\"></path>\n",
       "<path d=\"M23 18h-14c-0.552 0-1-0.448-1-1s0.448-1 1-1h14c0.552 0 1 0.448 1 1s-0.448 1-1 1z\"></path>\n",
       "</symbol>\n",
       "</defs>\n",
       "</svg>\n",
       "<style>/* CSS stylesheet for displaying xarray objects in jupyterlab.\n",
       " *\n",
       " */\n",
       "\n",
       ":root {\n",
       "  --xr-font-color0: var(--jp-content-font-color0, rgba(0, 0, 0, 1));\n",
       "  --xr-font-color2: var(--jp-content-font-color2, rgba(0, 0, 0, 0.54));\n",
       "  --xr-font-color3: var(--jp-content-font-color3, rgba(0, 0, 0, 0.38));\n",
       "  --xr-border-color: var(--jp-border-color2, #e0e0e0);\n",
       "  --xr-disabled-color: var(--jp-layout-color3, #bdbdbd);\n",
       "  --xr-background-color: var(--jp-layout-color0, white);\n",
       "  --xr-background-color-row-even: var(--jp-layout-color1, white);\n",
       "  --xr-background-color-row-odd: var(--jp-layout-color2, #eeeeee);\n",
       "}\n",
       "\n",
       "html[theme=dark],\n",
       "body.vscode-dark {\n",
       "  --xr-font-color0: rgba(255, 255, 255, 1);\n",
       "  --xr-font-color2: rgba(255, 255, 255, 0.54);\n",
       "  --xr-font-color3: rgba(255, 255, 255, 0.38);\n",
       "  --xr-border-color: #1F1F1F;\n",
       "  --xr-disabled-color: #515151;\n",
       "  --xr-background-color: #111111;\n",
       "  --xr-background-color-row-even: #111111;\n",
       "  --xr-background-color-row-odd: #313131;\n",
       "}\n",
       "\n",
       ".xr-wrap {\n",
       "  display: block;\n",
       "  min-width: 300px;\n",
       "  max-width: 700px;\n",
       "}\n",
       "\n",
       ".xr-text-repr-fallback {\n",
       "  /* fallback to plain text repr when CSS is not injected (untrusted notebook) */\n",
       "  display: none;\n",
       "}\n",
       "\n",
       ".xr-header {\n",
       "  padding-top: 6px;\n",
       "  padding-bottom: 6px;\n",
       "  margin-bottom: 4px;\n",
       "  border-bottom: solid 1px var(--xr-border-color);\n",
       "}\n",
       "\n",
       ".xr-header > div,\n",
       ".xr-header > ul {\n",
       "  display: inline;\n",
       "  margin-top: 0;\n",
       "  margin-bottom: 0;\n",
       "}\n",
       "\n",
       ".xr-obj-type,\n",
       ".xr-array-name {\n",
       "  margin-left: 2px;\n",
       "  margin-right: 10px;\n",
       "}\n",
       "\n",
       ".xr-obj-type {\n",
       "  color: var(--xr-font-color2);\n",
       "}\n",
       "\n",
       ".xr-sections {\n",
       "  padding-left: 0 !important;\n",
       "  display: grid;\n",
       "  grid-template-columns: 150px auto auto 1fr 20px 20px;\n",
       "}\n",
       "\n",
       ".xr-section-item {\n",
       "  display: contents;\n",
       "}\n",
       "\n",
       ".xr-section-item input {\n",
       "  display: none;\n",
       "}\n",
       "\n",
       ".xr-section-item input + label {\n",
       "  color: var(--xr-disabled-color);\n",
       "}\n",
       "\n",
       ".xr-section-item input:enabled + label {\n",
       "  cursor: pointer;\n",
       "  color: var(--xr-font-color2);\n",
       "}\n",
       "\n",
       ".xr-section-item input:enabled + label:hover {\n",
       "  color: var(--xr-font-color0);\n",
       "}\n",
       "\n",
       ".xr-section-summary {\n",
       "  grid-column: 1;\n",
       "  color: var(--xr-font-color2);\n",
       "  font-weight: 500;\n",
       "}\n",
       "\n",
       ".xr-section-summary > span {\n",
       "  display: inline-block;\n",
       "  padding-left: 0.5em;\n",
       "}\n",
       "\n",
       ".xr-section-summary-in:disabled + label {\n",
       "  color: var(--xr-font-color2);\n",
       "}\n",
       "\n",
       ".xr-section-summary-in + label:before {\n",
       "  display: inline-block;\n",
       "  content: '►';\n",
       "  font-size: 11px;\n",
       "  width: 15px;\n",
       "  text-align: center;\n",
       "}\n",
       "\n",
       ".xr-section-summary-in:disabled + label:before {\n",
       "  color: var(--xr-disabled-color);\n",
       "}\n",
       "\n",
       ".xr-section-summary-in:checked + label:before {\n",
       "  content: '▼';\n",
       "}\n",
       "\n",
       ".xr-section-summary-in:checked + label > span {\n",
       "  display: none;\n",
       "}\n",
       "\n",
       ".xr-section-summary,\n",
       ".xr-section-inline-details {\n",
       "  padding-top: 4px;\n",
       "  padding-bottom: 4px;\n",
       "}\n",
       "\n",
       ".xr-section-inline-details {\n",
       "  grid-column: 2 / -1;\n",
       "}\n",
       "\n",
       ".xr-section-details {\n",
       "  display: none;\n",
       "  grid-column: 1 / -1;\n",
       "  margin-bottom: 5px;\n",
       "}\n",
       "\n",
       ".xr-section-summary-in:checked ~ .xr-section-details {\n",
       "  display: contents;\n",
       "}\n",
       "\n",
       ".xr-array-wrap {\n",
       "  grid-column: 1 / -1;\n",
       "  display: grid;\n",
       "  grid-template-columns: 20px auto;\n",
       "}\n",
       "\n",
       ".xr-array-wrap > label {\n",
       "  grid-column: 1;\n",
       "  vertical-align: top;\n",
       "}\n",
       "\n",
       ".xr-preview {\n",
       "  color: var(--xr-font-color3);\n",
       "}\n",
       "\n",
       ".xr-array-preview,\n",
       ".xr-array-data {\n",
       "  padding: 0 5px !important;\n",
       "  grid-column: 2;\n",
       "}\n",
       "\n",
       ".xr-array-data,\n",
       ".xr-array-in:checked ~ .xr-array-preview {\n",
       "  display: none;\n",
       "}\n",
       "\n",
       ".xr-array-in:checked ~ .xr-array-data,\n",
       ".xr-array-preview {\n",
       "  display: inline-block;\n",
       "}\n",
       "\n",
       ".xr-dim-list {\n",
       "  display: inline-block !important;\n",
       "  list-style: none;\n",
       "  padding: 0 !important;\n",
       "  margin: 0;\n",
       "}\n",
       "\n",
       ".xr-dim-list li {\n",
       "  display: inline-block;\n",
       "  padding: 0;\n",
       "  margin: 0;\n",
       "}\n",
       "\n",
       ".xr-dim-list:before {\n",
       "  content: '(';\n",
       "}\n",
       "\n",
       ".xr-dim-list:after {\n",
       "  content: ')';\n",
       "}\n",
       "\n",
       ".xr-dim-list li:not(:last-child):after {\n",
       "  content: ',';\n",
       "  padding-right: 5px;\n",
       "}\n",
       "\n",
       ".xr-has-index {\n",
       "  font-weight: bold;\n",
       "}\n",
       "\n",
       ".xr-var-list,\n",
       ".xr-var-item {\n",
       "  display: contents;\n",
       "}\n",
       "\n",
       ".xr-var-item > div,\n",
       ".xr-var-item label,\n",
       ".xr-var-item > .xr-var-name span {\n",
       "  background-color: var(--xr-background-color-row-even);\n",
       "  margin-bottom: 0;\n",
       "}\n",
       "\n",
       ".xr-var-item > .xr-var-name:hover span {\n",
       "  padding-right: 5px;\n",
       "}\n",
       "\n",
       ".xr-var-list > li:nth-child(odd) > div,\n",
       ".xr-var-list > li:nth-child(odd) > label,\n",
       ".xr-var-list > li:nth-child(odd) > .xr-var-name span {\n",
       "  background-color: var(--xr-background-color-row-odd);\n",
       "}\n",
       "\n",
       ".xr-var-name {\n",
       "  grid-column: 1;\n",
       "}\n",
       "\n",
       ".xr-var-dims {\n",
       "  grid-column: 2;\n",
       "}\n",
       "\n",
       ".xr-var-dtype {\n",
       "  grid-column: 3;\n",
       "  text-align: right;\n",
       "  color: var(--xr-font-color2);\n",
       "}\n",
       "\n",
       ".xr-var-preview {\n",
       "  grid-column: 4;\n",
       "}\n",
       "\n",
       ".xr-var-name,\n",
       ".xr-var-dims,\n",
       ".xr-var-dtype,\n",
       ".xr-preview,\n",
       ".xr-attrs dt {\n",
       "  white-space: nowrap;\n",
       "  overflow: hidden;\n",
       "  text-overflow: ellipsis;\n",
       "  padding-right: 10px;\n",
       "}\n",
       "\n",
       ".xr-var-name:hover,\n",
       ".xr-var-dims:hover,\n",
       ".xr-var-dtype:hover,\n",
       ".xr-attrs dt:hover {\n",
       "  overflow: visible;\n",
       "  width: auto;\n",
       "  z-index: 1;\n",
       "}\n",
       "\n",
       ".xr-var-attrs,\n",
       ".xr-var-data {\n",
       "  display: none;\n",
       "  background-color: var(--xr-background-color) !important;\n",
       "  padding-bottom: 5px !important;\n",
       "}\n",
       "\n",
       ".xr-var-attrs-in:checked ~ .xr-var-attrs,\n",
       ".xr-var-data-in:checked ~ .xr-var-data {\n",
       "  display: block;\n",
       "}\n",
       "\n",
       ".xr-var-data > table {\n",
       "  float: right;\n",
       "}\n",
       "\n",
       ".xr-var-name span,\n",
       ".xr-var-data,\n",
       ".xr-attrs {\n",
       "  padding-left: 25px !important;\n",
       "}\n",
       "\n",
       ".xr-attrs,\n",
       ".xr-var-attrs,\n",
       ".xr-var-data {\n",
       "  grid-column: 1 / -1;\n",
       "}\n",
       "\n",
       "dl.xr-attrs {\n",
       "  padding: 0;\n",
       "  margin: 0;\n",
       "  display: grid;\n",
       "  grid-template-columns: 125px auto;\n",
       "}\n",
       "\n",
       ".xr-attrs dt,\n",
       ".xr-attrs dd {\n",
       "  padding: 0;\n",
       "  margin: 0;\n",
       "  float: left;\n",
       "  padding-right: 10px;\n",
       "  width: auto;\n",
       "}\n",
       "\n",
       ".xr-attrs dt {\n",
       "  font-weight: normal;\n",
       "  grid-column: 1;\n",
       "}\n",
       "\n",
       ".xr-attrs dt:hover span {\n",
       "  display: inline-block;\n",
       "  background: var(--xr-background-color);\n",
       "  padding-right: 10px;\n",
       "}\n",
       "\n",
       ".xr-attrs dd {\n",
       "  grid-column: 2;\n",
       "  white-space: pre-wrap;\n",
       "  word-break: break-all;\n",
       "}\n",
       "\n",
       ".xr-icon-database,\n",
       ".xr-icon-file-text2 {\n",
       "  display: inline-block;\n",
       "  vertical-align: middle;\n",
       "  width: 1em;\n",
       "  height: 1.5em !important;\n",
       "  stroke-width: 0;\n",
       "  stroke: currentColor;\n",
       "  fill: currentColor;\n",
       "}\n",
       "</style><pre class='xr-text-repr-fallback'>&lt;xarray.Dataset&gt;\n",
       "Dimensions:      (band: 1, projectID: 13267)\n",
       "Coordinates:\n",
       "  * projectID    (projectID) float64 1.256e+03 1.257e+03 ... 3.606e+04 3.606e+04\n",
       "  * band         (band) int32 1\n",
       "    spatial_ref  int32 0\n",
       "Data variables:\n",
       "    ndvi_mean    (projectID, band) float64 dask.array&lt;chunksize=(1, 1), meta=np.ndarray&gt;</pre><div class='xr-wrap' hidden><div class='xr-header'><div class='xr-obj-type'>xarray.Dataset</div></div><ul class='xr-sections'><li class='xr-section-item'><input id='section-27d71176-d9bb-418f-8c7f-8734bdf3be8b' class='xr-section-summary-in' type='checkbox' disabled ><label for='section-27d71176-d9bb-418f-8c7f-8734bdf3be8b' class='xr-section-summary'  title='Expand/collapse section'>Dimensions:</label><div class='xr-section-inline-details'><ul class='xr-dim-list'><li><span class='xr-has-index'>band</span>: 1</li><li><span class='xr-has-index'>projectID</span>: 13267</li></ul></div><div class='xr-section-details'></div></li><li class='xr-section-item'><input id='section-cf416706-ba3a-42c3-ba14-5552279b0d09' class='xr-section-summary-in' type='checkbox'  checked><label for='section-cf416706-ba3a-42c3-ba14-5552279b0d09' class='xr-section-summary' >Coordinates: <span>(3)</span></label><div class='xr-section-inline-details'></div><div class='xr-section-details'><ul class='xr-var-list'><li class='xr-var-item'><div class='xr-var-name'><span class='xr-has-index'>projectID</span></div><div class='xr-var-dims'>(projectID)</div><div class='xr-var-dtype'>float64</div><div class='xr-var-preview xr-preview'>1.256e+03 1.257e+03 ... 3.606e+04</div><input id='attrs-810ceb26-37e7-4278-8890-01b775e6450c' class='xr-var-attrs-in' type='checkbox' disabled><label for='attrs-810ceb26-37e7-4278-8890-01b775e6450c' title='Show/Hide attributes'><svg class='icon xr-icon-file-text2'><use xlink:href='#icon-file-text2'></use></svg></label><input id='data-eb12a10f-4d15-47b2-886c-165b0587da8b' class='xr-var-data-in' type='checkbox'><label for='data-eb12a10f-4d15-47b2-886c-165b0587da8b' title='Show/Hide data repr'><svg class='icon xr-icon-database'><use xlink:href='#icon-database'></use></svg></label><div class='xr-var-attrs'><dl class='xr-attrs'></dl></div><div class='xr-var-data'><pre>array([ 1256.,  1257.,  1258., ..., 36054., 36055., 36059.])</pre></div></li><li class='xr-var-item'><div class='xr-var-name'><span class='xr-has-index'>band</span></div><div class='xr-var-dims'>(band)</div><div class='xr-var-dtype'>int32</div><div class='xr-var-preview xr-preview'>1</div><input id='attrs-90afbb27-2853-460e-8e37-068bccb8d798' class='xr-var-attrs-in' type='checkbox' disabled><label for='attrs-90afbb27-2853-460e-8e37-068bccb8d798' title='Show/Hide attributes'><svg class='icon xr-icon-file-text2'><use xlink:href='#icon-file-text2'></use></svg></label><input id='data-600b89f5-4a0f-4c52-aca1-38f5f7f17a7d' class='xr-var-data-in' type='checkbox'><label for='data-600b89f5-4a0f-4c52-aca1-38f5f7f17a7d' title='Show/Hide data repr'><svg class='icon xr-icon-database'><use xlink:href='#icon-database'></use></svg></label><div class='xr-var-attrs'><dl class='xr-attrs'></dl></div><div class='xr-var-data'><pre>array([1])</pre></div></li><li class='xr-var-item'><div class='xr-var-name'><span>spatial_ref</span></div><div class='xr-var-dims'>()</div><div class='xr-var-dtype'>int32</div><div class='xr-var-preview xr-preview'>0</div><input id='attrs-b2045a60-043b-47d7-9889-eb5a1f5cc446' class='xr-var-attrs-in' type='checkbox' ><label for='attrs-b2045a60-043b-47d7-9889-eb5a1f5cc446' title='Show/Hide attributes'><svg class='icon xr-icon-file-text2'><use xlink:href='#icon-file-text2'></use></svg></label><input id='data-064fa86a-298a-4e34-9b4c-f94a985862b8' class='xr-var-data-in' type='checkbox'><label for='data-064fa86a-298a-4e34-9b4c-f94a985862b8' title='Show/Hide data repr'><svg class='icon xr-icon-database'><use xlink:href='#icon-database'></use></svg></label><div class='xr-var-attrs'><dl class='xr-attrs'><dt><span>crs_wkt :</span></dt><dd>PROJCRS[&quot;WGS 84 / UTM zone 37N&quot;,BASEGEOGCRS[&quot;WGS 84&quot;,DATUM[&quot;World Geodetic System 1984&quot;,ELLIPSOID[&quot;WGS 84&quot;,6378137,298.257223563,LENGTHUNIT[&quot;metre&quot;,1]]],PRIMEM[&quot;Greenwich&quot;,0,ANGLEUNIT[&quot;degree&quot;,0.0174532925199433]],ID[&quot;EPSG&quot;,4326]],CONVERSION[&quot;UTM zone 37N&quot;,METHOD[&quot;Transverse Mercator&quot;,ID[&quot;EPSG&quot;,9807]],PARAMETER[&quot;Latitude of natural origin&quot;,0,ANGLEUNIT[&quot;degree&quot;,0.0174532925199433],ID[&quot;EPSG&quot;,8801]],PARAMETER[&quot;Longitude of natural origin&quot;,39,ANGLEUNIT[&quot;degree&quot;,0.0174532925199433],ID[&quot;EPSG&quot;,8802]],PARAMETER[&quot;Scale factor at natural origin&quot;,0.9996,SCALEUNIT[&quot;unity&quot;,1],ID[&quot;EPSG&quot;,8805]],PARAMETER[&quot;False easting&quot;,500000,LENGTHUNIT[&quot;metre&quot;,1],ID[&quot;EPSG&quot;,8806]],PARAMETER[&quot;False northing&quot;,0,LENGTHUNIT[&quot;metre&quot;,1],ID[&quot;EPSG&quot;,8807]]],CS[Cartesian,2],AXIS[&quot;easting&quot;,east,ORDER[1],LENGTHUNIT[&quot;metre&quot;,1]],AXIS[&quot;northing&quot;,north,ORDER[2],LENGTHUNIT[&quot;metre&quot;,1]],ID[&quot;EPSG&quot;,32637]]</dd><dt><span>semi_major_axis :</span></dt><dd>6378137.0</dd><dt><span>semi_minor_axis :</span></dt><dd>6356752.314245179</dd><dt><span>inverse_flattening :</span></dt><dd>298.257223563</dd><dt><span>reference_ellipsoid_name :</span></dt><dd>WGS 84</dd><dt><span>longitude_of_prime_meridian :</span></dt><dd>0.0</dd><dt><span>prime_meridian_name :</span></dt><dd>Greenwich</dd><dt><span>geographic_crs_name :</span></dt><dd>WGS 84</dd><dt><span>horizontal_datum_name :</span></dt><dd>World Geodetic System 1984</dd><dt><span>projected_crs_name :</span></dt><dd>WGS 84 / UTM zone 37N</dd><dt><span>grid_mapping_name :</span></dt><dd>transverse_mercator</dd><dt><span>latitude_of_projection_origin :</span></dt><dd>0.0</dd><dt><span>longitude_of_central_meridian :</span></dt><dd>39.0</dd><dt><span>false_easting :</span></dt><dd>500000.0</dd><dt><span>false_northing :</span></dt><dd>0.0</dd><dt><span>scale_factor_at_central_meridian :</span></dt><dd>0.9996</dd><dt><span>spatial_ref :</span></dt><dd>PROJCRS[&quot;WGS 84 / UTM zone 37N&quot;,BASEGEOGCRS[&quot;WGS 84&quot;,DATUM[&quot;World Geodetic System 1984&quot;,ELLIPSOID[&quot;WGS 84&quot;,6378137,298.257223563,LENGTHUNIT[&quot;metre&quot;,1]]],PRIMEM[&quot;Greenwich&quot;,0,ANGLEUNIT[&quot;degree&quot;,0.0174532925199433]],ID[&quot;EPSG&quot;,4326]],CONVERSION[&quot;UTM zone 37N&quot;,METHOD[&quot;Transverse Mercator&quot;,ID[&quot;EPSG&quot;,9807]],PARAMETER[&quot;Latitude of natural origin&quot;,0,ANGLEUNIT[&quot;degree&quot;,0.0174532925199433],ID[&quot;EPSG&quot;,8801]],PARAMETER[&quot;Longitude of natural origin&quot;,39,ANGLEUNIT[&quot;degree&quot;,0.0174532925199433],ID[&quot;EPSG&quot;,8802]],PARAMETER[&quot;Scale factor at natural origin&quot;,0.9996,SCALEUNIT[&quot;unity&quot;,1],ID[&quot;EPSG&quot;,8805]],PARAMETER[&quot;False easting&quot;,500000,LENGTHUNIT[&quot;metre&quot;,1],ID[&quot;EPSG&quot;,8806]],PARAMETER[&quot;False northing&quot;,0,LENGTHUNIT[&quot;metre&quot;,1],ID[&quot;EPSG&quot;,8807]]],CS[Cartesian,2],AXIS[&quot;easting&quot;,east,ORDER[1],LENGTHUNIT[&quot;metre&quot;,1]],AXIS[&quot;northing&quot;,north,ORDER[2],LENGTHUNIT[&quot;metre&quot;,1]],ID[&quot;EPSG&quot;,32637]]</dd></dl></div><div class='xr-var-data'><pre>array(0)</pre></div></li></ul></div></li><li class='xr-section-item'><input id='section-bf7942b5-94a9-442a-b5f0-3072b76e6d77' class='xr-section-summary-in' type='checkbox'  checked><label for='section-bf7942b5-94a9-442a-b5f0-3072b76e6d77' class='xr-section-summary' >Data variables: <span>(1)</span></label><div class='xr-section-inline-details'></div><div class='xr-section-details'><ul class='xr-var-list'><li class='xr-var-item'><div class='xr-var-name'><span>ndvi_mean</span></div><div class='xr-var-dims'>(projectID, band)</div><div class='xr-var-dtype'>float64</div><div class='xr-var-preview xr-preview'>dask.array&lt;chunksize=(1, 1), meta=np.ndarray&gt;</div><input id='attrs-95b91cc6-7676-4330-b6b3-7381510c68b0' class='xr-var-attrs-in' type='checkbox' disabled><label for='attrs-95b91cc6-7676-4330-b6b3-7381510c68b0' title='Show/Hide attributes'><svg class='icon xr-icon-file-text2'><use xlink:href='#icon-file-text2'></use></svg></label><input id='data-cce54c02-f113-4434-bcee-64661f2eb139' class='xr-var-data-in' type='checkbox'><label for='data-cce54c02-f113-4434-bcee-64661f2eb139' title='Show/Hide data repr'><svg class='icon xr-icon-database'><use xlink:href='#icon-database'></use></svg></label><div class='xr-var-attrs'><dl class='xr-attrs'></dl></div><div class='xr-var-data'><table>\n",
       "<tr>\n",
       "<td>\n",
       "<table>\n",
       "  <thead>\n",
       "    <tr><td> </td><th> Array </th><th> Chunk </th></tr>\n",
       "  </thead>\n",
       "  <tbody>\n",
       "    <tr><th> Bytes </th><td> 106.14 kB </td> <td> 8 B </td></tr>\n",
       "    <tr><th> Shape </th><td> (13267, 1) </td> <td> (1, 1) </td></tr>\n",
       "    <tr><th> Count </th><td> 68201 Tasks </td><td> 13267 Chunks </td></tr>\n",
       "    <tr><th> Type </th><td> float64 </td><td> numpy.ndarray </td></tr>\n",
       "  </tbody>\n",
       "</table>\n",
       "</td>\n",
       "<td>\n",
       "<svg width=\"75\" height=\"170\" style=\"stroke:rgb(0,0,0);stroke-width:1\" >\n",
       "\n",
       "  <!-- Horizontal lines -->\n",
       "  <line x1=\"0\" y1=\"0\" x2=\"25\" y2=\"0\" style=\"stroke-width:2\" />\n",
       "  <line x1=\"0\" y1=\"6\" x2=\"25\" y2=\"6\" />\n",
       "  <line x1=\"0\" y1=\"12\" x2=\"25\" y2=\"12\" />\n",
       "  <line x1=\"0\" y1=\"18\" x2=\"25\" y2=\"18\" />\n",
       "  <line x1=\"0\" y1=\"25\" x2=\"25\" y2=\"25\" />\n",
       "  <line x1=\"0\" y1=\"31\" x2=\"25\" y2=\"31\" />\n",
       "  <line x1=\"0\" y1=\"37\" x2=\"25\" y2=\"37\" />\n",
       "  <line x1=\"0\" y1=\"44\" x2=\"25\" y2=\"44\" />\n",
       "  <line x1=\"0\" y1=\"50\" x2=\"25\" y2=\"50\" />\n",
       "  <line x1=\"0\" y1=\"56\" x2=\"25\" y2=\"56\" />\n",
       "  <line x1=\"0\" y1=\"63\" x2=\"25\" y2=\"63\" />\n",
       "  <line x1=\"0\" y1=\"69\" x2=\"25\" y2=\"69\" />\n",
       "  <line x1=\"0\" y1=\"75\" x2=\"25\" y2=\"75\" />\n",
       "  <line x1=\"0\" y1=\"82\" x2=\"25\" y2=\"82\" />\n",
       "  <line x1=\"0\" y1=\"88\" x2=\"25\" y2=\"88\" />\n",
       "  <line x1=\"0\" y1=\"94\" x2=\"25\" y2=\"94\" />\n",
       "  <line x1=\"0\" y1=\"101\" x2=\"25\" y2=\"101\" />\n",
       "  <line x1=\"0\" y1=\"107\" x2=\"25\" y2=\"107\" />\n",
       "  <line x1=\"0\" y1=\"113\" x2=\"25\" y2=\"113\" />\n",
       "  <line x1=\"0\" y1=\"120\" x2=\"25\" y2=\"120\" style=\"stroke-width:2\" />\n",
       "\n",
       "  <!-- Vertical lines -->\n",
       "  <line x1=\"0\" y1=\"0\" x2=\"0\" y2=\"120\" style=\"stroke-width:2\" />\n",
       "  <line x1=\"25\" y1=\"0\" x2=\"25\" y2=\"120\" style=\"stroke-width:2\" />\n",
       "\n",
       "  <!-- Colored Rectangle -->\n",
       "  <polygon points=\"0.0,0.0 25.412616514582485,0.0 25.412616514582485,120.0 0.0,120.0\" style=\"fill:#8B4903A0;stroke-width:0\"/>\n",
       "\n",
       "  <!-- Text -->\n",
       "  <text x=\"12.706308\" y=\"140.000000\" font-size=\"1.0rem\" font-weight=\"100\" text-anchor=\"middle\" >1</text>\n",
       "  <text x=\"45.412617\" y=\"60.000000\" font-size=\"1.0rem\" font-weight=\"100\" text-anchor=\"middle\" transform=\"rotate(-90,45.412617,60.000000)\">13267</text>\n",
       "</svg>\n",
       "</td>\n",
       "</tr>\n",
       "</table></div></li></ul></div></li><li class='xr-section-item'><input id='section-e047c589-dff7-4a8d-b300-c37e6afa1c9f' class='xr-section-summary-in' type='checkbox' disabled ><label for='section-e047c589-dff7-4a8d-b300-c37e6afa1c9f' class='xr-section-summary'  title='Expand/collapse section'>Attributes: <span>(0)</span></label><div class='xr-section-inline-details'></div><div class='xr-section-details'><dl class='xr-attrs'></dl></div></li></ul></div></div>"
      ],
      "text/plain": [
       "<xarray.Dataset>\n",
       "Dimensions:      (band: 1, projectID: 13267)\n",
       "Coordinates:\n",
       "  * projectID    (projectID) float64 1.256e+03 1.257e+03 ... 3.606e+04 3.606e+04\n",
       "  * band         (band) int32 1\n",
       "    spatial_ref  int32 0\n",
       "Data variables:\n",
       "    ndvi_mean    (projectID, band) float64 dask.array<chunksize=(1, 1), meta=np.ndarray>"
      ]
     },
     "execution_count": 266,
     "metadata": {},
     "output_type": "execute_result"
    }
   ],
   "source": [
    "zonal_stats"
   ]
  },
  {
   "cell_type": "code",
   "execution_count": 272,
   "metadata": {},
   "outputs": [
    {
     "name": "stdout",
     "output_type": "stream",
     "text": [
      "Wall time: 7min 50s\n"
     ]
    }
   ],
   "source": [
    "%%time\n",
    "with LocalCluster(n_workers=int(0.6 * mp.cpu_count()),\n",
    "                  processes=False,\n",
    "                  threads_per_worker=2,\n",
    "                  memory_limit='6GB',\n",
    "                  ip='tcp://localhost:9895',\n",
    "                  ) as cluster, Client(cluster) as client:\n",
    "    zonal_stats2=zonal_stats.compute()\n",
    "    dask_df=zonal_stats2.to_dataframe()\n",
    "#Wall time: 7min 36s\n",
    "#Wall time: 11min 30s\n"
   ]
  },
  {
   "cell_type": "code",
   "execution_count": null,
   "metadata": {},
   "outputs": [],
   "source": [
    "zonal_stats.compute?"
   ]
  },
  {
   "cell_type": "code",
   "execution_count": null,
   "metadata": {},
   "outputs": [],
   "source": [
    "!pip install xarray-extras\n",
    "import xarray_extras"
   ]
  },
  {
   "cell_type": "code",
   "execution_count": null,
   "metadata": {},
   "outputs": [],
   "source": []
  },
  {
   "cell_type": "code",
   "execution_count": 143,
   "metadata": {},
   "outputs": [],
   "source": [
    "df1 = pd.DataFrame(\n",
    "       {\n",
    "           \"A\": [\"A0\", \"A1\", \"A2\", \"A3\"],\n",
    "           \"B\":[]\n",
    "           \n",
    "     \n",
    "       }\n",
    "   )\n",
    "df2 = pd.DataFrame(\n",
    "       {\n",
    "           \"A\": [\"A2\", \"A3\", \"A6\", \"A7\"],\n",
    "           \"B\": [\"2\", \"3\", \"4\", \"5\"],\n",
    "   \n",
    "       },\n",
    "       index=[4, 5, 6, 7],\n",
    "   )\n",
    "   "
   ]
  },
  {
   "cell_type": "code",
   "execution_count": 145,
   "metadata": {},
   "outputs": [],
   "source": [
    "frames = [df1, df2]"
   ]
  },
  {
   "cell_type": "code",
   "execution_count": 146,
   "metadata": {},
   "outputs": [
    {
     "data": {
      "text/html": [
       "<div>\n",
       "<style scoped>\n",
       "    .dataframe tbody tr th:only-of-type {\n",
       "        vertical-align: middle;\n",
       "    }\n",
       "\n",
       "    .dataframe tbody tr th {\n",
       "        vertical-align: top;\n",
       "    }\n",
       "\n",
       "    .dataframe thead th {\n",
       "        text-align: right;\n",
       "    }\n",
       "</style>\n",
       "<table border=\"1\" class=\"dataframe\">\n",
       "  <thead>\n",
       "    <tr style=\"text-align: right;\">\n",
       "      <th></th>\n",
       "      <th>A</th>\n",
       "      <th>B</th>\n",
       "    </tr>\n",
       "  </thead>\n",
       "  <tbody>\n",
       "    <tr>\n",
       "      <th>4</th>\n",
       "      <td>A2</td>\n",
       "      <td>2</td>\n",
       "    </tr>\n",
       "    <tr>\n",
       "      <th>5</th>\n",
       "      <td>A3</td>\n",
       "      <td>3</td>\n",
       "    </tr>\n",
       "    <tr>\n",
       "      <th>6</th>\n",
       "      <td>A6</td>\n",
       "      <td>4</td>\n",
       "    </tr>\n",
       "    <tr>\n",
       "      <th>7</th>\n",
       "      <td>A7</td>\n",
       "      <td>5</td>\n",
       "    </tr>\n",
       "  </tbody>\n",
       "</table>\n",
       "</div>"
      ],
      "text/plain": [
       "    A  B\n",
       "4  A2  2\n",
       "5  A3  3\n",
       "6  A6  4\n",
       "7  A7  5"
      ]
     },
     "execution_count": 146,
     "metadata": {},
     "output_type": "execute_result"
    }
   ],
   "source": [
    "result = pd.concat(frames,verify_integrity=True)\n",
    "result"
   ]
  },
  {
   "cell_type": "code",
   "execution_count": 147,
   "metadata": {},
   "outputs": [
    {
     "data": {
      "text/html": [
       "<div>\n",
       "<style scoped>\n",
       "    .dataframe tbody tr th:only-of-type {\n",
       "        vertical-align: middle;\n",
       "    }\n",
       "\n",
       "    .dataframe tbody tr th {\n",
       "        vertical-align: top;\n",
       "    }\n",
       "\n",
       "    .dataframe thead th {\n",
       "        text-align: right;\n",
       "    }\n",
       "</style>\n",
       "<table border=\"1\" class=\"dataframe\">\n",
       "  <thead>\n",
       "    <tr style=\"text-align: right;\">\n",
       "      <th></th>\n",
       "      <th>B_x</th>\n",
       "      <th>A</th>\n",
       "      <th>B_y</th>\n",
       "    </tr>\n",
       "  </thead>\n",
       "  <tbody>\n",
       "    <tr>\n",
       "      <th>0</th>\n",
       "      <td>NaN</td>\n",
       "      <td>A2</td>\n",
       "      <td>2</td>\n",
       "    </tr>\n",
       "    <tr>\n",
       "      <th>1</th>\n",
       "      <td>NaN</td>\n",
       "      <td>A3</td>\n",
       "      <td>3</td>\n",
       "    </tr>\n",
       "    <tr>\n",
       "      <th>2</th>\n",
       "      <td>NaN</td>\n",
       "      <td>A6</td>\n",
       "      <td>4</td>\n",
       "    </tr>\n",
       "    <tr>\n",
       "      <th>3</th>\n",
       "      <td>NaN</td>\n",
       "      <td>A7</td>\n",
       "      <td>5</td>\n",
       "    </tr>\n",
       "  </tbody>\n",
       "</table>\n",
       "</div>"
      ],
      "text/plain": [
       "   B_x   A B_y\n",
       "0  NaN  A2   2\n",
       "1  NaN  A3   3\n",
       "2  NaN  A6   4\n",
       "3  NaN  A7   5"
      ]
     },
     "execution_count": 147,
     "metadata": {},
     "output_type": "execute_result"
    }
   ],
   "source": [
    "a=pd.merge(df1, df2, on=\"A\",how='outer')\n",
    "a"
   ]
  },
  {
   "cell_type": "code",
   "execution_count": 151,
   "metadata": {},
   "outputs": [
    {
     "name": "stdout",
     "output_type": "stream",
     "text": [
      "B_x    float64\n",
      "A       object\n",
      "B_y    float64\n",
      "dtype: object\n",
      "    A  ndvi\n",
      "0  A2   1.0\n",
      "1  A3   1.5\n",
      "2  A6   2.0\n",
      "3  A7   2.5\n"
     ]
    }
   ],
   "source": [
    "a=pd.merge(df1, df2, on=\"A\",how='outer')\n",
    "a=a.fillna(0)\n",
    "convert_dict={'B_x': 'float','B_y': 'float'}\n",
    "a = a.astype(convert_dict) \n",
    "print(a.dtypes)\n",
    "a['ndvi'] = a[['B_x', 'B_y']].mean(axis=1)\n",
    "a.drop(columns=['B_x','B_y'],axis=1,inplace=True)\n",
    "print(a)"
   ]
  },
  {
   "cell_type": "code",
   "execution_count": 116,
   "metadata": {},
   "outputs": [
    {
     "data": {
      "text/html": [
       "<div>\n",
       "<style scoped>\n",
       "    .dataframe tbody tr th:only-of-type {\n",
       "        vertical-align: middle;\n",
       "    }\n",
       "\n",
       "    .dataframe tbody tr th {\n",
       "        vertical-align: top;\n",
       "    }\n",
       "\n",
       "    .dataframe thead th {\n",
       "        text-align: right;\n",
       "    }\n",
       "</style>\n",
       "<table border=\"1\" class=\"dataframe\">\n",
       "  <thead>\n",
       "    <tr style=\"text-align: right;\">\n",
       "      <th></th>\n",
       "      <th>A</th>\n",
       "      <th>ndvi</th>\n",
       "    </tr>\n",
       "  </thead>\n",
       "  <tbody>\n",
       "    <tr>\n",
       "      <th>0</th>\n",
       "      <td>A0</td>\n",
       "      <td>0.5</td>\n",
       "    </tr>\n",
       "    <tr>\n",
       "      <th>1</th>\n",
       "      <td>A1</td>\n",
       "      <td>1.0</td>\n",
       "    </tr>\n",
       "    <tr>\n",
       "      <th>2</th>\n",
       "      <td>A2</td>\n",
       "      <td>2.5</td>\n",
       "    </tr>\n",
       "    <tr>\n",
       "      <th>3</th>\n",
       "      <td>A3</td>\n",
       "      <td>3.5</td>\n",
       "    </tr>\n",
       "    <tr>\n",
       "      <th>4</th>\n",
       "      <td>A6</td>\n",
       "      <td>2.0</td>\n",
       "    </tr>\n",
       "    <tr>\n",
       "      <th>5</th>\n",
       "      <td>A7</td>\n",
       "      <td>2.5</td>\n",
       "    </tr>\n",
       "  </tbody>\n",
       "</table>\n",
       "</div>"
      ],
      "text/plain": [
       "    A  ndvi\n",
       "0  A0   0.5\n",
       "1  A1   1.0\n",
       "2  A2   2.5\n",
       "3  A3   3.5\n",
       "4  A6   2.0\n",
       "5  A7   2.5"
      ]
     },
     "execution_count": 116,
     "metadata": {},
     "output_type": "execute_result"
    }
   ],
   "source": [
    "b=pd.merge(df1, df2, on=\"A\",how='outer')\n",
    "b=b.fillna(0)\n",
    "convert_dict={'B_x': 'float','B_y': 'float'}\n",
    "b = b.astype(convert_dict) \n",
    "print(b.dtypes)\n",
    "b['ndvi'] = b[['B_x', 'B_y']].mean(axis=1)\n",
    "b.drop(columns=['B_x','B_y'],axis=1,inplace=True)\n",
    "print(a)"
   ]
  },
  {
   "cell_type": "code",
   "execution_count": 252,
   "metadata": {},
   "outputs": [],
   "source": [
    "ilk=last_df.iloc[0:100]\n",
    "ikinci=last_df.iloc[80:180]"
   ]
  },
  {
   "cell_type": "code",
   "execution_count": 253,
   "metadata": {},
   "outputs": [],
   "source": [
    "m=pd.merge(ilk, ikinci, on=\"projectID\",how='outer')\n",
    "m=m.fillna(np.nan)\n"
   ]
  },
  {
   "cell_type": "code",
   "execution_count": 254,
   "metadata": {},
   "outputs": [
    {
     "data": {
      "text/html": [
       "<div>\n",
       "<style scoped>\n",
       "    .dataframe tbody tr th:only-of-type {\n",
       "        vertical-align: middle;\n",
       "    }\n",
       "\n",
       "    .dataframe tbody tr th {\n",
       "        vertical-align: top;\n",
       "    }\n",
       "\n",
       "    .dataframe thead th {\n",
       "        text-align: right;\n",
       "    }\n",
       "</style>\n",
       "<table border=\"1\" class=\"dataframe\">\n",
       "  <thead>\n",
       "    <tr style=\"text-align: right;\">\n",
       "      <th></th>\n",
       "      <th>projectID</th>\n",
       "      <th>ndvi_mean_x</th>\n",
       "      <th>ndvi_mean_y</th>\n",
       "    </tr>\n",
       "  </thead>\n",
       "  <tbody>\n",
       "    <tr>\n",
       "      <th>0</th>\n",
       "      <td>1256.0</td>\n",
       "      <td>0.672889</td>\n",
       "      <td>NaN</td>\n",
       "    </tr>\n",
       "    <tr>\n",
       "      <th>1</th>\n",
       "      <td>1257.0</td>\n",
       "      <td>0.706827</td>\n",
       "      <td>NaN</td>\n",
       "    </tr>\n",
       "    <tr>\n",
       "      <th>2</th>\n",
       "      <td>1258.0</td>\n",
       "      <td>0.831125</td>\n",
       "      <td>NaN</td>\n",
       "    </tr>\n",
       "    <tr>\n",
       "      <th>3</th>\n",
       "      <td>1259.0</td>\n",
       "      <td>0.772160</td>\n",
       "      <td>NaN</td>\n",
       "    </tr>\n",
       "    <tr>\n",
       "      <th>4</th>\n",
       "      <td>1260.0</td>\n",
       "      <td>0.771594</td>\n",
       "      <td>NaN</td>\n",
       "    </tr>\n",
       "  </tbody>\n",
       "</table>\n",
       "</div>"
      ],
      "text/plain": [
       "   projectID  ndvi_mean_x  ndvi_mean_y\n",
       "0     1256.0     0.672889          NaN\n",
       "1     1257.0     0.706827          NaN\n",
       "2     1258.0     0.831125          NaN\n",
       "3     1259.0     0.772160          NaN\n",
       "4     1260.0     0.771594          NaN"
      ]
     },
     "execution_count": 254,
     "metadata": {},
     "output_type": "execute_result"
    }
   ],
   "source": [
    "m.head()"
   ]
  },
  {
   "cell_type": "code",
   "execution_count": 255,
   "metadata": {},
   "outputs": [
    {
     "name": "stdout",
     "output_type": "stream",
     "text": [
      "projectID      float64\n",
      "ndvi_mean_x    float64\n",
      "ndvi_mean_y    float64\n",
      "dtype: object\n",
      "   projectID      ndvi\n",
      "0     1256.0  0.672889\n",
      "1     1257.0  0.706827\n",
      "2     1258.0  0.831125\n",
      "3     1259.0  0.772160\n",
      "4     1260.0  0.771594\n"
     ]
    }
   ],
   "source": [
    "m=pd.merge(ilk, ikinci, on=\"projectID\",how='outer')\n",
    "m=m.fillna(np.nan)\n",
    "convert_dict={'ndvi_mean_x': 'float','ndvi_mean_y': 'float'}\n",
    "m = m.astype(convert_dict) \n",
    "print(m.dtypes)\n",
    "m['ndvi'] = m[['ndvi_mean_x', 'ndvi_mean_y']].mean(axis=1)\n",
    "m.drop(columns=['ndvi_mean_x','ndvi_mean_y'],axis=1,inplace=True)\n",
    "print(m.head())"
   ]
  },
  {
   "cell_type": "code",
   "execution_count": 256,
   "metadata": {},
   "outputs": [
    {
     "data": {
      "text/plain": [
       "180"
      ]
     },
     "execution_count": 256,
     "metadata": {},
     "output_type": "execute_result"
    }
   ],
   "source": [
    "len(m)"
   ]
  },
  {
   "cell_type": "code",
   "execution_count": 198,
   "metadata": {},
   "outputs": [
    {
     "data": {
      "text/plain": [
       "numpy.float64"
      ]
     },
     "execution_count": 198,
     "metadata": {},
     "output_type": "execute_result"
    }
   ],
   "source": [
    "type(m['ndvi_mean_y'].values[0])"
   ]
  },
  {
   "cell_type": "code",
   "execution_count": 203,
   "metadata": {},
   "outputs": [
    {
     "data": {
      "text/plain": [
       "float"
      ]
     },
     "execution_count": 203,
     "metadata": {},
     "output_type": "execute_result"
    }
   ],
   "source": [
    "type(np.NaN)"
   ]
  },
  {
   "cell_type": "code",
   "execution_count": 10,
   "metadata": {},
   "outputs": [],
   "source": [
    "from dask.distributed import Client, LocalCluster\n"
   ]
  },
  {
   "cell_type": "code",
   "execution_count": 11,
   "metadata": {},
   "outputs": [],
   "source": [
    "cluster=LocalCluster(n_workers=int(0.6 * mp.cpu_count()),processes=True,threads_per_worker=2,memory_limit='2GB')"
   ]
  },
  {
   "cell_type": "code",
   "execution_count": 12,
   "metadata": {},
   "outputs": [
    {
     "data": {
      "text/html": [
       "<table style=\"border: 2px solid white;\">\n",
       "<tr>\n",
       "<td style=\"vertical-align: top; border: 0px solid white\">\n",
       "<h3 style=\"text-align: left;\">Client</h3>\n",
       "<ul style=\"text-align: left; list-style: none; margin: 0; padding: 0;\">\n",
       "  <li><b>Scheduler: </b>tcp://127.0.0.1:51473</li>\n",
       "  <li><b>Dashboard: </b><a href='http://127.0.0.1:8787/status' target='_blank'>http://127.0.0.1:8787/status</a></li>\n",
       "</ul>\n",
       "</td>\n",
       "<td style=\"vertical-align: top; border: 0px solid white\">\n",
       "<h3 style=\"text-align: left;\">Cluster</h3>\n",
       "<ul style=\"text-align: left; list-style:none; margin: 0; padding: 0;\">\n",
       "  <li><b>Workers: </b>7</li>\n",
       "  <li><b>Cores: </b>14</li>\n",
       "  <li><b>Memory: </b>14.00 GB</li>\n",
       "</ul>\n",
       "</td>\n",
       "</tr>\n",
       "</table>"
      ],
      "text/plain": [
       "<Client: 'tcp://127.0.0.1:51473' processes=7 threads=14, memory=14.00 GB>"
      ]
     },
     "execution_count": 12,
     "metadata": {},
     "output_type": "execute_result"
    }
   ],
   "source": [
    "client=Client(cluster)\n",
    "client"
   ]
  },
  {
   "cell_type": "code",
   "execution_count": 7,
   "metadata": {},
   "outputs": [],
   "source": [
    "client.close()"
   ]
  },
  {
   "cell_type": "code",
   "execution_count": 9,
   "metadata": {},
   "outputs": [],
   "source": [
    "cluster.close()"
   ]
  },
  {
   "cell_type": "code",
   "execution_count": null,
   "metadata": {},
   "outputs": [],
   "source": []
  }
 ],
 "metadata": {
  "kernelspec": {
   "display_name": "Python 3",
   "language": "python",
   "name": "python3"
  },
  "language_info": {
   "codemirror_mode": {
    "name": "ipython",
    "version": 3
   },
   "file_extension": ".py",
   "mimetype": "text/x-python",
   "name": "python",
   "nbconvert_exporter": "python",
   "pygments_lexer": "ipython3",
   "version": "3.7.9"
  }
 },
 "nbformat": 4,
 "nbformat_minor": 4
}
