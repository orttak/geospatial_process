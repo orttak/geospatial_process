{
 "cells": [
  {
   "cell_type": "code",
   "execution_count": 1,
   "id": "7a70f88f",
   "metadata": {},
   "outputs": [],
   "source": [
    "import os\n",
    "from glob import glob\n",
    "import leafmap\n"
   ]
  },
  {
   "cell_type": "code",
   "execution_count": 2,
   "id": "4344ca3f",
   "metadata": {},
   "outputs": [],
   "source": [
    "m = leafmap.Map()"
   ]
  },
  {
   "cell_type": "code",
   "execution_count": 3,
   "id": "1ea4a5ae",
   "metadata": {},
   "outputs": [
    {
     "data": {
      "text/plain": [
       "['CGIAR_SRTM90_V4.tif',\n",
       " 'landsat7_c01_t1_annual_ndvi_2009.tif',\n",
       " 'modis_annual_npp_2009.tif',\n",
       " 'open_land_map_soil_clay.tif',\n",
       " 'open_land_map_soil_ph.tif']"
      ]
     },
     "execution_count": 3,
     "metadata": {},
     "output_type": "execute_result"
    }
   ],
   "source": [
    "tif_path=glob(f'*.tif')\n",
    "tif_path"
   ]
  },
  {
   "cell_type": "code",
   "execution_count": 7,
   "id": "a982ab59",
   "metadata": {},
   "outputs": [],
   "source": [
    "dem_path='CGIAR_SRTM90_V4.tif'\n",
    "ndvi_path='landsat7_c01_t1_annual_ndvi_2009.tif'\n",
    "aa=\"https://gitlab.com/orttak/soil_sample/-/blob/main/CGIAR_SRTM90_V4.tif\""
   ]
  },
  {
   "cell_type": "code",
   "execution_count": 8,
   "id": "b239a235",
   "metadata": {
    "collapsed": true,
    "jupyter": {
     "outputs_hidden": true
    },
    "scrolled": true,
    "tags": []
   },
   "outputs": [
    {
     "name": "stderr",
     "output_type": "stream",
     "text": [
      "[2022-01-23 15:16:53,223] ERROR in app: Exception on /api/metadata [GET]\n",
      "Traceback (most recent call last):\n",
      "  File \"C:\\Users\\akif\\.conda\\envs\\geo\\lib\\site-packages\\flask\\app.py\", line 1516, in full_dispatch_request\n",
      "    rv = self.dispatch_request()\n",
      "  File \"C:\\Users\\akif\\.conda\\envs\\geo\\lib\\site-packages\\flask\\app.py\", line 1502, in dispatch_request\n",
      "    return self.ensure_sync(self.view_functions[rule.endpoint])(**req.view_args)\n",
      "  File \"C:\\Users\\akif\\.conda\\envs\\geo\\lib\\site-packages\\flask_restx\\api.py\", line 403, in wrapper\n",
      "    resp = resource(*args, **kwargs)\n",
      "  File \"C:\\Users\\akif\\.conda\\envs\\geo\\lib\\site-packages\\flask\\views.py\", line 84, in view\n",
      "    return current_app.ensure_sync(self.dispatch_request)(*args, **kwargs)\n",
      "  File \"C:\\Users\\akif\\.conda\\envs\\geo\\lib\\site-packages\\flask_restx\\resource.py\", line 49, in dispatch_request\n",
      "    resp = meth(*args, **kwargs)\n",
      "  File \"C:\\Users\\akif\\.conda\\envs\\geo\\lib\\site-packages\\flask_caching\\__init__.py\", line 475, in decorated_function\n",
      "    rv = f(*args, **kwargs)\n",
      "  File \"C:\\Users\\akif\\.conda\\envs\\geo\\lib\\site-packages\\localtileserver\\tileserver\\rest.py\", line 147, in get\n",
      "    tile_source = self.get_tile_source()\n",
      "  File \"C:\\Users\\akif\\.conda\\envs\\geo\\lib\\site-packages\\localtileserver\\tileserver\\rest.py\", line 141, in get_tile_source\n",
      "    return utilities.get_tile_source(filename, projection, style=sty)\n",
      "  File \"C:\\Users\\akif\\.conda\\envs\\geo\\lib\\site-packages\\localtileserver\\tileserver\\utilities.py\", line 74, in get_tile_source\n",
      "    return large_image.open(str(path), projection=projection, style=style, encoding=\"PNG\")\n",
      "  File \"C:\\Users\\akif\\.conda\\envs\\geo\\lib\\site-packages\\large_image\\tilesource\\__init__.py\", line 146, in open\n",
      "    return getTileSource(*args, **kwargs)\n",
      "  File \"C:\\Users\\akif\\.conda\\envs\\geo\\lib\\site-packages\\large_image\\tilesource\\__init__.py\", line 134, in getTileSource\n",
      "    return getTileSourceFromDict(AvailableTileSources, *args, **kwargs)\n",
      "  File \"C:\\Users\\akif\\.conda\\envs\\geo\\lib\\site-packages\\large_image\\tilesource\\__init__.py\", line 121, in getTileSourceFromDict\n",
      "    raise TileSourceFileNotFoundError(pathOrUri)\n",
      "large_image.exceptions.TileSourceFileNotFoundError: [Errno 2] /vsicurl?url=https%3A%2F%2Fgitlab.com%2Forttak%2Fsoil_sample%2F-%2Fblob%2Fmain%2FCGIAR_SRTM90_V4.tif&use_head=no&list_dir=no\n"
     ]
    },
    {
     "ename": "HTTPError",
     "evalue": "500 Server Error: INTERNAL SERVER ERROR for url: http://localhost:59175/api/metadata?&filename=%2Fvsicurl%3Furl%3Dhttps%253A%252F%252Fgitlab.com%252Forttak%252Fsoil_sample%252F-%252Fblob%252Fmain%252FCGIAR_SRTM90_V4.tif%26use_head%3Dno%26list_dir%3Dno",
     "output_type": "error",
     "traceback": [
      "\u001b[1;31m---------------------------------------------------------------------------\u001b[0m",
      "\u001b[1;31mHTTPError\u001b[0m                                 Traceback (most recent call last)",
      "Input \u001b[1;32mIn [8]\u001b[0m, in \u001b[0;36m<module>\u001b[1;34m\u001b[0m\n\u001b[0;32m      1\u001b[0m \u001b[38;5;66;03m#m.add_local_tile(dem_path, palette='gist_gray', layer_name=\"DEM\")\u001b[39;00m\n\u001b[1;32m----> 2\u001b[0m \u001b[43mm\u001b[49m\u001b[38;5;241;43m.\u001b[39;49m\u001b[43madd_local_tile\u001b[49m\u001b[43m(\u001b[49m\u001b[43maa\u001b[49m\u001b[43m,\u001b[49m\u001b[43mpalette\u001b[49m\u001b[38;5;241;43m=\u001b[39;49m\u001b[38;5;124;43m'\u001b[39;49m\u001b[38;5;124;43mviridis\u001b[39;49m\u001b[38;5;124;43m'\u001b[39;49m\u001b[43m,\u001b[49m\u001b[43mlayer_name\u001b[49m\u001b[38;5;241;43m=\u001b[39;49m\u001b[38;5;124;43m\"\u001b[39;49m\u001b[38;5;124;43mNDVI\u001b[39;49m\u001b[38;5;124;43m\"\u001b[39;49m\u001b[43m)\u001b[49m\n",
      "File \u001b[1;32m~\\.conda\\envs\\geo\\lib\\site-packages\\leafmap\\leafmap.py:1566\u001b[0m, in \u001b[0;36mMap.add_local_tile\u001b[1;34m(self, source, band, palette, vmin, vmax, nodata, attribution, layer_name, **kwargs)\u001b[0m\n\u001b[0;32m   1541\u001b[0m \u001b[38;5;28;01mdef\u001b[39;00m \u001b[38;5;21madd_local_tile\u001b[39m(\n\u001b[0;32m   1542\u001b[0m     \u001b[38;5;28mself\u001b[39m,\n\u001b[0;32m   1543\u001b[0m     source,\n\u001b[1;32m   (...)\u001b[0m\n\u001b[0;32m   1551\u001b[0m     \u001b[38;5;241m*\u001b[39m\u001b[38;5;241m*\u001b[39mkwargs,\n\u001b[0;32m   1552\u001b[0m ):\n\u001b[0;32m   1553\u001b[0m     \u001b[38;5;124;03m\"\"\"Add a local raster dataset to the map.\u001b[39;00m\n\u001b[0;32m   1554\u001b[0m \n\u001b[0;32m   1555\u001b[0m \u001b[38;5;124;03m    Args:\u001b[39;00m\n\u001b[1;32m   (...)\u001b[0m\n\u001b[0;32m   1563\u001b[0m \u001b[38;5;124;03m        layer_name (str, optional): The layer name to use. Defaults to 'Local COG'.\u001b[39;00m\n\u001b[0;32m   1564\u001b[0m \u001b[38;5;124;03m    \"\"\"\u001b[39;00m\n\u001b[1;32m-> 1566\u001b[0m     tile_layer, tile_client \u001b[38;5;241m=\u001b[39m get_local_tile_layer(\n\u001b[0;32m   1567\u001b[0m         source,\n\u001b[0;32m   1568\u001b[0m         band\u001b[38;5;241m=\u001b[39mband,\n\u001b[0;32m   1569\u001b[0m         palette\u001b[38;5;241m=\u001b[39mpalette,\n\u001b[0;32m   1570\u001b[0m         vmin\u001b[38;5;241m=\u001b[39mvmin,\n\u001b[0;32m   1571\u001b[0m         vmax\u001b[38;5;241m=\u001b[39mvmax,\n\u001b[0;32m   1572\u001b[0m         nodata\u001b[38;5;241m=\u001b[39mnodata,\n\u001b[0;32m   1573\u001b[0m         attribution\u001b[38;5;241m=\u001b[39mattribution,\n\u001b[0;32m   1574\u001b[0m         layer_name\u001b[38;5;241m=\u001b[39mlayer_name,\n\u001b[0;32m   1575\u001b[0m         return_client\u001b[38;5;241m=\u001b[39m\u001b[38;5;28;01mTrue\u001b[39;00m,\n\u001b[0;32m   1576\u001b[0m         \u001b[38;5;241m*\u001b[39m\u001b[38;5;241m*\u001b[39mkwargs,\n\u001b[0;32m   1577\u001b[0m     )\n\u001b[0;32m   1579\u001b[0m     \u001b[38;5;28mself\u001b[39m\u001b[38;5;241m.\u001b[39madd_layer(tile_layer)\n\u001b[0;32m   1581\u001b[0m     bounds \u001b[38;5;241m=\u001b[39m tile_client\u001b[38;5;241m.\u001b[39mbounds()  \u001b[38;5;66;03m# [ymin, ymax, xmin, xmax]\u001b[39;00m\n",
      "File \u001b[1;32m~\\.conda\\envs\\geo\\lib\\site-packages\\leafmap\\common.py:3820\u001b[0m, in \u001b[0;36mget_local_tile_layer\u001b[1;34m(source, port, debug, projection, band, palette, vmin, vmax, nodata, attribution, tile_format, layer_name, return_client, **kwargs)\u001b[0m\n\u001b[0;32m   3817\u001b[0m tile_client \u001b[38;5;241m=\u001b[39m TileClient(source, port\u001b[38;5;241m=\u001b[39mport, debug\u001b[38;5;241m=\u001b[39mdebug)\n\u001b[0;32m   3819\u001b[0m \u001b[38;5;28;01mif\u001b[39;00m tile_format \u001b[38;5;241m==\u001b[39m \u001b[38;5;124m\"\u001b[39m\u001b[38;5;124mipyleaflet\u001b[39m\u001b[38;5;124m\"\u001b[39m:\n\u001b[1;32m-> 3820\u001b[0m     tile_layer \u001b[38;5;241m=\u001b[39m get_leaflet_tile_layer(\n\u001b[0;32m   3821\u001b[0m         tile_client,\n\u001b[0;32m   3822\u001b[0m         port\u001b[38;5;241m=\u001b[39mport,\n\u001b[0;32m   3823\u001b[0m         debug\u001b[38;5;241m=\u001b[39mdebug,\n\u001b[0;32m   3824\u001b[0m         projection\u001b[38;5;241m=\u001b[39mprojection,\n\u001b[0;32m   3825\u001b[0m         band\u001b[38;5;241m=\u001b[39mband,\n\u001b[0;32m   3826\u001b[0m         palette\u001b[38;5;241m=\u001b[39mpalette,\n\u001b[0;32m   3827\u001b[0m         vmin\u001b[38;5;241m=\u001b[39mvmin,\n\u001b[0;32m   3828\u001b[0m         vmax\u001b[38;5;241m=\u001b[39mvmax,\n\u001b[0;32m   3829\u001b[0m         nodata\u001b[38;5;241m=\u001b[39mnodata,\n\u001b[0;32m   3830\u001b[0m         attribution\u001b[38;5;241m=\u001b[39mattribution,\n\u001b[0;32m   3831\u001b[0m         name\u001b[38;5;241m=\u001b[39mlayer_name,\n\u001b[0;32m   3832\u001b[0m         \u001b[38;5;241m*\u001b[39m\u001b[38;5;241m*\u001b[39mkwargs,\n\u001b[0;32m   3833\u001b[0m     )\n\u001b[0;32m   3834\u001b[0m \u001b[38;5;28;01melse\u001b[39;00m:\n\u001b[0;32m   3835\u001b[0m     tile_layer \u001b[38;5;241m=\u001b[39m get_folium_tile_layer(\n\u001b[0;32m   3836\u001b[0m         tile_client,\n\u001b[0;32m   3837\u001b[0m         port\u001b[38;5;241m=\u001b[39mport,\n\u001b[1;32m   (...)\u001b[0m\n\u001b[0;32m   3848\u001b[0m         \u001b[38;5;241m*\u001b[39m\u001b[38;5;241m*\u001b[39mkwargs,\n\u001b[0;32m   3849\u001b[0m     )\n",
      "File \u001b[1;32m~\\.conda\\envs\\geo\\lib\\site-packages\\localtileserver\\widgets.py:79\u001b[0m, in \u001b[0;36mget_leaflet_tile_layer\u001b[1;34m(source, port, debug, projection, band, palette, vmin, vmax, nodata, attribution, **kwargs)\u001b[0m\n\u001b[0;32m     74\u001b[0m \u001b[38;5;28;01mclass\u001b[39;00m \u001b[38;5;21;01mBoundTileLayer\u001b[39;00m(TileLayer):\n\u001b[0;32m     75\u001b[0m     \u001b[38;5;66;03m# https://github.com/jupyter-widgets/ipyleaflet/issues/888\u001b[39;00m\n\u001b[0;32m     76\u001b[0m     \u001b[38;5;66;03m# https://github.com/ipython/traitlets/issues/626#issuecomment-699957829\u001b[39;00m\n\u001b[0;32m     77\u001b[0m     bounds \u001b[38;5;241m=\u001b[39m Union((Tuple(),), default_value\u001b[38;5;241m=\u001b[39m\u001b[38;5;28;01mNone\u001b[39;00m, allow_none\u001b[38;5;241m=\u001b[39m\u001b[38;5;28;01mTrue\u001b[39;00m)\u001b[38;5;241m.\u001b[39mtag(sync\u001b[38;5;241m=\u001b[39m\u001b[38;5;28;01mTrue\u001b[39;00m, o\u001b[38;5;241m=\u001b[39m\u001b[38;5;28;01mTrue\u001b[39;00m)\n\u001b[1;32m---> 79\u001b[0m source, created \u001b[38;5;241m=\u001b[39m \u001b[43mget_or_create_tile_client\u001b[49m\u001b[43m(\u001b[49m\u001b[43msource\u001b[49m\u001b[43m,\u001b[49m\u001b[43m \u001b[49m\u001b[43mport\u001b[49m\u001b[38;5;241;43m=\u001b[39;49m\u001b[43mport\u001b[49m\u001b[43m,\u001b[49m\u001b[43m \u001b[49m\u001b[43mdebug\u001b[49m\u001b[38;5;241;43m=\u001b[39;49m\u001b[43mdebug\u001b[49m\u001b[43m)\u001b[49m\n\u001b[0;32m     80\u001b[0m url \u001b[38;5;241m=\u001b[39m source\u001b[38;5;241m.\u001b[39mget_tile_url(\n\u001b[0;32m     81\u001b[0m     projection\u001b[38;5;241m=\u001b[39mprojection,\n\u001b[0;32m     82\u001b[0m     band\u001b[38;5;241m=\u001b[39mband,\n\u001b[1;32m   (...)\u001b[0m\n\u001b[0;32m     86\u001b[0m     nodata\u001b[38;5;241m=\u001b[39mnodata,\n\u001b[0;32m     87\u001b[0m )\n\u001b[0;32m     88\u001b[0m \u001b[38;5;28;01mif\u001b[39;00m attribution \u001b[38;5;129;01mis\u001b[39;00m \u001b[38;5;28;01mNone\u001b[39;00m:\n",
      "File \u001b[1;32m~\\.conda\\envs\\geo\\lib\\site-packages\\localtileserver\\client.py:350\u001b[0m, in \u001b[0;36mget_or_create_tile_client\u001b[1;34m(source, port, debug, threaded, processes)\u001b[0m\n\u001b[0;32m    348\u001b[0m         source\u001b[38;5;241m.\u001b[39mshutdown()\n\u001b[0;32m    349\u001b[0m         \u001b[38;5;28;01mdel\u001b[39;00m source\n\u001b[1;32m--> 350\u001b[0m     \u001b[38;5;28;01mraise\u001b[39;00m e\n\u001b[0;32m    351\u001b[0m \u001b[38;5;28;01mreturn\u001b[39;00m source, _internally_created\n",
      "File \u001b[1;32m~\\.conda\\envs\\geo\\lib\\site-packages\\localtileserver\\client.py:344\u001b[0m, in \u001b[0;36mget_or_create_tile_client\u001b[1;34m(source, port, debug, threaded, processes)\u001b[0m\n\u001b[0;32m    342\u001b[0m \u001b[38;5;28;01mtry\u001b[39;00m:\n\u001b[0;32m    343\u001b[0m     r \u001b[38;5;241m=\u001b[39m requests\u001b[38;5;241m.\u001b[39mget(source\u001b[38;5;241m.\u001b[39mcreate_url(\u001b[38;5;124m\"\u001b[39m\u001b[38;5;124mapi/metadata\u001b[39m\u001b[38;5;124m\"\u001b[39m))\n\u001b[1;32m--> 344\u001b[0m     \u001b[43mr\u001b[49m\u001b[38;5;241;43m.\u001b[39;49m\u001b[43mraise_for_status\u001b[49m\u001b[43m(\u001b[49m\u001b[43m)\u001b[49m\n\u001b[0;32m    345\u001b[0m \u001b[38;5;28;01mexcept\u001b[39;00m requests\u001b[38;5;241m.\u001b[39mHTTPError \u001b[38;5;28;01mas\u001b[39;00m e:\n\u001b[0;32m    346\u001b[0m     \u001b[38;5;66;03m# Make sure to destroy the server and its thread if internally created.\u001b[39;00m\n\u001b[0;32m    347\u001b[0m     \u001b[38;5;28;01mif\u001b[39;00m _internally_created:\n",
      "File \u001b[1;32m~\\.conda\\envs\\geo\\lib\\site-packages\\requests\\models.py:960\u001b[0m, in \u001b[0;36mResponse.raise_for_status\u001b[1;34m(self)\u001b[0m\n\u001b[0;32m    957\u001b[0m     http_error_msg \u001b[38;5;241m=\u001b[39m \u001b[38;5;124mu\u001b[39m\u001b[38;5;124m'\u001b[39m\u001b[38;5;132;01m%s\u001b[39;00m\u001b[38;5;124m Server Error: \u001b[39m\u001b[38;5;132;01m%s\u001b[39;00m\u001b[38;5;124m for url: \u001b[39m\u001b[38;5;132;01m%s\u001b[39;00m\u001b[38;5;124m'\u001b[39m \u001b[38;5;241m%\u001b[39m (\u001b[38;5;28mself\u001b[39m\u001b[38;5;241m.\u001b[39mstatus_code, reason, \u001b[38;5;28mself\u001b[39m\u001b[38;5;241m.\u001b[39murl)\n\u001b[0;32m    959\u001b[0m \u001b[38;5;28;01mif\u001b[39;00m http_error_msg:\n\u001b[1;32m--> 960\u001b[0m     \u001b[38;5;28;01mraise\u001b[39;00m HTTPError(http_error_msg, response\u001b[38;5;241m=\u001b[39m\u001b[38;5;28mself\u001b[39m)\n",
      "\u001b[1;31mHTTPError\u001b[0m: 500 Server Error: INTERNAL SERVER ERROR for url: http://localhost:59175/api/metadata?&filename=%2Fvsicurl%3Furl%3Dhttps%253A%252F%252Fgitlab.com%252Forttak%252Fsoil_sample%252F-%252Fblob%252Fmain%252FCGIAR_SRTM90_V4.tif%26use_head%3Dno%26list_dir%3Dno"
     ]
    }
   ],
   "source": [
    "#m.add_local_tile(dem_path, palette='gist_gray', layer_name=\"DEM\")\n",
    "m.add_local_tile(aa,palette='viridis',layer_name=\"NDVI\")\n"
   ]
  },
  {
   "cell_type": "code",
   "execution_count": 6,
   "id": "e07e8053",
   "metadata": {},
   "outputs": [
    {
     "data": {
      "application/vnd.jupyter.widget-view+json": {
       "model_id": "40429d6d8f604331858db82064d860d0",
       "version_major": 2,
       "version_minor": 0
      },
      "text/plain": [
       "Map(center=[43.30656712176858, -89.33556854358977], controls=(ZoomControl(options=['position', 'zoom_in_text',…"
      ]
     },
     "metadata": {},
     "output_type": "display_data"
    }
   ],
   "source": [
    "m"
   ]
  },
  {
   "cell_type": "code",
   "execution_count": null,
   "id": "8c22d470-2def-425e-b06e-b52844016aa9",
   "metadata": {},
   "outputs": [],
   "source": []
  },
  {
   "cell_type": "code",
   "execution_count": null,
   "id": "5c411030",
   "metadata": {},
   "outputs": [],
   "source": []
  },
  {
   "cell_type": "code",
   "execution_count": null,
   "id": "87e393a1",
   "metadata": {},
   "outputs": [],
   "source": []
  }
 ],
 "metadata": {
  "kernelspec": {
   "display_name": "Python 3 (ipykernel)",
   "language": "python",
   "name": "python3"
  },
  "language_info": {
   "codemirror_mode": {
    "name": "ipython",
    "version": 3
   },
   "file_extension": ".py",
   "mimetype": "text/x-python",
   "name": "python",
   "nbconvert_exporter": "python",
   "pygments_lexer": "ipython3",
   "version": "3.9.7"
  }
 },
 "nbformat": 4,
 "nbformat_minor": 5
}
