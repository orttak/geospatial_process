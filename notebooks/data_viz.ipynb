{
 "cells": [
  {
   "cell_type": "code",
   "execution_count": 1,
   "id": "7a70f88f",
   "metadata": {},
   "outputs": [],
   "source": [
    "import os\n",
    "from glob import glob\n",
    "import leafmap\n"
   ]
  },
  {
   "cell_type": "code",
   "execution_count": 2,
   "id": "4344ca3f",
   "metadata": {},
   "outputs": [],
   "source": [
    "m = leafmap.Map()"
   ]
  },
  {
   "cell_type": "code",
   "execution_count": 3,
   "id": "1ea4a5ae",
   "metadata": {},
   "outputs": [
    {
     "data": {
      "text/plain": [
       "['CGIAR_SRTM90_V4.tif',\n",
       " 'landsat7_c01_t1_annual_ndvi_2009.tif',\n",
       " 'modis_annual_npp_2009.tif',\n",
       " 'open_land_map_soil_clay.tif',\n",
       " 'open_land_map_soil_ph.tif']"
      ]
     },
     "execution_count": 3,
     "metadata": {},
     "output_type": "execute_result"
    }
   ],
   "source": [
    "tif_path=glob(f'*.tif')\n",
    "tif_path"
   ]
  },
  {
   "cell_type": "code",
   "execution_count": 7,
   "id": "a982ab59",
   "metadata": {},
   "outputs": [],
   "source": [
    "dem_path='CGIAR_SRTM90_V4.tif'\n",
    "ndvi_path='landsat7_c01_t1_annual_ndvi_2009.tif'\n",
    "aa=\"https://gitlab.com/orttak/soil_sample/-/blob/main/CGIAR_SRTM90_V4.tif\""
   ]
  },
  {
   "cell_type": "code",
   "execution_count": 9,
   "id": "b239a235",
   "metadata": {
    "scrolled": true,
    "tags": []
   },
   "outputs": [],
   "source": [
    "#m.add_local_tile(dem_path, palette='gist_gray', layer_name=\"DEM\")\n",
    "m.add_local_tile(ndvi_path,palette='viridis',layer_name=\"NDVI\")\n"
   ]
  },
  {
   "cell_type": "code",
   "execution_count": 10,
   "id": "e07e8053",
   "metadata": {},
   "outputs": [
    {
     "data": {
      "application/vnd.jupyter.widget-view+json": {
       "model_id": "40429d6d8f604331858db82064d860d0",
       "version_major": 2,
       "version_minor": 0
      },
      "text/plain": [
       "Map(bottom=6145490.285644531, center=[43.30656712176858, -89.33556854358977], controls=(ZoomControl(options=['…"
      ]
     },
     "metadata": {},
     "output_type": "display_data"
    }
   ],
   "source": [
    "m"
   ]
  },
  {
   "cell_type": "code",
   "execution_count": null,
   "id": "8c22d470-2def-425e-b06e-b52844016aa9",
   "metadata": {},
   "outputs": [],
   "source": []
  },
  {
   "cell_type": "code",
   "execution_count": null,
   "id": "5c411030",
   "metadata": {},
   "outputs": [],
   "source": []
  },
  {
   "cell_type": "code",
   "execution_count": null,
   "id": "87e393a1",
   "metadata": {},
   "outputs": [],
   "source": []
  }
 ],
 "metadata": {
  "kernelspec": {
   "display_name": "Python 3 (ipykernel)",
   "language": "python",
   "name": "python3"
  },
  "language_info": {
   "codemirror_mode": {
    "name": "ipython",
    "version": 3
   },
   "file_extension": ".py",
   "mimetype": "text/x-python",
   "name": "python",
   "nbconvert_exporter": "python",
   "pygments_lexer": "ipython3",
   "version": "3.9.7"
  }
 },
 "nbformat": 4,
 "nbformat_minor": 5
}
