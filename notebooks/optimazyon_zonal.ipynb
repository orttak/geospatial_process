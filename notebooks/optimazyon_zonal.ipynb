{
 "cells": [
  {
   "cell_type": "code",
   "execution_count": 1,
   "metadata": {},
   "outputs": [],
   "source": [
    "import pandas as pd\n",
    "import numpy as np\n",
    "import geopandas as gpd\n",
    "import rasterio as rio\n",
    "from rasterio.plot import show\n",
    "from rasterio.mask import mask\n",
    "import matplotlib.pyplot as plt"
   ]
  },
  {
   "cell_type": "code",
   "execution_count": 2,
   "metadata": {},
   "outputs": [],
   "source": [
    "from rasterstats import zonal_stats\n"
   ]
  },
  {
   "cell_type": "code",
   "execution_count": 3,
   "metadata": {},
   "outputs": [],
   "source": [
    "vector_path='../../sample_data/tr_boundry/AF_ADANA_2020_v10.gpkg'"
   ]
  },
  {
   "cell_type": "code",
   "execution_count": 4,
   "metadata": {},
   "outputs": [
    {
     "name": "stderr",
     "output_type": "stream",
     "text": [
      "C:\\Users\\akif\\.conda\\envs\\geo\\lib\\site-packages\\geopandas\\geodataframe.py:422: RuntimeWarning: Sequential read of iterator was interrupted. Resetting iterator. This can negatively impact the performance.\n",
      "  for feature in features_lst:\n"
     ]
    }
   ],
   "source": [
    "adana=gpd.read_file('../../sample_data/tr_boundry/AF_ADANA_2020_v10.gpkg')\n",
    "#adana=adana.iloc[0:200]"
   ]
  },
  {
   "cell_type": "code",
   "execution_count": 13,
   "metadata": {},
   "outputs": [
    {
     "data": {
      "text/plain": [
       "<Geographic 2D CRS: EPSG:4326>\n",
       "Name: WGS 84\n",
       "Axis Info [ellipsoidal]:\n",
       "- Lat[north]: Geodetic latitude (degree)\n",
       "- Lon[east]: Geodetic longitude (degree)\n",
       "Area of Use:\n",
       "- name: World\n",
       "- bounds: (-180.0, -90.0, 180.0, 90.0)\n",
       "Datum: World Geodetic System 1984\n",
       "- Ellipsoid: WGS 84\n",
       "- Prime Meridian: Greenwich"
      ]
     },
     "execution_count": 13,
     "metadata": {},
     "output_type": "execute_result"
    }
   ],
   "source": [
    "dd=adana[0:5]\n",
    "dd.crs"
   ]
  },
  {
   "cell_type": "code",
   "execution_count": 6,
   "metadata": {},
   "outputs": [],
   "source": [
    "raster_path='../../../Desktop/ubuntu_files/thinkswhere/geospatial/soil/TR_CurveNumberBasedRunoff_HYSOGs250m.tif'"
   ]
  },
  {
   "cell_type": "code",
   "execution_count": 7,
   "metadata": {},
   "outputs": [
    {
     "name": "stdout",
     "output_type": "stream",
     "text": [
      "Wall time: 60 ms\n"
     ]
    }
   ],
   "source": [
    "%%time\n",
    "input_raster = rio.open(raster_path)\n",
    "# Read the raster values\n",
    "array = input_raster.read(1)\n",
    "# Get the affine\n",
    "affine = input_raster.transform"
   ]
  },
  {
   "cell_type": "code",
   "execution_count": 8,
   "metadata": {},
   "outputs": [
    {
     "data": {
      "text/plain": [
       "CRS.from_epsg(4326)"
      ]
     },
     "execution_count": 8,
     "metadata": {},
     "output_type": "execute_result"
    }
   ],
   "source": [
    "input_raster.crs"
   ]
  },
  {
   "cell_type": "code",
   "execution_count": 9,
   "metadata": {},
   "outputs": [
    {
     "name": "stderr",
     "output_type": "stream",
     "text": [
      "C:\\Users\\akif\\.conda\\envs\\geo\\lib\\site-packages\\rasterstats\\io.py:301: UserWarning: Setting nodata to -999; specify nodata explicitly\n",
      "  warnings.warn(\"Setting nodata to -999; specify nodata explicitly\")\n"
     ]
    }
   ],
   "source": [
    "# Calculate zonal statistics\n",
    "#https://automating-gis-processes.github.io/CSC/notebooks/L5/zonal-statistics.html\n",
    "zz = zonal_stats(dd.geometry, array, affine=affine, stats=[ 'median'])"
   ]
  },
  {
   "cell_type": "code",
   "execution_count": 10,
   "metadata": {},
   "outputs": [
    {
     "data": {
      "text/plain": [
       "13.0"
      ]
     },
     "execution_count": 10,
     "metadata": {},
     "output_type": "execute_result"
    }
   ],
   "source": [
    "zz[1]['median']"
   ]
  },
  {
   "cell_type": "code",
   "execution_count": 12,
   "metadata": {},
   "outputs": [],
   "source": [
    "def calc_zonal(geom,array,affine):\n",
    "    zonal=zonal_stats(geom, array, affine=affine, stats=[ 'median'])\n",
    "    return zonal"
   ]
  },
  {
   "cell_type": "code",
   "execution_count": 68,
   "metadata": {},
   "outputs": [
    {
     "name": "stderr",
     "output_type": "stream",
     "text": [
      "C:\\Users\\akif\\.conda\\envs\\geo\\lib\\site-packages\\rasterstats\\io.py:301: UserWarning: Setting nodata to -999; specify nodata explicitly\n",
      "  warnings.warn(\"Setting nodata to -999; specify nodata explicitly\")\n"
     ]
    },
    {
     "name": "stdout",
     "output_type": "stream",
     "text": [
      "Wall time: 2min 35s\n"
     ]
    }
   ],
   "source": [
    "%%time\n",
    "adana['median_ndvi'] = adana.geometry.apply(lambda row:calc_zonal(row, array, affine=affine)[0]['median'])"
   ]
  },
  {
   "cell_type": "code",
   "execution_count": 10,
   "metadata": {},
   "outputs": [
    {
     "data": {
      "text/html": [
       "<div>\n",
       "<style scoped>\n",
       "    .dataframe tbody tr th:only-of-type {\n",
       "        vertical-align: middle;\n",
       "    }\n",
       "\n",
       "    .dataframe tbody tr th {\n",
       "        vertical-align: top;\n",
       "    }\n",
       "\n",
       "    .dataframe thead th {\n",
       "        text-align: right;\n",
       "    }\n",
       "</style>\n",
       "<table border=\"1\" class=\"dataframe\">\n",
       "  <thead>\n",
       "    <tr style=\"text-align: right;\">\n",
       "      <th></th>\n",
       "      <th>Il_Adi</th>\n",
       "      <th>Ilce_Adi</th>\n",
       "      <th>PlaceName</th>\n",
       "      <th>area</th>\n",
       "      <th>pixel_count</th>\n",
       "      <th>GrainPercentP3</th>\n",
       "      <th>GrainAreaP3</th>\n",
       "      <th>GrainClassP3</th>\n",
       "      <th>SilagePercentP3</th>\n",
       "      <th>SilageAreaP3</th>\n",
       "      <th>SilageClassP3</th>\n",
       "      <th>geometry</th>\n",
       "    </tr>\n",
       "  </thead>\n",
       "  <tbody>\n",
       "    <tr>\n",
       "      <th>0</th>\n",
       "      <td>ADANA</td>\n",
       "      <td>YÜREĞİR</td>\n",
       "      <td>Agzibuyuk</td>\n",
       "      <td>2.668082</td>\n",
       "      <td>266.0</td>\n",
       "      <td>0.011278</td>\n",
       "      <td>0.030091</td>\n",
       "      <td>False</td>\n",
       "      <td>0.0</td>\n",
       "      <td>0.0</td>\n",
       "      <td>False</td>\n",
       "      <td>POLYGON ((35.44724 36.86743, 35.44610 36.86737...</td>\n",
       "    </tr>\n",
       "    <tr>\n",
       "      <th>1</th>\n",
       "      <td>ADANA</td>\n",
       "      <td>YÜREĞİR</td>\n",
       "      <td>Agzibuyuk</td>\n",
       "      <td>2.936688</td>\n",
       "      <td>294.0</td>\n",
       "      <td>0.000000</td>\n",
       "      <td>0.000000</td>\n",
       "      <td>False</td>\n",
       "      <td>0.0</td>\n",
       "      <td>0.0</td>\n",
       "      <td>False</td>\n",
       "      <td>POLYGON ((35.44606 36.86887, 35.44598 36.86886...</td>\n",
       "    </tr>\n",
       "    <tr>\n",
       "      <th>2</th>\n",
       "      <td>ADANA</td>\n",
       "      <td>YÜREĞİR</td>\n",
       "      <td>Agzibuyuk</td>\n",
       "      <td>1.527408</td>\n",
       "      <td>148.0</td>\n",
       "      <td>0.033784</td>\n",
       "      <td>0.051602</td>\n",
       "      <td>False</td>\n",
       "      <td>0.0</td>\n",
       "      <td>0.0</td>\n",
       "      <td>False</td>\n",
       "      <td>POLYGON ((35.44644 36.86474, 35.44685 36.86509...</td>\n",
       "    </tr>\n",
       "    <tr>\n",
       "      <th>3</th>\n",
       "      <td>ADANA</td>\n",
       "      <td>YÜREĞİR</td>\n",
       "      <td>Agzibuyuk</td>\n",
       "      <td>2.117166</td>\n",
       "      <td>211.0</td>\n",
       "      <td>0.004739</td>\n",
       "      <td>0.010034</td>\n",
       "      <td>False</td>\n",
       "      <td>0.0</td>\n",
       "      <td>0.0</td>\n",
       "      <td>False</td>\n",
       "      <td>POLYGON ((35.44599 36.86972, 35.44596 36.86972...</td>\n",
       "    </tr>\n",
       "    <tr>\n",
       "      <th>4</th>\n",
       "      <td>ADANA</td>\n",
       "      <td>YÜREĞİR</td>\n",
       "      <td>Agzibuyuk</td>\n",
       "      <td>1.218371</td>\n",
       "      <td>123.0</td>\n",
       "      <td>0.000000</td>\n",
       "      <td>0.000000</td>\n",
       "      <td>False</td>\n",
       "      <td>0.0</td>\n",
       "      <td>0.0</td>\n",
       "      <td>False</td>\n",
       "      <td>POLYGON ((35.44698 36.87101, 35.44693 36.87105...</td>\n",
       "    </tr>\n",
       "  </tbody>\n",
       "</table>\n",
       "</div>"
      ],
      "text/plain": [
       "  Il_Adi Ilce_Adi  PlaceName      area  pixel_count  GrainPercentP3  \\\n",
       "0  ADANA  YÜREĞİR  Agzibuyuk  2.668082        266.0        0.011278   \n",
       "1  ADANA  YÜREĞİR  Agzibuyuk  2.936688        294.0        0.000000   \n",
       "2  ADANA  YÜREĞİR  Agzibuyuk  1.527408        148.0        0.033784   \n",
       "3  ADANA  YÜREĞİR  Agzibuyuk  2.117166        211.0        0.004739   \n",
       "4  ADANA  YÜREĞİR  Agzibuyuk  1.218371        123.0        0.000000   \n",
       "\n",
       "   GrainAreaP3  GrainClassP3  SilagePercentP3  SilageAreaP3  SilageClassP3  \\\n",
       "0     0.030091         False              0.0           0.0          False   \n",
       "1     0.000000         False              0.0           0.0          False   \n",
       "2     0.051602         False              0.0           0.0          False   \n",
       "3     0.010034         False              0.0           0.0          False   \n",
       "4     0.000000         False              0.0           0.0          False   \n",
       "\n",
       "                                            geometry  \n",
       "0  POLYGON ((35.44724 36.86743, 35.44610 36.86737...  \n",
       "1  POLYGON ((35.44606 36.86887, 35.44598 36.86886...  \n",
       "2  POLYGON ((35.44644 36.86474, 35.44685 36.86509...  \n",
       "3  POLYGON ((35.44599 36.86972, 35.44596 36.86972...  \n",
       "4  POLYGON ((35.44698 36.87101, 35.44693 36.87105...  "
      ]
     },
     "execution_count": 10,
     "metadata": {},
     "output_type": "execute_result"
    }
   ],
   "source": [
    "adana.head()"
   ]
  },
  {
   "cell_type": "code",
   "execution_count": 11,
   "metadata": {},
   "outputs": [],
   "source": [
    "cp_adana=adana.copy()"
   ]
  },
  {
   "cell_type": "code",
   "execution_count": 78,
   "metadata": {},
   "outputs": [],
   "source": []
  },
  {
   "cell_type": "code",
   "execution_count": 12,
   "metadata": {},
   "outputs": [],
   "source": [
    "import multiprocessing as mp\n",
    "from multiprocessing import Pool\n",
    "\n",
    "# Function that parallelizes the apply function among the cores of the CPU\n",
    "def parallelize_dataframe(df, func, n_cores):\n",
    "    df_split = np.array_split(df, n_cores)\n",
    "    pool = Pool(n_cores)\n",
    "    df = pd.concat(pool.map(func, df_split))\n",
    "    pool.close()\n",
    "    pool.join()\n",
    "    return df\n",
    "\n",
    "# Function that adds a sea_name column in the main dataframe\n",
    "def add_features(df):\n",
    "    # Apply the function\n",
    "    #df['sea_name'] = df.apply(lambda x: get_seaname(x['Position Longitude'], x['Position Latitude']), axis=1)\n",
    "    df['median_ndvi'] = df.geometry.apply(lambda row:calc_zonal(row, array, affine=affine)[0]['median'])\n",
    "    return df"
   ]
  },
  {
   "cell_type": "code",
   "execution_count": null,
   "metadata": {},
   "outputs": [],
   "source": [
    "%%time\n",
    "### Apply the above function to the dataframe\n",
    "ships_df = parallelize_dataframe(cp_adana, add_features, n_cores=5)"
   ]
  },
  {
   "cell_type": "code",
   "execution_count": 73,
   "metadata": {},
   "outputs": [],
   "source": [
    "with mp.Pool() as pool:\n",
    "    results = pool.map(calc_dist2, grp_lst_args)"
   ]
  },
  {
   "cell_type": "code",
   "execution_count": 16,
   "metadata": {},
   "outputs": [],
   "source": [
    "import multiprocessing as mp\n",
    "from multiprocessing import Pool\n",
    "\n",
    "# Function that parallelizes the apply function among the cores of the CPU\n",
    "def parallelize_dataframe(df, func, n_cores):\n",
    "    df_split = np.array_split(df, n_cores)\n",
    "    pool = Pool(n_cores)\n",
    "    df = pd.concat(pool.map(func, df_split))\n",
    "    pool.close()\n",
    "    pool.join()\n",
    "    return df\n",
    "\n",
    "# Function that adds a sea_name column in the main dataframe\n",
    "def add_features(df):\n",
    "    # Apply the function\n",
    "    #df['sea_name'] = df.apply(lambda x: get_seaname(x['Position Longitude'], x['Position Latitude']), axis=1)\n",
    "    df['ppp'] = df.pixel_count.apply(lambda row: row*2)\n",
    "    print('hey')\n",
    "    return df"
   ]
  },
  {
   "cell_type": "code",
   "execution_count": null,
   "metadata": {},
   "outputs": [],
   "source": [
    "parallelize_dataframe(dd, add_features, n_cores=5)"
   ]
  },
  {
   "cell_type": "code",
   "execution_count": 2,
   "metadata": {},
   "outputs": [],
   "source": [
    "from multiprocessing import Pool\n",
    "\n",
    "def f(x):\n",
    "    return x*x\n"
   ]
  },
  {
   "cell_type": "code",
   "execution_count": 4,
   "metadata": {},
   "outputs": [],
   "source": [
    "def run():\n",
    "    pool = Pool(processes=4)              \n",
    "    print(pool.map(f, range(10))  )\n",
    "    return 0"
   ]
  },
  {
   "cell_type": "code",
   "execution_count": null,
   "metadata": {},
   "outputs": [],
   "source": [
    "run()"
   ]
  },
  {
   "cell_type": "code",
   "execution_count": null,
   "metadata": {},
   "outputs": [],
   "source": []
  }
 ],
 "metadata": {
  "kernelspec": {
   "display_name": "Python 3",
   "language": "python",
   "name": "python3"
  },
  "language_info": {
   "codemirror_mode": {
    "name": "ipython",
    "version": 3
   },
   "file_extension": ".py",
   "mimetype": "text/x-python",
   "name": "python",
   "nbconvert_exporter": "python",
   "pygments_lexer": "ipython3",
   "version": "3.7.9"
  }
 },
 "nbformat": 4,
 "nbformat_minor": 4
}
